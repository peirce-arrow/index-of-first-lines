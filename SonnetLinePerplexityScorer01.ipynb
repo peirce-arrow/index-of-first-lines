{
 "cells": [
  {
   "cell_type": "code",
   "execution_count": 1,
   "id": "21bafeb1-6342-4e96-9ace-31d837967be9",
   "metadata": {},
   "outputs": [
    {
     "name": "stderr",
     "output_type": "stream",
     "text": [
      "/Users/laroldgiggins/Library/Python/3.9/lib/python/site-packages/tqdm/auto.py:21: TqdmWarning: IProgress not found. Please update jupyter and ipywidgets. See https://ipywidgets.readthedocs.io/en/stable/user_install.html\n",
      "  from .autonotebook import tqdm as notebook_tqdm\n"
     ]
    }
   ],
   "source": [
    "import os\n",
    "import csv\n",
    "import re\n",
    "#from gradio_client import Client  REMOVED UNTIL BERT-PERPLEXITY SERVER IS BACK UP\n",
    "import pandas as pd\n",
    "import datetime\n",
    "import evaluate"
   ]
  },
  {
   "cell_type": "code",
   "execution_count": 3,
   "id": "7fba95e6-c74a-4c2d-9463-da4896d3ab57",
   "metadata": {},
   "outputs": [
    {
     "ename": "FileNotFoundError",
     "evalue": "[Errno 2] No such file or directory: 'order_test.csv'",
     "output_type": "error",
     "traceback": [
      "\u001b[0;31m---------------------------------------------------------------------------\u001b[0m",
      "\u001b[0;31mFileNotFoundError\u001b[0m                         Traceback (most recent call last)",
      "Cell \u001b[0;32mIn[3], line 3\u001b[0m\n\u001b[1;32m      1\u001b[0m \u001b[38;5;66;03m# THIS BIT OF CODE WAS JUST FOR TESTING\u001b[39;00m\n\u001b[0;32m----> 3\u001b[0m \u001b[38;5;28;01mwith\u001b[39;00m \u001b[38;5;28;43mopen\u001b[39;49m\u001b[43m(\u001b[49m\u001b[38;5;124;43m'\u001b[39;49m\u001b[38;5;124;43morder_test.csv\u001b[39;49m\u001b[38;5;124;43m'\u001b[39;49m\u001b[43m)\u001b[49m \u001b[38;5;28;01mas\u001b[39;00m file:\n\u001b[1;32m      4\u001b[0m     reader \u001b[38;5;241m=\u001b[39m csv\u001b[38;5;241m.\u001b[39mreader(file)\n\u001b[1;32m      5\u001b[0m     testcol_list1 \u001b[38;5;241m=\u001b[39m \u001b[38;5;28mlist\u001b[39m(reader)\n",
      "File \u001b[0;32m~/Library/Python/3.9/lib/python/site-packages/IPython/core/interactiveshell.py:310\u001b[0m, in \u001b[0;36m_modified_open\u001b[0;34m(file, *args, **kwargs)\u001b[0m\n\u001b[1;32m    303\u001b[0m \u001b[38;5;28;01mif\u001b[39;00m file \u001b[38;5;129;01min\u001b[39;00m {\u001b[38;5;241m0\u001b[39m, \u001b[38;5;241m1\u001b[39m, \u001b[38;5;241m2\u001b[39m}:\n\u001b[1;32m    304\u001b[0m     \u001b[38;5;28;01mraise\u001b[39;00m \u001b[38;5;167;01mValueError\u001b[39;00m(\n\u001b[1;32m    305\u001b[0m         \u001b[38;5;124mf\u001b[39m\u001b[38;5;124m\"\u001b[39m\u001b[38;5;124mIPython won\u001b[39m\u001b[38;5;124m'\u001b[39m\u001b[38;5;124mt let you open fd=\u001b[39m\u001b[38;5;132;01m{\u001b[39;00mfile\u001b[38;5;132;01m}\u001b[39;00m\u001b[38;5;124m by default \u001b[39m\u001b[38;5;124m\"\u001b[39m\n\u001b[1;32m    306\u001b[0m         \u001b[38;5;124m\"\u001b[39m\u001b[38;5;124mas it is likely to crash IPython. If you know what you are doing, \u001b[39m\u001b[38;5;124m\"\u001b[39m\n\u001b[1;32m    307\u001b[0m         \u001b[38;5;124m\"\u001b[39m\u001b[38;5;124myou can use builtins\u001b[39m\u001b[38;5;124m'\u001b[39m\u001b[38;5;124m open.\u001b[39m\u001b[38;5;124m\"\u001b[39m\n\u001b[1;32m    308\u001b[0m     )\n\u001b[0;32m--> 310\u001b[0m \u001b[38;5;28;01mreturn\u001b[39;00m \u001b[43mio_open\u001b[49m\u001b[43m(\u001b[49m\u001b[43mfile\u001b[49m\u001b[43m,\u001b[49m\u001b[43m \u001b[49m\u001b[38;5;241;43m*\u001b[39;49m\u001b[43margs\u001b[49m\u001b[43m,\u001b[49m\u001b[43m \u001b[49m\u001b[38;5;241;43m*\u001b[39;49m\u001b[38;5;241;43m*\u001b[39;49m\u001b[43mkwargs\u001b[49m\u001b[43m)\u001b[49m\n",
      "\u001b[0;31mFileNotFoundError\u001b[0m: [Errno 2] No such file or directory: 'order_test.csv'"
     ]
    }
   ],
   "source": [
    "# THIS BIT OF CODE WAS JUST FOR TESTING\n",
    "\n",
    "with open('order_test.csv') as file:\n",
    "    reader = csv.reader(file)\n",
    "    testcol_list1 = list(reader)\n",
    "testcol_list1"
   ]
  },
  {
   "cell_type": "code",
   "execution_count": 2,
   "id": "7788c7bd-bf50-4a4c-99c6-5c584ddda2dc",
   "metadata": {},
   "outputs": [
    {
     "data": {
      "text/plain": [
       "[['0 From fairest creatures we desire increase,'],\n",
       " ['1 When forty winters shall besiege thy brow'],\n",
       " ['2 Look in thy glass and tell the face thou viewest'],\n",
       " ['3 Unthrifty loveliness, why dost thou spend'],\n",
       " ['4 Those hours that with gentle work did frame'],\n",
       " ['5 Then let not winter’s ragged hand deface'],\n",
       " ['6 Lo, in the orient when the gracious light'],\n",
       " ['7 Music to hear, why hear’st thou music sadly?'],\n",
       " ['8 Is it for fear to wet a widow’s eye'],\n",
       " ['9 For shame deny that thou bear’st love to any,'],\n",
       " ['10 As fast as thou shalt wane, so fast thou grow’st'],\n",
       " ['11 When I do count the clock that tells the time'],\n",
       " ['12 O, that you were your self! But, love, you are'],\n",
       " ['13 Not from the stars do I my judgment pluck,'],\n",
       " ['14 When I consider everything that grows'],\n",
       " ['15 But wherefore do not you a mightier way'],\n",
       " ['16 Who will believe my verse in time to come'],\n",
       " ['17 Shall I compare thee to a summer’s day?'],\n",
       " ['18 Devouring Time, blunt thou the lion’s paws'],\n",
       " ['19 A woman’s face with Nature’s own hand painted'],\n",
       " ['20 So is it not with me as with that muse'],\n",
       " ['21 My glass shall not persuade me I am old'],\n",
       " ['22 As an unperfect actor on the stage'],\n",
       " ['23 Mine eye hath played the painter and hath stelled'],\n",
       " ['24 Let those who are in favor with their stars'],\n",
       " ['25 Lord of my love, to whom in vassalage'],\n",
       " ['26 Weary with toil, I haste me to my bed,'],\n",
       " ['27 How can I then return in happy plight'],\n",
       " ['28 When in disgrace with fortune and men’s eyes,'],\n",
       " ['29 When to the sessions of sweet silent thought'],\n",
       " ['30 Thy bosom is endearèd with all hearts'],\n",
       " ['31 If thou survive my well-contented day'],\n",
       " ['32 Full many a glorious morning have I seen'],\n",
       " ['33 Why didst thou promise such a beauteous day'],\n",
       " ['34 No more be grieved at that which thou hast done.'],\n",
       " ['35 Let me confess that we two must be twain'],\n",
       " ['36 As a decrepit father takes delight'],\n",
       " ['37 How can my muse want subject to invent'],\n",
       " ['38 O, how thy worth with manners may I sing'],\n",
       " ['39 Take all my loves, my love, yea, take them all.'],\n",
       " ['40 Those pretty wrongs that liberty commits'],\n",
       " ['41 That thou hast her, it is not all my grief,'],\n",
       " ['42 When most I wink, then do mine eyes best see,'],\n",
       " ['43 If the dull substance of my flesh were thought,'],\n",
       " ['44 The other two, slight air and purging fire,'],\n",
       " ['45 Mine eye and heart are at a mortal war'],\n",
       " ['46 Betwixt mine eye and heart a league is took,'],\n",
       " ['47 How careful was I, when I took my way,'],\n",
       " ['48 Against that time, if ever that time come,'],\n",
       " ['49 How heavy do I journey on the way,'],\n",
       " ['50 Thus can my love excuse the slow offense'],\n",
       " ['51 So am I as the rich whose blessèd key'],\n",
       " ['52 What is your substance, whereof are you made,'],\n",
       " ['53 O, how much more doth beauty beauteous seem'],\n",
       " ['54 Not marble nor the gilded monuments'],\n",
       " ['55 Sweet love, renew thy force. Be it not said'],\n",
       " ['56 Being your slave, what should I do but tend'],\n",
       " ['57 That god forbid, that made me first your slave,'],\n",
       " ['58 If there be nothing new, but that which is'],\n",
       " ['59 Like as the waves make towards the pebbled shore,'],\n",
       " ['60 Is it thy will thy image should keep open'],\n",
       " ['61 Sin of self-love possesseth all mine eye'],\n",
       " ['62 Against my love shall be, as I am now,'],\n",
       " ['63 When I have seen by Time’s fell hand defaced'],\n",
       " ['64 Since brass, nor stone, nor earth, nor boundless sea'],\n",
       " ['65 Tired with all these, for restful death I cry:'],\n",
       " ['66 Ah, wherefore with infection should he live,'],\n",
       " ['67 Thus is his cheek the map of days outworn,'],\n",
       " ['68 Those parts of thee that the world’s eye doth view'],\n",
       " ['69 That thou art blamed shall not be thy defect,'],\n",
       " ['70 No longer mourn for me when I am dead'],\n",
       " ['71 O, lest the world should task you to recite'],\n",
       " ['72 That time of year thou mayst in me behold'],\n",
       " ['73 But be contented when that fell arrest'],\n",
       " ['74 So are you to my thoughts as food to life,'],\n",
       " ['75 Why is my verse so barren of new pride,'],\n",
       " ['76 Thy glass will show thee how thy beauties wear,'],\n",
       " ['77 So oft have I invoked thee for my muse'],\n",
       " ['78 Whilst I alone did call upon thy aid,'],\n",
       " ['79 O, how I faint when I of you do write,'],\n",
       " ['80 Or I shall live your epitaph to make'],\n",
       " ['81 I grant thou wert not married to my muse,'],\n",
       " ['82 I never saw that you did painting need'],\n",
       " ['83 Who is it that says most, which can say more'],\n",
       " ['84 My tongue-tied muse in manners holds her still'],\n",
       " ['85 Was it the proud full sail of his great verse,'],\n",
       " ['86 Farewell, thou art too dear for my possessing,'],\n",
       " ['87 When thou shalt be disposed to set me light'],\n",
       " ['88 Say that thou didst forsake me for some fault,'],\n",
       " ['89 Then hate me when thou wilt, if ever, now,'],\n",
       " ['90 Some glory in their birth, some in their skill,'],\n",
       " ['91 But do thy worst to steal thyself away,'],\n",
       " ['92 So shall I live, supposing thou art true,'],\n",
       " ['93 They that have power to hurt and will do none,'],\n",
       " ['94 How sweet and lovely dost thou make the shame'],\n",
       " ['95 Some say thy fault is youth, some wantonness;'],\n",
       " ['96 How like a winter hath my absence been'],\n",
       " ['97 From you have I been absent in the spring,'],\n",
       " ['98 The forward violet thus did I chide:'],\n",
       " ['99 Where art thou, muse, that thou forget’st so long'],\n",
       " ['100 O truant muse, what shall be thy amends'],\n",
       " ['101 My love is strengthened, though more weak in seeming;'],\n",
       " ['102 Alack, what poverty my muse brings forth,'],\n",
       " ['103 To me, fair friend, you never can be old,'],\n",
       " ['104 Let not my love be called idolatry,'],\n",
       " ['105 When in the chronicle of wasted time'],\n",
       " ['106 Not mine own fears nor the prophetic soul'],\n",
       " ['107 What’s in the brain that ink may character'],\n",
       " ['108 O, never say that I was false of heart,'],\n",
       " ['109 Alas, ’tis true, I have gone here and there'],\n",
       " ['110 O, for my sake do you with Fortune chide,'],\n",
       " ['111 Your love and pity doth th’ impression fill'],\n",
       " ['112 Since I left you, mine eye is in my mind,'],\n",
       " ['113 Or whether doth my mind, being crowned with you,'],\n",
       " ['114 Those lines that I before have writ do lie,'],\n",
       " ['115 Let me not to the marriage of true minds'],\n",
       " ['116 Accuse me thus: that I have scanted all'],\n",
       " ['117 Like as to make our appetites more keen'],\n",
       " ['118 What potions have I drunk of siren tears'],\n",
       " ['119 That you were once unkind befriends me now,'],\n",
       " ['120 ’Tis better to be vile than vile esteemed,'],\n",
       " ['121 Thy gift, thy tables, are within my brain'],\n",
       " ['122 No, Time, thou shalt not boast that I do change.'],\n",
       " ['123 If my dear love were but the child of state,'],\n",
       " ['124 Were ’t aught to me I bore the canopy,'],\n",
       " ['125 O thou, my lovely boy, who in thy power'],\n",
       " ['126 In the old age, black was not counted fair,'],\n",
       " ['127 How oft, when thou, my music, music play’st'],\n",
       " ['128 Th’ expense of spirit in a waste of shame'],\n",
       " ['129 My mistress’ eyes are nothing like the sun;'],\n",
       " ['130 Thou art as tyrannous, so as thou art,'],\n",
       " ['131 Thine eyes I love, and they, as pitying me,'],\n",
       " ['132 Beshrew that heart that makes my heart to groan'],\n",
       " ['133 So, now I have confessed that he is thine'],\n",
       " ['134 Whoever hath her wish, thou hast thy will,'],\n",
       " ['135 If thy soul check thee that I come so near,'],\n",
       " ['136 Thou blind fool, Love, what dost thou to mine eyes'],\n",
       " ['137 When my love swears that she is made of truth'],\n",
       " ['138 O, call not me to justify the wrong'],\n",
       " ['139 Be wise as thou art cruel; do not press'],\n",
       " ['140 In faith, I do not love thee with mine eyes,'],\n",
       " ['141 Love is my sin, and thy dear virtue hate,'],\n",
       " ['142 Lo, as a careful huswife runs to catch'],\n",
       " ['143 Two loves I have, of comfort and despair,'],\n",
       " ['144 Those lips that Love’s own hand did make'],\n",
       " ['145 Poor soul, the center of my sinful earth,'],\n",
       " ['146 My love is as a fever, longing still'],\n",
       " ['147 O me, what eyes hath love put in my head,'],\n",
       " ['148 Canst thou, O cruel, say I love thee not'],\n",
       " ['149 O, from what power hast thou this powerful might'],\n",
       " ['150 Love is too young to know what conscience is;'],\n",
       " ['151 In loving thee thou know’st I am forsworn,'],\n",
       " ['152 Cupid laid by his brand and fell asleep.'],\n",
       " ['153 The little love-god, lying once asleep,']]"
      ]
     },
     "execution_count": 2,
     "metadata": {},
     "output_type": "execute_result"
    }
   ],
   "source": [
    "# THE SAME AS ABOVE BUT PULLING FROM THE FULL LIST (CSV) OF SONNET FIRST LINES\n",
    "\n",
    "with open('firstlines.csv') as file:\n",
    "    reader = csv.reader(file)\n",
    "    testcol_list1 = list(reader)\n",
    "testcol_list1"
   ]
  },
  {
   "cell_type": "code",
   "execution_count": 3,
   "id": "3ca402c1-2e11-4225-965f-5822a306fbf4",
   "metadata": {
    "scrolled": true
   },
   "outputs": [
    {
     "name": "stdout",
     "output_type": "stream",
     "text": [
      "<class 'str'>\n",
      "<class 'str'>\n",
      "<class 'str'>\n",
      "<class 'str'>\n",
      "<class 'str'>\n",
      "<class 'str'>\n",
      "<class 'str'>\n",
      "<class 'str'>\n",
      "<class 'str'>\n",
      "<class 'str'>\n",
      "<class 'str'>\n",
      "<class 'str'>\n",
      "<class 'str'>\n",
      "<class 'str'>\n",
      "<class 'str'>\n",
      "<class 'str'>\n",
      "<class 'str'>\n",
      "<class 'str'>\n",
      "<class 'str'>\n",
      "<class 'str'>\n",
      "<class 'str'>\n",
      "<class 'str'>\n",
      "<class 'str'>\n",
      "<class 'str'>\n",
      "<class 'str'>\n",
      "<class 'str'>\n",
      "<class 'str'>\n",
      "<class 'str'>\n",
      "<class 'str'>\n",
      "<class 'str'>\n",
      "<class 'str'>\n",
      "<class 'str'>\n",
      "<class 'str'>\n",
      "<class 'str'>\n",
      "<class 'str'>\n",
      "<class 'str'>\n",
      "<class 'str'>\n",
      "<class 'str'>\n",
      "<class 'str'>\n",
      "<class 'str'>\n",
      "<class 'str'>\n",
      "<class 'str'>\n",
      "<class 'str'>\n",
      "<class 'str'>\n",
      "<class 'str'>\n",
      "<class 'str'>\n",
      "<class 'str'>\n",
      "<class 'str'>\n",
      "<class 'str'>\n",
      "<class 'str'>\n",
      "<class 'str'>\n",
      "<class 'str'>\n",
      "<class 'str'>\n",
      "<class 'str'>\n",
      "<class 'str'>\n",
      "<class 'str'>\n",
      "<class 'str'>\n",
      "<class 'str'>\n",
      "<class 'str'>\n",
      "<class 'str'>\n",
      "<class 'str'>\n",
      "<class 'str'>\n",
      "<class 'str'>\n",
      "<class 'str'>\n",
      "<class 'str'>\n",
      "<class 'str'>\n",
      "<class 'str'>\n",
      "<class 'str'>\n",
      "<class 'str'>\n",
      "<class 'str'>\n",
      "<class 'str'>\n",
      "<class 'str'>\n",
      "<class 'str'>\n",
      "<class 'str'>\n",
      "<class 'str'>\n",
      "<class 'str'>\n",
      "<class 'str'>\n",
      "<class 'str'>\n",
      "<class 'str'>\n",
      "<class 'str'>\n",
      "<class 'str'>\n",
      "<class 'str'>\n",
      "<class 'str'>\n",
      "<class 'str'>\n",
      "<class 'str'>\n",
      "<class 'str'>\n",
      "<class 'str'>\n",
      "<class 'str'>\n",
      "<class 'str'>\n",
      "<class 'str'>\n",
      "<class 'str'>\n",
      "<class 'str'>\n",
      "<class 'str'>\n",
      "<class 'str'>\n",
      "<class 'str'>\n",
      "<class 'str'>\n",
      "<class 'str'>\n",
      "<class 'str'>\n",
      "<class 'str'>\n",
      "<class 'str'>\n",
      "<class 'str'>\n",
      "<class 'str'>\n",
      "<class 'str'>\n",
      "<class 'str'>\n",
      "<class 'str'>\n",
      "<class 'str'>\n",
      "<class 'str'>\n",
      "<class 'str'>\n",
      "<class 'str'>\n",
      "<class 'str'>\n",
      "<class 'str'>\n",
      "<class 'str'>\n",
      "<class 'str'>\n",
      "<class 'str'>\n",
      "<class 'str'>\n",
      "<class 'str'>\n",
      "<class 'str'>\n",
      "<class 'str'>\n",
      "<class 'str'>\n",
      "<class 'str'>\n",
      "<class 'str'>\n",
      "<class 'str'>\n",
      "<class 'str'>\n",
      "<class 'str'>\n",
      "<class 'str'>\n",
      "<class 'str'>\n",
      "<class 'str'>\n",
      "<class 'str'>\n",
      "<class 'str'>\n",
      "<class 'str'>\n",
      "<class 'str'>\n",
      "<class 'str'>\n",
      "<class 'str'>\n",
      "<class 'str'>\n",
      "<class 'str'>\n",
      "<class 'str'>\n",
      "<class 'str'>\n",
      "<class 'str'>\n",
      "<class 'str'>\n",
      "<class 'str'>\n",
      "<class 'str'>\n",
      "<class 'str'>\n",
      "<class 'str'>\n",
      "<class 'str'>\n",
      "<class 'str'>\n",
      "<class 'str'>\n",
      "<class 'str'>\n",
      "<class 'str'>\n",
      "<class 'str'>\n",
      "<class 'str'>\n",
      "<class 'str'>\n",
      "<class 'str'>\n",
      "<class 'str'>\n",
      "<class 'str'>\n"
     ]
    }
   ],
   "source": [
    "testcol_list = list(map(''.join, testcol_list1))\n",
    "for i in range(len(testcol_list)):\n",
    "    print(type(testcol_list[i]))"
   ]
  },
  {
   "cell_type": "raw",
   "id": "b5169bed-31dc-41a4-895a-89b9e953f176",
   "metadata": {},
   "source": [
    "for i in testcol_list:\n",
    "    for n in range(len(testcol_list)):\n",
    "        perpl_out = []\n",
    "        if i != testcol_list[n]:\n",
    "            test_line = re.sub(r'[0-9]{0,3}','',i) + re.sub(r'[0-9]{0,3}','',testcol_list[n])\n",
    "    print(test_line)"
   ]
  },
  {
   "cell_type": "raw",
   "id": "7669d283-bf12-4257-a600-6323752631a9",
   "metadata": {
    "scrolled": true
   },
   "source": [
    "# THIS SNIPPET PAIRS FIRST LINES AND REQUESTS THEIR PERPLEXITY SCORE\n",
    "# TURNED OFF BECAUSE SERVER WASN'T WORKING\n",
    "\n",
    "for i in testcol_list:\n",
    "    for n in range(len(testcol_list)):\n",
    "        perpl_out = []\n",
    "        if i != testcol_list[n]:\n",
    "            test_line = re.sub(r'[0-9]{0,3}','',i) + re.sub(r'[0-9]{0,3}','',testcol_list[n])\n",
    "            #prints the two lines together without the numbers\n",
    "            client = Client(\"xu-song/bert-perplexity\")\n",
    "            result = client.predict(\n",
    "        \t\tmodel_version=\"bert-base-uncased\",\n",
    "        \t\ttext=test_line,\n",
    "        \t\tapi_name=\"/predict\"\n",
    "            )\n",
    "            dog = re.search(r'^[0-9]{0,3}',i)\n",
    "            #gets the number of the first line\n",
    "            cat = re.search(r'^[0-9]{0,3}',testcol_list[n])\n",
    "            #gets the number of the second line\n",
    "        else:\n",
    "            continue\n",
    "        perpl_out.append(dog.group(0))\n",
    "        perpl_out.append(cat.group(0))\n",
    "        perpl_out.append(test_line )\n",
    "        perpl_out.append(result[0])\n",
    "        print(perpl_out)\n",
    "        with open('sonnet_perplexity.csv','a') as file:\n",
    "            writer = csv.writer(file)\n",
    "            writer.writerow(perpl_out)"
   ]
  },
  {
   "cell_type": "code",
   "execution_count": 8,
   "id": "0efb9279-7277-47ea-8243-30997cfb358b",
   "metadata": {},
   "outputs": [
    {
     "name": "stdout",
     "output_type": "stream",
     "text": [
      "['From fairest creatures we desire increase, When forty winters shall besiege thy brow'] <class 'list'> 1\n"
     ]
    },
    {
     "name": "stderr",
     "output_type": "stream",
     "text": [
      "100%|█████████████████████████████████████████████| 1/1 [00:01<00:00,  1.87s/it]\n"
     ]
    },
    {
     "name": "stdout",
     "output_type": "stream",
     "text": [
      "['0', '1', ['From fairest creatures we desire increase, When forty winters shall besiege thy brow'], 347.82]\n",
      "['From fairest creatures we desire increase, Look in thy glass and tell the face thou viewest'] <class 'list'> 1\n"
     ]
    },
    {
     "name": "stderr",
     "output_type": "stream",
     "text": [
      "100%|█████████████████████████████████████████████| 1/1 [00:00<00:00,  4.43it/s]\n"
     ]
    },
    {
     "name": "stdout",
     "output_type": "stream",
     "text": [
      "['0', '2', ['From fairest creatures we desire increase, Look in thy glass and tell the face thou viewest'], 255.86]\n",
      "['From fairest creatures we desire increase, Unthrifty loveliness, why dost thou spend'] <class 'list'> 1\n"
     ]
    },
    {
     "name": "stderr",
     "output_type": "stream",
     "text": [
      "100%|█████████████████████████████████████████████| 1/1 [00:00<00:00,  1.44it/s]\n"
     ]
    },
    {
     "name": "stdout",
     "output_type": "stream",
     "text": [
      "['0', '3', ['From fairest creatures we desire increase, Unthrifty loveliness, why dost thou spend'], 124.48]\n",
      "['From fairest creatures we desire increase, Those hours that with gentle work did frame'] <class 'list'> 1\n"
     ]
    },
    {
     "name": "stderr",
     "output_type": "stream",
     "text": [
      "100%|█████████████████████████████████████████████| 1/1 [00:00<00:00,  7.20it/s]\n"
     ]
    },
    {
     "name": "stdout",
     "output_type": "stream",
     "text": [
      "['0', '4', ['From fairest creatures we desire increase, Those hours that with gentle work did frame'], 667.17]\n",
      "['From fairest creatures we desire increase, Then let not winter’s ragged hand deface'] <class 'list'> 1\n"
     ]
    },
    {
     "name": "stderr",
     "output_type": "stream",
     "text": [
      "100%|█████████████████████████████████████████████| 1/1 [00:00<00:00,  6.04it/s]\n"
     ]
    },
    {
     "name": "stdout",
     "output_type": "stream",
     "text": [
      "['0', '5', ['From fairest creatures we desire increase, Then let not winter’s ragged hand deface'], 161.36]\n",
      "['From fairest creatures we desire increase, Lo, in the orient when the gracious light'] <class 'list'> 1\n"
     ]
    },
    {
     "name": "stderr",
     "output_type": "stream",
     "text": [
      "100%|█████████████████████████████████████████████| 1/1 [00:00<00:00,  4.42it/s]\n"
     ]
    },
    {
     "name": "stdout",
     "output_type": "stream",
     "text": [
      "['0', '6', ['From fairest creatures we desire increase, Lo, in the orient when the gracious light'], 360.7]\n",
      "['From fairest creatures we desire increase, Music to hear, why hear’st thou music sadly?'] <class 'list'> 1\n"
     ]
    },
    {
     "name": "stderr",
     "output_type": "stream",
     "text": [
      "100%|█████████████████████████████████████████████| 1/1 [00:00<00:00,  9.32it/s]\n"
     ]
    },
    {
     "name": "stdout",
     "output_type": "stream",
     "text": [
      "['0', '7', ['From fairest creatures we desire increase, Music to hear, why hear’st thou music sadly?'], 194.08]\n",
      "['From fairest creatures we desire increase, Is it for fear to wet a widow’s eye'] <class 'list'> 1\n"
     ]
    },
    {
     "name": "stderr",
     "output_type": "stream",
     "text": [
      "100%|█████████████████████████████████████████████| 1/1 [00:00<00:00,  4.14it/s]\n"
     ]
    },
    {
     "name": "stdout",
     "output_type": "stream",
     "text": [
      "['0', '8', ['From fairest creatures we desire increase, Is it for fear to wet a widow’s eye'], 146.91]\n",
      "['From fairest creatures we desire increase, For shame deny that thou bear’st love to any,'] <class 'list'> 1\n"
     ]
    },
    {
     "name": "stderr",
     "output_type": "stream",
     "text": [
      "100%|█████████████████████████████████████████████| 1/1 [00:01<00:00,  1.29s/it]\n"
     ]
    },
    {
     "name": "stdout",
     "output_type": "stream",
     "text": [
      "['0', '9', ['From fairest creatures we desire increase, For shame deny that thou bear’st love to any,'], 136.56]\n",
      "['From fairest creatures we desire increase, As fast as thou shalt wane, so fast thou grow’st'] <class 'list'> 1\n"
     ]
    },
    {
     "name": "stderr",
     "output_type": "stream",
     "text": [
      "100%|█████████████████████████████████████████████| 1/1 [00:00<00:00,  3.90it/s]\n"
     ]
    },
    {
     "name": "stdout",
     "output_type": "stream",
     "text": [
      "['0', '10', ['From fairest creatures we desire increase, As fast as thou shalt wane, so fast thou grow’st'], 91.66]\n",
      "['From fairest creatures we desire increase, When I do count the clock that tells the time'] <class 'list'> 1\n"
     ]
    },
    {
     "name": "stderr",
     "output_type": "stream",
     "text": [
      "100%|█████████████████████████████████████████████| 1/1 [00:00<00:00,  2.48it/s]\n"
     ]
    },
    {
     "name": "stdout",
     "output_type": "stream",
     "text": [
      "['0', '11', ['From fairest creatures we desire increase, When I do count the clock that tells the time'], 194.55]\n",
      "['From fairest creatures we desire increase, O, that you were your self! But, love, you are'] <class 'list'> 1\n"
     ]
    },
    {
     "name": "stderr",
     "output_type": "stream",
     "text": [
      "100%|█████████████████████████████████████████████| 1/1 [00:00<00:00,  4.83it/s]\n"
     ]
    },
    {
     "name": "stdout",
     "output_type": "stream",
     "text": [
      "['0', '12', ['From fairest creatures we desire increase, O, that you were your self! But, love, you are'], 157.39]\n",
      "['From fairest creatures we desire increase, Not from the stars do I my judgment pluck,'] <class 'list'> 1\n"
     ]
    },
    {
     "name": "stderr",
     "output_type": "stream",
     "text": [
      "100%|█████████████████████████████████████████████| 1/1 [00:00<00:00,  1.92it/s]\n"
     ]
    },
    {
     "name": "stdout",
     "output_type": "stream",
     "text": [
      "['0', '13', ['From fairest creatures we desire increase, Not from the stars do I my judgment pluck,'], 242.81]\n",
      "['From fairest creatures we desire increase, When I consider everything that grows'] <class 'list'> 1\n"
     ]
    },
    {
     "name": "stderr",
     "output_type": "stream",
     "text": [
      "100%|█████████████████████████████████████████████| 1/1 [00:00<00:00,  3.35it/s]\n"
     ]
    },
    {
     "name": "stdout",
     "output_type": "stream",
     "text": [
      "['0', '14', ['From fairest creatures we desire increase, When I consider everything that grows'], 414.09]\n",
      "['From fairest creatures we desire increase, But wherefore do not you a mightier way'] <class 'list'> 1\n"
     ]
    },
    {
     "name": "stderr",
     "output_type": "stream",
     "text": [
      "100%|█████████████████████████████████████████████| 1/1 [00:00<00:00,  2.24it/s]\n"
     ]
    },
    {
     "name": "stdout",
     "output_type": "stream",
     "text": [
      "['0', '15', ['From fairest creatures we desire increase, But wherefore do not you a mightier way'], 196.36]\n",
      "['From fairest creatures we desire increase, Who will believe my verse in time to come'] <class 'list'> 1\n"
     ]
    },
    {
     "name": "stderr",
     "output_type": "stream",
     "text": [
      "100%|█████████████████████████████████████████████| 1/1 [00:00<00:00,  5.19it/s]\n"
     ]
    },
    {
     "name": "stdout",
     "output_type": "stream",
     "text": [
      "['0', '16', ['From fairest creatures we desire increase, Who will believe my verse in time to come'], 344.5]\n",
      "['From fairest creatures we desire increase, Shall I compare thee to a summer’s day?'] <class 'list'> 1\n"
     ]
    },
    {
     "name": "stderr",
     "output_type": "stream",
     "text": [
      "100%|█████████████████████████████████████████████| 1/1 [00:00<00:00,  5.96it/s]\n"
     ]
    },
    {
     "name": "stdout",
     "output_type": "stream",
     "text": [
      "['0', '17', ['From fairest creatures we desire increase, Shall I compare thee to a summer’s day?'], 115.65]\n",
      "['From fairest creatures we desire increase, Devouring Time, blunt thou the lion’s paws'] <class 'list'> 1\n"
     ]
    },
    {
     "name": "stderr",
     "output_type": "stream",
     "text": [
      "100%|█████████████████████████████████████████████| 1/1 [00:01<00:00,  1.53s/it]\n"
     ]
    },
    {
     "name": "stdout",
     "output_type": "stream",
     "text": [
      "['0', '18', ['From fairest creatures we desire increase, Devouring Time, blunt thou the lion’s paws'], 341.63]\n",
      "['From fairest creatures we desire increase, A woman’s face with Nature’s own hand painted'] <class 'list'> 1\n"
     ]
    },
    {
     "name": "stderr",
     "output_type": "stream",
     "text": [
      "100%|█████████████████████████████████████████████| 1/1 [00:00<00:00,  1.00it/s]\n"
     ]
    },
    {
     "name": "stdout",
     "output_type": "stream",
     "text": [
      "['0', '19', ['From fairest creatures we desire increase, A woman’s face with Nature’s own hand painted'], 121.46]\n",
      "['From fairest creatures we desire increase, So is it not with me as with that muse'] <class 'list'> 1\n"
     ]
    },
    {
     "name": "stderr",
     "output_type": "stream",
     "text": [
      "100%|█████████████████████████████████████████████| 1/1 [00:00<00:00,  7.56it/s]\n"
     ]
    },
    {
     "name": "stdout",
     "output_type": "stream",
     "text": [
      "['0', '20', ['From fairest creatures we desire increase, So is it not with me as with that muse'], 216.79]\n",
      "['From fairest creatures we desire increase, My glass shall not persuade me I am old'] <class 'list'> 1\n"
     ]
    },
    {
     "name": "stderr",
     "output_type": "stream",
     "text": [
      "100%|█████████████████████████████████████████████| 1/1 [00:00<00:00,  1.75it/s]\n"
     ]
    },
    {
     "name": "stdout",
     "output_type": "stream",
     "text": [
      "['0', '21', ['From fairest creatures we desire increase, My glass shall not persuade me I am old'], 361.89]\n",
      "['From fairest creatures we desire increase, As an unperfect actor on the stage'] <class 'list'> 1\n"
     ]
    },
    {
     "name": "stderr",
     "output_type": "stream",
     "text": [
      "100%|█████████████████████████████████████████████| 1/1 [00:00<00:00,  2.06it/s]\n"
     ]
    },
    {
     "name": "stdout",
     "output_type": "stream",
     "text": [
      "['0', '22', ['From fairest creatures we desire increase, As an unperfect actor on the stage'], 294.53]\n",
      "['From fairest creatures we desire increase, Mine eye hath played the painter and hath stelled'] <class 'list'> 1\n"
     ]
    },
    {
     "name": "stderr",
     "output_type": "stream",
     "text": [
      "100%|█████████████████████████████████████████████| 1/1 [00:00<00:00,  5.20it/s]\n"
     ]
    },
    {
     "name": "stdout",
     "output_type": "stream",
     "text": [
      "['0', '23', ['From fairest creatures we desire increase, Mine eye hath played the painter and hath stelled'], 492.17]\n",
      "['From fairest creatures we desire increase, Let those who are in favor with their stars'] <class 'list'> 1\n"
     ]
    },
    {
     "name": "stderr",
     "output_type": "stream",
     "text": [
      "100%|█████████████████████████████████████████████| 1/1 [00:01<00:00,  1.66s/it]\n"
     ]
    },
    {
     "name": "stdout",
     "output_type": "stream",
     "text": [
      "['0', '24', ['From fairest creatures we desire increase, Let those who are in favor with their stars'], 258.99]\n",
      "['From fairest creatures we desire increase, Lord of my love, to whom in vassalage'] <class 'list'> 1\n"
     ]
    },
    {
     "name": "stderr",
     "output_type": "stream",
     "text": [
      "100%|█████████████████████████████████████████████| 1/1 [00:00<00:00,  1.07it/s]\n"
     ]
    },
    {
     "name": "stdout",
     "output_type": "stream",
     "text": [
      "['0', '25', ['From fairest creatures we desire increase, Lord of my love, to whom in vassalage'], 174.33]\n",
      "['From fairest creatures we desire increase, Weary with toil, I haste me to my bed,'] <class 'list'> 1\n"
     ]
    },
    {
     "name": "stderr",
     "output_type": "stream",
     "text": [
      "100%|█████████████████████████████████████████████| 1/1 [00:00<00:00,  3.24it/s]\n"
     ]
    },
    {
     "name": "stdout",
     "output_type": "stream",
     "text": [
      "['0', '26', ['From fairest creatures we desire increase, Weary with toil, I haste me to my bed,'], 140.95]\n",
      "['From fairest creatures we desire increase, How can I then return in happy plight'] <class 'list'> 1\n"
     ]
    },
    {
     "name": "stderr",
     "output_type": "stream",
     "text": [
      "100%|█████████████████████████████████████████████| 1/1 [00:00<00:00,  8.16it/s]\n"
     ]
    },
    {
     "name": "stdout",
     "output_type": "stream",
     "text": [
      "['0', '27', ['From fairest creatures we desire increase, How can I then return in happy plight'], 403.52]\n",
      "['From fairest creatures we desire increase, When in disgrace with fortune and men’s eyes,'] <class 'list'> 1\n"
     ]
    },
    {
     "name": "stderr",
     "output_type": "stream",
     "text": [
      "100%|█████████████████████████████████████████████| 1/1 [00:00<00:00, 10.78it/s]\n"
     ]
    },
    {
     "name": "stdout",
     "output_type": "stream",
     "text": [
      "['0', '28', ['From fairest creatures we desire increase, When in disgrace with fortune and men’s eyes,'], 152.2]\n",
      "['From fairest creatures we desire increase, When to the sessions of sweet silent thought'] <class 'list'> 1\n"
     ]
    },
    {
     "name": "stderr",
     "output_type": "stream",
     "text": [
      "100%|█████████████████████████████████████████████| 1/1 [00:00<00:00,  9.84it/s]\n"
     ]
    },
    {
     "name": "stdout",
     "output_type": "stream",
     "text": [
      "['0', '29', ['From fairest creatures we desire increase, When to the sessions of sweet silent thought'], 511.51]\n",
      "['From fairest creatures we desire increase, Thy bosom is endearèd with all hearts'] <class 'list'> 1\n"
     ]
    },
    {
     "name": "stderr",
     "output_type": "stream",
     "text": [
      "100%|█████████████████████████████████████████████| 1/1 [00:00<00:00, 11.37it/s]\n"
     ]
    },
    {
     "name": "stdout",
     "output_type": "stream",
     "text": [
      "['0', '30', ['From fairest creatures we desire increase, Thy bosom is endearèd with all hearts'], 171.29]\n",
      "['From fairest creatures we desire increase, If thou survive my well-contented day'] <class 'list'> 1\n"
     ]
    },
    {
     "name": "stderr",
     "output_type": "stream",
     "text": [
      "100%|█████████████████████████████████████████████| 1/1 [00:00<00:00, 10.17it/s]\n"
     ]
    },
    {
     "name": "stdout",
     "output_type": "stream",
     "text": [
      "['0', '31', ['From fairest creatures we desire increase, If thou survive my well-contented day'], 277.94]\n",
      "['From fairest creatures we desire increase, Full many a glorious morning have I seen'] <class 'list'> 1\n"
     ]
    },
    {
     "name": "stderr",
     "output_type": "stream",
     "text": [
      "100%|█████████████████████████████████████████████| 1/1 [00:00<00:00, 12.21it/s]\n"
     ]
    },
    {
     "name": "stdout",
     "output_type": "stream",
     "text": [
      "['0', '32', ['From fairest creatures we desire increase, Full many a glorious morning have I seen'], 346.89]\n",
      "['From fairest creatures we desire increase, Why didst thou promise such a beauteous day'] <class 'list'> 1\n"
     ]
    },
    {
     "name": "stderr",
     "output_type": "stream",
     "text": [
      "100%|█████████████████████████████████████████████| 1/1 [00:00<00:00, 11.35it/s]\n"
     ]
    },
    {
     "name": "stdout",
     "output_type": "stream",
     "text": [
      "['0', '33', ['From fairest creatures we desire increase, Why didst thou promise such a beauteous day'], 95.55]\n",
      "['From fairest creatures we desire increase, No more be grieved at that which thou hast done.'] <class 'list'> 1\n"
     ]
    },
    {
     "name": "stderr",
     "output_type": "stream",
     "text": [
      "100%|█████████████████████████████████████████████| 1/1 [00:00<00:00, 10.58it/s]\n"
     ]
    },
    {
     "name": "stdout",
     "output_type": "stream",
     "text": [
      "['0', '34', ['From fairest creatures we desire increase, No more be grieved at that which thou hast done.'], 89.58]\n",
      "['From fairest creatures we desire increase, Let me confess that we two must be twain'] <class 'list'> 1\n"
     ]
    },
    {
     "name": "stderr",
     "output_type": "stream",
     "text": [
      "100%|█████████████████████████████████████████████| 1/1 [00:00<00:00, 10.20it/s]\n"
     ]
    },
    {
     "name": "stdout",
     "output_type": "stream",
     "text": [
      "['0', '35', ['From fairest creatures we desire increase, Let me confess that we two must be twain'], 215.85]\n",
      "['From fairest creatures we desire increase, As a decrepit father takes delight'] <class 'list'> 1\n"
     ]
    },
    {
     "name": "stderr",
     "output_type": "stream",
     "text": [
      "100%|█████████████████████████████████████████████| 1/1 [00:00<00:00, 10.64it/s]\n"
     ]
    },
    {
     "name": "stdout",
     "output_type": "stream",
     "text": [
      "['0', '36', ['From fairest creatures we desire increase, As a decrepit father takes delight'], 337.27]\n",
      "['From fairest creatures we desire increase, How can my muse want subject to invent'] <class 'list'> 1\n"
     ]
    },
    {
     "name": "stderr",
     "output_type": "stream",
     "text": [
      "100%|█████████████████████████████████████████████| 1/1 [00:00<00:00,  8.93it/s]\n"
     ]
    },
    {
     "name": "stdout",
     "output_type": "stream",
     "text": [
      "['0', '37', ['From fairest creatures we desire increase, How can my muse want subject to invent'], 1259.29]\n",
      "['From fairest creatures we desire increase, O, how thy worth with manners may I sing'] <class 'list'> 1\n"
     ]
    },
    {
     "name": "stderr",
     "output_type": "stream",
     "text": [
      "100%|█████████████████████████████████████████████| 1/1 [00:00<00:00, 11.26it/s]\n"
     ]
    },
    {
     "name": "stdout",
     "output_type": "stream",
     "text": [
      "['0', '38', ['From fairest creatures we desire increase, O, how thy worth with manners may I sing'], 362.1]\n",
      "['From fairest creatures we desire increase, Take all my loves, my love, yea, take them all.'] <class 'list'> 1\n"
     ]
    },
    {
     "name": "stderr",
     "output_type": "stream",
     "text": [
      "100%|█████████████████████████████████████████████| 1/1 [00:00<00:00,  9.12it/s]\n"
     ]
    },
    {
     "name": "stdout",
     "output_type": "stream",
     "text": [
      "['0', '39', ['From fairest creatures we desire increase, Take all my loves, my love, yea, take them all.'], 100.15]\n",
      "['From fairest creatures we desire increase, Those pretty wrongs that liberty commits'] <class 'list'> 1\n"
     ]
    },
    {
     "name": "stderr",
     "output_type": "stream",
     "text": [
      "100%|█████████████████████████████████████████████| 1/1 [00:00<00:00,  5.76it/s]\n"
     ]
    },
    {
     "name": "stdout",
     "output_type": "stream",
     "text": [
      "['0', '40', ['From fairest creatures we desire increase, Those pretty wrongs that liberty commits'], 763.37]\n",
      "['From fairest creatures we desire increase, That thou hast her, it is not all my grief,'] <class 'list'> 1\n"
     ]
    },
    {
     "name": "stderr",
     "output_type": "stream",
     "text": [
      "100%|█████████████████████████████████████████████| 1/1 [00:00<00:00,  6.27it/s]\n"
     ]
    },
    {
     "name": "stdout",
     "output_type": "stream",
     "text": [
      "['0', '41', ['From fairest creatures we desire increase, That thou hast her, it is not all my grief,'], 147.46]\n",
      "['From fairest creatures we desire increase, When most I wink, then do mine eyes best see,'] <class 'list'> 1\n"
     ]
    },
    {
     "name": "stderr",
     "output_type": "stream",
     "text": [
      "100%|█████████████████████████████████████████████| 1/1 [00:00<00:00,  6.88it/s]\n"
     ]
    },
    {
     "name": "stdout",
     "output_type": "stream",
     "text": [
      "['0', '42', ['From fairest creatures we desire increase, When most I wink, then do mine eyes best see,'], 224.23]\n",
      "['From fairest creatures we desire increase, If the dull substance of my flesh were thought,'] <class 'list'> 1\n"
     ]
    },
    {
     "name": "stderr",
     "output_type": "stream",
     "text": [
      "100%|█████████████████████████████████████████████| 1/1 [00:00<00:00,  6.57it/s]\n"
     ]
    },
    {
     "name": "stdout",
     "output_type": "stream",
     "text": [
      "['0', '43', ['From fairest creatures we desire increase, If the dull substance of my flesh were thought,'], 257.41]\n",
      "['From fairest creatures we desire increase, The other two, slight air and purging fire,'] <class 'list'> 1\n"
     ]
    },
    {
     "name": "stderr",
     "output_type": "stream",
     "text": [
      "100%|█████████████████████████████████████████████| 1/1 [00:00<00:00,  5.87it/s]\n"
     ]
    },
    {
     "name": "stdout",
     "output_type": "stream",
     "text": [
      "['0', '44', ['From fairest creatures we desire increase, The other two, slight air and purging fire,'], 280.3]\n",
      "['From fairest creatures we desire increase, Mine eye and heart are at a mortal war'] <class 'list'> 1\n"
     ]
    },
    {
     "name": "stderr",
     "output_type": "stream",
     "text": [
      "100%|█████████████████████████████████████████████| 1/1 [00:00<00:00, 10.56it/s]\n"
     ]
    },
    {
     "name": "stdout",
     "output_type": "stream",
     "text": [
      "['0', '45', ['From fairest creatures we desire increase, Mine eye and heart are at a mortal war'], 272.34]\n",
      "['From fairest creatures we desire increase, Betwixt mine eye and heart a league is took,'] <class 'list'> 1\n"
     ]
    },
    {
     "name": "stderr",
     "output_type": "stream",
     "text": [
      "100%|█████████████████████████████████████████████| 1/1 [00:00<00:00, 11.47it/s]\n"
     ]
    },
    {
     "name": "stdout",
     "output_type": "stream",
     "text": [
      "['0', '46', ['From fairest creatures we desire increase, Betwixt mine eye and heart a league is took,'], 235.04]\n",
      "['From fairest creatures we desire increase, How careful was I, when I took my way,'] <class 'list'> 1\n"
     ]
    },
    {
     "name": "stderr",
     "output_type": "stream",
     "text": [
      "100%|█████████████████████████████████████████████| 1/1 [00:00<00:00, 12.30it/s]\n"
     ]
    },
    {
     "name": "stdout",
     "output_type": "stream",
     "text": [
      "['0', '47', ['From fairest creatures we desire increase, How careful was I, when I took my way,'], 149.89]\n",
      "['From fairest creatures we desire increase, Against that time, if ever that time come,'] <class 'list'> 1\n"
     ]
    },
    {
     "name": "stderr",
     "output_type": "stream",
     "text": [
      "100%|█████████████████████████████████████████████| 1/1 [00:00<00:00,  7.73it/s]\n"
     ]
    },
    {
     "name": "stdout",
     "output_type": "stream",
     "text": [
      "['0', '48', ['From fairest creatures we desire increase, Against that time, if ever that time come,'], 173.86]\n",
      "['From fairest creatures we desire increase, How heavy do I journey on the way,'] <class 'list'> 1\n"
     ]
    },
    {
     "name": "stderr",
     "output_type": "stream",
     "text": [
      "100%|█████████████████████████████████████████████| 1/1 [00:00<00:00,  6.33it/s]\n"
     ]
    },
    {
     "name": "stdout",
     "output_type": "stream",
     "text": [
      "['0', '49', ['From fairest creatures we desire increase, How heavy do I journey on the way,'], 233.94]\n",
      "['From fairest creatures we desire increase, Thus can my love excuse the slow offense'] <class 'list'> 1\n"
     ]
    },
    {
     "name": "stderr",
     "output_type": "stream",
     "text": [
      "100%|█████████████████████████████████████████████| 1/1 [00:00<00:00,  6.81it/s]\n"
     ]
    },
    {
     "name": "stdout",
     "output_type": "stream",
     "text": [
      "['0', '50', ['From fairest creatures we desire increase, Thus can my love excuse the slow offense'], 564.66]\n",
      "['From fairest creatures we desire increase, So am I as the rich whose blessèd key'] <class 'list'> 1\n"
     ]
    },
    {
     "name": "stderr",
     "output_type": "stream",
     "text": [
      "100%|█████████████████████████████████████████████| 1/1 [00:00<00:00,  8.24it/s]\n"
     ]
    },
    {
     "name": "stdout",
     "output_type": "stream",
     "text": [
      "['0', '51', ['From fairest creatures we desire increase, So am I as the rich whose blessèd key'], 430.93]\n",
      "['From fairest creatures we desire increase, What is your substance, whereof are you made,'] <class 'list'> 1\n"
     ]
    },
    {
     "name": "stderr",
     "output_type": "stream",
     "text": [
      "100%|█████████████████████████████████████████████| 1/1 [00:00<00:00,  8.60it/s]\n"
     ]
    },
    {
     "name": "stdout",
     "output_type": "stream",
     "text": [
      "['0', '52', ['From fairest creatures we desire increase, What is your substance, whereof are you made,'], 120.97]\n",
      "['From fairest creatures we desire increase, O, how much more doth beauty beauteous seem'] <class 'list'> 1\n"
     ]
    },
    {
     "name": "stderr",
     "output_type": "stream",
     "text": [
      "100%|█████████████████████████████████████████████| 1/1 [00:00<00:00,  6.09it/s]\n"
     ]
    },
    {
     "name": "stdout",
     "output_type": "stream",
     "text": [
      "['0', '53', ['From fairest creatures we desire increase, O, how much more doth beauty beauteous seem'], 110.52]\n",
      "['From fairest creatures we desire increase, Not marble nor the gilded monuments'] <class 'list'> 1\n"
     ]
    },
    {
     "name": "stderr",
     "output_type": "stream",
     "text": [
      "100%|█████████████████████████████████████████████| 1/1 [00:00<00:00,  4.64it/s]\n"
     ]
    },
    {
     "name": "stdout",
     "output_type": "stream",
     "text": [
      "['0', '54', ['From fairest creatures we desire increase, Not marble nor the gilded monuments'], 365.07]\n",
      "['From fairest creatures we desire increase, Sweet love, renew thy force. Be it not said'] <class 'list'> 1\n"
     ]
    },
    {
     "name": "stderr",
     "output_type": "stream",
     "text": [
      "100%|█████████████████████████████████████████████| 1/1 [00:00<00:00,  5.44it/s]\n"
     ]
    },
    {
     "name": "stdout",
     "output_type": "stream",
     "text": [
      "['0', '55', ['From fairest creatures we desire increase, Sweet love, renew thy force. Be it not said'], 511.88]\n",
      "['From fairest creatures we desire increase, Being your slave, what should I do but tend'] <class 'list'> 1\n"
     ]
    },
    {
     "name": "stderr",
     "output_type": "stream",
     "text": [
      "100%|█████████████████████████████████████████████| 1/1 [00:00<00:00,  7.84it/s]\n"
     ]
    },
    {
     "name": "stdout",
     "output_type": "stream",
     "text": [
      "['0', '56', ['From fairest creatures we desire increase, Being your slave, what should I do but tend'], 275.73]\n",
      "['From fairest creatures we desire increase, That god forbid, that made me first your slave,'] <class 'list'> 1\n"
     ]
    },
    {
     "name": "stderr",
     "output_type": "stream",
     "text": [
      "100%|█████████████████████████████████████████████| 1/1 [00:00<00:00, 10.89it/s]\n"
     ]
    },
    {
     "name": "stdout",
     "output_type": "stream",
     "text": [
      "['0', '57', ['From fairest creatures we desire increase, That god forbid, that made me first your slave,'], 272.75]\n",
      "['From fairest creatures we desire increase, If there be nothing new, but that which is'] <class 'list'> 1\n"
     ]
    },
    {
     "name": "stderr",
     "output_type": "stream",
     "text": [
      "100%|█████████████████████████████████████████████| 1/1 [00:00<00:00, 11.67it/s]\n"
     ]
    },
    {
     "name": "stdout",
     "output_type": "stream",
     "text": [
      "['0', '58', ['From fairest creatures we desire increase, If there be nothing new, but that which is'], 90.33]\n",
      "['From fairest creatures we desire increase, Like as the waves make towards the pebbled shore,'] <class 'list'> 1\n"
     ]
    },
    {
     "name": "stderr",
     "output_type": "stream",
     "text": [
      "100%|█████████████████████████████████████████████| 1/1 [00:00<00:00,  2.36it/s]\n"
     ]
    },
    {
     "name": "stdout",
     "output_type": "stream",
     "text": [
      "['0', '59', ['From fairest creatures we desire increase, Like as the waves make towards the pebbled shore,'], 163.64]\n",
      "['From fairest creatures we desire increase, Is it thy will thy image should keep open'] <class 'list'> 1\n"
     ]
    },
    {
     "name": "stderr",
     "output_type": "stream",
     "text": [
      "100%|█████████████████████████████████████████████| 1/1 [00:00<00:00,  5.22it/s]\n"
     ]
    },
    {
     "name": "stdout",
     "output_type": "stream",
     "text": [
      "['0', '60', ['From fairest creatures we desire increase, Is it thy will thy image should keep open'], 491.94]\n",
      "['From fairest creatures we desire increase, Sin of self-love possesseth all mine eye'] <class 'list'> 1\n"
     ]
    },
    {
     "name": "stderr",
     "output_type": "stream",
     "text": [
      "100%|█████████████████████████████████████████████| 1/1 [00:00<00:00,  1.91it/s]\n"
     ]
    },
    {
     "name": "stdout",
     "output_type": "stream",
     "text": [
      "['0', '61', ['From fairest creatures we desire increase, Sin of self-love possesseth all mine eye'], 390.65]\n",
      "['From fairest creatures we desire increase, Against my love shall be, as I am now,'] <class 'list'> 1\n"
     ]
    },
    {
     "name": "stderr",
     "output_type": "stream",
     "text": [
      "100%|█████████████████████████████████████████████| 1/1 [00:01<00:00,  1.36s/it]\n"
     ]
    },
    {
     "name": "stdout",
     "output_type": "stream",
     "text": [
      "['0', '62', ['From fairest creatures we desire increase, Against my love shall be, as I am now,'], 127.38]\n",
      "['From fairest creatures we desire increase, When I have seen by Time’s fell hand defaced'] <class 'list'> 1\n"
     ]
    },
    {
     "name": "stderr",
     "output_type": "stream",
     "text": [
      "100%|█████████████████████████████████████████████| 1/1 [00:01<00:00,  1.21s/it]\n"
     ]
    },
    {
     "name": "stdout",
     "output_type": "stream",
     "text": [
      "['0', '63', ['From fairest creatures we desire increase, When I have seen by Time’s fell hand defaced'], 345.22]\n",
      "['From fairest creatures we desire increase, Since brass, nor stone, nor earth, nor boundless sea'] <class 'list'> 1\n"
     ]
    },
    {
     "name": "stderr",
     "output_type": "stream",
     "text": [
      "100%|█████████████████████████████████████████████| 1/1 [00:00<00:00,  2.07it/s]\n"
     ]
    },
    {
     "name": "stdout",
     "output_type": "stream",
     "text": [
      "['0', '64', ['From fairest creatures we desire increase, Since brass, nor stone, nor earth, nor boundless sea'], 130.16]\n",
      "['From fairest creatures we desire increase, Tired with all these, for restful death I cry:'] <class 'list'> 1\n"
     ]
    },
    {
     "name": "stderr",
     "output_type": "stream",
     "text": [
      "100%|█████████████████████████████████████████████| 1/1 [00:00<00:00,  2.23it/s]\n"
     ]
    },
    {
     "name": "stdout",
     "output_type": "stream",
     "text": [
      "['0', '65', ['From fairest creatures we desire increase, Tired with all these, for restful death I cry:'], 282.73]\n",
      "['From fairest creatures we desire increase, Ah, wherefore with infection should he live,'] <class 'list'> 1\n"
     ]
    },
    {
     "name": "stderr",
     "output_type": "stream",
     "text": [
      "100%|█████████████████████████████████████████████| 1/1 [00:00<00:00,  1.69it/s]\n"
     ]
    },
    {
     "name": "stdout",
     "output_type": "stream",
     "text": [
      "['0', '66', ['From fairest creatures we desire increase, Ah, wherefore with infection should he live,'], 264.88]\n",
      "['From fairest creatures we desire increase, Thus is his cheek the map of days outworn,'] <class 'list'> 1\n"
     ]
    },
    {
     "name": "stderr",
     "output_type": "stream",
     "text": [
      "100%|█████████████████████████████████████████████| 1/1 [00:00<00:00,  1.72it/s]\n"
     ]
    },
    {
     "name": "stdout",
     "output_type": "stream",
     "text": [
      "['0', '67', ['From fairest creatures we desire increase, Thus is his cheek the map of days outworn,'], 430.82]\n",
      "['From fairest creatures we desire increase, Those parts of thee that the world’s eye doth view'] <class 'list'> 1\n"
     ]
    },
    {
     "name": "stderr",
     "output_type": "stream",
     "text": [
      "100%|█████████████████████████████████████████████| 1/1 [00:01<00:00,  1.01s/it]\n"
     ]
    },
    {
     "name": "stdout",
     "output_type": "stream",
     "text": [
      "['0', '68', ['From fairest creatures we desire increase, Those parts of thee that the world’s eye doth view'], 85.14]\n",
      "['From fairest creatures we desire increase, That thou art blamed shall not be thy defect,'] <class 'list'> 1\n"
     ]
    },
    {
     "name": "stderr",
     "output_type": "stream",
     "text": [
      "100%|█████████████████████████████████████████████| 1/1 [00:01<00:00,  1.29s/it]\n"
     ]
    },
    {
     "name": "stdout",
     "output_type": "stream",
     "text": [
      "['0', '69', ['From fairest creatures we desire increase, That thou art blamed shall not be thy defect,'], 273.81]\n",
      "['From fairest creatures we desire increase, No longer mourn for me when I am dead'] <class 'list'> 1\n"
     ]
    },
    {
     "name": "stderr",
     "output_type": "stream",
     "text": [
      "100%|█████████████████████████████████████████████| 1/1 [00:01<00:00,  1.19s/it]\n"
     ]
    },
    {
     "name": "stdout",
     "output_type": "stream",
     "text": [
      "['0', '70', ['From fairest creatures we desire increase, No longer mourn for me when I am dead'], 157.2]\n",
      "['From fairest creatures we desire increase, O, lest the world should task you to recite'] <class 'list'> 1\n"
     ]
    },
    {
     "name": "stderr",
     "output_type": "stream",
     "text": [
      "100%|█████████████████████████████████████████████| 1/1 [00:00<00:00,  3.51it/s]\n"
     ]
    },
    {
     "name": "stdout",
     "output_type": "stream",
     "text": [
      "['0', '71', ['From fairest creatures we desire increase, O, lest the world should task you to recite'], 431.2]\n",
      "['From fairest creatures we desire increase, That time of year thou mayst in me behold'] <class 'list'> 1\n"
     ]
    },
    {
     "name": "stderr",
     "output_type": "stream",
     "text": [
      "100%|█████████████████████████████████████████████| 1/1 [00:00<00:00,  1.07it/s]\n"
     ]
    },
    {
     "name": "stdout",
     "output_type": "stream",
     "text": [
      "['0', '72', ['From fairest creatures we desire increase, That time of year thou mayst in me behold'], 223.58]\n",
      "['From fairest creatures we desire increase, But be contented when that fell arrest'] <class 'list'> 1\n"
     ]
    },
    {
     "name": "stderr",
     "output_type": "stream",
     "text": [
      "100%|█████████████████████████████████████████████| 1/1 [00:00<00:00,  1.23it/s]\n"
     ]
    },
    {
     "name": "stdout",
     "output_type": "stream",
     "text": [
      "['0', '73', ['From fairest creatures we desire increase, But be contented when that fell arrest'], 454.67]\n",
      "['From fairest creatures we desire increase, So are you to my thoughts as food to life,'] <class 'list'> 1\n"
     ]
    },
    {
     "name": "stderr",
     "output_type": "stream",
     "text": [
      "100%|█████████████████████████████████████████████| 1/1 [00:00<00:00,  1.51it/s]\n"
     ]
    },
    {
     "name": "stdout",
     "output_type": "stream",
     "text": [
      "['0', '74', ['From fairest creatures we desire increase, So are you to my thoughts as food to life,'], 229.27]\n",
      "['From fairest creatures we desire increase, Why is my verse so barren of new pride,'] <class 'list'> 1\n"
     ]
    },
    {
     "name": "stderr",
     "output_type": "stream",
     "text": [
      "100%|█████████████████████████████████████████████| 1/1 [00:00<00:00,  1.33it/s]\n"
     ]
    },
    {
     "name": "stdout",
     "output_type": "stream",
     "text": [
      "['0', '75', ['From fairest creatures we desire increase, Why is my verse so barren of new pride,'], 357.18]\n",
      "['From fairest creatures we desire increase, Thy glass will show thee how thy beauties wear,'] <class 'list'> 1\n"
     ]
    },
    {
     "name": "stderr",
     "output_type": "stream",
     "text": [
      "100%|█████████████████████████████████████████████| 1/1 [00:00<00:00,  1.36it/s]\n"
     ]
    },
    {
     "name": "stdout",
     "output_type": "stream",
     "text": [
      "['0', '76', ['From fairest creatures we desire increase, Thy glass will show thee how thy beauties wear,'], 189.87]\n",
      "['From fairest creatures we desire increase, So oft have I invoked thee for my muse'] <class 'list'> 1\n"
     ]
    },
    {
     "name": "stderr",
     "output_type": "stream",
     "text": [
      "100%|█████████████████████████████████████████████| 1/1 [00:00<00:00,  1.54it/s]\n"
     ]
    },
    {
     "name": "stdout",
     "output_type": "stream",
     "text": [
      "['0', '77', ['From fairest creatures we desire increase, So oft have I invoked thee for my muse'], 325.59]\n",
      "['From fairest creatures we desire increase, Whilst I alone did call upon thy aid,'] <class 'list'> 1\n"
     ]
    },
    {
     "name": "stderr",
     "output_type": "stream",
     "text": [
      "100%|█████████████████████████████████████████████| 1/1 [00:00<00:00,  1.26it/s]\n"
     ]
    },
    {
     "name": "stdout",
     "output_type": "stream",
     "text": [
      "['0', '78', ['From fairest creatures we desire increase, Whilst I alone did call upon thy aid,'], 196.37]\n",
      "['From fairest creatures we desire increase, O, how I faint when I of you do write,'] <class 'list'> 1\n"
     ]
    },
    {
     "name": "stderr",
     "output_type": "stream",
     "text": [
      "100%|█████████████████████████████████████████████| 1/1 [00:00<00:00,  1.37it/s]\n"
     ]
    },
    {
     "name": "stdout",
     "output_type": "stream",
     "text": [
      "['0', '79', ['From fairest creatures we desire increase, O, how I faint when I of you do write,'], 239.95]\n",
      "['From fairest creatures we desire increase, Or I shall live your epitaph to make'] <class 'list'> 1\n"
     ]
    },
    {
     "name": "stderr",
     "output_type": "stream",
     "text": [
      "100%|█████████████████████████████████████████████| 1/1 [00:00<00:00,  1.50it/s]\n"
     ]
    },
    {
     "name": "stdout",
     "output_type": "stream",
     "text": [
      "['0', '80', ['From fairest creatures we desire increase, Or I shall live your epitaph to make'], 232.87]\n",
      "['From fairest creatures we desire increase, I grant thou wert not married to my muse,'] <class 'list'> 1\n"
     ]
    },
    {
     "name": "stderr",
     "output_type": "stream",
     "text": [
      "100%|█████████████████████████████████████████████| 1/1 [00:00<00:00,  4.64it/s]\n"
     ]
    },
    {
     "name": "stdout",
     "output_type": "stream",
     "text": [
      "['0', '81', ['From fairest creatures we desire increase, I grant thou wert not married to my muse,'], 137.48]\n",
      "['From fairest creatures we desire increase, I never saw that you did painting need'] <class 'list'> 1\n"
     ]
    },
    {
     "name": "stderr",
     "output_type": "stream",
     "text": [
      "100%|█████████████████████████████████████████████| 1/1 [00:00<00:00,  1.45it/s]\n"
     ]
    },
    {
     "name": "stdout",
     "output_type": "stream",
     "text": [
      "['0', '82', ['From fairest creatures we desire increase, I never saw that you did painting need'], 462.25]\n",
      "['From fairest creatures we desire increase, Who is it that says most, which can say more'] <class 'list'> 1\n"
     ]
    },
    {
     "name": "stderr",
     "output_type": "stream",
     "text": [
      "100%|█████████████████████████████████████████████| 1/1 [00:00<00:00,  1.29it/s]\n"
     ]
    },
    {
     "name": "stdout",
     "output_type": "stream",
     "text": [
      "['0', '83', ['From fairest creatures we desire increase, Who is it that says most, which can say more'], 203.36]\n",
      "['From fairest creatures we desire increase, My tongue-tied muse in manners holds her still'] <class 'list'> 1\n"
     ]
    },
    {
     "name": "stderr",
     "output_type": "stream",
     "text": [
      "100%|█████████████████████████████████████████████| 1/1 [00:00<00:00,  3.31it/s]\n"
     ]
    },
    {
     "name": "stdout",
     "output_type": "stream",
     "text": [
      "['0', '84', ['From fairest creatures we desire increase, My tongue-tied muse in manners holds her still'], 389.95]\n",
      "['From fairest creatures we desire increase, Was it the proud full sail of his great verse,'] <class 'list'> 1\n"
     ]
    },
    {
     "name": "stderr",
     "output_type": "stream",
     "text": [
      "100%|█████████████████████████████████████████████| 1/1 [00:00<00:00,  1.33it/s]\n"
     ]
    },
    {
     "name": "stdout",
     "output_type": "stream",
     "text": [
      "['0', '85', ['From fairest creatures we desire increase, Was it the proud full sail of his great verse,'], 413.92]\n",
      "['From fairest creatures we desire increase, Farewell, thou art too dear for my possessing,'] <class 'list'> 1\n"
     ]
    },
    {
     "name": "stderr",
     "output_type": "stream",
     "text": [
      "100%|█████████████████████████████████████████████| 1/1 [00:00<00:00,  1.11it/s]\n"
     ]
    },
    {
     "name": "stdout",
     "output_type": "stream",
     "text": [
      "['0', '86', ['From fairest creatures we desire increase, Farewell, thou art too dear for my possessing,'], 216.33]\n",
      "['From fairest creatures we desire increase, When thou shalt be disposed to set me light'] <class 'list'> 1\n"
     ]
    },
    {
     "name": "stderr",
     "output_type": "stream",
     "text": [
      "100%|█████████████████████████████████████████████| 1/1 [00:00<00:00,  4.02it/s]\n"
     ]
    },
    {
     "name": "stdout",
     "output_type": "stream",
     "text": [
      "['0', '87', ['From fairest creatures we desire increase, When thou shalt be disposed to set me light'], 246.79]\n",
      "['From fairest creatures we desire increase, Say that thou didst forsake me for some fault,'] <class 'list'> 1\n"
     ]
    },
    {
     "name": "stderr",
     "output_type": "stream",
     "text": [
      "100%|█████████████████████████████████████████████| 1/1 [00:00<00:00,  1.87it/s]\n"
     ]
    },
    {
     "name": "stdout",
     "output_type": "stream",
     "text": [
      "['0', '88', ['From fairest creatures we desire increase, Say that thou didst forsake me for some fault,'], 121.71]\n",
      "['From fairest creatures we desire increase, Then hate me when thou wilt, if ever, now,'] <class 'list'> 1\n"
     ]
    },
    {
     "name": "stderr",
     "output_type": "stream",
     "text": [
      "100%|█████████████████████████████████████████████| 1/1 [00:00<00:00,  1.98it/s]\n"
     ]
    },
    {
     "name": "stdout",
     "output_type": "stream",
     "text": [
      "['0', '89', ['From fairest creatures we desire increase, Then hate me when thou wilt, if ever, now,'], 166.0]\n",
      "['From fairest creatures we desire increase, Some glory in their birth, some in their skill,'] <class 'list'> 1\n"
     ]
    },
    {
     "name": "stderr",
     "output_type": "stream",
     "text": [
      "100%|█████████████████████████████████████████████| 1/1 [00:00<00:00,  1.27it/s]\n"
     ]
    },
    {
     "name": "stdout",
     "output_type": "stream",
     "text": [
      "['0', '90', ['From fairest creatures we desire increase, Some glory in their birth, some in their skill,'], 112.51]\n",
      "['From fairest creatures we desire increase, But do thy worst to steal thyself away,'] <class 'list'> 1\n"
     ]
    },
    {
     "name": "stderr",
     "output_type": "stream",
     "text": [
      "100%|█████████████████████████████████████████████| 1/1 [00:00<00:00,  4.32it/s]\n"
     ]
    },
    {
     "name": "stdout",
     "output_type": "stream",
     "text": [
      "['0', '91', ['From fairest creatures we desire increase, But do thy worst to steal thyself away,'], 169.08]\n",
      "['From fairest creatures we desire increase, So shall I live, supposing thou art true,'] <class 'list'> 1\n"
     ]
    },
    {
     "name": "stderr",
     "output_type": "stream",
     "text": [
      "100%|█████████████████████████████████████████████| 1/1 [00:00<00:00,  5.25it/s]\n"
     ]
    },
    {
     "name": "stdout",
     "output_type": "stream",
     "text": [
      "['0', '92', ['From fairest creatures we desire increase, So shall I live, supposing thou art true,'], 120.68]\n",
      "['From fairest creatures we desire increase, They that have power to hurt and will do none,'] <class 'list'> 1\n"
     ]
    },
    {
     "name": "stderr",
     "output_type": "stream",
     "text": [
      "100%|█████████████████████████████████████████████| 1/1 [00:00<00:00,  2.36it/s]\n"
     ]
    },
    {
     "name": "stdout",
     "output_type": "stream",
     "text": [
      "['0', '93', ['From fairest creatures we desire increase, They that have power to hurt and will do none,'], 165.37]\n",
      "['From fairest creatures we desire increase, How sweet and lovely dost thou make the shame'] <class 'list'> 1\n"
     ]
    },
    {
     "name": "stderr",
     "output_type": "stream",
     "text": [
      "100%|█████████████████████████████████████████████| 1/1 [00:00<00:00,  2.89it/s]\n"
     ]
    },
    {
     "name": "stdout",
     "output_type": "stream",
     "text": [
      "['0', '94', ['From fairest creatures we desire increase, How sweet and lovely dost thou make the shame'], 182.2]\n",
      "['From fairest creatures we desire increase, Some say thy fault is youth, some wantonness;'] <class 'list'> 1\n"
     ]
    },
    {
     "name": "stderr",
     "output_type": "stream",
     "text": [
      "100%|█████████████████████████████████████████████| 1/1 [00:00<00:00,  5.53it/s]\n"
     ]
    },
    {
     "name": "stdout",
     "output_type": "stream",
     "text": [
      "['0', '95', ['From fairest creatures we desire increase, Some say thy fault is youth, some wantonness;'], 192.78]\n",
      "['From fairest creatures we desire increase, How like a winter hath my absence been'] <class 'list'> 1\n"
     ]
    },
    {
     "name": "stderr",
     "output_type": "stream",
     "text": [
      "100%|█████████████████████████████████████████████| 1/1 [00:00<00:00, 10.51it/s]\n"
     ]
    },
    {
     "name": "stdout",
     "output_type": "stream",
     "text": [
      "['0', '96', ['From fairest creatures we desire increase, How like a winter hath my absence been'], 475.09]\n",
      "['From fairest creatures we desire increase, From you have I been absent in the spring,'] <class 'list'> 1\n"
     ]
    },
    {
     "name": "stderr",
     "output_type": "stream",
     "text": [
      "100%|█████████████████████████████████████████████| 1/1 [00:00<00:00,  8.99it/s]\n"
     ]
    },
    {
     "name": "stdout",
     "output_type": "stream",
     "text": [
      "['0', '97', ['From fairest creatures we desire increase, From you have I been absent in the spring,'], 223.55]\n",
      "['From fairest creatures we desire increase, The forward violet thus did I chide:'] <class 'list'> 1\n"
     ]
    },
    {
     "name": "stderr",
     "output_type": "stream",
     "text": [
      "100%|█████████████████████████████████████████████| 1/1 [00:00<00:00,  6.22it/s]\n"
     ]
    },
    {
     "name": "stdout",
     "output_type": "stream",
     "text": [
      "['0', '98', ['From fairest creatures we desire increase, The forward violet thus did I chide:'], 558.17]\n",
      "['From fairest creatures we desire increase, Where art thou, muse, that thou forget’st so long'] <class 'list'> 1\n"
     ]
    },
    {
     "name": "stderr",
     "output_type": "stream",
     "text": [
      "100%|█████████████████████████████████████████████| 1/1 [00:00<00:00, 13.48it/s]\n"
     ]
    },
    {
     "name": "stdout",
     "output_type": "stream",
     "text": [
      "['0', '99', ['From fairest creatures we desire increase, Where art thou, muse, that thou forget’st so long'], 124.77]\n",
      "['From fairest creatures we desire increase, O truant muse, what shall be thy amends'] <class 'list'> 1\n"
     ]
    },
    {
     "name": "stderr",
     "output_type": "stream",
     "text": [
      "100%|█████████████████████████████████████████████| 1/1 [00:00<00:00, 13.25it/s]\n"
     ]
    },
    {
     "name": "stdout",
     "output_type": "stream",
     "text": [
      "['0', '100', ['From fairest creatures we desire increase, O truant muse, what shall be thy amends'], 312.25]\n",
      "['From fairest creatures we desire increase, My love is strengthened, though more weak in seeming;'] <class 'list'> 1\n"
     ]
    },
    {
     "name": "stderr",
     "output_type": "stream",
     "text": [
      "100%|█████████████████████████████████████████████| 1/1 [00:00<00:00,  5.46it/s]\n"
     ]
    },
    {
     "name": "stdout",
     "output_type": "stream",
     "text": [
      "['0', '101', ['From fairest creatures we desire increase, My love is strengthened, though more weak in seeming;'], 233.54]\n",
      "['From fairest creatures we desire increase, Alack, what poverty my muse brings forth,'] <class 'list'> 1\n"
     ]
    },
    {
     "name": "stderr",
     "output_type": "stream",
     "text": [
      "100%|█████████████████████████████████████████████| 1/1 [00:00<00:00, 15.18it/s]\n"
     ]
    },
    {
     "name": "stdout",
     "output_type": "stream",
     "text": [
      "['0', '102', ['From fairest creatures we desire increase, Alack, what poverty my muse brings forth,'], 333.48]\n",
      "['From fairest creatures we desire increase, To me, fair friend, you never can be old,'] <class 'list'> 1\n"
     ]
    },
    {
     "name": "stderr",
     "output_type": "stream",
     "text": [
      "100%|█████████████████████████████████████████████| 1/1 [00:00<00:00, 15.30it/s]\n"
     ]
    },
    {
     "name": "stdout",
     "output_type": "stream",
     "text": [
      "['0', '103', ['From fairest creatures we desire increase, To me, fair friend, you never can be old,'], 145.58]\n",
      "['From fairest creatures we desire increase, Let not my love be called idolatry,'] <class 'list'> 1\n"
     ]
    },
    {
     "name": "stderr",
     "output_type": "stream",
     "text": [
      "100%|█████████████████████████████████████████████| 1/1 [00:00<00:00, 14.11it/s]\n"
     ]
    },
    {
     "name": "stdout",
     "output_type": "stream",
     "text": [
      "['0', '104', ['From fairest creatures we desire increase, Let not my love be called idolatry,'], 127.82]\n",
      "['From fairest creatures we desire increase, When in the chronicle of wasted time'] <class 'list'> 1\n"
     ]
    },
    {
     "name": "stderr",
     "output_type": "stream",
     "text": [
      "100%|█████████████████████████████████████████████| 1/1 [00:00<00:00, 13.85it/s]\n"
     ]
    },
    {
     "name": "stdout",
     "output_type": "stream",
     "text": [
      "['0', '105', ['From fairest creatures we desire increase, When in the chronicle of wasted time'], 246.75]\n",
      "['From fairest creatures we desire increase, Not mine own fears nor the prophetic soul'] <class 'list'> 1\n"
     ]
    },
    {
     "name": "stderr",
     "output_type": "stream",
     "text": [
      "100%|█████████████████████████████████████████████| 1/1 [00:00<00:00, 14.97it/s]\n"
     ]
    },
    {
     "name": "stdout",
     "output_type": "stream",
     "text": [
      "['0', '106', ['From fairest creatures we desire increase, Not mine own fears nor the prophetic soul'], 331.96]\n",
      "['From fairest creatures we desire increase, What’s in the brain that ink may character'] <class 'list'> 1\n"
     ]
    },
    {
     "name": "stderr",
     "output_type": "stream",
     "text": [
      "100%|█████████████████████████████████████████████| 1/1 [00:00<00:00, 15.06it/s]\n"
     ]
    },
    {
     "name": "stdout",
     "output_type": "stream",
     "text": [
      "['0', '107', ['From fairest creatures we desire increase, What’s in the brain that ink may character'], 275.38]\n",
      "['From fairest creatures we desire increase, O, never say that I was false of heart,'] <class 'list'> 1\n"
     ]
    },
    {
     "name": "stderr",
     "output_type": "stream",
     "text": [
      "100%|█████████████████████████████████████████████| 1/1 [00:00<00:00, 13.66it/s]\n"
     ]
    },
    {
     "name": "stdout",
     "output_type": "stream",
     "text": [
      "['0', '108', ['From fairest creatures we desire increase, O, never say that I was false of heart,'], 166.48]\n",
      "['From fairest creatures we desire increase, Alas, ’tis true, I have gone here and there'] <class 'list'> 1\n"
     ]
    },
    {
     "name": "stderr",
     "output_type": "stream",
     "text": [
      "100%|█████████████████████████████████████████████| 1/1 [00:00<00:00, 14.05it/s]\n"
     ]
    },
    {
     "name": "stdout",
     "output_type": "stream",
     "text": [
      "['0', '109', ['From fairest creatures we desire increase, Alas, ’tis true, I have gone here and there'], 84.68]\n",
      "['From fairest creatures we desire increase, O, for my sake do you with Fortune chide,'] <class 'list'> 1\n"
     ]
    },
    {
     "name": "stderr",
     "output_type": "stream",
     "text": [
      "100%|█████████████████████████████████████████████| 1/1 [00:00<00:00, 14.26it/s]\n"
     ]
    },
    {
     "name": "stdout",
     "output_type": "stream",
     "text": [
      "['0', '110', ['From fairest creatures we desire increase, O, for my sake do you with Fortune chide,'], 177.43]\n",
      "['From fairest creatures we desire increase, Your love and pity doth th’ impression fill'] <class 'list'> 1\n"
     ]
    },
    {
     "name": "stderr",
     "output_type": "stream",
     "text": [
      "100%|█████████████████████████████████████████████| 1/1 [00:00<00:00, 15.13it/s]\n"
     ]
    },
    {
     "name": "stdout",
     "output_type": "stream",
     "text": [
      "['0', '111', ['From fairest creatures we desire increase, Your love and pity doth th’ impression fill'], 186.06]\n",
      "['From fairest creatures we desire increase, Since I left you, mine eye is in my mind,'] <class 'list'> 1\n"
     ]
    },
    {
     "name": "stderr",
     "output_type": "stream",
     "text": [
      "100%|█████████████████████████████████████████████| 1/1 [00:00<00:00,  7.84it/s]\n"
     ]
    },
    {
     "name": "stdout",
     "output_type": "stream",
     "text": [
      "['0', '112', ['From fairest creatures we desire increase, Since I left you, mine eye is in my mind,'], 155.53]\n",
      "['From fairest creatures we desire increase, Or whether doth my mind, being crowned with you,'] <class 'list'> 1\n"
     ]
    },
    {
     "name": "stderr",
     "output_type": "stream",
     "text": [
      "100%|█████████████████████████████████████████████| 1/1 [00:00<00:00,  8.71it/s]\n"
     ]
    },
    {
     "name": "stdout",
     "output_type": "stream",
     "text": [
      "['0', '113', ['From fairest creatures we desire increase, Or whether doth my mind, being crowned with you,'], 199.64]\n",
      "['From fairest creatures we desire increase, Those lines that I before have writ do lie,'] <class 'list'> 1\n"
     ]
    },
    {
     "name": "stderr",
     "output_type": "stream",
     "text": [
      "100%|█████████████████████████████████████████████| 1/1 [00:00<00:00, 15.18it/s]\n"
     ]
    },
    {
     "name": "stdout",
     "output_type": "stream",
     "text": [
      "['0', '114', ['From fairest creatures we desire increase, Those lines that I before have writ do lie,'], 292.81]\n",
      "['From fairest creatures we desire increase, Let me not to the marriage of true minds'] <class 'list'> 1\n"
     ]
    },
    {
     "name": "stderr",
     "output_type": "stream",
     "text": [
      "100%|█████████████████████████████████████████████| 1/1 [00:00<00:00, 14.94it/s]\n"
     ]
    },
    {
     "name": "stdout",
     "output_type": "stream",
     "text": [
      "['0', '115', ['From fairest creatures we desire increase, Let me not to the marriage of true minds'], 275.93]\n",
      "['From fairest creatures we desire increase, Accuse me thus: that I have scanted all'] <class 'list'> 1\n"
     ]
    },
    {
     "name": "stderr",
     "output_type": "stream",
     "text": [
      "100%|█████████████████████████████████████████████| 1/1 [00:00<00:00, 14.47it/s]\n"
     ]
    },
    {
     "name": "stdout",
     "output_type": "stream",
     "text": [
      "['0', '116', ['From fairest creatures we desire increase, Accuse me thus: that I have scanted all'], 259.5]\n",
      "['From fairest creatures we desire increase, Like as to make our appetites more keen'] <class 'list'> 1\n"
     ]
    },
    {
     "name": "stderr",
     "output_type": "stream",
     "text": [
      "100%|█████████████████████████████████████████████| 1/1 [00:00<00:00, 13.83it/s]\n"
     ]
    },
    {
     "name": "stdout",
     "output_type": "stream",
     "text": [
      "['0', '117', ['From fairest creatures we desire increase, Like as to make our appetites more keen'], 191.71]\n",
      "['From fairest creatures we desire increase, What potions have I drunk of siren tears'] <class 'list'> 1\n"
     ]
    },
    {
     "name": "stderr",
     "output_type": "stream",
     "text": [
      "100%|█████████████████████████████████████████████| 1/1 [00:00<00:00, 12.53it/s]\n"
     ]
    },
    {
     "name": "stdout",
     "output_type": "stream",
     "text": [
      "['0', '118', ['From fairest creatures we desire increase, What potions have I drunk of siren tears'], 734.03]\n",
      "['From fairest creatures we desire increase, That you were once unkind befriends me now,'] <class 'list'> 1\n"
     ]
    },
    {
     "name": "stderr",
     "output_type": "stream",
     "text": [
      "100%|█████████████████████████████████████████████| 1/1 [00:00<00:00, 15.06it/s]\n"
     ]
    },
    {
     "name": "stdout",
     "output_type": "stream",
     "text": [
      "['0', '119', ['From fairest creatures we desire increase, That you were once unkind befriends me now,'], 216.02]\n",
      "['From fairest creatures we desire increase, ’Tis better to be vile than vile esteemed,'] <class 'list'> 1\n"
     ]
    },
    {
     "name": "stderr",
     "output_type": "stream",
     "text": [
      "100%|█████████████████████████████████████████████| 1/1 [00:00<00:00, 14.78it/s]\n"
     ]
    },
    {
     "name": "stdout",
     "output_type": "stream",
     "text": [
      "['0', '120', ['From fairest creatures we desire increase, ’Tis better to be vile than vile esteemed,'], 113.47]\n",
      "['From fairest creatures we desire increase, Thy gift, thy tables, are within my brain'] <class 'list'> 1\n"
     ]
    },
    {
     "name": "stderr",
     "output_type": "stream",
     "text": [
      "100%|█████████████████████████████████████████████| 1/1 [00:00<00:00, 14.76it/s]\n"
     ]
    },
    {
     "name": "stdout",
     "output_type": "stream",
     "text": [
      "['0', '121', ['From fairest creatures we desire increase, Thy gift, thy tables, are within my brain'], 334.85]\n",
      "['From fairest creatures we desire increase, No, Time, thou shalt not boast that I do change.'] <class 'list'> 1\n"
     ]
    },
    {
     "name": "stderr",
     "output_type": "stream",
     "text": [
      "100%|█████████████████████████████████████████████| 1/1 [00:00<00:00,  7.40it/s]\n"
     ]
    },
    {
     "name": "stdout",
     "output_type": "stream",
     "text": [
      "['0', '122', ['From fairest creatures we desire increase, No, Time, thou shalt not boast that I do change.'], 224.44]\n",
      "['From fairest creatures we desire increase, If my dear love were but the child of state,'] <class 'list'> 1\n"
     ]
    },
    {
     "name": "stderr",
     "output_type": "stream",
     "text": [
      "100%|█████████████████████████████████████████████| 1/1 [00:00<00:00, 13.75it/s]\n"
     ]
    },
    {
     "name": "stdout",
     "output_type": "stream",
     "text": [
      "['0', '123', ['From fairest creatures we desire increase, If my dear love were but the child of state,'], 172.61]\n",
      "['From fairest creatures we desire increase, Were ’t aught to me I bore the canopy,'] <class 'list'> 1\n"
     ]
    },
    {
     "name": "stderr",
     "output_type": "stream",
     "text": [
      "100%|█████████████████████████████████████████████| 1/1 [00:00<00:00, 15.00it/s]\n"
     ]
    },
    {
     "name": "stdout",
     "output_type": "stream",
     "text": [
      "['0', '124', ['From fairest creatures we desire increase, Were ’t aught to me I bore the canopy,'], 176.63]\n",
      "['From fairest creatures we desire increase, O thou, my lovely boy, who in thy power'] <class 'list'> 1\n"
     ]
    },
    {
     "name": "stderr",
     "output_type": "stream",
     "text": [
      "100%|█████████████████████████████████████████████| 1/1 [00:00<00:00, 14.41it/s]\n"
     ]
    },
    {
     "name": "stdout",
     "output_type": "stream",
     "text": [
      "['0', '125', ['From fairest creatures we desire increase, O thou, my lovely boy, who in thy power'], 145.72]\n",
      "['From fairest creatures we desire increase, In the old age, black was not counted fair,'] <class 'list'> 1\n"
     ]
    },
    {
     "name": "stderr",
     "output_type": "stream",
     "text": [
      "100%|█████████████████████████████████████████████| 1/1 [00:00<00:00, 14.68it/s]\n"
     ]
    },
    {
     "name": "stdout",
     "output_type": "stream",
     "text": [
      "['0', '126', ['From fairest creatures we desire increase, In the old age, black was not counted fair,'], 249.69]\n",
      "['From fairest creatures we desire increase, How oft, when thou, my music, music play’st'] <class 'list'> 1\n"
     ]
    },
    {
     "name": "stderr",
     "output_type": "stream",
     "text": [
      "100%|█████████████████████████████████████████████| 1/1 [00:00<00:00,  7.34it/s]\n"
     ]
    },
    {
     "name": "stdout",
     "output_type": "stream",
     "text": [
      "['0', '127', ['From fairest creatures we desire increase, How oft, when thou, my music, music play’st'], 114.43]\n",
      "['From fairest creatures we desire increase, Th’ expense of spirit in a waste of shame'] <class 'list'> 1\n"
     ]
    },
    {
     "name": "stderr",
     "output_type": "stream",
     "text": [
      "100%|█████████████████████████████████████████████| 1/1 [00:00<00:00,  4.86it/s]\n"
     ]
    },
    {
     "name": "stdout",
     "output_type": "stream",
     "text": [
      "['0', '128', ['From fairest creatures we desire increase, Th’ expense of spirit in a waste of shame'], 278.11]\n",
      "['From fairest creatures we desire increase, My mistress’ eyes are nothing like the sun;'] <class 'list'> 1\n"
     ]
    },
    {
     "name": "stderr",
     "output_type": "stream",
     "text": [
      "100%|█████████████████████████████████████████████| 1/1 [00:00<00:00,  9.27it/s]\n"
     ]
    },
    {
     "name": "stdout",
     "output_type": "stream",
     "text": [
      "['0', '129', ['From fairest creatures we desire increase, My mistress’ eyes are nothing like the sun;'], 145.42]\n",
      "['From fairest creatures we desire increase, Thou art as tyrannous, so as thou art,'] <class 'list'> 1\n"
     ]
    },
    {
     "name": "stderr",
     "output_type": "stream",
     "text": [
      "100%|█████████████████████████████████████████████| 1/1 [00:00<00:00,  7.25it/s]\n"
     ]
    },
    {
     "name": "stdout",
     "output_type": "stream",
     "text": [
      "['0', '130', ['From fairest creatures we desire increase, Thou art as tyrannous, so as thou art,'], 102.52]\n",
      "['From fairest creatures we desire increase, Thine eyes I love, and they, as pitying me,'] <class 'list'> 1\n"
     ]
    },
    {
     "name": "stderr",
     "output_type": "stream",
     "text": [
      "100%|█████████████████████████████████████████████| 1/1 [00:00<00:00,  7.30it/s]\n"
     ]
    },
    {
     "name": "stdout",
     "output_type": "stream",
     "text": [
      "['0', '131', ['From fairest creatures we desire increase, Thine eyes I love, and they, as pitying me,'], 108.95]\n",
      "['From fairest creatures we desire increase, Beshrew that heart that makes my heart to groan'] <class 'list'> 1\n"
     ]
    },
    {
     "name": "stderr",
     "output_type": "stream",
     "text": [
      "100%|█████████████████████████████████████████████| 1/1 [00:00<00:00, 14.29it/s]\n"
     ]
    },
    {
     "name": "stdout",
     "output_type": "stream",
     "text": [
      "['0', '132', ['From fairest creatures we desire increase, Beshrew that heart that makes my heart to groan'], 162.78]\n",
      "['From fairest creatures we desire increase, So, now I have confessed that he is thine'] <class 'list'> 1\n"
     ]
    },
    {
     "name": "stderr",
     "output_type": "stream",
     "text": [
      "100%|█████████████████████████████████████████████| 1/1 [00:00<00:00, 14.19it/s]\n"
     ]
    },
    {
     "name": "stdout",
     "output_type": "stream",
     "text": [
      "['0', '133', ['From fairest creatures we desire increase, So, now I have confessed that he is thine'], 175.02]\n",
      "['From fairest creatures we desire increase, Whoever hath her wish, thou hast thy will,'] <class 'list'> 1\n"
     ]
    },
    {
     "name": "stderr",
     "output_type": "stream",
     "text": [
      "100%|█████████████████████████████████████████████| 1/1 [00:00<00:00, 13.32it/s]\n"
     ]
    },
    {
     "name": "stdout",
     "output_type": "stream",
     "text": [
      "['0', '134', ['From fairest creatures we desire increase, Whoever hath her wish, thou hast thy will,'], 205.1]\n",
      "['From fairest creatures we desire increase, If thy soul check thee that I come so near,'] <class 'list'> 1\n"
     ]
    },
    {
     "name": "stderr",
     "output_type": "stream",
     "text": [
      "100%|█████████████████████████████████████████████| 1/1 [00:00<00:00, 11.77it/s]\n"
     ]
    },
    {
     "name": "stdout",
     "output_type": "stream",
     "text": [
      "['0', '135', ['From fairest creatures we desire increase, If thy soul check thee that I come so near,'], 244.52]\n",
      "['From fairest creatures we desire increase, Thou blind fool, Love, what dost thou to mine eyes'] <class 'list'> 1\n"
     ]
    },
    {
     "name": "stderr",
     "output_type": "stream",
     "text": [
      "100%|█████████████████████████████████████████████| 1/1 [00:00<00:00, 13.61it/s]\n"
     ]
    },
    {
     "name": "stdout",
     "output_type": "stream",
     "text": [
      "['0', '136', ['From fairest creatures we desire increase, Thou blind fool, Love, what dost thou to mine eyes'], 195.25]\n",
      "['From fairest creatures we desire increase, When my love swears that she is made of truth'] <class 'list'> 1\n"
     ]
    },
    {
     "name": "stderr",
     "output_type": "stream",
     "text": [
      "100%|█████████████████████████████████████████████| 1/1 [00:00<00:00, 14.11it/s]\n"
     ]
    },
    {
     "name": "stdout",
     "output_type": "stream",
     "text": [
      "['0', '137', ['From fairest creatures we desire increase, When my love swears that she is made of truth'], 142.42]\n",
      "['From fairest creatures we desire increase, O, call not me to justify the wrong'] <class 'list'> 1\n"
     ]
    },
    {
     "name": "stderr",
     "output_type": "stream",
     "text": [
      "100%|█████████████████████████████████████████████| 1/1 [00:00<00:00, 14.45it/s]\n"
     ]
    },
    {
     "name": "stdout",
     "output_type": "stream",
     "text": [
      "['0', '138', ['From fairest creatures we desire increase, O, call not me to justify the wrong'], 290.2]\n",
      "['From fairest creatures we desire increase, Be wise as thou art cruel; do not press'] <class 'list'> 1\n"
     ]
    },
    {
     "name": "stderr",
     "output_type": "stream",
     "text": [
      "100%|█████████████████████████████████████████████| 1/1 [00:00<00:00, 14.39it/s]\n"
     ]
    },
    {
     "name": "stdout",
     "output_type": "stream",
     "text": [
      "['0', '139', ['From fairest creatures we desire increase, Be wise as thou art cruel; do not press'], 204.29]\n",
      "['From fairest creatures we desire increase, In faith, I do not love thee with mine eyes,'] <class 'list'> 1\n"
     ]
    },
    {
     "name": "stderr",
     "output_type": "stream",
     "text": [
      "100%|█████████████████████████████████████████████| 1/1 [00:00<00:00, 13.89it/s]\n"
     ]
    },
    {
     "name": "stdout",
     "output_type": "stream",
     "text": [
      "['0', '140', ['From fairest creatures we desire increase, In faith, I do not love thee with mine eyes,'], 101.87]\n",
      "['From fairest creatures we desire increase, Love is my sin, and thy dear virtue hate,'] <class 'list'> 1\n"
     ]
    },
    {
     "name": "stderr",
     "output_type": "stream",
     "text": [
      "100%|█████████████████████████████████████████████| 1/1 [00:00<00:00, 14.03it/s]\n"
     ]
    },
    {
     "name": "stdout",
     "output_type": "stream",
     "text": [
      "['0', '141', ['From fairest creatures we desire increase, Love is my sin, and thy dear virtue hate,'], 261.34]\n",
      "['From fairest creatures we desire increase, Lo, as a careful huswife runs to catch'] <class 'list'> 1\n"
     ]
    },
    {
     "name": "stderr",
     "output_type": "stream",
     "text": [
      "100%|█████████████████████████████████████████████| 1/1 [00:00<00:00, 14.34it/s]\n"
     ]
    },
    {
     "name": "stdout",
     "output_type": "stream",
     "text": [
      "['0', '142', ['From fairest creatures we desire increase, Lo, as a careful huswife runs to catch'], 416.17]\n",
      "['From fairest creatures we desire increase, Two loves I have, of comfort and despair,'] <class 'list'> 1\n"
     ]
    },
    {
     "name": "stderr",
     "output_type": "stream",
     "text": [
      "100%|█████████████████████████████████████████████| 1/1 [00:00<00:00, 13.32it/s]\n"
     ]
    },
    {
     "name": "stdout",
     "output_type": "stream",
     "text": [
      "['0', '143', ['From fairest creatures we desire increase, Two loves I have, of comfort and despair,'], 233.99]\n",
      "['From fairest creatures we desire increase, Those lips that Love’s own hand did make'] <class 'list'> 1\n"
     ]
    },
    {
     "name": "stderr",
     "output_type": "stream",
     "text": [
      "100%|█████████████████████████████████████████████| 1/1 [00:00<00:00, 13.92it/s]\n"
     ]
    },
    {
     "name": "stdout",
     "output_type": "stream",
     "text": [
      "['0', '144', ['From fairest creatures we desire increase, Those lips that Love’s own hand did make'], 273.09]\n",
      "['From fairest creatures we desire increase, Poor soul, the center of my sinful earth,'] <class 'list'> 1\n"
     ]
    },
    {
     "name": "stderr",
     "output_type": "stream",
     "text": [
      "100%|█████████████████████████████████████████████| 1/1 [00:00<00:00, 14.22it/s]\n"
     ]
    },
    {
     "name": "stdout",
     "output_type": "stream",
     "text": [
      "['0', '145', ['From fairest creatures we desire increase, Poor soul, the center of my sinful earth,'], 370.71]\n",
      "['From fairest creatures we desire increase, My love is as a fever, longing still'] <class 'list'> 1\n"
     ]
    },
    {
     "name": "stderr",
     "output_type": "stream",
     "text": [
      "100%|█████████████████████████████████████████████| 1/1 [00:00<00:00, 13.53it/s]\n"
     ]
    },
    {
     "name": "stdout",
     "output_type": "stream",
     "text": [
      "['0', '146', ['From fairest creatures we desire increase, My love is as a fever, longing still'], 318.5]\n",
      "['From fairest creatures we desire increase, O me, what eyes hath love put in my head,'] <class 'list'> 1\n"
     ]
    },
    {
     "name": "stderr",
     "output_type": "stream",
     "text": [
      "100%|█████████████████████████████████████████████| 1/1 [00:00<00:00, 14.38it/s]\n"
     ]
    },
    {
     "name": "stdout",
     "output_type": "stream",
     "text": [
      "['0', '147', ['From fairest creatures we desire increase, O me, what eyes hath love put in my head,'], 187.94]\n",
      "['From fairest creatures we desire increase, Canst thou, O cruel, say I love thee not'] <class 'list'> 1\n"
     ]
    },
    {
     "name": "stderr",
     "output_type": "stream",
     "text": [
      "100%|█████████████████████████████████████████████| 1/1 [00:00<00:00, 14.73it/s]\n"
     ]
    },
    {
     "name": "stdout",
     "output_type": "stream",
     "text": [
      "['0', '148', ['From fairest creatures we desire increase, Canst thou, O cruel, say I love thee not'], 144.23]\n",
      "['From fairest creatures we desire increase, O, from what power hast thou this powerful might'] <class 'list'> 1\n"
     ]
    },
    {
     "name": "stderr",
     "output_type": "stream",
     "text": [
      "100%|█████████████████████████████████████████████| 1/1 [00:00<00:00, 13.43it/s]\n"
     ]
    },
    {
     "name": "stdout",
     "output_type": "stream",
     "text": [
      "['0', '149', ['From fairest creatures we desire increase, O, from what power hast thou this powerful might'], 267.93]\n",
      "['From fairest creatures we desire increase, Love is too young to know what conscience is;'] <class 'list'> 1\n"
     ]
    },
    {
     "name": "stderr",
     "output_type": "stream",
     "text": [
      "100%|█████████████████████████████████████████████| 1/1 [00:00<00:00, 14.02it/s]\n"
     ]
    },
    {
     "name": "stdout",
     "output_type": "stream",
     "text": [
      "['0', '150', ['From fairest creatures we desire increase, Love is too young to know what conscience is;'], 217.32]\n",
      "['From fairest creatures we desire increase, In loving thee thou know’st I am forsworn,'] <class 'list'> 1\n"
     ]
    },
    {
     "name": "stderr",
     "output_type": "stream",
     "text": [
      "100%|█████████████████████████████████████████████| 1/1 [00:00<00:00,  5.30it/s]\n"
     ]
    },
    {
     "name": "stdout",
     "output_type": "stream",
     "text": [
      "['0', '151', ['From fairest creatures we desire increase, In loving thee thou know’st I am forsworn,'], 92.54]\n",
      "['From fairest creatures we desire increase, Cupid laid by his brand and fell asleep.'] <class 'list'> 1\n"
     ]
    },
    {
     "name": "stderr",
     "output_type": "stream",
     "text": [
      "100%|█████████████████████████████████████████████| 1/1 [00:00<00:00,  6.86it/s]\n"
     ]
    },
    {
     "name": "stdout",
     "output_type": "stream",
     "text": [
      "['0', '152', ['From fairest creatures we desire increase, Cupid laid by his brand and fell asleep.'], 340.61]\n",
      "['From fairest creatures we desire increase, The little love-god, lying once asleep,'] <class 'list'> 1\n"
     ]
    },
    {
     "name": "stderr",
     "output_type": "stream",
     "text": [
      "100%|█████████████████████████████████████████████| 1/1 [00:00<00:00,  9.23it/s]\n"
     ]
    },
    {
     "name": "stdout",
     "output_type": "stream",
     "text": [
      "['0', '153', ['From fairest creatures we desire increase, The little love-god, lying once asleep,'], 311.97]\n",
      "['When forty winters shall besiege thy brow From fairest creatures we desire increase,'] <class 'list'> 1\n"
     ]
    },
    {
     "ename": "KeyboardInterrupt",
     "evalue": "",
     "output_type": "error",
     "traceback": [
      "\u001b[0;31m---------------------------------------------------------------------------\u001b[0m",
      "\u001b[0;31mKeyboardInterrupt\u001b[0m                         Traceback (most recent call last)",
      "Cell \u001b[0;32mIn[8], line 22\u001b[0m\n\u001b[1;32m     20\u001b[0m \u001b[38;5;28mprint\u001b[39m(test_line, \u001b[38;5;28mtype\u001b[39m(test_line), \u001b[38;5;28mlen\u001b[39m(test_line))\n\u001b[1;32m     21\u001b[0m perplexity \u001b[38;5;241m=\u001b[39m evaluate\u001b[38;5;241m.\u001b[39mload(\u001b[38;5;124m\"\u001b[39m\u001b[38;5;124mperplexity\u001b[39m\u001b[38;5;124m\"\u001b[39m, module_type\u001b[38;5;241m=\u001b[39m\u001b[38;5;124m\"\u001b[39m\u001b[38;5;124mmetric\u001b[39m\u001b[38;5;124m\"\u001b[39m)\n\u001b[0;32m---> 22\u001b[0m results \u001b[38;5;241m=\u001b[39m \u001b[43mperplexity\u001b[49m\u001b[38;5;241;43m.\u001b[39;49m\u001b[43mcompute\u001b[49m\u001b[43m(\u001b[49m\u001b[43mmodel_id\u001b[49m\u001b[38;5;241;43m=\u001b[39;49m\u001b[38;5;124;43m'\u001b[39;49m\u001b[38;5;124;43msadia72/gpt2-shakespeare\u001b[39;49m\u001b[38;5;124;43m'\u001b[39;49m\u001b[43m,\u001b[49m\n\u001b[1;32m     23\u001b[0m \u001b[43m\u001b[49m\u001b[38;5;66;43;03m#results = perplexity.compute(model_id='openai-community/gpt2-medium',\u001b[39;49;00m\n\u001b[1;32m     24\u001b[0m \u001b[43m                 \u001b[49m\u001b[43madd_start_token\u001b[49m\u001b[38;5;241;43m=\u001b[39;49m\u001b[38;5;28;43;01mFalse\u001b[39;49;00m\u001b[43m,\u001b[49m\n\u001b[1;32m     25\u001b[0m \u001b[43m                 \u001b[49m\u001b[43mpredictions\u001b[49m\u001b[38;5;241;43m=\u001b[39;49m\u001b[43mtest_line\u001b[49m\u001b[43m)\u001b[49m\n\u001b[1;32m     26\u001b[0m result \u001b[38;5;241m=\u001b[39m \u001b[38;5;28mround\u001b[39m(results[\u001b[38;5;124m'\u001b[39m\u001b[38;5;124mmean_perplexity\u001b[39m\u001b[38;5;124m'\u001b[39m], \u001b[38;5;241m2\u001b[39m)\n\u001b[1;32m     27\u001b[0m dog \u001b[38;5;241m=\u001b[39m re\u001b[38;5;241m.\u001b[39msearch(\u001b[38;5;124mr\u001b[39m\u001b[38;5;124m'\u001b[39m\u001b[38;5;124m^[0-9]\u001b[39m\u001b[38;5;124m{\u001b[39m\u001b[38;5;124m0,3}\u001b[39m\u001b[38;5;124m'\u001b[39m,i)\n",
      "File \u001b[0;32m~/Library/Python/3.9/lib/python/site-packages/evaluate/module.py:455\u001b[0m, in \u001b[0;36mEvaluationModule.compute\u001b[0;34m(self, predictions, references, **kwargs)\u001b[0m\n\u001b[1;32m    452\u001b[0m compute_kwargs \u001b[38;5;241m=\u001b[39m {k: kwargs[k] \u001b[38;5;28;01mfor\u001b[39;00m k \u001b[38;5;129;01min\u001b[39;00m kwargs \u001b[38;5;28;01mif\u001b[39;00m k \u001b[38;5;129;01mnot\u001b[39;00m \u001b[38;5;129;01min\u001b[39;00m \u001b[38;5;28mself\u001b[39m\u001b[38;5;241m.\u001b[39m_feature_names()}\n\u001b[1;32m    454\u001b[0m \u001b[38;5;28;01mif\u001b[39;00m \u001b[38;5;28many\u001b[39m(v \u001b[38;5;129;01mis\u001b[39;00m \u001b[38;5;129;01mnot\u001b[39;00m \u001b[38;5;28;01mNone\u001b[39;00m \u001b[38;5;28;01mfor\u001b[39;00m v \u001b[38;5;129;01min\u001b[39;00m inputs\u001b[38;5;241m.\u001b[39mvalues()):\n\u001b[0;32m--> 455\u001b[0m     \u001b[38;5;28;43mself\u001b[39;49m\u001b[38;5;241;43m.\u001b[39;49m\u001b[43madd_batch\u001b[49m\u001b[43m(\u001b[49m\u001b[38;5;241;43m*\u001b[39;49m\u001b[38;5;241;43m*\u001b[39;49m\u001b[43minputs\u001b[49m\u001b[43m)\u001b[49m\n\u001b[1;32m    456\u001b[0m \u001b[38;5;28mself\u001b[39m\u001b[38;5;241m.\u001b[39m_finalize()\n\u001b[1;32m    458\u001b[0m \u001b[38;5;28mself\u001b[39m\u001b[38;5;241m.\u001b[39mcache_file_name \u001b[38;5;241m=\u001b[39m \u001b[38;5;28;01mNone\u001b[39;00m\n",
      "File \u001b[0;32m~/Library/Python/3.9/lib/python/site-packages/evaluate/module.py:515\u001b[0m, in \u001b[0;36mEvaluationModule.add_batch\u001b[0;34m(self, predictions, references, **kwargs)\u001b[0m\n\u001b[1;32m    513\u001b[0m \u001b[38;5;28;01mif\u001b[39;00m \u001b[38;5;28mself\u001b[39m\u001b[38;5;241m.\u001b[39mwriter \u001b[38;5;129;01mis\u001b[39;00m \u001b[38;5;28;01mNone\u001b[39;00m:\n\u001b[1;32m    514\u001b[0m     \u001b[38;5;28mself\u001b[39m\u001b[38;5;241m.\u001b[39mselected_feature_format \u001b[38;5;241m=\u001b[39m \u001b[38;5;28mself\u001b[39m\u001b[38;5;241m.\u001b[39m_infer_feature_from_batch(batch)\n\u001b[0;32m--> 515\u001b[0m     \u001b[38;5;28;43mself\u001b[39;49m\u001b[38;5;241;43m.\u001b[39;49m\u001b[43m_init_writer\u001b[49m\u001b[43m(\u001b[49m\u001b[43m)\u001b[49m\n\u001b[1;32m    516\u001b[0m \u001b[38;5;28;01mtry\u001b[39;00m:\n\u001b[1;32m    517\u001b[0m     \u001b[38;5;28;01mfor\u001b[39;00m key, column \u001b[38;5;129;01min\u001b[39;00m batch\u001b[38;5;241m.\u001b[39mitems():\n",
      "File \u001b[0;32m~/Library/Python/3.9/lib/python/site-packages/evaluate/module.py:649\u001b[0m, in \u001b[0;36mEvaluationModule._init_writer\u001b[0;34m(self, timeout)\u001b[0m\n\u001b[1;32m    647\u001b[0m \u001b[38;5;66;03m# Get cache file name and lock it\u001b[39;00m\n\u001b[1;32m    648\u001b[0m \u001b[38;5;28;01mif\u001b[39;00m \u001b[38;5;28mself\u001b[39m\u001b[38;5;241m.\u001b[39mcache_file_name \u001b[38;5;129;01mis\u001b[39;00m \u001b[38;5;28;01mNone\u001b[39;00m \u001b[38;5;129;01mor\u001b[39;00m \u001b[38;5;28mself\u001b[39m\u001b[38;5;241m.\u001b[39mfilelock \u001b[38;5;129;01mis\u001b[39;00m \u001b[38;5;28;01mNone\u001b[39;00m:\n\u001b[0;32m--> 649\u001b[0m     cache_file_name, filelock \u001b[38;5;241m=\u001b[39m \u001b[38;5;28;43mself\u001b[39;49m\u001b[38;5;241;43m.\u001b[39;49m\u001b[43m_create_cache_file\u001b[49m\u001b[43m(\u001b[49m\u001b[43m)\u001b[49m  \u001b[38;5;66;03m# get ready\u001b[39;00m\n\u001b[1;32m    650\u001b[0m     \u001b[38;5;28mself\u001b[39m\u001b[38;5;241m.\u001b[39mcache_file_name \u001b[38;5;241m=\u001b[39m cache_file_name\n\u001b[1;32m    651\u001b[0m     \u001b[38;5;28mself\u001b[39m\u001b[38;5;241m.\u001b[39mfilelock \u001b[38;5;241m=\u001b[39m filelock\n",
      "File \u001b[0;32m~/Library/Python/3.9/lib/python/site-packages/evaluate/module.py:284\u001b[0m, in \u001b[0;36mEvaluationModule._create_cache_file\u001b[0;34m(self, timeout)\u001b[0m\n\u001b[1;32m    282\u001b[0m filelock \u001b[38;5;241m=\u001b[39m FileLock(file_path \u001b[38;5;241m+\u001b[39m \u001b[38;5;124m\"\u001b[39m\u001b[38;5;124m.lock\u001b[39m\u001b[38;5;124m\"\u001b[39m)\n\u001b[1;32m    283\u001b[0m \u001b[38;5;28;01mtry\u001b[39;00m:\n\u001b[0;32m--> 284\u001b[0m     \u001b[43mfilelock\u001b[49m\u001b[38;5;241;43m.\u001b[39;49m\u001b[43macquire\u001b[49m\u001b[43m(\u001b[49m\u001b[43mtimeout\u001b[49m\u001b[38;5;241;43m=\u001b[39;49m\u001b[43mtimeout\u001b[49m\u001b[43m)\u001b[49m\n\u001b[1;32m    285\u001b[0m \u001b[38;5;28;01mexcept\u001b[39;00m Timeout:\n\u001b[1;32m    286\u001b[0m     \u001b[38;5;66;03m# If we have reached the max number of attempts or we are not allow to find a free name (distributed setup)\u001b[39;00m\n\u001b[1;32m    287\u001b[0m     \u001b[38;5;66;03m# We raise an error\u001b[39;00m\n\u001b[1;32m    288\u001b[0m     \u001b[38;5;28;01mif\u001b[39;00m \u001b[38;5;28mself\u001b[39m\u001b[38;5;241m.\u001b[39mnum_process \u001b[38;5;241m!=\u001b[39m \u001b[38;5;241m1\u001b[39m:\n",
      "File \u001b[0;32m~/Library/Python/3.9/lib/python/site-packages/filelock/_api.py:344\u001b[0m, in \u001b[0;36mBaseFileLock.acquire\u001b[0;34m(self, timeout, poll_interval, poll_intervall, blocking)\u001b[0m\n\u001b[1;32m    342\u001b[0m         msg \u001b[38;5;241m=\u001b[39m \u001b[38;5;124m\"\u001b[39m\u001b[38;5;124mLock \u001b[39m\u001b[38;5;132;01m%s\u001b[39;00m\u001b[38;5;124m not acquired on \u001b[39m\u001b[38;5;132;01m%s\u001b[39;00m\u001b[38;5;124m, waiting \u001b[39m\u001b[38;5;132;01m%s\u001b[39;00m\u001b[38;5;124m seconds ...\u001b[39m\u001b[38;5;124m\"\u001b[39m\n\u001b[1;32m    343\u001b[0m         _LOGGER\u001b[38;5;241m.\u001b[39mdebug(msg, lock_id, lock_filename, poll_interval)\n\u001b[0;32m--> 344\u001b[0m         \u001b[43mtime\u001b[49m\u001b[38;5;241;43m.\u001b[39;49m\u001b[43msleep\u001b[49m\u001b[43m(\u001b[49m\u001b[43mpoll_interval\u001b[49m\u001b[43m)\u001b[49m\n\u001b[1;32m    345\u001b[0m \u001b[38;5;28;01mexcept\u001b[39;00m \u001b[38;5;167;01mBaseException\u001b[39;00m:  \u001b[38;5;66;03m# Something did go wrong, so decrement the counter.\u001b[39;00m\n\u001b[1;32m    346\u001b[0m     \u001b[38;5;28mself\u001b[39m\u001b[38;5;241m.\u001b[39m_context\u001b[38;5;241m.\u001b[39mlock_counter \u001b[38;5;241m=\u001b[39m \u001b[38;5;28mmax\u001b[39m(\u001b[38;5;241m0\u001b[39m, \u001b[38;5;28mself\u001b[39m\u001b[38;5;241m.\u001b[39m_context\u001b[38;5;241m.\u001b[39mlock_counter \u001b[38;5;241m-\u001b[39m \u001b[38;5;241m1\u001b[39m)\n",
      "\u001b[0;31mKeyboardInterrupt\u001b[0m: "
     ]
    }
   ],
   "source": [
    "# THIS SNIPPET PAIRS FIRST LINES AND CALCULATES THEIR PERPLEXITY SCORE\n",
    "# REPLACING ABOVE SNIPPET\n",
    "\n",
    "for i in testcol_list:\n",
    "    for n in range(len(testcol_list)):\n",
    "        perpl_out = []\n",
    "        if i != testcol_list[n]:\n",
    "            '''\n",
    "            THIS IS FOR MAKING A LIST OF TWO ITEMS\n",
    "            test_line = []\n",
    "            nonumb = re.sub(r'^[0-9]{0,3}\\s','',i)\n",
    "            test_line.append(nonumb)\n",
    "            nonumb = re.sub(r'^[0-9]{0,3}\\s','',testcol_list[n])\n",
    "            test_line.append(nonumb)\n",
    "            '''\n",
    "            #THIS ONE IS FOR MAKING A LIST OF ONE\n",
    "            test_line = re.sub(r'^[0-9]{0,3}\\s','',i) + re.sub(r'^[0-9]{0,3}','',testcol_list[n])\n",
    "            test_line = [test_line]\n",
    "            #prints the two lines together without the numbers\n",
    "            print(test_line, type(test_line), len(test_line))\n",
    "            perplexity = evaluate.load(\"perplexity\", module_type=\"metric\")\n",
    "            results = perplexity.compute(model_id='sadia72/gpt2-shakespeare',\n",
    "            #results = perplexity.compute(model_id='openai-community/gpt2-medium',\n",
    "                             add_start_token=False,\n",
    "                             predictions=test_line)\n",
    "            result = round(results['mean_perplexity'], 2)\n",
    "            dog = re.search(r'^[0-9]{0,3}',i)\n",
    "            #gets the number of the first line\n",
    "            cat = re.search(r'^[0-9]{0,3}',testcol_list[n])\n",
    "            #gets the number of the second line\n",
    "            perpl_out.append(dog.group(0))\n",
    "            perpl_out.append(cat.group(0))\n",
    "            perpl_out.append(test_line)\n",
    "            perpl_out.append(result)\n",
    "            print(perpl_out)\n",
    "            with open('sonnet_perplexity_final_trial.csv','a') as file:\n",
    "                writer = csv.writer(file)\n",
    "                writer.writerow(perpl_out)\n",
    "        else:\n",
    "            continue\n",
    "        '''\n",
    "        PUT BACK IF THE MOVE TO THE PREVIOUS PART OF THE LOOP DOESN'T WORK\n",
    "        perpl_out.append(dog.group(0))\n",
    "        perpl_out.append(cat.group(0))\n",
    "        perpl_out.append(test_line)\n",
    "        perpl_out.append(result)\n",
    "        print(perpl_out)\n",
    "        with open('sonnet_perplexity.csv','a') as file:\n",
    "            writer = csv.writer(file)\n",
    "            writer.writerow(perpl_out)\n",
    "        '''"
   ]
  },
  {
   "cell_type": "code",
   "execution_count": 7,
   "id": "5dc604d2-6c94-4b3f-a05b-fd69538ed9aa",
   "metadata": {
    "scrolled": true
   },
   "outputs": [
    {
     "name": "stdout",
     "output_type": "stream",
     "text": [
      "['From fairest creatures we desire increase, When forty winters shall besiege thy brow'] <class 'list'> 1\n"
     ]
    },
    {
     "name": "stderr",
     "output_type": "stream",
     "text": [
      "100%|█████████████████████████████████████████████| 1/1 [00:01<00:00,  1.19s/it]\n"
     ]
    },
    {
     "name": "stdout",
     "output_type": "stream",
     "text": [
      "['Iacopo', '0', '1', ['From fairest creatures we desire increase, When forty winters shall besiege thy brow'], 464.05]\n"
     ]
    },
    {
     "name": "stderr",
     "output_type": "stream",
     "text": [
      "100%|█████████████████████████████████████████████| 1/1 [00:00<00:00,  1.01it/s]\n"
     ]
    },
    {
     "name": "stdout",
     "output_type": "stream",
     "text": [
      "['sadia72', '0', '1', ['From fairest creatures we desire increase, When forty winters shall besiege thy brow'], 476.65]\n",
      "['From fairest creatures we desire increase, Look in thy glass and tell the face thou viewest'] <class 'list'> 1\n"
     ]
    },
    {
     "name": "stderr",
     "output_type": "stream",
     "text": [
      "100%|█████████████████████████████████████████████| 1/1 [00:01<00:00,  1.23s/it]\n"
     ]
    },
    {
     "name": "stdout",
     "output_type": "stream",
     "text": [
      "['Iacopo', '0', '2', ['From fairest creatures we desire increase, Look in thy glass and tell the face thou viewest'], 291.5]\n"
     ]
    },
    {
     "name": "stderr",
     "output_type": "stream",
     "text": [
      "100%|█████████████████████████████████████████████| 1/1 [00:00<00:00,  1.02it/s]\n"
     ]
    },
    {
     "name": "stdout",
     "output_type": "stream",
     "text": [
      "['sadia72', '0', '2', ['From fairest creatures we desire increase, Look in thy glass and tell the face thou viewest'], 319.38]\n",
      "['From fairest creatures we desire increase, Unthrifty loveliness, why dost thou spend'] <class 'list'> 1\n"
     ]
    },
    {
     "name": "stderr",
     "output_type": "stream",
     "text": [
      "100%|█████████████████████████████████████████████| 1/1 [00:00<00:00,  1.15it/s]\n"
     ]
    },
    {
     "name": "stdout",
     "output_type": "stream",
     "text": [
      "['Iacopo', '0', '3', ['From fairest creatures we desire increase, Unthrifty loveliness, why dost thou spend'], 169.63]\n"
     ]
    },
    {
     "name": "stderr",
     "output_type": "stream",
     "text": [
      "100%|█████████████████████████████████████████████| 1/1 [00:00<00:00,  6.63it/s]\n"
     ]
    },
    {
     "name": "stdout",
     "output_type": "stream",
     "text": [
      "['sadia72', '0', '3', ['From fairest creatures we desire increase, Unthrifty loveliness, why dost thou spend'], 158.03]\n",
      "['From fairest creatures we desire increase, Those hours that with gentle work did frame'] <class 'list'> 1\n"
     ]
    },
    {
     "name": "stderr",
     "output_type": "stream",
     "text": [
      "100%|█████████████████████████████████████████████| 1/1 [00:00<00:00,  9.89it/s]\n"
     ]
    },
    {
     "name": "stdout",
     "output_type": "stream",
     "text": [
      "['Iacopo', '0', '4', ['From fairest creatures we desire increase, Those hours that with gentle work did frame'], 964.14]\n"
     ]
    },
    {
     "name": "stderr",
     "output_type": "stream",
     "text": [
      "100%|█████████████████████████████████████████████| 1/1 [00:01<00:00,  1.01s/it]\n"
     ]
    },
    {
     "name": "stdout",
     "output_type": "stream",
     "text": [
      "['sadia72', '0', '4', ['From fairest creatures we desire increase, Those hours that with gentle work did frame'], 834.14]\n",
      "['From fairest creatures we desire increase, Then let not winter’s ragged hand deface'] <class 'list'> 1\n"
     ]
    },
    {
     "name": "stderr",
     "output_type": "stream",
     "text": [
      "100%|█████████████████████████████████████████████| 1/1 [00:00<00:00,  1.52it/s]\n"
     ]
    },
    {
     "name": "stdout",
     "output_type": "stream",
     "text": [
      "['Iacopo', '0', '5', ['From fairest creatures we desire increase, Then let not winter’s ragged hand deface'], 961.38]\n"
     ]
    },
    {
     "name": "stderr",
     "output_type": "stream",
     "text": [
      "100%|█████████████████████████████████████████████| 1/1 [00:00<00:00,  6.51it/s]\n"
     ]
    },
    {
     "name": "stdout",
     "output_type": "stream",
     "text": [
      "['sadia72', '0', '5', ['From fairest creatures we desire increase, Then let not winter’s ragged hand deface'], 203.99]\n",
      "['From fairest creatures we desire increase, Lo, in the orient when the gracious light'] <class 'list'> 1\n"
     ]
    },
    {
     "name": "stderr",
     "output_type": "stream",
     "text": [
      "100%|█████████████████████████████████████████████| 1/1 [00:00<00:00,  3.00it/s]\n"
     ]
    },
    {
     "name": "stdout",
     "output_type": "stream",
     "text": [
      "['Iacopo', '0', '6', ['From fairest creatures we desire increase, Lo, in the orient when the gracious light'], 515.2]\n"
     ]
    },
    {
     "name": "stderr",
     "output_type": "stream",
     "text": [
      "100%|█████████████████████████████████████████████| 1/1 [00:01<00:00,  1.02s/it]\n"
     ]
    },
    {
     "name": "stdout",
     "output_type": "stream",
     "text": [
      "['sadia72', '0', '6', ['From fairest creatures we desire increase, Lo, in the orient when the gracious light'], 453.58]\n",
      "['From fairest creatures we desire increase, Music to hear, why hear’st thou music sadly?'] <class 'list'> 1\n"
     ]
    },
    {
     "name": "stderr",
     "output_type": "stream",
     "text": [
      "100%|█████████████████████████████████████████████| 1/1 [00:01<00:00,  1.01s/it]\n"
     ]
    },
    {
     "name": "stdout",
     "output_type": "stream",
     "text": [
      "['Iacopo', '0', '7', ['From fairest creatures we desire increase, Music to hear, why hear’st thou music sadly?'], 1066.51]\n"
     ]
    },
    {
     "name": "stderr",
     "output_type": "stream",
     "text": [
      "100%|█████████████████████████████████████████████| 1/1 [00:00<00:00,  1.03it/s]\n"
     ]
    },
    {
     "name": "stdout",
     "output_type": "stream",
     "text": [
      "['sadia72', '0', '7', ['From fairest creatures we desire increase, Music to hear, why hear’st thou music sadly?'], 273.96]\n",
      "['From fairest creatures we desire increase, Is it for fear to wet a widow’s eye'] <class 'list'> 1\n"
     ]
    },
    {
     "name": "stderr",
     "output_type": "stream",
     "text": [
      "100%|█████████████████████████████████████████████| 1/1 [00:00<00:00,  3.37it/s]\n"
     ]
    },
    {
     "name": "stdout",
     "output_type": "stream",
     "text": [
      "['Iacopo', '0', '8', ['From fairest creatures we desire increase, Is it for fear to wet a widow’s eye'], 816.22]\n"
     ]
    },
    {
     "name": "stderr",
     "output_type": "stream",
     "text": [
      "100%|█████████████████████████████████████████████| 1/1 [00:00<00:00,  8.56it/s]\n"
     ]
    },
    {
     "name": "stdout",
     "output_type": "stream",
     "text": [
      "['sadia72', '0', '8', ['From fairest creatures we desire increase, Is it for fear to wet a widow’s eye'], 194.32]\n",
      "['From fairest creatures we desire increase, For shame deny that thou bear’st love to any,'] <class 'list'> 1\n"
     ]
    },
    {
     "name": "stderr",
     "output_type": "stream",
     "text": [
      "100%|█████████████████████████████████████████████| 1/1 [00:00<00:00,  2.05it/s]\n"
     ]
    },
    {
     "name": "stdout",
     "output_type": "stream",
     "text": [
      "['Iacopo', '0', '9', ['From fairest creatures we desire increase, For shame deny that thou bear’st love to any,'], 721.03]\n"
     ]
    },
    {
     "name": "stderr",
     "output_type": "stream",
     "text": [
      "100%|█████████████████████████████████████████████| 1/1 [00:01<00:00,  1.05s/it]\n"
     ]
    },
    {
     "name": "stdout",
     "output_type": "stream",
     "text": [
      "['sadia72', '0', '9', ['From fairest creatures we desire increase, For shame deny that thou bear’st love to any,'], 184.43]\n",
      "['From fairest creatures we desire increase, As fast as thou shalt wane, so fast thou grow’st'] <class 'list'> 1\n"
     ]
    },
    {
     "name": "stderr",
     "output_type": "stream",
     "text": [
      "100%|█████████████████████████████████████████████| 1/1 [00:00<00:00,  1.54it/s]\n"
     ]
    },
    {
     "name": "stdout",
     "output_type": "stream",
     "text": [
      "['Iacopo', '0', '10', ['From fairest creatures we desire increase, As fast as thou shalt wane, so fast thou grow’st'], 453.12]\n"
     ]
    },
    {
     "name": "stderr",
     "output_type": "stream",
     "text": [
      "100%|█████████████████████████████████████████████| 1/1 [00:00<00:00,  1.03it/s]\n"
     ]
    },
    {
     "name": "stdout",
     "output_type": "stream",
     "text": [
      "['sadia72', '0', '10', ['From fairest creatures we desire increase, As fast as thou shalt wane, so fast thou grow’st'], 122.0]\n",
      "['From fairest creatures we desire increase, When I do count the clock that tells the time'] <class 'list'> 1\n"
     ]
    },
    {
     "name": "stderr",
     "output_type": "stream",
     "text": [
      "100%|█████████████████████████████████████████████| 1/1 [00:00<00:00,  1.05it/s]\n"
     ]
    },
    {
     "name": "stdout",
     "output_type": "stream",
     "text": [
      "['Iacopo', '0', '11', ['From fairest creatures we desire increase, When I do count the clock that tells the time'], 352.75]\n"
     ]
    },
    {
     "name": "stderr",
     "output_type": "stream",
     "text": [
      "100%|█████████████████████████████████████████████| 1/1 [00:01<00:00,  1.16s/it]\n"
     ]
    },
    {
     "name": "stdout",
     "output_type": "stream",
     "text": [
      "['sadia72', '0', '11', ['From fairest creatures we desire increase, When I do count the clock that tells the time'], 269.69]\n",
      "['From fairest creatures we desire increase, O, that you were your self! But, love, you are'] <class 'list'> 1\n"
     ]
    },
    {
     "name": "stderr",
     "output_type": "stream",
     "text": [
      "100%|█████████████████████████████████████████████| 1/1 [00:01<00:00,  1.04s/it]\n"
     ]
    },
    {
     "name": "stdout",
     "output_type": "stream",
     "text": [
      "['Iacopo', '0', '12', ['From fairest creatures we desire increase, O, that you were your self! But, love, you are'], 153.25]\n"
     ]
    },
    {
     "name": "stderr",
     "output_type": "stream",
     "text": [
      "100%|█████████████████████████████████████████████| 1/1 [00:00<00:00,  1.61it/s]\n"
     ]
    },
    {
     "name": "stdout",
     "output_type": "stream",
     "text": [
      "['sadia72', '0', '12', ['From fairest creatures we desire increase, O, that you were your self! But, love, you are'], 232.16]\n",
      "['From fairest creatures we desire increase, Not from the stars do I my judgment pluck,'] <class 'list'> 1\n"
     ]
    },
    {
     "name": "stderr",
     "output_type": "stream",
     "text": [
      "100%|█████████████████████████████████████████████| 1/1 [00:00<00:00,  9.51it/s]\n"
     ]
    },
    {
     "name": "stdout",
     "output_type": "stream",
     "text": [
      "['Iacopo', '0', '13', ['From fairest creatures we desire increase, Not from the stars do I my judgment pluck,'], 339.26]\n"
     ]
    },
    {
     "name": "stderr",
     "output_type": "stream",
     "text": [
      "100%|█████████████████████████████████████████████| 1/1 [00:00<00:00,  2.45it/s]\n"
     ]
    },
    {
     "name": "stdout",
     "output_type": "stream",
     "text": [
      "['sadia72', '0', '13', ['From fairest creatures we desire increase, Not from the stars do I my judgment pluck,'], 307.19]\n",
      "['From fairest creatures we desire increase, When I consider everything that grows'] <class 'list'> 1\n"
     ]
    },
    {
     "name": "stderr",
     "output_type": "stream",
     "text": [
      "100%|█████████████████████████████████████████████| 1/1 [00:00<00:00,  1.44it/s]\n"
     ]
    },
    {
     "name": "stdout",
     "output_type": "stream",
     "text": [
      "['Iacopo', '0', '14', ['From fairest creatures we desire increase, When I consider everything that grows'], 617.99]\n"
     ]
    },
    {
     "name": "stderr",
     "output_type": "stream",
     "text": [
      "100%|█████████████████████████████████████████████| 1/1 [00:00<00:00,  9.66it/s]\n"
     ]
    },
    {
     "name": "stdout",
     "output_type": "stream",
     "text": [
      "['sadia72', '0', '14', ['From fairest creatures we desire increase, When I consider everything that grows'], 538.55]\n",
      "['From fairest creatures we desire increase, But wherefore do not you a mightier way'] <class 'list'> 1\n"
     ]
    },
    {
     "name": "stderr",
     "output_type": "stream",
     "text": [
      "100%|█████████████████████████████████████████████| 1/1 [00:00<00:00,  2.39it/s]\n"
     ]
    },
    {
     "name": "stdout",
     "output_type": "stream",
     "text": [
      "['Iacopo', '0', '15', ['From fairest creatures we desire increase, But wherefore do not you a mightier way'], 284.77]\n"
     ]
    },
    {
     "name": "stderr",
     "output_type": "stream",
     "text": [
      "100%|█████████████████████████████████████████████| 1/1 [00:00<00:00,  4.15it/s]\n"
     ]
    },
    {
     "name": "stdout",
     "output_type": "stream",
     "text": [
      "['sadia72', '0', '15', ['From fairest creatures we desire increase, But wherefore do not you a mightier way'], 253.62]\n",
      "['From fairest creatures we desire increase, Who will believe my verse in time to come'] <class 'list'> 1\n"
     ]
    },
    {
     "name": "stderr",
     "output_type": "stream",
     "text": [
      "100%|█████████████████████████████████████████████| 1/1 [00:00<00:00,  9.17it/s]\n"
     ]
    },
    {
     "name": "stdout",
     "output_type": "stream",
     "text": [
      "['Iacopo', '0', '16', ['From fairest creatures we desire increase, Who will believe my verse in time to come'], 377.63]\n"
     ]
    },
    {
     "name": "stderr",
     "output_type": "stream",
     "text": [
      "100%|█████████████████████████████████████████████| 1/1 [00:00<00:00,  1.01it/s]\n"
     ]
    },
    {
     "name": "stdout",
     "output_type": "stream",
     "text": [
      "['sadia72', '0', '16', ['From fairest creatures we desire increase, Who will believe my verse in time to come'], 438.32]\n",
      "['From fairest creatures we desire increase, Shall I compare thee to a summer’s day?'] <class 'list'> 1\n"
     ]
    },
    {
     "name": "stderr",
     "output_type": "stream",
     "text": [
      "100%|█████████████████████████████████████████████| 1/1 [00:01<00:00,  1.13s/it]\n"
     ]
    },
    {
     "name": "stdout",
     "output_type": "stream",
     "text": [
      "['Iacopo', '0', '17', ['From fairest creatures we desire increase, Shall I compare thee to a summer’s day?'], 643.66]\n"
     ]
    },
    {
     "name": "stderr",
     "output_type": "stream",
     "text": [
      "100%|█████████████████████████████████████████████| 1/1 [00:00<00:00,  3.44it/s]\n"
     ]
    },
    {
     "name": "stdout",
     "output_type": "stream",
     "text": [
      "['sadia72', '0', '17', ['From fairest creatures we desire increase, Shall I compare thee to a summer’s day?'], 167.59]\n",
      "['From fairest creatures we desire increase, Devouring Time, blunt thou the lion’s paws'] <class 'list'> 1\n"
     ]
    },
    {
     "name": "stderr",
     "output_type": "stream",
     "text": [
      "100%|█████████████████████████████████████████████| 1/1 [00:00<00:00,  9.58it/s]\n"
     ]
    },
    {
     "name": "stdout",
     "output_type": "stream",
     "text": [
      "['Iacopo', '0', '18', ['From fairest creatures we desire increase, Devouring Time, blunt thou the lion’s paws'], 1328.2]\n"
     ]
    },
    {
     "name": "stderr",
     "output_type": "stream",
     "text": [
      "100%|█████████████████████████████████████████████| 1/1 [00:00<00:00, 11.61it/s]\n"
     ]
    },
    {
     "name": "stdout",
     "output_type": "stream",
     "text": [
      "['sadia72', '0', '18', ['From fairest creatures we desire increase, Devouring Time, blunt thou the lion’s paws'], 414.37]\n",
      "['From fairest creatures we desire increase, A woman’s face with Nature’s own hand painted'] <class 'list'> 1\n"
     ]
    },
    {
     "name": "stderr",
     "output_type": "stream",
     "text": [
      "100%|█████████████████████████████████████████████| 1/1 [00:00<00:00, 11.64it/s]\n"
     ]
    },
    {
     "name": "stdout",
     "output_type": "stream",
     "text": [
      "['Iacopo', '0', '19', ['From fairest creatures we desire increase, A woman’s face with Nature’s own hand painted'], 642.95]\n"
     ]
    },
    {
     "name": "stderr",
     "output_type": "stream",
     "text": [
      "100%|█████████████████████████████████████████████| 1/1 [00:00<00:00, 10.75it/s]\n"
     ]
    },
    {
     "name": "stdout",
     "output_type": "stream",
     "text": [
      "['sadia72', '0', '19', ['From fairest creatures we desire increase, A woman’s face with Nature’s own hand painted'], 156.73]\n",
      "['From fairest creatures we desire increase, So is it not with me as with that muse'] <class 'list'> 1\n"
     ]
    },
    {
     "name": "stderr",
     "output_type": "stream",
     "text": [
      "100%|█████████████████████████████████████████████| 1/1 [00:00<00:00, 11.57it/s]\n"
     ]
    },
    {
     "name": "stdout",
     "output_type": "stream",
     "text": [
      "['Iacopo', '0', '20', ['From fairest creatures we desire increase, So is it not with me as with that muse'], 315.1]\n"
     ]
    },
    {
     "name": "stderr",
     "output_type": "stream",
     "text": [
      "100%|█████████████████████████████████████████████| 1/1 [00:00<00:00, 11.74it/s]\n"
     ]
    },
    {
     "name": "stdout",
     "output_type": "stream",
     "text": [
      "['sadia72', '0', '20', ['From fairest creatures we desire increase, So is it not with me as with that muse'], 290.32]\n",
      "['From fairest creatures we desire increase, My glass shall not persuade me I am old'] <class 'list'> 1\n"
     ]
    },
    {
     "name": "stderr",
     "output_type": "stream",
     "text": [
      "100%|█████████████████████████████████████████████| 1/1 [00:00<00:00, 12.32it/s]\n"
     ]
    },
    {
     "name": "stdout",
     "output_type": "stream",
     "text": [
      "['Iacopo', '0', '21', ['From fairest creatures we desire increase, My glass shall not persuade me I am old'], 507.9]\n"
     ]
    },
    {
     "name": "stderr",
     "output_type": "stream",
     "text": [
      "100%|█████████████████████████████████████████████| 1/1 [00:00<00:00, 12.73it/s]\n"
     ]
    },
    {
     "name": "stdout",
     "output_type": "stream",
     "text": [
      "['sadia72', '0', '21', ['From fairest creatures we desire increase, My glass shall not persuade me I am old'], 471.51]\n",
      "['From fairest creatures we desire increase, As an unperfect actor on the stage'] <class 'list'> 1\n"
     ]
    },
    {
     "name": "stderr",
     "output_type": "stream",
     "text": [
      "100%|█████████████████████████████████████████████| 1/1 [00:00<00:00, 12.56it/s]\n"
     ]
    },
    {
     "name": "stdout",
     "output_type": "stream",
     "text": [
      "['Iacopo', '0', '22', ['From fairest creatures we desire increase, As an unperfect actor on the stage'], 495.95]\n"
     ]
    },
    {
     "name": "stderr",
     "output_type": "stream",
     "text": [
      "100%|█████████████████████████████████████████████| 1/1 [00:00<00:00, 12.73it/s]\n"
     ]
    },
    {
     "name": "stdout",
     "output_type": "stream",
     "text": [
      "['sadia72', '0', '22', ['From fairest creatures we desire increase, As an unperfect actor on the stage'], 372.53]\n",
      "['From fairest creatures we desire increase, Mine eye hath played the painter and hath stelled'] <class 'list'> 1\n"
     ]
    },
    {
     "name": "stderr",
     "output_type": "stream",
     "text": [
      "100%|█████████████████████████████████████████████| 1/1 [00:00<00:00, 11.50it/s]\n"
     ]
    },
    {
     "name": "stdout",
     "output_type": "stream",
     "text": [
      "['Iacopo', '0', '23', ['From fairest creatures we desire increase, Mine eye hath played the painter and hath stelled'], 849.29]\n"
     ]
    },
    {
     "name": "stderr",
     "output_type": "stream",
     "text": [
      "100%|█████████████████████████████████████████████| 1/1 [00:00<00:00, 12.11it/s]\n"
     ]
    },
    {
     "name": "stdout",
     "output_type": "stream",
     "text": [
      "['sadia72', '0', '23', ['From fairest creatures we desire increase, Mine eye hath played the painter and hath stelled'], 610.85]\n",
      "['From fairest creatures we desire increase, Let those who are in favor with their stars'] <class 'list'> 1\n"
     ]
    },
    {
     "name": "stderr",
     "output_type": "stream",
     "text": [
      "100%|█████████████████████████████████████████████| 1/1 [00:00<00:00, 12.59it/s]\n"
     ]
    },
    {
     "name": "stdout",
     "output_type": "stream",
     "text": [
      "['Iacopo', '0', '24', ['From fairest creatures we desire increase, Let those who are in favor with their stars'], 345.82]\n"
     ]
    },
    {
     "name": "stderr",
     "output_type": "stream",
     "text": [
      "100%|█████████████████████████████████████████████| 1/1 [00:00<00:00, 11.47it/s]\n"
     ]
    },
    {
     "name": "stdout",
     "output_type": "stream",
     "text": [
      "['sadia72', '0', '24', ['From fairest creatures we desire increase, Let those who are in favor with their stars'], 324.7]\n",
      "['From fairest creatures we desire increase, Lord of my love, to whom in vassalage'] <class 'list'> 1\n"
     ]
    },
    {
     "name": "stderr",
     "output_type": "stream",
     "text": [
      "100%|█████████████████████████████████████████████| 1/1 [00:00<00:00, 11.13it/s]\n"
     ]
    },
    {
     "name": "stdout",
     "output_type": "stream",
     "text": [
      "['Iacopo', '0', '25', ['From fairest creatures we desire increase, Lord of my love, to whom in vassalage'], 185.3]\n"
     ]
    },
    {
     "name": "stderr",
     "output_type": "stream",
     "text": [
      "100%|█████████████████████████████████████████████| 1/1 [00:00<00:00, 11.18it/s]\n"
     ]
    },
    {
     "name": "stdout",
     "output_type": "stream",
     "text": [
      "['sadia72', '0', '25', ['From fairest creatures we desire increase, Lord of my love, to whom in vassalage'], 215.44]\n",
      "['From fairest creatures we desire increase, Weary with toil, I haste me to my bed,'] <class 'list'> 1\n"
     ]
    },
    {
     "name": "stderr",
     "output_type": "stream",
     "text": [
      "100%|█████████████████████████████████████████████| 1/1 [00:00<00:00, 11.75it/s]\n"
     ]
    },
    {
     "name": "stdout",
     "output_type": "stream",
     "text": [
      "['Iacopo', '0', '26', ['From fairest creatures we desire increase, Weary with toil, I haste me to my bed,'], 204.4]\n"
     ]
    },
    {
     "name": "stderr",
     "output_type": "stream",
     "text": [
      "100%|█████████████████████████████████████████████| 1/1 [00:00<00:00, 12.27it/s]\n"
     ]
    },
    {
     "name": "stdout",
     "output_type": "stream",
     "text": [
      "['sadia72', '0', '26', ['From fairest creatures we desire increase, Weary with toil, I haste me to my bed,'], 179.03]\n",
      "['From fairest creatures we desire increase, How can I then return in happy plight'] <class 'list'> 1\n"
     ]
    },
    {
     "name": "stderr",
     "output_type": "stream",
     "text": [
      "100%|█████████████████████████████████████████████| 1/1 [00:00<00:00, 11.39it/s]\n"
     ]
    },
    {
     "name": "stdout",
     "output_type": "stream",
     "text": [
      "['Iacopo', '0', '27', ['From fairest creatures we desire increase, How can I then return in happy plight'], 578.92]\n"
     ]
    },
    {
     "name": "stderr",
     "output_type": "stream",
     "text": [
      "100%|█████████████████████████████████████████████| 1/1 [00:00<00:00, 11.64it/s]\n"
     ]
    },
    {
     "name": "stdout",
     "output_type": "stream",
     "text": [
      "['sadia72', '0', '27', ['From fairest creatures we desire increase, How can I then return in happy plight'], 542.56]\n",
      "['From fairest creatures we desire increase, When in disgrace with fortune and men’s eyes,'] <class 'list'> 1\n"
     ]
    },
    {
     "name": "stderr",
     "output_type": "stream",
     "text": [
      "100%|█████████████████████████████████████████████| 1/1 [00:00<00:00, 10.50it/s]\n"
     ]
    },
    {
     "name": "stdout",
     "output_type": "stream",
     "text": [
      "['Iacopo', '0', '28', ['From fairest creatures we desire increase, When in disgrace with fortune and men’s eyes,'], 845.97]\n"
     ]
    },
    {
     "name": "stderr",
     "output_type": "stream",
     "text": [
      "100%|█████████████████████████████████████████████| 1/1 [00:00<00:00, 11.37it/s]\n"
     ]
    },
    {
     "name": "stdout",
     "output_type": "stream",
     "text": [
      "['sadia72', '0', '28', ['From fairest creatures we desire increase, When in disgrace with fortune and men’s eyes,'], 202.42]\n",
      "['From fairest creatures we desire increase, When to the sessions of sweet silent thought'] <class 'list'> 1\n"
     ]
    },
    {
     "name": "stderr",
     "output_type": "stream",
     "text": [
      "100%|█████████████████████████████████████████████| 1/1 [00:00<00:00, 12.38it/s]\n"
     ]
    },
    {
     "name": "stdout",
     "output_type": "stream",
     "text": [
      "['Iacopo', '0', '29', ['From fairest creatures we desire increase, When to the sessions of sweet silent thought'], 776.64]\n"
     ]
    },
    {
     "name": "stderr",
     "output_type": "stream",
     "text": [
      "100%|█████████████████████████████████████████████| 1/1 [00:00<00:00, 12.62it/s]\n"
     ]
    },
    {
     "name": "stdout",
     "output_type": "stream",
     "text": [
      "['sadia72', '0', '29', ['From fairest creatures we desire increase, When to the sessions of sweet silent thought'], 625.58]\n",
      "['From fairest creatures we desire increase, Thy bosom is endearèd with all hearts'] <class 'list'> 1\n"
     ]
    },
    {
     "name": "stderr",
     "output_type": "stream",
     "text": [
      "100%|█████████████████████████████████████████████| 1/1 [00:00<00:00, 11.79it/s]\n"
     ]
    },
    {
     "name": "stdout",
     "output_type": "stream",
     "text": [
      "['Iacopo', '0', '30', ['From fairest creatures we desire increase, Thy bosom is endearèd with all hearts'], 343.06]\n"
     ]
    },
    {
     "name": "stderr",
     "output_type": "stream",
     "text": [
      "100%|█████████████████████████████████████████████| 1/1 [00:00<00:00,  8.80it/s]\n"
     ]
    },
    {
     "name": "stdout",
     "output_type": "stream",
     "text": [
      "['sadia72', '0', '30', ['From fairest creatures we desire increase, Thy bosom is endearèd with all hearts'], 228.27]\n",
      "['From fairest creatures we desire increase, If thou survive my well-contented day'] <class 'list'> 1\n"
     ]
    },
    {
     "name": "stderr",
     "output_type": "stream",
     "text": [
      "100%|█████████████████████████████████████████████| 1/1 [00:00<00:00, 11.76it/s]\n"
     ]
    },
    {
     "name": "stdout",
     "output_type": "stream",
     "text": [
      "['Iacopo', '0', '31', ['From fairest creatures we desire increase, If thou survive my well-contented day'], 413.45]\n"
     ]
    },
    {
     "name": "stderr",
     "output_type": "stream",
     "text": [
      "100%|█████████████████████████████████████████████| 1/1 [00:00<00:00, 11.96it/s]\n"
     ]
    },
    {
     "name": "stdout",
     "output_type": "stream",
     "text": [
      "['sadia72', '0', '31', ['From fairest creatures we desire increase, If thou survive my well-contented day'], 387.99]\n",
      "['From fairest creatures we desire increase, Full many a glorious morning have I seen'] <class 'list'> 1\n"
     ]
    },
    {
     "name": "stderr",
     "output_type": "stream",
     "text": [
      "100%|█████████████████████████████████████████████| 1/1 [00:00<00:00, 11.87it/s]\n"
     ]
    },
    {
     "name": "stdout",
     "output_type": "stream",
     "text": [
      "['Iacopo', '0', '32', ['From fairest creatures we desire increase, Full many a glorious morning have I seen'], 523.14]\n"
     ]
    },
    {
     "name": "stderr",
     "output_type": "stream",
     "text": [
      "100%|█████████████████████████████████████████████| 1/1 [00:00<00:00, 12.28it/s]\n"
     ]
    },
    {
     "name": "stdout",
     "output_type": "stream",
     "text": [
      "['sadia72', '0', '32', ['From fairest creatures we desire increase, Full many a glorious morning have I seen'], 465.79]\n",
      "['From fairest creatures we desire increase, Why didst thou promise such a beauteous day'] <class 'list'> 1\n"
     ]
    },
    {
     "name": "stderr",
     "output_type": "stream",
     "text": [
      "100%|█████████████████████████████████████████████| 1/1 [00:00<00:00, 12.57it/s]\n"
     ]
    },
    {
     "name": "stdout",
     "output_type": "stream",
     "text": [
      "['Iacopo', '0', '33', ['From fairest creatures we desire increase, Why didst thou promise such a beauteous day'], 132.74]\n"
     ]
    },
    {
     "name": "stderr",
     "output_type": "stream",
     "text": [
      "100%|█████████████████████████████████████████████| 1/1 [00:00<00:00, 12.25it/s]\n"
     ]
    },
    {
     "name": "stdout",
     "output_type": "stream",
     "text": [
      "['sadia72', '0', '33', ['From fairest creatures we desire increase, Why didst thou promise such a beauteous day'], 126.69]\n",
      "['From fairest creatures we desire increase, No more be grieved at that which thou hast done.'] <class 'list'> 1\n"
     ]
    },
    {
     "name": "stderr",
     "output_type": "stream",
     "text": [
      "100%|█████████████████████████████████████████████| 1/1 [00:00<00:00, 12.19it/s]\n"
     ]
    },
    {
     "name": "stdout",
     "output_type": "stream",
     "text": [
      "['Iacopo', '0', '34', ['From fairest creatures we desire increase, No more be grieved at that which thou hast done.'], 130.45]\n"
     ]
    },
    {
     "name": "stderr",
     "output_type": "stream",
     "text": [
      "100%|█████████████████████████████████████████████| 1/1 [00:00<00:00, 11.90it/s]\n"
     ]
    },
    {
     "name": "stdout",
     "output_type": "stream",
     "text": [
      "['sadia72', '0', '34', ['From fairest creatures we desire increase, No more be grieved at that which thou hast done.'], 127.17]\n",
      "['From fairest creatures we desire increase, Let me confess that we two must be twain'] <class 'list'> 1\n"
     ]
    },
    {
     "name": "stderr",
     "output_type": "stream",
     "text": [
      "100%|█████████████████████████████████████████████| 1/1 [00:00<00:00, 11.75it/s]\n"
     ]
    },
    {
     "name": "stdout",
     "output_type": "stream",
     "text": [
      "['Iacopo', '0', '35', ['From fairest creatures we desire increase, Let me confess that we two must be twain'], 279.83]\n"
     ]
    },
    {
     "name": "stderr",
     "output_type": "stream",
     "text": [
      "100%|█████████████████████████████████████████████| 1/1 [00:00<00:00, 12.27it/s]\n"
     ]
    },
    {
     "name": "stdout",
     "output_type": "stream",
     "text": [
      "['sadia72', '0', '35', ['From fairest creatures we desire increase, Let me confess that we two must be twain'], 284.39]\n",
      "['From fairest creatures we desire increase, As a decrepit father takes delight'] <class 'list'> 1\n"
     ]
    },
    {
     "name": "stderr",
     "output_type": "stream",
     "text": [
      "100%|█████████████████████████████████████████████| 1/1 [00:00<00:00, 11.91it/s]\n"
     ]
    },
    {
     "name": "stdout",
     "output_type": "stream",
     "text": [
      "['Iacopo', '0', '36', ['From fairest creatures we desire increase, As a decrepit father takes delight'], 500.75]\n"
     ]
    },
    {
     "name": "stderr",
     "output_type": "stream",
     "text": [
      "100%|█████████████████████████████████████████████| 1/1 [00:00<00:00,  9.93it/s]\n"
     ]
    },
    {
     "name": "stdout",
     "output_type": "stream",
     "text": [
      "['sadia72', '0', '36', ['From fairest creatures we desire increase, As a decrepit father takes delight'], 419.36]\n",
      "['From fairest creatures we desire increase, How can my muse want subject to invent'] <class 'list'> 1\n"
     ]
    },
    {
     "name": "stderr",
     "output_type": "stream",
     "text": [
      "100%|█████████████████████████████████████████████| 1/1 [00:00<00:00, 12.58it/s]\n"
     ]
    },
    {
     "name": "stdout",
     "output_type": "stream",
     "text": [
      "['Iacopo', '0', '37', ['From fairest creatures we desire increase, How can my muse want subject to invent'], 1451.21]\n"
     ]
    },
    {
     "name": "stderr",
     "output_type": "stream",
     "text": [
      "100%|█████████████████████████████████████████████| 1/1 [00:00<00:00, 11.87it/s]\n"
     ]
    },
    {
     "name": "stdout",
     "output_type": "stream",
     "text": [
      "['sadia72', '0', '37', ['From fairest creatures we desire increase, How can my muse want subject to invent'], 1525.03]\n",
      "['From fairest creatures we desire increase, O, how thy worth with manners may I sing'] <class 'list'> 1\n"
     ]
    },
    {
     "name": "stderr",
     "output_type": "stream",
     "text": [
      "100%|█████████████████████████████████████████████| 1/1 [00:00<00:00, 12.25it/s]\n"
     ]
    },
    {
     "name": "stdout",
     "output_type": "stream",
     "text": [
      "['Iacopo', '0', '38', ['From fairest creatures we desire increase, O, how thy worth with manners may I sing'], 440.72]\n"
     ]
    },
    {
     "name": "stderr",
     "output_type": "stream",
     "text": [
      "100%|█████████████████████████████████████████████| 1/1 [00:00<00:00, 11.47it/s]\n"
     ]
    },
    {
     "name": "stdout",
     "output_type": "stream",
     "text": [
      "['sadia72', '0', '38', ['From fairest creatures we desire increase, O, how thy worth with manners may I sing'], 468.43]\n",
      "['From fairest creatures we desire increase, Take all my loves, my love, yea, take them all.'] <class 'list'> 1\n"
     ]
    },
    {
     "name": "stderr",
     "output_type": "stream",
     "text": [
      "100%|█████████████████████████████████████████████| 1/1 [00:00<00:00, 12.34it/s]\n"
     ]
    },
    {
     "name": "stdout",
     "output_type": "stream",
     "text": [
      "['Iacopo', '0', '39', ['From fairest creatures we desire increase, Take all my loves, my love, yea, take them all.'], 132.0]\n"
     ]
    },
    {
     "name": "stderr",
     "output_type": "stream",
     "text": [
      "100%|█████████████████████████████████████████████| 1/1 [00:00<00:00, 12.01it/s]\n"
     ]
    },
    {
     "name": "stdout",
     "output_type": "stream",
     "text": [
      "['sadia72', '0', '39', ['From fairest creatures we desire increase, Take all my loves, my love, yea, take them all.'], 131.7]\n",
      "['From fairest creatures we desire increase, Those pretty wrongs that liberty commits'] <class 'list'> 1\n"
     ]
    },
    {
     "name": "stderr",
     "output_type": "stream",
     "text": [
      "100%|█████████████████████████████████████████████| 1/1 [00:00<00:00, 13.15it/s]\n"
     ]
    },
    {
     "name": "stdout",
     "output_type": "stream",
     "text": [
      "['Iacopo', '0', '40', ['From fairest creatures we desire increase, Those pretty wrongs that liberty commits'], 1143.79]\n"
     ]
    },
    {
     "name": "stderr",
     "output_type": "stream",
     "text": [
      "100%|█████████████████████████████████████████████| 1/1 [00:00<00:00, 10.49it/s]\n"
     ]
    },
    {
     "name": "stdout",
     "output_type": "stream",
     "text": [
      "['sadia72', '0', '40', ['From fairest creatures we desire increase, Those pretty wrongs that liberty commits'], 930.33]\n",
      "['From fairest creatures we desire increase, That thou hast her, it is not all my grief,'] <class 'list'> 1\n"
     ]
    },
    {
     "name": "stderr",
     "output_type": "stream",
     "text": [
      "100%|█████████████████████████████████████████████| 1/1 [00:00<00:00, 11.36it/s]\n"
     ]
    },
    {
     "name": "stdout",
     "output_type": "stream",
     "text": [
      "['Iacopo', '0', '41', ['From fairest creatures we desire increase, That thou hast her, it is not all my grief,'], 262.02]\n"
     ]
    },
    {
     "name": "stderr",
     "output_type": "stream",
     "text": [
      "100%|█████████████████████████████████████████████| 1/1 [00:00<00:00, 12.42it/s]\n"
     ]
    },
    {
     "name": "stdout",
     "output_type": "stream",
     "text": [
      "['sadia72', '0', '41', ['From fairest creatures we desire increase, That thou hast her, it is not all my grief,'], 206.0]\n",
      "['From fairest creatures we desire increase, When most I wink, then do mine eyes best see,'] <class 'list'> 1\n"
     ]
    },
    {
     "name": "stderr",
     "output_type": "stream",
     "text": [
      "100%|█████████████████████████████████████████████| 1/1 [00:00<00:00, 12.41it/s]\n"
     ]
    },
    {
     "name": "stdout",
     "output_type": "stream",
     "text": [
      "['Iacopo', '0', '42', ['From fairest creatures we desire increase, When most I wink, then do mine eyes best see,'], 301.47]\n"
     ]
    },
    {
     "name": "stderr",
     "output_type": "stream",
     "text": [
      "100%|█████████████████████████████████████████████| 1/1 [00:00<00:00, 12.23it/s]\n"
     ]
    },
    {
     "name": "stdout",
     "output_type": "stream",
     "text": [
      "['sadia72', '0', '42', ['From fairest creatures we desire increase, When most I wink, then do mine eyes best see,'], 297.99]\n",
      "['From fairest creatures we desire increase, If the dull substance of my flesh were thought,'] <class 'list'> 1\n"
     ]
    },
    {
     "name": "stderr",
     "output_type": "stream",
     "text": [
      "100%|█████████████████████████████████████████████| 1/1 [00:00<00:00, 11.80it/s]\n"
     ]
    },
    {
     "name": "stdout",
     "output_type": "stream",
     "text": [
      "['Iacopo', '0', '43', ['From fairest creatures we desire increase, If the dull substance of my flesh were thought,'], 359.11]\n"
     ]
    },
    {
     "name": "stderr",
     "output_type": "stream",
     "text": [
      "100%|█████████████████████████████████████████████| 1/1 [00:00<00:00, 12.64it/s]\n"
     ]
    },
    {
     "name": "stdout",
     "output_type": "stream",
     "text": [
      "['sadia72', '0', '43', ['From fairest creatures we desire increase, If the dull substance of my flesh were thought,'], 333.7]\n",
      "['From fairest creatures we desire increase, The other two, slight air and purging fire,'] <class 'list'> 1\n"
     ]
    },
    {
     "name": "stderr",
     "output_type": "stream",
     "text": [
      "100%|█████████████████████████████████████████████| 1/1 [00:00<00:00, 12.21it/s]\n"
     ]
    },
    {
     "name": "stdout",
     "output_type": "stream",
     "text": [
      "['Iacopo', '0', '44', ['From fairest creatures we desire increase, The other two, slight air and purging fire,'], 444.57]\n"
     ]
    },
    {
     "name": "stderr",
     "output_type": "stream",
     "text": [
      "100%|█████████████████████████████████████████████| 1/1 [00:00<00:00, 11.76it/s]\n"
     ]
    },
    {
     "name": "stdout",
     "output_type": "stream",
     "text": [
      "['sadia72', '0', '44', ['From fairest creatures we desire increase, The other two, slight air and purging fire,'], 375.44]\n",
      "['From fairest creatures we desire increase, Mine eye and heart are at a mortal war'] <class 'list'> 1\n"
     ]
    },
    {
     "name": "stderr",
     "output_type": "stream",
     "text": [
      "100%|█████████████████████████████████████████████| 1/1 [00:00<00:00, 11.60it/s]\n"
     ]
    },
    {
     "name": "stdout",
     "output_type": "stream",
     "text": [
      "['Iacopo', '0', '45', ['From fairest creatures we desire increase, Mine eye and heart are at a mortal war'], 366.03]\n"
     ]
    },
    {
     "name": "stderr",
     "output_type": "stream",
     "text": [
      "100%|█████████████████████████████████████████████| 1/1 [00:00<00:00, 12.35it/s]\n"
     ]
    },
    {
     "name": "stdout",
     "output_type": "stream",
     "text": [
      "['sadia72', '0', '45', ['From fairest creatures we desire increase, Mine eye and heart are at a mortal war'], 353.08]\n",
      "['From fairest creatures we desire increase, Betwixt mine eye and heart a league is took,'] <class 'list'> 1\n"
     ]
    },
    {
     "name": "stderr",
     "output_type": "stream",
     "text": [
      "100%|█████████████████████████████████████████████| 1/1 [00:00<00:00, 11.01it/s]\n"
     ]
    },
    {
     "name": "stdout",
     "output_type": "stream",
     "text": [
      "['Iacopo', '0', '46', ['From fairest creatures we desire increase, Betwixt mine eye and heart a league is took,'], 330.68]\n"
     ]
    },
    {
     "name": "stderr",
     "output_type": "stream",
     "text": [
      "100%|█████████████████████████████████████████████| 1/1 [00:00<00:00,  9.87it/s]\n"
     ]
    },
    {
     "name": "stdout",
     "output_type": "stream",
     "text": [
      "['sadia72', '0', '46', ['From fairest creatures we desire increase, Betwixt mine eye and heart a league is took,'], 315.86]\n",
      "['From fairest creatures we desire increase, How careful was I, when I took my way,'] <class 'list'> 1\n"
     ]
    },
    {
     "name": "stderr",
     "output_type": "stream",
     "text": [
      "100%|█████████████████████████████████████████████| 1/1 [00:00<00:00, 12.13it/s]\n"
     ]
    },
    {
     "name": "stdout",
     "output_type": "stream",
     "text": [
      "['Iacopo', '0', '47', ['From fairest creatures we desire increase, How careful was I, when I took my way,'], 180.7]\n"
     ]
    },
    {
     "name": "stderr",
     "output_type": "stream",
     "text": [
      "100%|█████████████████████████████████████████████| 1/1 [00:00<00:00, 12.38it/s]\n"
     ]
    },
    {
     "name": "stdout",
     "output_type": "stream",
     "text": [
      "['sadia72', '0', '47', ['From fairest creatures we desire increase, How careful was I, when I took my way,'], 192.29]\n",
      "['From fairest creatures we desire increase, Against that time, if ever that time come,'] <class 'list'> 1\n"
     ]
    },
    {
     "name": "stderr",
     "output_type": "stream",
     "text": [
      "100%|█████████████████████████████████████████████| 1/1 [00:00<00:00, 11.54it/s]\n"
     ]
    },
    {
     "name": "stdout",
     "output_type": "stream",
     "text": [
      "['Iacopo', '0', '48', ['From fairest creatures we desire increase, Against that time, if ever that time come,'], 287.71]\n"
     ]
    },
    {
     "name": "stderr",
     "output_type": "stream",
     "text": [
      "100%|█████████████████████████████████████████████| 1/1 [00:00<00:00, 12.22it/s]\n"
     ]
    },
    {
     "name": "stdout",
     "output_type": "stream",
     "text": [
      "['sadia72', '0', '48', ['From fairest creatures we desire increase, Against that time, if ever that time come,'], 245.55]\n",
      "['From fairest creatures we desire increase, How heavy do I journey on the way,'] <class 'list'> 1\n"
     ]
    },
    {
     "name": "stderr",
     "output_type": "stream",
     "text": [
      "100%|█████████████████████████████████████████████| 1/1 [00:00<00:00, 10.40it/s]\n"
     ]
    },
    {
     "name": "stdout",
     "output_type": "stream",
     "text": [
      "['Iacopo', '0', '49', ['From fairest creatures we desire increase, How heavy do I journey on the way,'], 299.56]\n"
     ]
    },
    {
     "name": "stderr",
     "output_type": "stream",
     "text": [
      "100%|█████████████████████████████████████████████| 1/1 [00:00<00:00, 12.53it/s]\n"
     ]
    },
    {
     "name": "stdout",
     "output_type": "stream",
     "text": [
      "['sadia72', '0', '49', ['From fairest creatures we desire increase, How heavy do I journey on the way,'], 313.16]\n",
      "['From fairest creatures we desire increase, Thus can my love excuse the slow offense'] <class 'list'> 1\n"
     ]
    },
    {
     "name": "stderr",
     "output_type": "stream",
     "text": [
      "100%|█████████████████████████████████████████████| 1/1 [00:00<00:00, 12.28it/s]\n"
     ]
    },
    {
     "name": "stdout",
     "output_type": "stream",
     "text": [
      "['Iacopo', '0', '50', ['From fairest creatures we desire increase, Thus can my love excuse the slow offense'], 832.98]\n"
     ]
    },
    {
     "name": "stderr",
     "output_type": "stream",
     "text": [
      "100%|█████████████████████████████████████████████| 1/1 [00:00<00:00, 12.38it/s]\n"
     ]
    },
    {
     "name": "stdout",
     "output_type": "stream",
     "text": [
      "['sadia72', '0', '50', ['From fairest creatures we desire increase, Thus can my love excuse the slow offense'], 728.53]\n",
      "['From fairest creatures we desire increase, So am I as the rich whose blessèd key'] <class 'list'> 1\n"
     ]
    },
    {
     "name": "stderr",
     "output_type": "stream",
     "text": [
      "100%|█████████████████████████████████████████████| 1/1 [00:00<00:00,  9.13it/s]\n"
     ]
    },
    {
     "name": "stdout",
     "output_type": "stream",
     "text": [
      "['Iacopo', '0', '51', ['From fairest creatures we desire increase, So am I as the rich whose blessèd key'], 846.69]\n"
     ]
    },
    {
     "name": "stderr",
     "output_type": "stream",
     "text": [
      "100%|█████████████████████████████████████████████| 1/1 [00:00<00:00, 11.26it/s]\n"
     ]
    },
    {
     "name": "stdout",
     "output_type": "stream",
     "text": [
      "['sadia72', '0', '51', ['From fairest creatures we desire increase, So am I as the rich whose blessèd key'], 526.46]\n",
      "['From fairest creatures we desire increase, What is your substance, whereof are you made,'] <class 'list'> 1\n"
     ]
    },
    {
     "name": "stderr",
     "output_type": "stream",
     "text": [
      "100%|█████████████████████████████████████████████| 1/1 [00:00<00:00, 12.22it/s]\n"
     ]
    },
    {
     "name": "stdout",
     "output_type": "stream",
     "text": [
      "['Iacopo', '0', '52', ['From fairest creatures we desire increase, What is your substance, whereof are you made,'], 154.09]\n"
     ]
    },
    {
     "name": "stderr",
     "output_type": "stream",
     "text": [
      "100%|█████████████████████████████████████████████| 1/1 [00:00<00:00, 10.47it/s]\n"
     ]
    },
    {
     "name": "stdout",
     "output_type": "stream",
     "text": [
      "['sadia72', '0', '52', ['From fairest creatures we desire increase, What is your substance, whereof are you made,'], 159.75]\n",
      "['From fairest creatures we desire increase, O, how much more doth beauty beauteous seem'] <class 'list'> 1\n"
     ]
    },
    {
     "name": "stderr",
     "output_type": "stream",
     "text": [
      "100%|█████████████████████████████████████████████| 1/1 [00:00<00:00, 11.65it/s]\n"
     ]
    },
    {
     "name": "stdout",
     "output_type": "stream",
     "text": [
      "['Iacopo', '0', '53', ['From fairest creatures we desire increase, O, how much more doth beauty beauteous seem'], 136.14]\n"
     ]
    },
    {
     "name": "stderr",
     "output_type": "stream",
     "text": [
      "100%|█████████████████████████████████████████████| 1/1 [00:00<00:00, 10.92it/s]\n"
     ]
    },
    {
     "name": "stdout",
     "output_type": "stream",
     "text": [
      "['sadia72', '0', '53', ['From fairest creatures we desire increase, O, how much more doth beauty beauteous seem'], 141.88]\n",
      "['From fairest creatures we desire increase, Not marble nor the gilded monuments'] <class 'list'> 1\n"
     ]
    },
    {
     "name": "stderr",
     "output_type": "stream",
     "text": [
      "100%|█████████████████████████████████████████████| 1/1 [00:00<00:00, 10.90it/s]\n"
     ]
    },
    {
     "name": "stdout",
     "output_type": "stream",
     "text": [
      "['Iacopo', '0', '54', ['From fairest creatures we desire increase, Not marble nor the gilded monuments'], 692.47]\n"
     ]
    },
    {
     "name": "stderr",
     "output_type": "stream",
     "text": [
      "100%|█████████████████████████████████████████████| 1/1 [00:00<00:00, 13.12it/s]\n"
     ]
    },
    {
     "name": "stdout",
     "output_type": "stream",
     "text": [
      "['sadia72', '0', '54', ['From fairest creatures we desire increase, Not marble nor the gilded monuments'], 456.66]\n",
      "['From fairest creatures we desire increase, Sweet love, renew thy force. Be it not said'] <class 'list'> 1\n"
     ]
    },
    {
     "name": "stderr",
     "output_type": "stream",
     "text": [
      "100%|█████████████████████████████████████████████| 1/1 [00:00<00:00, 12.38it/s]\n"
     ]
    },
    {
     "name": "stdout",
     "output_type": "stream",
     "text": [
      "['Iacopo', '0', '55', ['From fairest creatures we desire increase, Sweet love, renew thy force. Be it not said'], 381.44]\n"
     ]
    },
    {
     "name": "stderr",
     "output_type": "stream",
     "text": [
      "100%|█████████████████████████████████████████████| 1/1 [00:00<00:00, 12.39it/s]\n"
     ]
    },
    {
     "name": "stdout",
     "output_type": "stream",
     "text": [
      "['sadia72', '0', '55', ['From fairest creatures we desire increase, Sweet love, renew thy force. Be it not said'], 710.16]\n",
      "['From fairest creatures we desire increase, Being your slave, what should I do but tend'] <class 'list'> 1\n"
     ]
    },
    {
     "name": "stderr",
     "output_type": "stream",
     "text": [
      "100%|█████████████████████████████████████████████| 1/1 [00:00<00:00, 10.88it/s]\n"
     ]
    },
    {
     "name": "stdout",
     "output_type": "stream",
     "text": [
      "['Iacopo', '0', '56', ['From fairest creatures we desire increase, Being your slave, what should I do but tend'], 407.92]\n"
     ]
    },
    {
     "name": "stderr",
     "output_type": "stream",
     "text": [
      "100%|█████████████████████████████████████████████| 1/1 [00:00<00:00,  8.72it/s]\n"
     ]
    },
    {
     "name": "stdout",
     "output_type": "stream",
     "text": [
      "['sadia72', '0', '56', ['From fairest creatures we desire increase, Being your slave, what should I do but tend'], 362.33]\n",
      "['From fairest creatures we desire increase, That god forbid, that made me first your slave,'] <class 'list'> 1\n"
     ]
    },
    {
     "name": "stderr",
     "output_type": "stream",
     "text": [
      "100%|█████████████████████████████████████████████| 1/1 [00:00<00:00,  8.47it/s]\n"
     ]
    },
    {
     "name": "stdout",
     "output_type": "stream",
     "text": [
      "['Iacopo', '0', '57', ['From fairest creatures we desire increase, That god forbid, that made me first your slave,'], 365.6]\n"
     ]
    },
    {
     "name": "stderr",
     "output_type": "stream",
     "text": [
      "100%|█████████████████████████████████████████████| 1/1 [00:00<00:00,  8.19it/s]\n"
     ]
    },
    {
     "name": "stdout",
     "output_type": "stream",
     "text": [
      "['sadia72', '0', '57', ['From fairest creatures we desire increase, That god forbid, that made me first your slave,'], 354.51]\n",
      "['From fairest creatures we desire increase, If there be nothing new, but that which is'] <class 'list'> 1\n"
     ]
    },
    {
     "name": "stderr",
     "output_type": "stream",
     "text": [
      "100%|█████████████████████████████████████████████| 1/1 [00:00<00:00, 10.86it/s]\n"
     ]
    },
    {
     "name": "stdout",
     "output_type": "stream",
     "text": [
      "['Iacopo', '0', '58', ['From fairest creatures we desire increase, If there be nothing new, but that which is'], 132.24]\n"
     ]
    },
    {
     "name": "stderr",
     "output_type": "stream",
     "text": [
      "100%|█████████████████████████████████████████████| 1/1 [00:00<00:00,  9.08it/s]\n"
     ]
    },
    {
     "name": "stdout",
     "output_type": "stream",
     "text": [
      "['sadia72', '0', '58', ['From fairest creatures we desire increase, If there be nothing new, but that which is'], 118.9]\n",
      "['From fairest creatures we desire increase, Like as the waves make towards the pebbled shore,'] <class 'list'> 1\n"
     ]
    },
    {
     "name": "stderr",
     "output_type": "stream",
     "text": [
      "100%|█████████████████████████████████████████████| 1/1 [00:00<00:00, 10.73it/s]\n"
     ]
    },
    {
     "name": "stdout",
     "output_type": "stream",
     "text": [
      "['Iacopo', '0', '59', ['From fairest creatures we desire increase, Like as the waves make towards the pebbled shore,'], 239.3]\n"
     ]
    },
    {
     "name": "stderr",
     "output_type": "stream",
     "text": [
      "100%|█████████████████████████████████████████████| 1/1 [00:00<00:00, 12.45it/s]\n"
     ]
    },
    {
     "name": "stdout",
     "output_type": "stream",
     "text": [
      "['sadia72', '0', '59', ['From fairest creatures we desire increase, Like as the waves make towards the pebbled shore,'], 199.58]\n",
      "['From fairest creatures we desire increase, Is it thy will thy image should keep open'] <class 'list'> 1\n"
     ]
    },
    {
     "name": "stderr",
     "output_type": "stream",
     "text": [
      "100%|█████████████████████████████████████████████| 1/1 [00:00<00:00,  9.39it/s]\n"
     ]
    },
    {
     "name": "stdout",
     "output_type": "stream",
     "text": [
      "['Iacopo', '0', '60', ['From fairest creatures we desire increase, Is it thy will thy image should keep open'], 589.92]\n"
     ]
    },
    {
     "name": "stderr",
     "output_type": "stream",
     "text": [
      "100%|█████████████████████████████████████████████| 1/1 [00:00<00:00,  7.71it/s]\n"
     ]
    },
    {
     "name": "stdout",
     "output_type": "stream",
     "text": [
      "['sadia72', '0', '60', ['From fairest creatures we desire increase, Is it thy will thy image should keep open'], 621.11]\n",
      "['From fairest creatures we desire increase, Sin of self-love possesseth all mine eye'] <class 'list'> 1\n"
     ]
    },
    {
     "name": "stderr",
     "output_type": "stream",
     "text": [
      "100%|█████████████████████████████████████████████| 1/1 [00:00<00:00,  2.02it/s]\n"
     ]
    },
    {
     "name": "stdout",
     "output_type": "stream",
     "text": [
      "['Iacopo', '0', '61', ['From fairest creatures we desire increase, Sin of self-love possesseth all mine eye'], 519.09]\n"
     ]
    },
    {
     "name": "stderr",
     "output_type": "stream",
     "text": [
      "100%|█████████████████████████████████████████████| 1/1 [00:00<00:00, 11.69it/s]\n"
     ]
    },
    {
     "name": "stdout",
     "output_type": "stream",
     "text": [
      "['sadia72', '0', '61', ['From fairest creatures we desire increase, Sin of self-love possesseth all mine eye'], 495.71]\n",
      "['From fairest creatures we desire increase, Against my love shall be, as I am now,'] <class 'list'> 1\n"
     ]
    },
    {
     "name": "stderr",
     "output_type": "stream",
     "text": [
      "100%|█████████████████████████████████████████████| 1/1 [00:00<00:00, 12.45it/s]\n"
     ]
    },
    {
     "name": "stdout",
     "output_type": "stream",
     "text": [
      "['Iacopo', '0', '62', ['From fairest creatures we desire increase, Against my love shall be, as I am now,'], 277.99]\n"
     ]
    },
    {
     "name": "stderr",
     "output_type": "stream",
     "text": [
      "100%|█████████████████████████████████████████████| 1/1 [00:00<00:00, 11.77it/s]\n"
     ]
    },
    {
     "name": "stdout",
     "output_type": "stream",
     "text": [
      "['sadia72', '0', '62', ['From fairest creatures we desire increase, Against my love shall be, as I am now,'], 187.72]\n",
      "['From fairest creatures we desire increase, When I have seen by Time’s fell hand defaced'] <class 'list'> 1\n"
     ]
    },
    {
     "name": "stderr",
     "output_type": "stream",
     "text": [
      "100%|█████████████████████████████████████████████| 1/1 [00:00<00:00, 10.73it/s]\n"
     ]
    },
    {
     "name": "stdout",
     "output_type": "stream",
     "text": [
      "['Iacopo', '0', '63', ['From fairest creatures we desire increase, When I have seen by Time’s fell hand defaced'], 1599.86]\n"
     ]
    },
    {
     "name": "stderr",
     "output_type": "stream",
     "text": [
      "100%|█████████████████████████████████████████████| 1/1 [00:00<00:00, 11.40it/s]\n"
     ]
    },
    {
     "name": "stdout",
     "output_type": "stream",
     "text": [
      "['sadia72', '0', '63', ['From fairest creatures we desire increase, When I have seen by Time’s fell hand defaced'], 434.93]\n",
      "['From fairest creatures we desire increase, Since brass, nor stone, nor earth, nor boundless sea'] <class 'list'> 1\n"
     ]
    },
    {
     "name": "stderr",
     "output_type": "stream",
     "text": [
      "100%|█████████████████████████████████████████████| 1/1 [00:00<00:00, 12.38it/s]\n"
     ]
    },
    {
     "name": "stdout",
     "output_type": "stream",
     "text": [
      "['Iacopo', '0', '64', ['From fairest creatures we desire increase, Since brass, nor stone, nor earth, nor boundless sea'], 180.56]\n"
     ]
    },
    {
     "name": "stderr",
     "output_type": "stream",
     "text": [
      "100%|█████████████████████████████████████████████| 1/1 [00:00<00:00,  3.43it/s]\n"
     ]
    },
    {
     "name": "stdout",
     "output_type": "stream",
     "text": [
      "['sadia72', '0', '64', ['From fairest creatures we desire increase, Since brass, nor stone, nor earth, nor boundless sea'], 166.73]\n",
      "['From fairest creatures we desire increase, Tired with all these, for restful death I cry:'] <class 'list'> 1\n"
     ]
    },
    {
     "name": "stderr",
     "output_type": "stream",
     "text": [
      "100%|█████████████████████████████████████████████| 1/1 [00:00<00:00, 10.57it/s]\n"
     ]
    },
    {
     "name": "stdout",
     "output_type": "stream",
     "text": [
      "['Iacopo', '0', '65', ['From fairest creatures we desire increase, Tired with all these, for restful death I cry:'], 340.94]\n"
     ]
    },
    {
     "name": "stderr",
     "output_type": "stream",
     "text": [
      "100%|█████████████████████████████████████████████| 1/1 [00:00<00:00,  4.06it/s]\n"
     ]
    },
    {
     "name": "stdout",
     "output_type": "stream",
     "text": [
      "['sadia72', '0', '65', ['From fairest creatures we desire increase, Tired with all these, for restful death I cry:'], 380.91]\n",
      "['From fairest creatures we desire increase, Ah, wherefore with infection should he live,'] <class 'list'> 1\n"
     ]
    },
    {
     "name": "stderr",
     "output_type": "stream",
     "text": [
      "100%|█████████████████████████████████████████████| 1/1 [00:00<00:00,  2.27it/s]\n"
     ]
    },
    {
     "name": "stdout",
     "output_type": "stream",
     "text": [
      "['Iacopo', '0', '66', ['From fairest creatures we desire increase, Ah, wherefore with infection should he live,'], 363.12]\n"
     ]
    },
    {
     "name": "stderr",
     "output_type": "stream",
     "text": [
      "100%|█████████████████████████████████████████████| 1/1 [00:00<00:00, 11.50it/s]\n"
     ]
    },
    {
     "name": "stdout",
     "output_type": "stream",
     "text": [
      "['sadia72', '0', '66', ['From fairest creatures we desire increase, Ah, wherefore with infection should he live,'], 341.63]\n",
      "['From fairest creatures we desire increase, Thus is his cheek the map of days outworn,'] <class 'list'> 1\n"
     ]
    },
    {
     "name": "stderr",
     "output_type": "stream",
     "text": [
      "100%|█████████████████████████████████████████████| 1/1 [00:00<00:00,  4.38it/s]\n"
     ]
    },
    {
     "name": "stdout",
     "output_type": "stream",
     "text": [
      "['Iacopo', '0', '67', ['From fairest creatures we desire increase, Thus is his cheek the map of days outworn,'], 587.44]\n"
     ]
    },
    {
     "name": "stderr",
     "output_type": "stream",
     "text": [
      "100%|█████████████████████████████████████████████| 1/1 [00:00<00:00, 11.06it/s]\n"
     ]
    },
    {
     "name": "stdout",
     "output_type": "stream",
     "text": [
      "['sadia72', '0', '67', ['From fairest creatures we desire increase, Thus is his cheek the map of days outworn,'], 516.08]\n",
      "['From fairest creatures we desire increase, Those parts of thee that the world’s eye doth view'] <class 'list'> 1\n"
     ]
    },
    {
     "name": "stderr",
     "output_type": "stream",
     "text": [
      "100%|█████████████████████████████████████████████| 1/1 [00:00<00:00,  4.84it/s]\n"
     ]
    },
    {
     "name": "stdout",
     "output_type": "stream",
     "text": [
      "['Iacopo', '0', '68', ['From fairest creatures we desire increase, Those parts of thee that the world’s eye doth view'], 491.09]\n"
     ]
    },
    {
     "name": "stderr",
     "output_type": "stream",
     "text": [
      "100%|█████████████████████████████████████████████| 1/1 [00:00<00:00, 11.84it/s]\n"
     ]
    },
    {
     "name": "stdout",
     "output_type": "stream",
     "text": [
      "['sadia72', '0', '68', ['From fairest creatures we desire increase, Those parts of thee that the world’s eye doth view'], 114.73]\n",
      "['From fairest creatures we desire increase, That thou art blamed shall not be thy defect,'] <class 'list'> 1\n"
     ]
    },
    {
     "name": "stderr",
     "output_type": "stream",
     "text": [
      "100%|█████████████████████████████████████████████| 1/1 [00:00<00:00,  7.19it/s]\n"
     ]
    },
    {
     "name": "stdout",
     "output_type": "stream",
     "text": [
      "['Iacopo', '0', '69', ['From fairest creatures we desire increase, That thou art blamed shall not be thy defect,'], 517.17]\n"
     ]
    },
    {
     "name": "stderr",
     "output_type": "stream",
     "text": [
      "100%|█████████████████████████████████████████████| 1/1 [00:00<00:00, 12.33it/s]\n"
     ]
    },
    {
     "name": "stdout",
     "output_type": "stream",
     "text": [
      "['sadia72', '0', '69', ['From fairest creatures we desire increase, That thou art blamed shall not be thy defect,'], 370.24]\n",
      "['From fairest creatures we desire increase, No longer mourn for me when I am dead'] <class 'list'> 1\n"
     ]
    },
    {
     "name": "stderr",
     "output_type": "stream",
     "text": [
      "100%|█████████████████████████████████████████████| 1/1 [00:00<00:00,  2.84it/s]\n"
     ]
    },
    {
     "name": "stdout",
     "output_type": "stream",
     "text": [
      "['Iacopo', '0', '70', ['From fairest creatures we desire increase, No longer mourn for me when I am dead'], 242.35]\n"
     ]
    },
    {
     "name": "stderr",
     "output_type": "stream",
     "text": [
      "100%|█████████████████████████████████████████████| 1/1 [00:00<00:00, 11.51it/s]\n"
     ]
    },
    {
     "name": "stdout",
     "output_type": "stream",
     "text": [
      "['sadia72', '0', '70', ['From fairest creatures we desire increase, No longer mourn for me when I am dead'], 217.48]\n",
      "['From fairest creatures we desire increase, O, lest the world should task you to recite'] <class 'list'> 1\n"
     ]
    },
    {
     "name": "stderr",
     "output_type": "stream",
     "text": [
      "100%|█████████████████████████████████████████████| 1/1 [00:00<00:00,  7.00it/s]\n"
     ]
    },
    {
     "name": "stdout",
     "output_type": "stream",
     "text": [
      "['Iacopo', '0', '71', ['From fairest creatures we desire increase, O, lest the world should task you to recite'], 449.55]\n"
     ]
    },
    {
     "name": "stderr",
     "output_type": "stream",
     "text": [
      "100%|█████████████████████████████████████████████| 1/1 [00:00<00:00, 11.54it/s]\n"
     ]
    },
    {
     "name": "stdout",
     "output_type": "stream",
     "text": [
      "['sadia72', '0', '71', ['From fairest creatures we desire increase, O, lest the world should task you to recite'], 524.25]\n",
      "['From fairest creatures we desire increase, That time of year thou mayst in me behold'] <class 'list'> 1\n"
     ]
    },
    {
     "name": "stderr",
     "output_type": "stream",
     "text": [
      "100%|█████████████████████████████████████████████| 1/1 [00:00<00:00, 10.97it/s]\n"
     ]
    },
    {
     "name": "stdout",
     "output_type": "stream",
     "text": [
      "['Iacopo', '0', '72', ['From fairest creatures we desire increase, That time of year thou mayst in me behold'], 311.12]\n"
     ]
    },
    {
     "name": "stderr",
     "output_type": "stream",
     "text": [
      "100%|█████████████████████████████████████████████| 1/1 [00:00<00:00, 12.34it/s]\n"
     ]
    },
    {
     "name": "stdout",
     "output_type": "stream",
     "text": [
      "['sadia72', '0', '72', ['From fairest creatures we desire increase, That time of year thou mayst in me behold'], 299.78]\n",
      "['From fairest creatures we desire increase, But be contented when that fell arrest'] <class 'list'> 1\n"
     ]
    },
    {
     "name": "stderr",
     "output_type": "stream",
     "text": [
      "100%|█████████████████████████████████████████████| 1/1 [00:00<00:00,  9.32it/s]\n"
     ]
    },
    {
     "name": "stdout",
     "output_type": "stream",
     "text": [
      "['Iacopo', '0', '73', ['From fairest creatures we desire increase, But be contented when that fell arrest'], 725.14]\n"
     ]
    },
    {
     "name": "stderr",
     "output_type": "stream",
     "text": [
      "100%|█████████████████████████████████████████████| 1/1 [00:00<00:00, 11.51it/s]\n"
     ]
    },
    {
     "name": "stdout",
     "output_type": "stream",
     "text": [
      "['sadia72', '0', '73', ['From fairest creatures we desire increase, But be contented when that fell arrest'], 580.99]\n",
      "['From fairest creatures we desire increase, So are you to my thoughts as food to life,'] <class 'list'> 1\n"
     ]
    },
    {
     "name": "stderr",
     "output_type": "stream",
     "text": [
      "100%|█████████████████████████████████████████████| 1/1 [00:00<00:00, 10.70it/s]\n"
     ]
    },
    {
     "name": "stdout",
     "output_type": "stream",
     "text": [
      "['Iacopo', '0', '74', ['From fairest creatures we desire increase, So are you to my thoughts as food to life,'], 326.44]\n"
     ]
    },
    {
     "name": "stderr",
     "output_type": "stream",
     "text": [
      "100%|█████████████████████████████████████████████| 1/1 [00:00<00:00,  7.96it/s]\n"
     ]
    },
    {
     "name": "stdout",
     "output_type": "stream",
     "text": [
      "['sadia72', '0', '74', ['From fairest creatures we desire increase, So are you to my thoughts as food to life,'], 299.91]\n",
      "['From fairest creatures we desire increase, Why is my verse so barren of new pride,'] <class 'list'> 1\n"
     ]
    },
    {
     "name": "stderr",
     "output_type": "stream",
     "text": [
      "100%|█████████████████████████████████████████████| 1/1 [00:00<00:00, 10.68it/s]\n"
     ]
    },
    {
     "name": "stdout",
     "output_type": "stream",
     "text": [
      "['Iacopo', '0', '75', ['From fairest creatures we desire increase, Why is my verse so barren of new pride,'], 520.04]\n"
     ]
    },
    {
     "name": "stderr",
     "output_type": "stream",
     "text": [
      "100%|█████████████████████████████████████████████| 1/1 [00:00<00:00,  7.97it/s]\n"
     ]
    },
    {
     "name": "stdout",
     "output_type": "stream",
     "text": [
      "['sadia72', '0', '75', ['From fairest creatures we desire increase, Why is my verse so barren of new pride,'], 433.07]\n",
      "['From fairest creatures we desire increase, Thy glass will show thee how thy beauties wear,'] <class 'list'> 1\n"
     ]
    },
    {
     "name": "stderr",
     "output_type": "stream",
     "text": [
      "100%|█████████████████████████████████████████████| 1/1 [00:00<00:00, 11.67it/s]\n"
     ]
    },
    {
     "name": "stdout",
     "output_type": "stream",
     "text": [
      "['Iacopo', '0', '76', ['From fairest creatures we desire increase, Thy glass will show thee how thy beauties wear,'], 261.91]\n"
     ]
    },
    {
     "name": "stderr",
     "output_type": "stream",
     "text": [
      "100%|█████████████████████████████████████████████| 1/1 [00:00<00:00,  1.67it/s]\n"
     ]
    },
    {
     "name": "stdout",
     "output_type": "stream",
     "text": [
      "['sadia72', '0', '76', ['From fairest creatures we desire increase, Thy glass will show thee how thy beauties wear,'], 243.71]\n",
      "['From fairest creatures we desire increase, So oft have I invoked thee for my muse'] <class 'list'> 1\n"
     ]
    },
    {
     "name": "stderr",
     "output_type": "stream",
     "text": [
      "100%|█████████████████████████████████████████████| 1/1 [00:00<00:00, 10.21it/s]\n"
     ]
    },
    {
     "name": "stdout",
     "output_type": "stream",
     "text": [
      "['Iacopo', '0', '77', ['From fairest creatures we desire increase, So oft have I invoked thee for my muse'], 442.83]\n"
     ]
    },
    {
     "name": "stderr",
     "output_type": "stream",
     "text": [
      "100%|█████████████████████████████████████████████| 1/1 [00:00<00:00,  9.23it/s]\n"
     ]
    },
    {
     "name": "stdout",
     "output_type": "stream",
     "text": [
      "['sadia72', '0', '77', ['From fairest creatures we desire increase, So oft have I invoked thee for my muse'], 441.15]\n",
      "['From fairest creatures we desire increase, Whilst I alone did call upon thy aid,'] <class 'list'> 1\n"
     ]
    },
    {
     "name": "stderr",
     "output_type": "stream",
     "text": [
      "100%|█████████████████████████████████████████████| 1/1 [00:00<00:00, 11.78it/s]\n"
     ]
    },
    {
     "name": "stdout",
     "output_type": "stream",
     "text": [
      "['Iacopo', '0', '78', ['From fairest creatures we desire increase, Whilst I alone did call upon thy aid,'], 389.45]\n"
     ]
    },
    {
     "name": "stderr",
     "output_type": "stream",
     "text": [
      "100%|█████████████████████████████████████████████| 1/1 [00:00<00:00, 12.72it/s]\n"
     ]
    },
    {
     "name": "stdout",
     "output_type": "stream",
     "text": [
      "['sadia72', '0', '78', ['From fairest creatures we desire increase, Whilst I alone did call upon thy aid,'], 278.85]\n",
      "['From fairest creatures we desire increase, O, how I faint when I of you do write,'] <class 'list'> 1\n"
     ]
    },
    {
     "name": "stderr",
     "output_type": "stream",
     "text": [
      "100%|█████████████████████████████████████████████| 1/1 [00:00<00:00, 12.35it/s]\n"
     ]
    },
    {
     "name": "stdout",
     "output_type": "stream",
     "text": [
      "['Iacopo', '0', '79', ['From fairest creatures we desire increase, O, how I faint when I of you do write,'], 288.79]\n"
     ]
    },
    {
     "name": "stderr",
     "output_type": "stream",
     "text": [
      "100%|█████████████████████████████████████████████| 1/1 [00:00<00:00, 12.38it/s]\n"
     ]
    },
    {
     "name": "stdout",
     "output_type": "stream",
     "text": [
      "['sadia72', '0', '79', ['From fairest creatures we desire increase, O, how I faint when I of you do write,'], 304.66]\n",
      "['From fairest creatures we desire increase, Or I shall live your epitaph to make'] <class 'list'> 1\n"
     ]
    },
    {
     "name": "stderr",
     "output_type": "stream",
     "text": [
      "100%|█████████████████████████████████████████████| 1/1 [00:00<00:00, 11.66it/s]\n"
     ]
    },
    {
     "name": "stdout",
     "output_type": "stream",
     "text": [
      "['Iacopo', '0', '80', ['From fairest creatures we desire increase, Or I shall live your epitaph to make'], 444.81]\n"
     ]
    },
    {
     "name": "stderr",
     "output_type": "stream",
     "text": [
      "100%|█████████████████████████████████████████████| 1/1 [00:00<00:00, 11.97it/s]\n"
     ]
    },
    {
     "name": "stdout",
     "output_type": "stream",
     "text": [
      "['sadia72', '0', '80', ['From fairest creatures we desire increase, Or I shall live your epitaph to make'], 311.05]\n",
      "['From fairest creatures we desire increase, I grant thou wert not married to my muse,'] <class 'list'> 1\n"
     ]
    },
    {
     "name": "stderr",
     "output_type": "stream",
     "text": [
      "100%|█████████████████████████████████████████████| 1/1 [00:00<00:00, 12.43it/s]\n"
     ]
    },
    {
     "name": "stdout",
     "output_type": "stream",
     "text": [
      "['Iacopo', '0', '81', ['From fairest creatures we desire increase, I grant thou wert not married to my muse,'], 178.49]\n"
     ]
    },
    {
     "name": "stderr",
     "output_type": "stream",
     "text": [
      "100%|█████████████████████████████████████████████| 1/1 [00:00<00:00, 12.48it/s]\n"
     ]
    },
    {
     "name": "stdout",
     "output_type": "stream",
     "text": [
      "['sadia72', '0', '81', ['From fairest creatures we desire increase, I grant thou wert not married to my muse,'], 199.38]\n",
      "['From fairest creatures we desire increase, I never saw that you did painting need'] <class 'list'> 1\n"
     ]
    },
    {
     "name": "stderr",
     "output_type": "stream",
     "text": [
      "100%|█████████████████████████████████████████████| 1/1 [00:00<00:00, 11.70it/s]\n"
     ]
    },
    {
     "name": "stdout",
     "output_type": "stream",
     "text": [
      "['Iacopo', '0', '82', ['From fairest creatures we desire increase, I never saw that you did painting need'], 605.67]\n"
     ]
    },
    {
     "name": "stderr",
     "output_type": "stream",
     "text": [
      "100%|█████████████████████████████████████████████| 1/1 [00:00<00:00, 12.39it/s]\n"
     ]
    },
    {
     "name": "stdout",
     "output_type": "stream",
     "text": [
      "['sadia72', '0', '82', ['From fairest creatures we desire increase, I never saw that you did painting need'], 614.09]\n",
      "['From fairest creatures we desire increase, Who is it that says most, which can say more'] <class 'list'> 1\n"
     ]
    },
    {
     "name": "stderr",
     "output_type": "stream",
     "text": [
      "100%|█████████████████████████████████████████████| 1/1 [00:00<00:00, 12.09it/s]\n"
     ]
    },
    {
     "name": "stdout",
     "output_type": "stream",
     "text": [
      "['Iacopo', '0', '83', ['From fairest creatures we desire increase, Who is it that says most, which can say more'], 236.19]\n"
     ]
    },
    {
     "name": "stderr",
     "output_type": "stream",
     "text": [
      "100%|█████████████████████████████████████████████| 1/1 [00:00<00:00, 12.51it/s]\n"
     ]
    },
    {
     "name": "stdout",
     "output_type": "stream",
     "text": [
      "['sadia72', '0', '83', ['From fairest creatures we desire increase, Who is it that says most, which can say more'], 253.95]\n",
      "['From fairest creatures we desire increase, My tongue-tied muse in manners holds her still'] <class 'list'> 1\n"
     ]
    },
    {
     "name": "stderr",
     "output_type": "stream",
     "text": [
      "100%|█████████████████████████████████████████████| 1/1 [00:00<00:00, 11.36it/s]\n"
     ]
    },
    {
     "name": "stdout",
     "output_type": "stream",
     "text": [
      "['Iacopo', '0', '84', ['From fairest creatures we desire increase, My tongue-tied muse in manners holds her still'], 526.97]\n"
     ]
    },
    {
     "name": "stderr",
     "output_type": "stream",
     "text": [
      "100%|█████████████████████████████████████████████| 1/1 [00:00<00:00, 12.40it/s]\n"
     ]
    },
    {
     "name": "stdout",
     "output_type": "stream",
     "text": [
      "['sadia72', '0', '84', ['From fairest creatures we desire increase, My tongue-tied muse in manners holds her still'], 498.14]\n",
      "['From fairest creatures we desire increase, Was it the proud full sail of his great verse,'] <class 'list'> 1\n"
     ]
    },
    {
     "name": "stderr",
     "output_type": "stream",
     "text": [
      "100%|█████████████████████████████████████████████| 1/1 [00:00<00:00, 12.63it/s]\n"
     ]
    },
    {
     "name": "stdout",
     "output_type": "stream",
     "text": [
      "['Iacopo', '0', '85', ['From fairest creatures we desire increase, Was it the proud full sail of his great verse,'], 587.27]\n"
     ]
    },
    {
     "name": "stderr",
     "output_type": "stream",
     "text": [
      "100%|█████████████████████████████████████████████| 1/1 [00:00<00:00, 11.48it/s]\n"
     ]
    },
    {
     "name": "stdout",
     "output_type": "stream",
     "text": [
      "['sadia72', '0', '85', ['From fairest creatures we desire increase, Was it the proud full sail of his great verse,'], 523.09]\n",
      "['From fairest creatures we desire increase, Farewell, thou art too dear for my possessing,'] <class 'list'> 1\n"
     ]
    },
    {
     "name": "stderr",
     "output_type": "stream",
     "text": [
      "100%|█████████████████████████████████████████████| 1/1 [00:00<00:00, 12.68it/s]\n"
     ]
    },
    {
     "name": "stdout",
     "output_type": "stream",
     "text": [
      "['Iacopo', '0', '86', ['From fairest creatures we desire increase, Farewell, thou art too dear for my possessing,'], 264.85]\n"
     ]
    },
    {
     "name": "stderr",
     "output_type": "stream",
     "text": [
      "100%|█████████████████████████████████████████████| 1/1 [00:00<00:00, 11.09it/s]\n"
     ]
    },
    {
     "name": "stdout",
     "output_type": "stream",
     "text": [
      "['sadia72', '0', '86', ['From fairest creatures we desire increase, Farewell, thou art too dear for my possessing,'], 288.94]\n",
      "['From fairest creatures we desire increase, When thou shalt be disposed to set me light'] <class 'list'> 1\n"
     ]
    },
    {
     "name": "stderr",
     "output_type": "stream",
     "text": [
      "100%|█████████████████████████████████████████████| 1/1 [00:00<00:00, 11.97it/s]\n"
     ]
    },
    {
     "name": "stdout",
     "output_type": "stream",
     "text": [
      "['Iacopo', '0', '87', ['From fairest creatures we desire increase, When thou shalt be disposed to set me light'], 386.07]\n"
     ]
    },
    {
     "name": "stderr",
     "output_type": "stream",
     "text": [
      "100%|█████████████████████████████████████████████| 1/1 [00:00<00:00, 11.18it/s]\n"
     ]
    },
    {
     "name": "stdout",
     "output_type": "stream",
     "text": [
      "['sadia72', '0', '87', ['From fairest creatures we desire increase, When thou shalt be disposed to set me light'], 335.43]\n",
      "['From fairest creatures we desire increase, Say that thou didst forsake me for some fault,'] <class 'list'> 1\n"
     ]
    },
    {
     "name": "stderr",
     "output_type": "stream",
     "text": [
      "100%|█████████████████████████████████████████████| 1/1 [00:00<00:00,  9.37it/s]\n"
     ]
    },
    {
     "name": "stdout",
     "output_type": "stream",
     "text": [
      "['Iacopo', '0', '88', ['From fairest creatures we desire increase, Say that thou didst forsake me for some fault,'], 172.59]\n"
     ]
    },
    {
     "name": "stderr",
     "output_type": "stream",
     "text": [
      "100%|█████████████████████████████████████████████| 1/1 [00:00<00:00, 12.10it/s]\n"
     ]
    },
    {
     "name": "stdout",
     "output_type": "stream",
     "text": [
      "['sadia72', '0', '88', ['From fairest creatures we desire increase, Say that thou didst forsake me for some fault,'], 165.89]\n",
      "['From fairest creatures we desire increase, Then hate me when thou wilt, if ever, now,'] <class 'list'> 1\n"
     ]
    },
    {
     "name": "stderr",
     "output_type": "stream",
     "text": [
      "100%|█████████████████████████████████████████████| 1/1 [00:00<00:00, 12.24it/s]\n"
     ]
    },
    {
     "name": "stdout",
     "output_type": "stream",
     "text": [
      "['Iacopo', '0', '89', ['From fairest creatures we desire increase, Then hate me when thou wilt, if ever, now,'], 221.71]\n"
     ]
    },
    {
     "name": "stderr",
     "output_type": "stream",
     "text": [
      "100%|█████████████████████████████████████████████| 1/1 [00:00<00:00, 11.14it/s]\n"
     ]
    },
    {
     "name": "stdout",
     "output_type": "stream",
     "text": [
      "['sadia72', '0', '89', ['From fairest creatures we desire increase, Then hate me when thou wilt, if ever, now,'], 216.18]\n",
      "['From fairest creatures we desire increase, Some glory in their birth, some in their skill,'] <class 'list'> 1\n"
     ]
    },
    {
     "name": "stderr",
     "output_type": "stream",
     "text": [
      "100%|█████████████████████████████████████████████| 1/1 [00:00<00:00, 12.27it/s]\n"
     ]
    },
    {
     "name": "stdout",
     "output_type": "stream",
     "text": [
      "['Iacopo', '0', '90', ['From fairest creatures we desire increase, Some glory in their birth, some in their skill,'], 172.69]\n"
     ]
    },
    {
     "name": "stderr",
     "output_type": "stream",
     "text": [
      "100%|█████████████████████████████████████████████| 1/1 [00:00<00:00, 12.06it/s]\n"
     ]
    },
    {
     "name": "stdout",
     "output_type": "stream",
     "text": [
      "['sadia72', '0', '90', ['From fairest creatures we desire increase, Some glory in their birth, some in their skill,'], 142.61]\n",
      "['From fairest creatures we desire increase, But do thy worst to steal thyself away,'] <class 'list'> 1\n"
     ]
    },
    {
     "name": "stderr",
     "output_type": "stream",
     "text": [
      "100%|█████████████████████████████████████████████| 1/1 [00:00<00:00, 11.22it/s]\n"
     ]
    },
    {
     "name": "stdout",
     "output_type": "stream",
     "text": [
      "['Iacopo', '0', '91', ['From fairest creatures we desire increase, But do thy worst to steal thyself away,'], 251.4]\n"
     ]
    },
    {
     "name": "stderr",
     "output_type": "stream",
     "text": [
      "100%|█████████████████████████████████████████████| 1/1 [00:00<00:00, 12.27it/s]\n"
     ]
    },
    {
     "name": "stdout",
     "output_type": "stream",
     "text": [
      "['sadia72', '0', '91', ['From fairest creatures we desire increase, But do thy worst to steal thyself away,'], 226.91]\n",
      "['From fairest creatures we desire increase, So shall I live, supposing thou art true,'] <class 'list'> 1\n"
     ]
    },
    {
     "name": "stderr",
     "output_type": "stream",
     "text": [
      "100%|█████████████████████████████████████████████| 1/1 [00:00<00:00, 12.43it/s]\n"
     ]
    },
    {
     "name": "stdout",
     "output_type": "stream",
     "text": [
      "['Iacopo', '0', '92', ['From fairest creatures we desire increase, So shall I live, supposing thou art true,'], 181.47]\n"
     ]
    },
    {
     "name": "stderr",
     "output_type": "stream",
     "text": [
      "100%|█████████████████████████████████████████████| 1/1 [00:00<00:00, 12.33it/s]\n"
     ]
    },
    {
     "name": "stdout",
     "output_type": "stream",
     "text": [
      "['sadia72', '0', '92', ['From fairest creatures we desire increase, So shall I live, supposing thou art true,'], 173.33]\n",
      "['From fairest creatures we desire increase, They that have power to hurt and will do none,'] <class 'list'> 1\n"
     ]
    },
    {
     "name": "stderr",
     "output_type": "stream",
     "text": [
      "100%|█████████████████████████████████████████████| 1/1 [00:00<00:00, 11.88it/s]\n"
     ]
    },
    {
     "name": "stdout",
     "output_type": "stream",
     "text": [
      "['Iacopo', '0', '93', ['From fairest creatures we desire increase, They that have power to hurt and will do none,'], 205.49]\n"
     ]
    },
    {
     "name": "stderr",
     "output_type": "stream",
     "text": [
      "100%|█████████████████████████████████████████████| 1/1 [00:00<00:00, 12.13it/s]\n"
     ]
    },
    {
     "name": "stdout",
     "output_type": "stream",
     "text": [
      "['sadia72', '0', '93', ['From fairest creatures we desire increase, They that have power to hurt and will do none,'], 208.03]\n",
      "['From fairest creatures we desire increase, How sweet and lovely dost thou make the shame'] <class 'list'> 1\n"
     ]
    },
    {
     "name": "stderr",
     "output_type": "stream",
     "text": [
      "100%|█████████████████████████████████████████████| 1/1 [00:00<00:00, 12.42it/s]\n"
     ]
    },
    {
     "name": "stdout",
     "output_type": "stream",
     "text": [
      "['Iacopo', '0', '94', ['From fairest creatures we desire increase, How sweet and lovely dost thou make the shame'], 233.1]\n"
     ]
    },
    {
     "name": "stderr",
     "output_type": "stream",
     "text": [
      "100%|█████████████████████████████████████████████| 1/1 [00:00<00:00, 11.37it/s]\n"
     ]
    },
    {
     "name": "stdout",
     "output_type": "stream",
     "text": [
      "['sadia72', '0', '94', ['From fairest creatures we desire increase, How sweet and lovely dost thou make the shame'], 224.41]\n",
      "['From fairest creatures we desire increase, Some say thy fault is youth, some wantonness;'] <class 'list'> 1\n"
     ]
    },
    {
     "name": "stderr",
     "output_type": "stream",
     "text": [
      "100%|█████████████████████████████████████████████| 1/1 [00:00<00:00, 12.26it/s]\n"
     ]
    },
    {
     "name": "stdout",
     "output_type": "stream",
     "text": [
      "['Iacopo', '0', '95', ['From fairest creatures we desire increase, Some say thy fault is youth, some wantonness;'], 289.42]\n"
     ]
    },
    {
     "name": "stderr",
     "output_type": "stream",
     "text": [
      "100%|█████████████████████████████████████████████| 1/1 [00:00<00:00, 12.44it/s]\n"
     ]
    },
    {
     "name": "stdout",
     "output_type": "stream",
     "text": [
      "['sadia72', '0', '95', ['From fairest creatures we desire increase, Some say thy fault is youth, some wantonness;'], 254.6]\n",
      "['From fairest creatures we desire increase, How like a winter hath my absence been'] <class 'list'> 1\n"
     ]
    },
    {
     "name": "stderr",
     "output_type": "stream",
     "text": [
      "100%|█████████████████████████████████████████████| 1/1 [00:00<00:00, 12.70it/s]\n"
     ]
    },
    {
     "name": "stdout",
     "output_type": "stream",
     "text": [
      "['Iacopo', '0', '96', ['From fairest creatures we desire increase, How like a winter hath my absence been'], 576.56]\n"
     ]
    },
    {
     "name": "stderr",
     "output_type": "stream",
     "text": [
      "100%|█████████████████████████████████████████████| 1/1 [00:00<00:00, 12.08it/s]\n"
     ]
    },
    {
     "name": "stdout",
     "output_type": "stream",
     "text": [
      "['sadia72', '0', '96', ['From fairest creatures we desire increase, How like a winter hath my absence been'], 629.62]\n",
      "['From fairest creatures we desire increase, From you have I been absent in the spring,'] <class 'list'> 1\n"
     ]
    },
    {
     "name": "stderr",
     "output_type": "stream",
     "text": [
      "100%|█████████████████████████████████████████████| 1/1 [00:00<00:00, 11.63it/s]\n"
     ]
    },
    {
     "name": "stdout",
     "output_type": "stream",
     "text": [
      "['Iacopo', '0', '97', ['From fairest creatures we desire increase, From you have I been absent in the spring,'], 302.65]\n"
     ]
    },
    {
     "name": "stderr",
     "output_type": "stream",
     "text": [
      "100%|█████████████████████████████████████████████| 1/1 [00:00<00:00, 12.36it/s]\n"
     ]
    },
    {
     "name": "stdout",
     "output_type": "stream",
     "text": [
      "['sadia72', '0', '97', ['From fairest creatures we desire increase, From you have I been absent in the spring,'], 276.22]\n",
      "['From fairest creatures we desire increase, The forward violet thus did I chide:'] <class 'list'> 1\n"
     ]
    },
    {
     "name": "stderr",
     "output_type": "stream",
     "text": [
      "100%|█████████████████████████████████████████████| 1/1 [00:00<00:00, 12.31it/s]\n"
     ]
    },
    {
     "name": "stdout",
     "output_type": "stream",
     "text": [
      "['Iacopo', '0', '98', ['From fairest creatures we desire increase, The forward violet thus did I chide:'], 804.07]\n"
     ]
    },
    {
     "name": "stderr",
     "output_type": "stream",
     "text": [
      "100%|█████████████████████████████████████████████| 1/1 [00:00<00:00, 10.53it/s]\n"
     ]
    },
    {
     "name": "stdout",
     "output_type": "stream",
     "text": [
      "['sadia72', '0', '98', ['From fairest creatures we desire increase, The forward violet thus did I chide:'], 710.13]\n",
      "['From fairest creatures we desire increase, Where art thou, muse, that thou forget’st so long'] <class 'list'> 1\n"
     ]
    },
    {
     "name": "stderr",
     "output_type": "stream",
     "text": [
      "100%|█████████████████████████████████████████████| 1/1 [00:00<00:00, 12.14it/s]\n"
     ]
    },
    {
     "name": "stdout",
     "output_type": "stream",
     "text": [
      "['Iacopo', '0', '99', ['From fairest creatures we desire increase, Where art thou, muse, that thou forget’st so long'], 484.42]\n"
     ]
    },
    {
     "name": "stderr",
     "output_type": "stream",
     "text": [
      "100%|█████████████████████████████████████████████| 1/1 [00:00<00:00, 10.97it/s]\n"
     ]
    },
    {
     "name": "stdout",
     "output_type": "stream",
     "text": [
      "['sadia72', '0', '99', ['From fairest creatures we desire increase, Where art thou, muse, that thou forget’st so long'], 155.79]\n",
      "['From fairest creatures we desire increase, O truant muse, what shall be thy amends'] <class 'list'> 1\n"
     ]
    },
    {
     "name": "stderr",
     "output_type": "stream",
     "text": [
      "100%|█████████████████████████████████████████████| 1/1 [00:00<00:00, 11.52it/s]\n"
     ]
    },
    {
     "name": "stdout",
     "output_type": "stream",
     "text": [
      "['Iacopo', '0', '100', ['From fairest creatures we desire increase, O truant muse, what shall be thy amends'], 409.32]\n"
     ]
    },
    {
     "name": "stderr",
     "output_type": "stream",
     "text": [
      "100%|█████████████████████████████████████████████| 1/1 [00:00<00:00, 12.00it/s]\n"
     ]
    },
    {
     "name": "stdout",
     "output_type": "stream",
     "text": [
      "['sadia72', '0', '100', ['From fairest creatures we desire increase, O truant muse, what shall be thy amends'], 395.72]\n",
      "['From fairest creatures we desire increase, My love is strengthened, though more weak in seeming;'] <class 'list'> 1\n"
     ]
    },
    {
     "name": "stderr",
     "output_type": "stream",
     "text": [
      "100%|█████████████████████████████████████████████| 1/1 [00:00<00:00, 12.09it/s]\n"
     ]
    },
    {
     "name": "stdout",
     "output_type": "stream",
     "text": [
      "['Iacopo', '0', '101', ['From fairest creatures we desire increase, My love is strengthened, though more weak in seeming;'], 396.96]\n"
     ]
    },
    {
     "name": "stderr",
     "output_type": "stream",
     "text": [
      "100%|█████████████████████████████████████████████| 1/1 [00:00<00:00, 12.21it/s]\n"
     ]
    },
    {
     "name": "stdout",
     "output_type": "stream",
     "text": [
      "['sadia72', '0', '101', ['From fairest creatures we desire increase, My love is strengthened, though more weak in seeming;'], 306.22]\n",
      "['From fairest creatures we desire increase, Alack, what poverty my muse brings forth,'] <class 'list'> 1\n"
     ]
    },
    {
     "name": "stderr",
     "output_type": "stream",
     "text": [
      "100%|█████████████████████████████████████████████| 1/1 [00:00<00:00, 12.44it/s]\n"
     ]
    },
    {
     "name": "stdout",
     "output_type": "stream",
     "text": [
      "['Iacopo', '0', '102', ['From fairest creatures we desire increase, Alack, what poverty my muse brings forth,'], 492.39]\n"
     ]
    },
    {
     "name": "stderr",
     "output_type": "stream",
     "text": [
      "100%|█████████████████████████████████████████████| 1/1 [00:00<00:00, 12.16it/s]\n"
     ]
    },
    {
     "name": "stdout",
     "output_type": "stream",
     "text": [
      "['sadia72', '0', '102', ['From fairest creatures we desire increase, Alack, what poverty my muse brings forth,'], 429.98]\n",
      "['From fairest creatures we desire increase, To me, fair friend, you never can be old,'] <class 'list'> 1\n"
     ]
    },
    {
     "name": "stderr",
     "output_type": "stream",
     "text": [
      "100%|█████████████████████████████████████████████| 1/1 [00:00<00:00, 12.14it/s]\n"
     ]
    },
    {
     "name": "stdout",
     "output_type": "stream",
     "text": [
      "['Iacopo', '0', '103', ['From fairest creatures we desire increase, To me, fair friend, you never can be old,'], 195.63]\n"
     ]
    },
    {
     "name": "stderr",
     "output_type": "stream",
     "text": [
      "100%|█████████████████████████████████████████████| 1/1 [00:00<00:00, 11.36it/s]\n"
     ]
    },
    {
     "name": "stdout",
     "output_type": "stream",
     "text": [
      "['sadia72', '0', '103', ['From fairest creatures we desire increase, To me, fair friend, you never can be old,'], 184.85]\n",
      "['From fairest creatures we desire increase, Let not my love be called idolatry,'] <class 'list'> 1\n"
     ]
    },
    {
     "name": "stderr",
     "output_type": "stream",
     "text": [
      "100%|█████████████████████████████████████████████| 1/1 [00:00<00:00, 12.54it/s]\n"
     ]
    },
    {
     "name": "stdout",
     "output_type": "stream",
     "text": [
      "['Iacopo', '0', '104', ['From fairest creatures we desire increase, Let not my love be called idolatry,'], 193.6]\n"
     ]
    },
    {
     "name": "stderr",
     "output_type": "stream",
     "text": [
      "100%|█████████████████████████████████████████████| 1/1 [00:00<00:00, 11.55it/s]\n"
     ]
    },
    {
     "name": "stdout",
     "output_type": "stream",
     "text": [
      "['sadia72', '0', '104', ['From fairest creatures we desire increase, Let not my love be called idolatry,'], 183.33]\n",
      "['From fairest creatures we desire increase, When in the chronicle of wasted time'] <class 'list'> 1\n"
     ]
    },
    {
     "name": "stderr",
     "output_type": "stream",
     "text": [
      "100%|█████████████████████████████████████████████| 1/1 [00:00<00:00, 12.39it/s]\n"
     ]
    },
    {
     "name": "stdout",
     "output_type": "stream",
     "text": [
      "['Iacopo', '0', '105', ['From fairest creatures we desire increase, When in the chronicle of wasted time'], 386.71]\n"
     ]
    },
    {
     "name": "stderr",
     "output_type": "stream",
     "text": [
      "100%|█████████████████████████████████████████████| 1/1 [00:00<00:00, 12.45it/s]\n"
     ]
    },
    {
     "name": "stdout",
     "output_type": "stream",
     "text": [
      "['sadia72', '0', '105', ['From fairest creatures we desire increase, When in the chronicle of wasted time'], 316.46]\n",
      "['From fairest creatures we desire increase, Not mine own fears nor the prophetic soul'] <class 'list'> 1\n"
     ]
    },
    {
     "name": "stderr",
     "output_type": "stream",
     "text": [
      "100%|█████████████████████████████████████████████| 1/1 [00:00<00:00, 12.57it/s]\n"
     ]
    },
    {
     "name": "stdout",
     "output_type": "stream",
     "text": [
      "['Iacopo', '0', '106', ['From fairest creatures we desire increase, Not mine own fears nor the prophetic soul'], 595.39]\n"
     ]
    },
    {
     "name": "stderr",
     "output_type": "stream",
     "text": [
      "100%|█████████████████████████████████████████████| 1/1 [00:00<00:00, 12.69it/s]\n"
     ]
    },
    {
     "name": "stdout",
     "output_type": "stream",
     "text": [
      "['sadia72', '0', '106', ['From fairest creatures we desire increase, Not mine own fears nor the prophetic soul'], 442.5]\n",
      "['From fairest creatures we desire increase, What’s in the brain that ink may character'] <class 'list'> 1\n"
     ]
    },
    {
     "name": "stderr",
     "output_type": "stream",
     "text": [
      "100%|█████████████████████████████████████████████| 1/1 [00:00<00:00, 11.31it/s]\n"
     ]
    },
    {
     "name": "stdout",
     "output_type": "stream",
     "text": [
      "['Iacopo', '0', '107', ['From fairest creatures we desire increase, What’s in the brain that ink may character'], 1568.64]\n"
     ]
    },
    {
     "name": "stderr",
     "output_type": "stream",
     "text": [
      "100%|█████████████████████████████████████████████| 1/1 [00:00<00:00, 12.47it/s]\n"
     ]
    },
    {
     "name": "stdout",
     "output_type": "stream",
     "text": [
      "['sadia72', '0', '107', ['From fairest creatures we desire increase, What’s in the brain that ink may character'], 346.52]\n",
      "['From fairest creatures we desire increase, O, never say that I was false of heart,'] <class 'list'> 1\n"
     ]
    },
    {
     "name": "stderr",
     "output_type": "stream",
     "text": [
      "100%|█████████████████████████████████████████████| 1/1 [00:00<00:00, 12.71it/s]\n"
     ]
    },
    {
     "name": "stdout",
     "output_type": "stream",
     "text": [
      "['Iacopo', '0', '108', ['From fairest creatures we desire increase, O, never say that I was false of heart,'], 267.82]\n"
     ]
    },
    {
     "name": "stderr",
     "output_type": "stream",
     "text": [
      "100%|█████████████████████████████████████████████| 1/1 [00:00<00:00, 11.13it/s]\n"
     ]
    },
    {
     "name": "stdout",
     "output_type": "stream",
     "text": [
      "['sadia72', '0', '108', ['From fairest creatures we desire increase, O, never say that I was false of heart,'], 232.89]\n",
      "['From fairest creatures we desire increase, Alas, ’tis true, I have gone here and there'] <class 'list'> 1\n"
     ]
    },
    {
     "name": "stderr",
     "output_type": "stream",
     "text": [
      "100%|█████████████████████████████████████████████| 1/1 [00:00<00:00, 11.61it/s]\n"
     ]
    },
    {
     "name": "stdout",
     "output_type": "stream",
     "text": [
      "['Iacopo', '0', '109', ['From fairest creatures we desire increase, Alas, ’tis true, I have gone here and there'], 338.38]\n"
     ]
    },
    {
     "name": "stderr",
     "output_type": "stream",
     "text": [
      "100%|█████████████████████████████████████████████| 1/1 [00:00<00:00, 12.25it/s]\n"
     ]
    },
    {
     "name": "stdout",
     "output_type": "stream",
     "text": [
      "['sadia72', '0', '109', ['From fairest creatures we desire increase, Alas, ’tis true, I have gone here and there'], 112.88]\n",
      "['From fairest creatures we desire increase, O, for my sake do you with Fortune chide,'] <class 'list'> 1\n"
     ]
    },
    {
     "name": "stderr",
     "output_type": "stream",
     "text": [
      "100%|█████████████████████████████████████████████| 1/1 [00:00<00:00, 11.94it/s]\n"
     ]
    },
    {
     "name": "stdout",
     "output_type": "stream",
     "text": [
      "['Iacopo', '0', '110', ['From fairest creatures we desire increase, O, for my sake do you with Fortune chide,'], 235.8]\n"
     ]
    },
    {
     "name": "stderr",
     "output_type": "stream",
     "text": [
      "100%|█████████████████████████████████████████████| 1/1 [00:00<00:00, 12.28it/s]\n"
     ]
    },
    {
     "name": "stdout",
     "output_type": "stream",
     "text": [
      "['sadia72', '0', '110', ['From fairest creatures we desire increase, O, for my sake do you with Fortune chide,'], 238.56]\n",
      "['From fairest creatures we desire increase, Your love and pity doth th’ impression fill'] <class 'list'> 1\n"
     ]
    },
    {
     "name": "stderr",
     "output_type": "stream",
     "text": [
      "100%|█████████████████████████████████████████████| 1/1 [00:00<00:00, 11.57it/s]\n"
     ]
    },
    {
     "name": "stdout",
     "output_type": "stream",
     "text": [
      "['Iacopo', '0', '111', ['From fairest creatures we desire increase, Your love and pity doth th’ impression fill'], 1436.56]\n"
     ]
    },
    {
     "name": "stderr",
     "output_type": "stream",
     "text": [
      "100%|█████████████████████████████████████████████| 1/1 [00:00<00:00, 12.09it/s]\n"
     ]
    },
    {
     "name": "stdout",
     "output_type": "stream",
     "text": [
      "['sadia72', '0', '111', ['From fairest creatures we desire increase, Your love and pity doth th’ impression fill'], 248.48]\n",
      "['From fairest creatures we desire increase, Since I left you, mine eye is in my mind,'] <class 'list'> 1\n"
     ]
    },
    {
     "name": "stderr",
     "output_type": "stream",
     "text": [
      "100%|█████████████████████████████████████████████| 1/1 [00:00<00:00, 12.15it/s]\n"
     ]
    },
    {
     "name": "stdout",
     "output_type": "stream",
     "text": [
      "['Iacopo', '0', '112', ['From fairest creatures we desire increase, Since I left you, mine eye is in my mind,'], 224.4]\n"
     ]
    },
    {
     "name": "stderr",
     "output_type": "stream",
     "text": [
      "100%|█████████████████████████████████████████████| 1/1 [00:00<00:00,  9.20it/s]\n"
     ]
    },
    {
     "name": "stdout",
     "output_type": "stream",
     "text": [
      "['sadia72', '0', '112', ['From fairest creatures we desire increase, Since I left you, mine eye is in my mind,'], 205.18]\n",
      "['From fairest creatures we desire increase, Or whether doth my mind, being crowned with you,'] <class 'list'> 1\n"
     ]
    },
    {
     "name": "stderr",
     "output_type": "stream",
     "text": [
      "100%|█████████████████████████████████████████████| 1/1 [00:00<00:00, 11.08it/s]\n"
     ]
    },
    {
     "name": "stdout",
     "output_type": "stream",
     "text": [
      "['Iacopo', '0', '113', ['From fairest creatures we desire increase, Or whether doth my mind, being crowned with you,'], 300.45]\n"
     ]
    },
    {
     "name": "stderr",
     "output_type": "stream",
     "text": [
      "100%|█████████████████████████████████████████████| 1/1 [00:00<00:00,  6.31it/s]\n"
     ]
    },
    {
     "name": "stdout",
     "output_type": "stream",
     "text": [
      "['sadia72', '0', '113', ['From fairest creatures we desire increase, Or whether doth my mind, being crowned with you,'], 257.47]\n",
      "['From fairest creatures we desire increase, Those lines that I before have writ do lie,'] <class 'list'> 1\n"
     ]
    },
    {
     "name": "stderr",
     "output_type": "stream",
     "text": [
      "100%|█████████████████████████████████████████████| 1/1 [00:00<00:00, 11.42it/s]\n"
     ]
    },
    {
     "name": "stdout",
     "output_type": "stream",
     "text": [
      "['Iacopo', '0', '114', ['From fairest creatures we desire increase, Those lines that I before have writ do lie,'], 524.23]\n"
     ]
    },
    {
     "name": "stderr",
     "output_type": "stream",
     "text": [
      "100%|█████████████████████████████████████████████| 1/1 [00:00<00:00,  8.63it/s]\n"
     ]
    },
    {
     "name": "stdout",
     "output_type": "stream",
     "text": [
      "['sadia72', '0', '114', ['From fairest creatures we desire increase, Those lines that I before have writ do lie,'], 389.81]\n",
      "['From fairest creatures we desire increase, Let me not to the marriage of true minds'] <class 'list'> 1\n"
     ]
    },
    {
     "name": "stderr",
     "output_type": "stream",
     "text": [
      "100%|█████████████████████████████████████████████| 1/1 [00:00<00:00, 11.94it/s]\n"
     ]
    },
    {
     "name": "stdout",
     "output_type": "stream",
     "text": [
      "['Iacopo', '0', '115', ['From fairest creatures we desire increase, Let me not to the marriage of true minds'], 343.34]\n"
     ]
    },
    {
     "name": "stderr",
     "output_type": "stream",
     "text": [
      "100%|█████████████████████████████████████████████| 1/1 [00:00<00:00, 12.03it/s]\n"
     ]
    },
    {
     "name": "stdout",
     "output_type": "stream",
     "text": [
      "['sadia72', '0', '115', ['From fairest creatures we desire increase, Let me not to the marriage of true minds'], 346.3]\n",
      "['From fairest creatures we desire increase, Accuse me thus: that I have scanted all'] <class 'list'> 1\n"
     ]
    },
    {
     "name": "stderr",
     "output_type": "stream",
     "text": [
      "100%|█████████████████████████████████████████████| 1/1 [00:00<00:00, 12.00it/s]\n"
     ]
    },
    {
     "name": "stdout",
     "output_type": "stream",
     "text": [
      "['Iacopo', '0', '116', ['From fairest creatures we desire increase, Accuse me thus: that I have scanted all'], 411.43]\n"
     ]
    },
    {
     "name": "stderr",
     "output_type": "stream",
     "text": [
      "100%|█████████████████████████████████████████████| 1/1 [00:00<00:00,  9.71it/s]\n"
     ]
    },
    {
     "name": "stdout",
     "output_type": "stream",
     "text": [
      "['sadia72', '0', '116', ['From fairest creatures we desire increase, Accuse me thus: that I have scanted all'], 328.93]\n",
      "['From fairest creatures we desire increase, Like as to make our appetites more keen'] <class 'list'> 1\n"
     ]
    },
    {
     "name": "stderr",
     "output_type": "stream",
     "text": [
      "100%|█████████████████████████████████████████████| 1/1 [00:00<00:00, 12.82it/s]\n"
     ]
    },
    {
     "name": "stdout",
     "output_type": "stream",
     "text": [
      "['Iacopo', '0', '117', ['From fairest creatures we desire increase, Like as to make our appetites more keen'], 360.59]\n"
     ]
    },
    {
     "name": "stderr",
     "output_type": "stream",
     "text": [
      "100%|█████████████████████████████████████████████| 1/1 [00:00<00:00,  9.07it/s]\n"
     ]
    },
    {
     "name": "stdout",
     "output_type": "stream",
     "text": [
      "['sadia72', '0', '117', ['From fairest creatures we desire increase, Like as to make our appetites more keen'], 234.15]\n",
      "['From fairest creatures we desire increase, What potions have I drunk of siren tears'] <class 'list'> 1\n"
     ]
    },
    {
     "name": "stderr",
     "output_type": "stream",
     "text": [
      "100%|█████████████████████████████████████████████| 1/1 [00:00<00:00, 12.25it/s]\n"
     ]
    },
    {
     "name": "stdout",
     "output_type": "stream",
     "text": [
      "['Iacopo', '0', '118', ['From fairest creatures we desire increase, What potions have I drunk of siren tears'], 875.56]\n"
     ]
    },
    {
     "name": "stderr",
     "output_type": "stream",
     "text": [
      "100%|█████████████████████████████████████████████| 1/1 [00:00<00:00, 10.56it/s]\n"
     ]
    },
    {
     "name": "stdout",
     "output_type": "stream",
     "text": [
      "['sadia72', '0', '118', ['From fairest creatures we desire increase, What potions have I drunk of siren tears'], 857.89]\n",
      "['From fairest creatures we desire increase, That you were once unkind befriends me now,'] <class 'list'> 1\n"
     ]
    },
    {
     "name": "stderr",
     "output_type": "stream",
     "text": [
      "100%|█████████████████████████████████████████████| 1/1 [00:00<00:00, 12.55it/s]\n"
     ]
    },
    {
     "name": "stdout",
     "output_type": "stream",
     "text": [
      "['Iacopo', '0', '119', ['From fairest creatures we desire increase, That you were once unkind befriends me now,'], 358.45]\n"
     ]
    },
    {
     "name": "stderr",
     "output_type": "stream",
     "text": [
      "100%|█████████████████████████████████████████████| 1/1 [00:00<00:00,  9.75it/s]\n"
     ]
    },
    {
     "name": "stdout",
     "output_type": "stream",
     "text": [
      "['sadia72', '0', '119', ['From fairest creatures we desire increase, That you were once unkind befriends me now,'], 280.24]\n",
      "['From fairest creatures we desire increase, ’Tis better to be vile than vile esteemed,'] <class 'list'> 1\n"
     ]
    },
    {
     "name": "stderr",
     "output_type": "stream",
     "text": [
      "100%|█████████████████████████████████████████████| 1/1 [00:00<00:00, 11.09it/s]\n"
     ]
    },
    {
     "name": "stdout",
     "output_type": "stream",
     "text": [
      "['Iacopo', '0', '120', ['From fairest creatures we desire increase, ’Tis better to be vile than vile esteemed,'], 350.04]\n"
     ]
    },
    {
     "name": "stderr",
     "output_type": "stream",
     "text": [
      "100%|█████████████████████████████████████████████| 1/1 [00:00<00:00,  7.84it/s]\n"
     ]
    },
    {
     "name": "stdout",
     "output_type": "stream",
     "text": [
      "['sadia72', '0', '120', ['From fairest creatures we desire increase, ’Tis better to be vile than vile esteemed,'], 145.09]\n",
      "['From fairest creatures we desire increase, Thy gift, thy tables, are within my brain'] <class 'list'> 1\n"
     ]
    },
    {
     "name": "stderr",
     "output_type": "stream",
     "text": [
      "100%|█████████████████████████████████████████████| 1/1 [00:00<00:00,  9.26it/s]\n"
     ]
    },
    {
     "name": "stdout",
     "output_type": "stream",
     "text": [
      "['Iacopo', '0', '121', ['From fairest creatures we desire increase, Thy gift, thy tables, are within my brain'], 462.0]\n"
     ]
    },
    {
     "name": "stderr",
     "output_type": "stream",
     "text": [
      "100%|█████████████████████████████████████████████| 1/1 [00:00<00:00,  6.46it/s]\n"
     ]
    },
    {
     "name": "stdout",
     "output_type": "stream",
     "text": [
      "['sadia72', '0', '121', ['From fairest creatures we desire increase, Thy gift, thy tables, are within my brain'], 449.02]\n",
      "['From fairest creatures we desire increase, No, Time, thou shalt not boast that I do change.'] <class 'list'> 1\n"
     ]
    },
    {
     "name": "stderr",
     "output_type": "stream",
     "text": [
      "100%|█████████████████████████████████████████████| 1/1 [00:00<00:00,  3.92it/s]\n"
     ]
    },
    {
     "name": "stdout",
     "output_type": "stream",
     "text": [
      "['Iacopo', '0', '122', ['From fairest creatures we desire increase, No, Time, thou shalt not boast that I do change.'], 261.54]\n"
     ]
    },
    {
     "name": "stderr",
     "output_type": "stream",
     "text": [
      "100%|█████████████████████████████████████████████| 1/1 [00:00<00:00, 12.48it/s]\n"
     ]
    },
    {
     "name": "stdout",
     "output_type": "stream",
     "text": [
      "['sadia72', '0', '122', ['From fairest creatures we desire increase, No, Time, thou shalt not boast that I do change.'], 278.37]\n",
      "['From fairest creatures we desire increase, If my dear love were but the child of state,'] <class 'list'> 1\n"
     ]
    },
    {
     "name": "stderr",
     "output_type": "stream",
     "text": [
      "100%|█████████████████████████████████████████████| 1/1 [00:00<00:00,  7.42it/s]\n"
     ]
    },
    {
     "name": "stdout",
     "output_type": "stream",
     "text": [
      "['Iacopo', '0', '123', ['From fairest creatures we desire increase, If my dear love were but the child of state,'], 289.47]\n"
     ]
    },
    {
     "name": "stderr",
     "output_type": "stream",
     "text": [
      "100%|█████████████████████████████████████████████| 1/1 [00:00<00:00, 11.02it/s]\n"
     ]
    },
    {
     "name": "stdout",
     "output_type": "stream",
     "text": [
      "['sadia72', '0', '123', ['From fairest creatures we desire increase, If my dear love were but the child of state,'], 234.67]\n",
      "['From fairest creatures we desire increase, Were ’t aught to me I bore the canopy,'] <class 'list'> 1\n"
     ]
    },
    {
     "name": "stderr",
     "output_type": "stream",
     "text": [
      "100%|█████████████████████████████████████████████| 1/1 [00:00<00:00,  4.97it/s]\n"
     ]
    },
    {
     "name": "stdout",
     "output_type": "stream",
     "text": [
      "['Iacopo', '0', '124', ['From fairest creatures we desire increase, Were ’t aught to me I bore the canopy,'], 588.2]\n"
     ]
    },
    {
     "name": "stderr",
     "output_type": "stream",
     "text": [
      "100%|█████████████████████████████████████████████| 1/1 [00:00<00:00, 11.44it/s]\n"
     ]
    },
    {
     "name": "stdout",
     "output_type": "stream",
     "text": [
      "['sadia72', '0', '124', ['From fairest creatures we desire increase, Were ’t aught to me I bore the canopy,'], 227.63]\n",
      "['From fairest creatures we desire increase, O thou, my lovely boy, who in thy power'] <class 'list'> 1\n"
     ]
    },
    {
     "name": "stderr",
     "output_type": "stream",
     "text": [
      "100%|█████████████████████████████████████████████| 1/1 [00:00<00:00,  5.68it/s]\n"
     ]
    },
    {
     "name": "stdout",
     "output_type": "stream",
     "text": [
      "['Iacopo', '0', '125', ['From fairest creatures we desire increase, O thou, my lovely boy, who in thy power'], 164.37]\n"
     ]
    },
    {
     "name": "stderr",
     "output_type": "stream",
     "text": [
      "100%|█████████████████████████████████████████████| 1/1 [00:00<00:00, 11.50it/s]\n"
     ]
    },
    {
     "name": "stdout",
     "output_type": "stream",
     "text": [
      "['sadia72', '0', '125', ['From fairest creatures we desire increase, O thou, my lovely boy, who in thy power'], 195.37]\n",
      "['From fairest creatures we desire increase, In the old age, black was not counted fair,'] <class 'list'> 1\n"
     ]
    },
    {
     "name": "stderr",
     "output_type": "stream",
     "text": [
      "100%|█████████████████████████████████████████████| 1/1 [00:00<00:00,  9.44it/s]\n"
     ]
    },
    {
     "name": "stdout",
     "output_type": "stream",
     "text": [
      "['Iacopo', '0', '126', ['From fairest creatures we desire increase, In the old age, black was not counted fair,'], 314.77]\n"
     ]
    },
    {
     "name": "stderr",
     "output_type": "stream",
     "text": [
      "100%|█████████████████████████████████████████████| 1/1 [00:00<00:00, 10.38it/s]\n"
     ]
    },
    {
     "name": "stdout",
     "output_type": "stream",
     "text": [
      "['sadia72', '0', '126', ['From fairest creatures we desire increase, In the old age, black was not counted fair,'], 299.87]\n",
      "['From fairest creatures we desire increase, How oft, when thou, my music, music play’st'] <class 'list'> 1\n"
     ]
    },
    {
     "name": "stderr",
     "output_type": "stream",
     "text": [
      "100%|█████████████████████████████████████████████| 1/1 [00:00<00:00, 11.67it/s]\n"
     ]
    },
    {
     "name": "stdout",
     "output_type": "stream",
     "text": [
      "['Iacopo', '0', '127', ['From fairest creatures we desire increase, How oft, when thou, my music, music play’st'], 549.85]\n"
     ]
    },
    {
     "name": "stderr",
     "output_type": "stream",
     "text": [
      "100%|█████████████████████████████████████████████| 1/1 [00:00<00:00, 12.39it/s]\n"
     ]
    },
    {
     "name": "stdout",
     "output_type": "stream",
     "text": [
      "['sadia72', '0', '127', ['From fairest creatures we desire increase, How oft, when thou, my music, music play’st'], 152.63]\n",
      "['From fairest creatures we desire increase, Th’ expense of spirit in a waste of shame'] <class 'list'> 1\n"
     ]
    },
    {
     "name": "stderr",
     "output_type": "stream",
     "text": [
      "100%|█████████████████████████████████████████████| 1/1 [00:00<00:00, 11.52it/s]\n"
     ]
    },
    {
     "name": "stdout",
     "output_type": "stream",
     "text": [
      "['Iacopo', '0', '128', ['From fairest creatures we desire increase, Th’ expense of spirit in a waste of shame'], 2169.58]\n"
     ]
    },
    {
     "name": "stderr",
     "output_type": "stream",
     "text": [
      "100%|█████████████████████████████████████████████| 1/1 [00:00<00:00, 12.07it/s]\n"
     ]
    },
    {
     "name": "stdout",
     "output_type": "stream",
     "text": [
      "['sadia72', '0', '128', ['From fairest creatures we desire increase, Th’ expense of spirit in a waste of shame'], 339.96]\n",
      "['From fairest creatures we desire increase, My mistress’ eyes are nothing like the sun;'] <class 'list'> 1\n"
     ]
    },
    {
     "name": "stderr",
     "output_type": "stream",
     "text": [
      "100%|█████████████████████████████████████████████| 1/1 [00:00<00:00, 10.46it/s]\n"
     ]
    },
    {
     "name": "stdout",
     "output_type": "stream",
     "text": [
      "['Iacopo', '0', '129', ['From fairest creatures we desire increase, My mistress’ eyes are nothing like the sun;'], 782.21]\n"
     ]
    },
    {
     "name": "stderr",
     "output_type": "stream",
     "text": [
      "100%|█████████████████████████████████████████████| 1/1 [00:00<00:00, 10.68it/s]\n"
     ]
    },
    {
     "name": "stdout",
     "output_type": "stream",
     "text": [
      "['sadia72', '0', '129', ['From fairest creatures we desire increase, My mistress’ eyes are nothing like the sun;'], 197.02]\n",
      "['From fairest creatures we desire increase, Thou art as tyrannous, so as thou art,'] <class 'list'> 1\n"
     ]
    },
    {
     "name": "stderr",
     "output_type": "stream",
     "text": [
      "100%|█████████████████████████████████████████████| 1/1 [00:00<00:00, 10.98it/s]\n"
     ]
    },
    {
     "name": "stdout",
     "output_type": "stream",
     "text": [
      "['Iacopo', '0', '130', ['From fairest creatures we desire increase, Thou art as tyrannous, so as thou art,'], 139.67]\n"
     ]
    },
    {
     "name": "stderr",
     "output_type": "stream",
     "text": [
      "100%|█████████████████████████████████████████████| 1/1 [00:00<00:00, 11.39it/s]\n"
     ]
    },
    {
     "name": "stdout",
     "output_type": "stream",
     "text": [
      "['sadia72', '0', '130', ['From fairest creatures we desire increase, Thou art as tyrannous, so as thou art,'], 137.33]\n",
      "['From fairest creatures we desire increase, Thine eyes I love, and they, as pitying me,'] <class 'list'> 1\n"
     ]
    },
    {
     "name": "stderr",
     "output_type": "stream",
     "text": [
      "100%|█████████████████████████████████████████████| 1/1 [00:00<00:00, 12.33it/s]\n"
     ]
    },
    {
     "name": "stdout",
     "output_type": "stream",
     "text": [
      "['Iacopo', '0', '131', ['From fairest creatures we desire increase, Thine eyes I love, and they, as pitying me,'], 155.13]\n"
     ]
    },
    {
     "name": "stderr",
     "output_type": "stream",
     "text": [
      "100%|█████████████████████████████████████████████| 1/1 [00:00<00:00,  9.75it/s]\n"
     ]
    },
    {
     "name": "stdout",
     "output_type": "stream",
     "text": [
      "['sadia72', '0', '131', ['From fairest creatures we desire increase, Thine eyes I love, and they, as pitying me,'], 146.93]\n",
      "['From fairest creatures we desire increase, Beshrew that heart that makes my heart to groan'] <class 'list'> 1\n"
     ]
    },
    {
     "name": "stderr",
     "output_type": "stream",
     "text": [
      "100%|█████████████████████████████████████████████| 1/1 [00:00<00:00, 10.34it/s]\n"
     ]
    },
    {
     "name": "stdout",
     "output_type": "stream",
     "text": [
      "['Iacopo', '0', '132', ['From fairest creatures we desire increase, Beshrew that heart that makes my heart to groan'], 277.24]\n"
     ]
    },
    {
     "name": "stderr",
     "output_type": "stream",
     "text": [
      "100%|█████████████████████████████████████████████| 1/1 [00:00<00:00, 12.09it/s]\n"
     ]
    },
    {
     "name": "stdout",
     "output_type": "stream",
     "text": [
      "['sadia72', '0', '132', ['From fairest creatures we desire increase, Beshrew that heart that makes my heart to groan'], 215.92]\n",
      "['From fairest creatures we desire increase, So, now I have confessed that he is thine'] <class 'list'> 1\n"
     ]
    },
    {
     "name": "stderr",
     "output_type": "stream",
     "text": [
      "100%|█████████████████████████████████████████████| 1/1 [00:00<00:00,  7.69it/s]\n"
     ]
    },
    {
     "name": "stdout",
     "output_type": "stream",
     "text": [
      "['Iacopo', '0', '133', ['From fairest creatures we desire increase, So, now I have confessed that he is thine'], 233.21]\n"
     ]
    },
    {
     "name": "stderr",
     "output_type": "stream",
     "text": [
      "100%|█████████████████████████████████████████████| 1/1 [00:00<00:00, 11.18it/s]\n"
     ]
    },
    {
     "name": "stdout",
     "output_type": "stream",
     "text": [
      "['sadia72', '0', '133', ['From fairest creatures we desire increase, So, now I have confessed that he is thine'], 230.35]\n",
      "['From fairest creatures we desire increase, Whoever hath her wish, thou hast thy will,'] <class 'list'> 1\n"
     ]
    },
    {
     "name": "stderr",
     "output_type": "stream",
     "text": [
      "100%|█████████████████████████████████████████████| 1/1 [00:00<00:00,  4.97it/s]\n"
     ]
    },
    {
     "name": "stdout",
     "output_type": "stream",
     "text": [
      "['Iacopo', '0', '134', ['From fairest creatures we desire increase, Whoever hath her wish, thou hast thy will,'], 276.32]\n"
     ]
    },
    {
     "name": "stderr",
     "output_type": "stream",
     "text": [
      "100%|█████████████████████████████████████████████| 1/1 [00:00<00:00, 12.33it/s]\n"
     ]
    },
    {
     "name": "stdout",
     "output_type": "stream",
     "text": [
      "['sadia72', '0', '134', ['From fairest creatures we desire increase, Whoever hath her wish, thou hast thy will,'], 257.34]\n",
      "['From fairest creatures we desire increase, If thy soul check thee that I come so near,'] <class 'list'> 1\n"
     ]
    },
    {
     "name": "stderr",
     "output_type": "stream",
     "text": [
      "100%|█████████████████████████████████████████████| 1/1 [00:00<00:00, 11.49it/s]\n"
     ]
    },
    {
     "name": "stdout",
     "output_type": "stream",
     "text": [
      "['Iacopo', '0', '135', ['From fairest creatures we desire increase, If thy soul check thee that I come so near,'], 437.13]\n"
     ]
    },
    {
     "name": "stderr",
     "output_type": "stream",
     "text": [
      "100%|█████████████████████████████████████████████| 1/1 [00:00<00:00, 11.32it/s]\n"
     ]
    },
    {
     "name": "stdout",
     "output_type": "stream",
     "text": [
      "['sadia72', '0', '135', ['From fairest creatures we desire increase, If thy soul check thee that I come so near,'], 334.85]\n",
      "['From fairest creatures we desire increase, Thou blind fool, Love, what dost thou to mine eyes'] <class 'list'> 1\n"
     ]
    },
    {
     "name": "stderr",
     "output_type": "stream",
     "text": [
      "100%|█████████████████████████████████████████████| 1/1 [00:00<00:00, 12.29it/s]\n"
     ]
    },
    {
     "name": "stdout",
     "output_type": "stream",
     "text": [
      "['Iacopo', '0', '136', ['From fairest creatures we desire increase, Thou blind fool, Love, what dost thou to mine eyes'], 223.81]\n"
     ]
    },
    {
     "name": "stderr",
     "output_type": "stream",
     "text": [
      "100%|█████████████████████████████████████████████| 1/1 [00:00<00:00, 12.50it/s]\n"
     ]
    },
    {
     "name": "stdout",
     "output_type": "stream",
     "text": [
      "['sadia72', '0', '136', ['From fairest creatures we desire increase, Thou blind fool, Love, what dost thou to mine eyes'], 246.02]\n",
      "['From fairest creatures we desire increase, When my love swears that she is made of truth'] <class 'list'> 1\n"
     ]
    },
    {
     "name": "stderr",
     "output_type": "stream",
     "text": [
      "100%|█████████████████████████████████████████████| 1/1 [00:00<00:00, 11.77it/s]\n"
     ]
    },
    {
     "name": "stdout",
     "output_type": "stream",
     "text": [
      "['Iacopo', '0', '137', ['From fairest creatures we desire increase, When my love swears that she is made of truth'], 219.37]\n"
     ]
    },
    {
     "name": "stderr",
     "output_type": "stream",
     "text": [
      "100%|█████████████████████████████████████████████| 1/1 [00:00<00:00, 12.51it/s]\n"
     ]
    },
    {
     "name": "stdout",
     "output_type": "stream",
     "text": [
      "['sadia72', '0', '137', ['From fairest creatures we desire increase, When my love swears that she is made of truth'], 190.38]\n",
      "['From fairest creatures we desire increase, O, call not me to justify the wrong'] <class 'list'> 1\n"
     ]
    },
    {
     "name": "stderr",
     "output_type": "stream",
     "text": [
      "100%|█████████████████████████████████████████████| 1/1 [00:00<00:00,  9.85it/s]\n"
     ]
    },
    {
     "name": "stdout",
     "output_type": "stream",
     "text": [
      "['Iacopo', '0', '138', ['From fairest creatures we desire increase, O, call not me to justify the wrong'], 347.17]\n"
     ]
    },
    {
     "name": "stderr",
     "output_type": "stream",
     "text": [
      "100%|█████████████████████████████████████████████| 1/1 [00:00<00:00, 12.06it/s]\n"
     ]
    },
    {
     "name": "stdout",
     "output_type": "stream",
     "text": [
      "['sadia72', '0', '138', ['From fairest creatures we desire increase, O, call not me to justify the wrong'], 380.65]\n",
      "['From fairest creatures we desire increase, Be wise as thou art cruel; do not press'] <class 'list'> 1\n"
     ]
    },
    {
     "name": "stderr",
     "output_type": "stream",
     "text": [
      "100%|█████████████████████████████████████████████| 1/1 [00:00<00:00,  6.26it/s]\n"
     ]
    },
    {
     "name": "stdout",
     "output_type": "stream",
     "text": [
      "['Iacopo', '0', '139', ['From fairest creatures we desire increase, Be wise as thou art cruel; do not press'], 265.6]\n"
     ]
    },
    {
     "name": "stderr",
     "output_type": "stream",
     "text": [
      "100%|█████████████████████████████████████████████| 1/1 [00:00<00:00, 12.38it/s]\n"
     ]
    },
    {
     "name": "stdout",
     "output_type": "stream",
     "text": [
      "['sadia72', '0', '139', ['From fairest creatures we desire increase, Be wise as thou art cruel; do not press'], 271.83]\n",
      "['From fairest creatures we desire increase, In faith, I do not love thee with mine eyes,'] <class 'list'> 1\n"
     ]
    },
    {
     "name": "stderr",
     "output_type": "stream",
     "text": [
      "100%|█████████████████████████████████████████████| 1/1 [00:00<00:00,  7.21it/s]\n"
     ]
    },
    {
     "name": "stdout",
     "output_type": "stream",
     "text": [
      "['Iacopo', '0', '140', ['From fairest creatures we desire increase, In faith, I do not love thee with mine eyes,'], 157.28]\n"
     ]
    },
    {
     "name": "stderr",
     "output_type": "stream",
     "text": [
      "100%|█████████████████████████████████████████████| 1/1 [00:00<00:00, 12.43it/s]\n"
     ]
    },
    {
     "name": "stdout",
     "output_type": "stream",
     "text": [
      "['sadia72', '0', '140', ['From fairest creatures we desire increase, In faith, I do not love thee with mine eyes,'], 145.58]\n",
      "['From fairest creatures we desire increase, Love is my sin, and thy dear virtue hate,'] <class 'list'> 1\n"
     ]
    },
    {
     "name": "stderr",
     "output_type": "stream",
     "text": [
      "100%|█████████████████████████████████████████████| 1/1 [00:00<00:00,  9.76it/s]\n"
     ]
    },
    {
     "name": "stdout",
     "output_type": "stream",
     "text": [
      "['Iacopo', '0', '141', ['From fairest creatures we desire increase, Love is my sin, and thy dear virtue hate,'], 355.81]\n"
     ]
    },
    {
     "name": "stderr",
     "output_type": "stream",
     "text": [
      "100%|█████████████████████████████████████████████| 1/1 [00:00<00:00, 11.32it/s]\n"
     ]
    },
    {
     "name": "stdout",
     "output_type": "stream",
     "text": [
      "['sadia72', '0', '141', ['From fairest creatures we desire increase, Love is my sin, and thy dear virtue hate,'], 346.1]\n",
      "['From fairest creatures we desire increase, Lo, as a careful huswife runs to catch'] <class 'list'> 1\n"
     ]
    },
    {
     "name": "stderr",
     "output_type": "stream",
     "text": [
      "100%|█████████████████████████████████████████████| 1/1 [00:00<00:00, 11.31it/s]\n"
     ]
    },
    {
     "name": "stdout",
     "output_type": "stream",
     "text": [
      "['Iacopo', '0', '142', ['From fairest creatures we desire increase, Lo, as a careful huswife runs to catch'], 543.77]\n"
     ]
    },
    {
     "name": "stderr",
     "output_type": "stream",
     "text": [
      "100%|█████████████████████████████████████████████| 1/1 [00:00<00:00, 12.06it/s]\n"
     ]
    },
    {
     "name": "stdout",
     "output_type": "stream",
     "text": [
      "['sadia72', '0', '142', ['From fairest creatures we desire increase, Lo, as a careful huswife runs to catch'], 497.31]\n",
      "['From fairest creatures we desire increase, Two loves I have, of comfort and despair,'] <class 'list'> 1\n"
     ]
    },
    {
     "name": "stderr",
     "output_type": "stream",
     "text": [
      "100%|█████████████████████████████████████████████| 1/1 [00:00<00:00, 10.16it/s]\n"
     ]
    },
    {
     "name": "stdout",
     "output_type": "stream",
     "text": [
      "['Iacopo', '0', '143', ['From fairest creatures we desire increase, Two loves I have, of comfort and despair,'], 332.05]\n"
     ]
    },
    {
     "name": "stderr",
     "output_type": "stream",
     "text": [
      "100%|█████████████████████████████████████████████| 1/1 [00:00<00:00, 11.22it/s]\n"
     ]
    },
    {
     "name": "stdout",
     "output_type": "stream",
     "text": [
      "['sadia72', '0', '143', ['From fairest creatures we desire increase, Two loves I have, of comfort and despair,'], 311.05]\n",
      "['From fairest creatures we desire increase, Those lips that Love’s own hand did make'] <class 'list'> 1\n"
     ]
    },
    {
     "name": "stderr",
     "output_type": "stream",
     "text": [
      "100%|█████████████████████████████████████████████| 1/1 [00:00<00:00, 11.93it/s]\n"
     ]
    },
    {
     "name": "stdout",
     "output_type": "stream",
     "text": [
      "['Iacopo', '0', '144', ['From fairest creatures we desire increase, Those lips that Love’s own hand did make'], 1694.64]\n"
     ]
    },
    {
     "name": "stderr",
     "output_type": "stream",
     "text": [
      "100%|█████████████████████████████████████████████| 1/1 [00:00<00:00, 12.71it/s]\n"
     ]
    },
    {
     "name": "stdout",
     "output_type": "stream",
     "text": [
      "['sadia72', '0', '144', ['From fairest creatures we desire increase, Those lips that Love’s own hand did make'], 350.15]\n",
      "['From fairest creatures we desire increase, Poor soul, the center of my sinful earth,'] <class 'list'> 1\n"
     ]
    },
    {
     "name": "stderr",
     "output_type": "stream",
     "text": [
      "100%|█████████████████████████████████████████████| 1/1 [00:00<00:00, 12.57it/s]\n"
     ]
    },
    {
     "name": "stdout",
     "output_type": "stream",
     "text": [
      "['Iacopo', '0', '145', ['From fairest creatures we desire increase, Poor soul, the center of my sinful earth,'], 423.05]\n"
     ]
    },
    {
     "name": "stderr",
     "output_type": "stream",
     "text": [
      "100%|█████████████████████████████████████████████| 1/1 [00:00<00:00, 11.15it/s]\n"
     ]
    },
    {
     "name": "stdout",
     "output_type": "stream",
     "text": [
      "['sadia72', '0', '145', ['From fairest creatures we desire increase, Poor soul, the center of my sinful earth,'], 462.44]\n",
      "['From fairest creatures we desire increase, My love is as a fever, longing still'] <class 'list'> 1\n"
     ]
    },
    {
     "name": "stderr",
     "output_type": "stream",
     "text": [
      "100%|█████████████████████████████████████████████| 1/1 [00:00<00:00, 12.33it/s]\n"
     ]
    },
    {
     "name": "stdout",
     "output_type": "stream",
     "text": [
      "['Iacopo', '0', '146', ['From fairest creatures we desire increase, My love is as a fever, longing still'], 430.24]\n"
     ]
    },
    {
     "name": "stderr",
     "output_type": "stream",
     "text": [
      "100%|█████████████████████████████████████████████| 1/1 [00:00<00:00, 11.69it/s]\n"
     ]
    },
    {
     "name": "stdout",
     "output_type": "stream",
     "text": [
      "['sadia72', '0', '146', ['From fairest creatures we desire increase, My love is as a fever, longing still'], 433.93]\n",
      "['From fairest creatures we desire increase, O me, what eyes hath love put in my head,'] <class 'list'> 1\n"
     ]
    },
    {
     "name": "stderr",
     "output_type": "stream",
     "text": [
      "100%|█████████████████████████████████████████████| 1/1 [00:00<00:00, 12.34it/s]\n"
     ]
    },
    {
     "name": "stdout",
     "output_type": "stream",
     "text": [
      "['Iacopo', '0', '147', ['From fairest creatures we desire increase, O me, what eyes hath love put in my head,'], 211.82]\n"
     ]
    },
    {
     "name": "stderr",
     "output_type": "stream",
     "text": [
      "100%|█████████████████████████████████████████████| 1/1 [00:00<00:00, 11.80it/s]\n"
     ]
    },
    {
     "name": "stdout",
     "output_type": "stream",
     "text": [
      "['sadia72', '0', '147', ['From fairest creatures we desire increase, O me, what eyes hath love put in my head,'], 237.69]\n",
      "['From fairest creatures we desire increase, Canst thou, O cruel, say I love thee not'] <class 'list'> 1\n"
     ]
    },
    {
     "name": "stderr",
     "output_type": "stream",
     "text": [
      "100%|█████████████████████████████████████████████| 1/1 [00:00<00:00, 12.48it/s]\n"
     ]
    },
    {
     "name": "stdout",
     "output_type": "stream",
     "text": [
      "['Iacopo', '0', '148', ['From fairest creatures we desire increase, Canst thou, O cruel, say I love thee not'], 166.97]\n"
     ]
    },
    {
     "name": "stderr",
     "output_type": "stream",
     "text": [
      "100%|█████████████████████████████████████████████| 1/1 [00:00<00:00, 12.01it/s]\n"
     ]
    },
    {
     "name": "stdout",
     "output_type": "stream",
     "text": [
      "['sadia72', '0', '148', ['From fairest creatures we desire increase, Canst thou, O cruel, say I love thee not'], 189.63]\n",
      "['From fairest creatures we desire increase, O, from what power hast thou this powerful might'] <class 'list'> 1\n"
     ]
    },
    {
     "name": "stderr",
     "output_type": "stream",
     "text": [
      "100%|█████████████████████████████████████████████| 1/1 [00:00<00:00, 12.46it/s]\n"
     ]
    },
    {
     "name": "stdout",
     "output_type": "stream",
     "text": [
      "['Iacopo', '0', '149', ['From fairest creatures we desire increase, O, from what power hast thou this powerful might'], 314.99]\n"
     ]
    },
    {
     "name": "stderr",
     "output_type": "stream",
     "text": [
      "100%|█████████████████████████████████████████████| 1/1 [00:00<00:00, 12.05it/s]\n"
     ]
    },
    {
     "name": "stdout",
     "output_type": "stream",
     "text": [
      "['sadia72', '0', '149', ['From fairest creatures we desire increase, O, from what power hast thou this powerful might'], 360.99]\n",
      "['From fairest creatures we desire increase, Love is too young to know what conscience is;'] <class 'list'> 1\n"
     ]
    },
    {
     "name": "stderr",
     "output_type": "stream",
     "text": [
      "100%|█████████████████████████████████████████████| 1/1 [00:00<00:00, 12.32it/s]\n"
     ]
    },
    {
     "name": "stdout",
     "output_type": "stream",
     "text": [
      "['Iacopo', '0', '150', ['From fairest creatures we desire increase, Love is too young to know what conscience is;'], 298.46]\n"
     ]
    },
    {
     "name": "stderr",
     "output_type": "stream",
     "text": [
      "100%|█████████████████████████████████████████████| 1/1 [00:00<00:00,  9.71it/s]\n"
     ]
    },
    {
     "name": "stdout",
     "output_type": "stream",
     "text": [
      "['sadia72', '0', '150', ['From fairest creatures we desire increase, Love is too young to know what conscience is;'], 286.6]\n",
      "['From fairest creatures we desire increase, In loving thee thou know’st I am forsworn,'] <class 'list'> 1\n"
     ]
    },
    {
     "name": "stderr",
     "output_type": "stream",
     "text": [
      "100%|█████████████████████████████████████████████| 1/1 [00:00<00:00, 11.07it/s]\n"
     ]
    },
    {
     "name": "stdout",
     "output_type": "stream",
     "text": [
      "['Iacopo', '0', '151', ['From fairest creatures we desire increase, In loving thee thou know’st I am forsworn,'], 591.36]\n"
     ]
    },
    {
     "name": "stderr",
     "output_type": "stream",
     "text": [
      "100%|█████████████████████████████████████████████| 1/1 [00:00<00:00, 10.58it/s]\n"
     ]
    },
    {
     "name": "stdout",
     "output_type": "stream",
     "text": [
      "['sadia72', '0', '151', ['From fairest creatures we desire increase, In loving thee thou know’st I am forsworn,'], 130.77]\n",
      "['From fairest creatures we desire increase, Cupid laid by his brand and fell asleep.'] <class 'list'> 1\n"
     ]
    },
    {
     "name": "stderr",
     "output_type": "stream",
     "text": [
      "100%|█████████████████████████████████████████████| 1/1 [00:00<00:00,  5.32it/s]\n"
     ]
    },
    {
     "name": "stdout",
     "output_type": "stream",
     "text": [
      "['Iacopo', '0', '152', ['From fairest creatures we desire increase, Cupid laid by his brand and fell asleep.'], 438.5]\n"
     ]
    },
    {
     "name": "stderr",
     "output_type": "stream",
     "text": [
      "100%|█████████████████████████████████████████████| 1/1 [00:00<00:00,  4.48it/s]\n"
     ]
    },
    {
     "name": "stdout",
     "output_type": "stream",
     "text": [
      "['sadia72', '0', '152', ['From fairest creatures we desire increase, Cupid laid by his brand and fell asleep.'], 441.72]\n",
      "['From fairest creatures we desire increase, The little love-god, lying once asleep,'] <class 'list'> 1\n"
     ]
    },
    {
     "name": "stderr",
     "output_type": "stream",
     "text": [
      "100%|█████████████████████████████████████████████| 1/1 [00:00<00:00, 12.59it/s]\n"
     ]
    },
    {
     "name": "stdout",
     "output_type": "stream",
     "text": [
      "['Iacopo', '0', '153', ['From fairest creatures we desire increase, The little love-god, lying once asleep,'], 450.72]\n"
     ]
    },
    {
     "name": "stderr",
     "output_type": "stream",
     "text": [
      "100%|█████████████████████████████████████████████| 1/1 [00:00<00:00,  6.24it/s]\n"
     ]
    },
    {
     "name": "stdout",
     "output_type": "stream",
     "text": [
      "['sadia72', '0', '153', ['From fairest creatures we desire increase, The little love-god, lying once asleep,'], 392.81]\n",
      "['When forty winters shall besiege thy brow From fairest creatures we desire increase,'] <class 'list'> 1\n"
     ]
    },
    {
     "name": "stderr",
     "output_type": "stream",
     "text": [
      "100%|█████████████████████████████████████████████| 1/1 [00:00<00:00, 11.99it/s]\n"
     ]
    },
    {
     "name": "stdout",
     "output_type": "stream",
     "text": [
      "['Iacopo', '1', '0', ['When forty winters shall besiege thy brow From fairest creatures we desire increase,'], 563.15]\n"
     ]
    },
    {
     "name": "stderr",
     "output_type": "stream",
     "text": [
      "100%|█████████████████████████████████████████████| 1/1 [00:00<00:00,  8.88it/s]\n"
     ]
    },
    {
     "name": "stdout",
     "output_type": "stream",
     "text": [
      "['sadia72', '1', '0', ['When forty winters shall besiege thy brow From fairest creatures we desire increase,'], 366.81]\n",
      "['When forty winters shall besiege thy brow Look in thy glass and tell the face thou viewest'] <class 'list'> 1\n"
     ]
    },
    {
     "name": "stderr",
     "output_type": "stream",
     "text": [
      "100%|█████████████████████████████████████████████| 1/1 [00:00<00:00, 12.12it/s]\n"
     ]
    },
    {
     "name": "stdout",
     "output_type": "stream",
     "text": [
      "['Iacopo', '1', '2', ['When forty winters shall besiege thy brow Look in thy glass and tell the face thou viewest'], 200.67]\n"
     ]
    },
    {
     "name": "stderr",
     "output_type": "stream",
     "text": [
      "100%|█████████████████████████████████████████████| 1/1 [00:00<00:00,  5.85it/s]\n"
     ]
    },
    {
     "name": "stdout",
     "output_type": "stream",
     "text": [
      "['sadia72', '1', '2', ['When forty winters shall besiege thy brow Look in thy glass and tell the face thou viewest'], 183.54]\n",
      "['When forty winters shall besiege thy brow Unthrifty loveliness, why dost thou spend'] <class 'list'> 1\n"
     ]
    },
    {
     "name": "stderr",
     "output_type": "stream",
     "text": [
      "100%|█████████████████████████████████████████████| 1/1 [00:00<00:00, 11.77it/s]\n"
     ]
    },
    {
     "name": "stdout",
     "output_type": "stream",
     "text": [
      "['Iacopo', '1', '3', ['When forty winters shall besiege thy brow Unthrifty loveliness, why dost thou spend'], 112.67]\n"
     ]
    },
    {
     "name": "stderr",
     "output_type": "stream",
     "text": [
      "100%|█████████████████████████████████████████████| 1/1 [00:00<00:00,  7.31it/s]\n"
     ]
    },
    {
     "name": "stdout",
     "output_type": "stream",
     "text": [
      "['sadia72', '1', '3', ['When forty winters shall besiege thy brow Unthrifty loveliness, why dost thou spend'], 91.92]\n",
      "['When forty winters shall besiege thy brow Those hours that with gentle work did frame'] <class 'list'> 1\n"
     ]
    },
    {
     "name": "stderr",
     "output_type": "stream",
     "text": [
      "100%|█████████████████████████████████████████████| 1/1 [00:00<00:00, 10.90it/s]\n"
     ]
    },
    {
     "name": "stdout",
     "output_type": "stream",
     "text": [
      "['Iacopo', '1', '4', ['When forty winters shall besiege thy brow Those hours that with gentle work did frame'], 632.4]\n"
     ]
    },
    {
     "ename": "KeyboardInterrupt",
     "evalue": "",
     "output_type": "error",
     "traceback": [
      "\u001b[0;31m---------------------------------------------------------------------------\u001b[0m",
      "\u001b[0;31mKeyboardInterrupt\u001b[0m                         Traceback (most recent call last)",
      "Cell \u001b[0;32mIn[7], line 33\u001b[0m\n\u001b[1;32m     31\u001b[0m perpl_out \u001b[38;5;241m=\u001b[39m []\n\u001b[1;32m     32\u001b[0m perplexity \u001b[38;5;241m=\u001b[39m evaluate\u001b[38;5;241m.\u001b[39mload(\u001b[38;5;124m\"\u001b[39m\u001b[38;5;124mperplexity\u001b[39m\u001b[38;5;124m\"\u001b[39m, module_type\u001b[38;5;241m=\u001b[39m\u001b[38;5;124m\"\u001b[39m\u001b[38;5;124mmetric\u001b[39m\u001b[38;5;124m\"\u001b[39m)\n\u001b[0;32m---> 33\u001b[0m results \u001b[38;5;241m=\u001b[39m \u001b[43mperplexity\u001b[49m\u001b[38;5;241;43m.\u001b[39;49m\u001b[43mcompute\u001b[49m\u001b[43m(\u001b[49m\u001b[43mmodel_id\u001b[49m\u001b[38;5;241;43m=\u001b[39;49m\u001b[38;5;124;43m'\u001b[39;49m\u001b[38;5;124;43msadia72/gpt2-shakespeare\u001b[39;49m\u001b[38;5;124;43m'\u001b[39;49m\u001b[43m,\u001b[49m\n\u001b[1;32m     34\u001b[0m \u001b[43m                 \u001b[49m\u001b[43madd_start_token\u001b[49m\u001b[38;5;241;43m=\u001b[39;49m\u001b[38;5;28;43;01mTrue\u001b[39;49;00m\u001b[43m,\u001b[49m\n\u001b[1;32m     35\u001b[0m \u001b[43m                 \u001b[49m\u001b[43mpredictions\u001b[49m\u001b[38;5;241;43m=\u001b[39;49m\u001b[43mtest_line\u001b[49m\u001b[43m)\u001b[49m\n\u001b[1;32m     36\u001b[0m result \u001b[38;5;241m=\u001b[39m \u001b[38;5;28mround\u001b[39m(results[\u001b[38;5;124m'\u001b[39m\u001b[38;5;124mmean_perplexity\u001b[39m\u001b[38;5;124m'\u001b[39m], \u001b[38;5;241m2\u001b[39m)\n\u001b[1;32m     37\u001b[0m dog \u001b[38;5;241m=\u001b[39m re\u001b[38;5;241m.\u001b[39msearch(\u001b[38;5;124mr\u001b[39m\u001b[38;5;124m'\u001b[39m\u001b[38;5;124m^[0-9]\u001b[39m\u001b[38;5;124m{\u001b[39m\u001b[38;5;124m0,3}\u001b[39m\u001b[38;5;124m'\u001b[39m,i)\n",
      "File \u001b[0;32m~/Library/Python/3.9/lib/python/site-packages/evaluate/module.py:467\u001b[0m, in \u001b[0;36mEvaluationModule.compute\u001b[0;34m(self, predictions, references, **kwargs)\u001b[0m\n\u001b[1;32m    465\u001b[0m inputs \u001b[38;5;241m=\u001b[39m {input_name: \u001b[38;5;28mself\u001b[39m\u001b[38;5;241m.\u001b[39mdata[input_name] \u001b[38;5;28;01mfor\u001b[39;00m input_name \u001b[38;5;129;01min\u001b[39;00m \u001b[38;5;28mself\u001b[39m\u001b[38;5;241m.\u001b[39m_feature_names()}\n\u001b[1;32m    466\u001b[0m \u001b[38;5;28;01mwith\u001b[39;00m temp_seed(\u001b[38;5;28mself\u001b[39m\u001b[38;5;241m.\u001b[39mseed):\n\u001b[0;32m--> 467\u001b[0m     output \u001b[38;5;241m=\u001b[39m \u001b[38;5;28;43mself\u001b[39;49m\u001b[38;5;241;43m.\u001b[39;49m\u001b[43m_compute\u001b[49m\u001b[43m(\u001b[49m\u001b[38;5;241;43m*\u001b[39;49m\u001b[38;5;241;43m*\u001b[39;49m\u001b[43minputs\u001b[49m\u001b[43m,\u001b[49m\u001b[43m \u001b[49m\u001b[38;5;241;43m*\u001b[39;49m\u001b[38;5;241;43m*\u001b[39;49m\u001b[43mcompute_kwargs\u001b[49m\u001b[43m)\u001b[49m\n\u001b[1;32m    469\u001b[0m \u001b[38;5;28;01mif\u001b[39;00m \u001b[38;5;28mself\u001b[39m\u001b[38;5;241m.\u001b[39mbuf_writer \u001b[38;5;129;01mis\u001b[39;00m \u001b[38;5;129;01mnot\u001b[39;00m \u001b[38;5;28;01mNone\u001b[39;00m:\n\u001b[1;32m    470\u001b[0m     \u001b[38;5;28mself\u001b[39m\u001b[38;5;241m.\u001b[39mbuf_writer \u001b[38;5;241m=\u001b[39m \u001b[38;5;28;01mNone\u001b[39;00m\n",
      "File \u001b[0;32m~/.cache/huggingface/modules/evaluate_modules/metrics/evaluate-metric--perplexity/8ab643ad86f568b7d1d5f7822373fa7401ff5ff0297ccf114b0ca6a33be96bc0/perplexity.py:117\u001b[0m, in \u001b[0;36mPerplexity._compute\u001b[0;34m(self, predictions, model_id, batch_size, add_start_token, device, max_length)\u001b[0m\n\u001b[1;32m    114\u001b[0m model \u001b[38;5;241m=\u001b[39m AutoModelForCausalLM\u001b[38;5;241m.\u001b[39mfrom_pretrained(model_id)\n\u001b[1;32m    115\u001b[0m model \u001b[38;5;241m=\u001b[39m model\u001b[38;5;241m.\u001b[39mto(device)\n\u001b[0;32m--> 117\u001b[0m tokenizer \u001b[38;5;241m=\u001b[39m \u001b[43mAutoTokenizer\u001b[49m\u001b[38;5;241;43m.\u001b[39;49m\u001b[43mfrom_pretrained\u001b[49m\u001b[43m(\u001b[49m\u001b[43mmodel_id\u001b[49m\u001b[43m)\u001b[49m\n\u001b[1;32m    119\u001b[0m \u001b[38;5;66;03m# if batch_size > 1 (which generally leads to padding being required), and\u001b[39;00m\n\u001b[1;32m    120\u001b[0m \u001b[38;5;66;03m# if there is not an already assigned pad_token, assign an existing\u001b[39;00m\n\u001b[1;32m    121\u001b[0m \u001b[38;5;66;03m# special token to also be the padding token\u001b[39;00m\n\u001b[1;32m    122\u001b[0m \u001b[38;5;28;01mif\u001b[39;00m tokenizer\u001b[38;5;241m.\u001b[39mpad_token \u001b[38;5;129;01mis\u001b[39;00m \u001b[38;5;28;01mNone\u001b[39;00m \u001b[38;5;129;01mand\u001b[39;00m batch_size \u001b[38;5;241m>\u001b[39m \u001b[38;5;241m1\u001b[39m:\n",
      "File \u001b[0;32m~/Library/Python/3.9/lib/python/site-packages/transformers/models/auto/tokenization_auto.py:857\u001b[0m, in \u001b[0;36mAutoTokenizer.from_pretrained\u001b[0;34m(cls, pretrained_model_name_or_path, *inputs, **kwargs)\u001b[0m\n\u001b[1;32m    854\u001b[0m     \u001b[38;5;28;01mreturn\u001b[39;00m tokenizer_class\u001b[38;5;241m.\u001b[39mfrom_pretrained(pretrained_model_name_or_path, \u001b[38;5;241m*\u001b[39minputs, \u001b[38;5;241m*\u001b[39m\u001b[38;5;241m*\u001b[39mkwargs)\n\u001b[1;32m    856\u001b[0m \u001b[38;5;66;03m# Next, let's try to use the tokenizer_config file to get the tokenizer class.\u001b[39;00m\n\u001b[0;32m--> 857\u001b[0m tokenizer_config \u001b[38;5;241m=\u001b[39m \u001b[43mget_tokenizer_config\u001b[49m\u001b[43m(\u001b[49m\u001b[43mpretrained_model_name_or_path\u001b[49m\u001b[43m,\u001b[49m\u001b[43m \u001b[49m\u001b[38;5;241;43m*\u001b[39;49m\u001b[38;5;241;43m*\u001b[39;49m\u001b[43mkwargs\u001b[49m\u001b[43m)\u001b[49m\n\u001b[1;32m    858\u001b[0m \u001b[38;5;28;01mif\u001b[39;00m \u001b[38;5;124m\"\u001b[39m\u001b[38;5;124m_commit_hash\u001b[39m\u001b[38;5;124m\"\u001b[39m \u001b[38;5;129;01min\u001b[39;00m tokenizer_config:\n\u001b[1;32m    859\u001b[0m     kwargs[\u001b[38;5;124m\"\u001b[39m\u001b[38;5;124m_commit_hash\u001b[39m\u001b[38;5;124m\"\u001b[39m] \u001b[38;5;241m=\u001b[39m tokenizer_config[\u001b[38;5;124m\"\u001b[39m\u001b[38;5;124m_commit_hash\u001b[39m\u001b[38;5;124m\"\u001b[39m]\n",
      "File \u001b[0;32m~/Library/Python/3.9/lib/python/site-packages/transformers/models/auto/tokenization_auto.py:689\u001b[0m, in \u001b[0;36mget_tokenizer_config\u001b[0;34m(pretrained_model_name_or_path, cache_dir, force_download, resume_download, proxies, token, revision, local_files_only, subfolder, **kwargs)\u001b[0m\n\u001b[1;32m    686\u001b[0m     token \u001b[38;5;241m=\u001b[39m use_auth_token\n\u001b[1;32m    688\u001b[0m commit_hash \u001b[38;5;241m=\u001b[39m kwargs\u001b[38;5;241m.\u001b[39mget(\u001b[38;5;124m\"\u001b[39m\u001b[38;5;124m_commit_hash\u001b[39m\u001b[38;5;124m\"\u001b[39m, \u001b[38;5;28;01mNone\u001b[39;00m)\n\u001b[0;32m--> 689\u001b[0m resolved_config_file \u001b[38;5;241m=\u001b[39m \u001b[43mcached_file\u001b[49m\u001b[43m(\u001b[49m\n\u001b[1;32m    690\u001b[0m \u001b[43m    \u001b[49m\u001b[43mpretrained_model_name_or_path\u001b[49m\u001b[43m,\u001b[49m\n\u001b[1;32m    691\u001b[0m \u001b[43m    \u001b[49m\u001b[43mTOKENIZER_CONFIG_FILE\u001b[49m\u001b[43m,\u001b[49m\n\u001b[1;32m    692\u001b[0m \u001b[43m    \u001b[49m\u001b[43mcache_dir\u001b[49m\u001b[38;5;241;43m=\u001b[39;49m\u001b[43mcache_dir\u001b[49m\u001b[43m,\u001b[49m\n\u001b[1;32m    693\u001b[0m \u001b[43m    \u001b[49m\u001b[43mforce_download\u001b[49m\u001b[38;5;241;43m=\u001b[39;49m\u001b[43mforce_download\u001b[49m\u001b[43m,\u001b[49m\n\u001b[1;32m    694\u001b[0m \u001b[43m    \u001b[49m\u001b[43mresume_download\u001b[49m\u001b[38;5;241;43m=\u001b[39;49m\u001b[43mresume_download\u001b[49m\u001b[43m,\u001b[49m\n\u001b[1;32m    695\u001b[0m \u001b[43m    \u001b[49m\u001b[43mproxies\u001b[49m\u001b[38;5;241;43m=\u001b[39;49m\u001b[43mproxies\u001b[49m\u001b[43m,\u001b[49m\n\u001b[1;32m    696\u001b[0m \u001b[43m    \u001b[49m\u001b[43mtoken\u001b[49m\u001b[38;5;241;43m=\u001b[39;49m\u001b[43mtoken\u001b[49m\u001b[43m,\u001b[49m\n\u001b[1;32m    697\u001b[0m \u001b[43m    \u001b[49m\u001b[43mrevision\u001b[49m\u001b[38;5;241;43m=\u001b[39;49m\u001b[43mrevision\u001b[49m\u001b[43m,\u001b[49m\n\u001b[1;32m    698\u001b[0m \u001b[43m    \u001b[49m\u001b[43mlocal_files_only\u001b[49m\u001b[38;5;241;43m=\u001b[39;49m\u001b[43mlocal_files_only\u001b[49m\u001b[43m,\u001b[49m\n\u001b[1;32m    699\u001b[0m \u001b[43m    \u001b[49m\u001b[43msubfolder\u001b[49m\u001b[38;5;241;43m=\u001b[39;49m\u001b[43msubfolder\u001b[49m\u001b[43m,\u001b[49m\n\u001b[1;32m    700\u001b[0m \u001b[43m    \u001b[49m\u001b[43m_raise_exceptions_for_gated_repo\u001b[49m\u001b[38;5;241;43m=\u001b[39;49m\u001b[38;5;28;43;01mFalse\u001b[39;49;00m\u001b[43m,\u001b[49m\n\u001b[1;32m    701\u001b[0m \u001b[43m    \u001b[49m\u001b[43m_raise_exceptions_for_missing_entries\u001b[49m\u001b[38;5;241;43m=\u001b[39;49m\u001b[38;5;28;43;01mFalse\u001b[39;49;00m\u001b[43m,\u001b[49m\n\u001b[1;32m    702\u001b[0m \u001b[43m    \u001b[49m\u001b[43m_raise_exceptions_for_connection_errors\u001b[49m\u001b[38;5;241;43m=\u001b[39;49m\u001b[38;5;28;43;01mFalse\u001b[39;49;00m\u001b[43m,\u001b[49m\n\u001b[1;32m    703\u001b[0m \u001b[43m    \u001b[49m\u001b[43m_commit_hash\u001b[49m\u001b[38;5;241;43m=\u001b[39;49m\u001b[43mcommit_hash\u001b[49m\u001b[43m,\u001b[49m\n\u001b[1;32m    704\u001b[0m \u001b[43m\u001b[49m\u001b[43m)\u001b[49m\n\u001b[1;32m    705\u001b[0m \u001b[38;5;28;01mif\u001b[39;00m resolved_config_file \u001b[38;5;129;01mis\u001b[39;00m \u001b[38;5;28;01mNone\u001b[39;00m:\n\u001b[1;32m    706\u001b[0m     logger\u001b[38;5;241m.\u001b[39minfo(\u001b[38;5;124m\"\u001b[39m\u001b[38;5;124mCould not locate the tokenizer configuration file, will try to use the model config instead.\u001b[39m\u001b[38;5;124m\"\u001b[39m)\n",
      "File \u001b[0;32m~/Library/Python/3.9/lib/python/site-packages/transformers/utils/hub.py:403\u001b[0m, in \u001b[0;36mcached_file\u001b[0;34m(path_or_repo_id, filename, cache_dir, force_download, resume_download, proxies, token, revision, local_files_only, subfolder, repo_type, user_agent, _raise_exceptions_for_gated_repo, _raise_exceptions_for_missing_entries, _raise_exceptions_for_connection_errors, _commit_hash, **deprecated_kwargs)\u001b[0m\n\u001b[1;32m    400\u001b[0m user_agent \u001b[38;5;241m=\u001b[39m http_user_agent(user_agent)\n\u001b[1;32m    401\u001b[0m \u001b[38;5;28;01mtry\u001b[39;00m:\n\u001b[1;32m    402\u001b[0m     \u001b[38;5;66;03m# Load from URL or cache if already cached\u001b[39;00m\n\u001b[0;32m--> 403\u001b[0m     resolved_file \u001b[38;5;241m=\u001b[39m \u001b[43mhf_hub_download\u001b[49m\u001b[43m(\u001b[49m\n\u001b[1;32m    404\u001b[0m \u001b[43m        \u001b[49m\u001b[43mpath_or_repo_id\u001b[49m\u001b[43m,\u001b[49m\n\u001b[1;32m    405\u001b[0m \u001b[43m        \u001b[49m\u001b[43mfilename\u001b[49m\u001b[43m,\u001b[49m\n\u001b[1;32m    406\u001b[0m \u001b[43m        \u001b[49m\u001b[43msubfolder\u001b[49m\u001b[38;5;241;43m=\u001b[39;49m\u001b[38;5;28;43;01mNone\u001b[39;49;00m\u001b[43m \u001b[49m\u001b[38;5;28;43;01mif\u001b[39;49;00m\u001b[43m \u001b[49m\u001b[38;5;28;43mlen\u001b[39;49m\u001b[43m(\u001b[49m\u001b[43msubfolder\u001b[49m\u001b[43m)\u001b[49m\u001b[43m \u001b[49m\u001b[38;5;241;43m==\u001b[39;49m\u001b[43m \u001b[49m\u001b[38;5;241;43m0\u001b[39;49m\u001b[43m \u001b[49m\u001b[38;5;28;43;01melse\u001b[39;49;00m\u001b[43m \u001b[49m\u001b[43msubfolder\u001b[49m\u001b[43m,\u001b[49m\n\u001b[1;32m    407\u001b[0m \u001b[43m        \u001b[49m\u001b[43mrepo_type\u001b[49m\u001b[38;5;241;43m=\u001b[39;49m\u001b[43mrepo_type\u001b[49m\u001b[43m,\u001b[49m\n\u001b[1;32m    408\u001b[0m \u001b[43m        \u001b[49m\u001b[43mrevision\u001b[49m\u001b[38;5;241;43m=\u001b[39;49m\u001b[43mrevision\u001b[49m\u001b[43m,\u001b[49m\n\u001b[1;32m    409\u001b[0m \u001b[43m        \u001b[49m\u001b[43mcache_dir\u001b[49m\u001b[38;5;241;43m=\u001b[39;49m\u001b[43mcache_dir\u001b[49m\u001b[43m,\u001b[49m\n\u001b[1;32m    410\u001b[0m \u001b[43m        \u001b[49m\u001b[43muser_agent\u001b[49m\u001b[38;5;241;43m=\u001b[39;49m\u001b[43muser_agent\u001b[49m\u001b[43m,\u001b[49m\n\u001b[1;32m    411\u001b[0m \u001b[43m        \u001b[49m\u001b[43mforce_download\u001b[49m\u001b[38;5;241;43m=\u001b[39;49m\u001b[43mforce_download\u001b[49m\u001b[43m,\u001b[49m\n\u001b[1;32m    412\u001b[0m \u001b[43m        \u001b[49m\u001b[43mproxies\u001b[49m\u001b[38;5;241;43m=\u001b[39;49m\u001b[43mproxies\u001b[49m\u001b[43m,\u001b[49m\n\u001b[1;32m    413\u001b[0m \u001b[43m        \u001b[49m\u001b[43mresume_download\u001b[49m\u001b[38;5;241;43m=\u001b[39;49m\u001b[43mresume_download\u001b[49m\u001b[43m,\u001b[49m\n\u001b[1;32m    414\u001b[0m \u001b[43m        \u001b[49m\u001b[43mtoken\u001b[49m\u001b[38;5;241;43m=\u001b[39;49m\u001b[43mtoken\u001b[49m\u001b[43m,\u001b[49m\n\u001b[1;32m    415\u001b[0m \u001b[43m        \u001b[49m\u001b[43mlocal_files_only\u001b[49m\u001b[38;5;241;43m=\u001b[39;49m\u001b[43mlocal_files_only\u001b[49m\u001b[43m,\u001b[49m\n\u001b[1;32m    416\u001b[0m \u001b[43m    \u001b[49m\u001b[43m)\u001b[49m\n\u001b[1;32m    417\u001b[0m \u001b[38;5;28;01mexcept\u001b[39;00m GatedRepoError \u001b[38;5;28;01mas\u001b[39;00m e:\n\u001b[1;32m    418\u001b[0m     resolved_file \u001b[38;5;241m=\u001b[39m _get_cache_file_to_return(path_or_repo_id, full_filename, cache_dir, revision)\n",
      "File \u001b[0;32m~/Library/Python/3.9/lib/python/site-packages/huggingface_hub/utils/_deprecation.py:101\u001b[0m, in \u001b[0;36m_deprecate_arguments.<locals>._inner_deprecate_positional_args.<locals>.inner_f\u001b[0;34m(*args, **kwargs)\u001b[0m\n\u001b[1;32m     99\u001b[0m         message \u001b[38;5;241m+\u001b[39m\u001b[38;5;241m=\u001b[39m \u001b[38;5;124m\"\u001b[39m\u001b[38;5;130;01m\\n\u001b[39;00m\u001b[38;5;130;01m\\n\u001b[39;00m\u001b[38;5;124m\"\u001b[39m \u001b[38;5;241m+\u001b[39m custom_message\n\u001b[1;32m    100\u001b[0m     warnings\u001b[38;5;241m.\u001b[39mwarn(message, \u001b[38;5;167;01mFutureWarning\u001b[39;00m)\n\u001b[0;32m--> 101\u001b[0m \u001b[38;5;28;01mreturn\u001b[39;00m \u001b[43mf\u001b[49m\u001b[43m(\u001b[49m\u001b[38;5;241;43m*\u001b[39;49m\u001b[43margs\u001b[49m\u001b[43m,\u001b[49m\u001b[43m \u001b[49m\u001b[38;5;241;43m*\u001b[39;49m\u001b[38;5;241;43m*\u001b[39;49m\u001b[43mkwargs\u001b[49m\u001b[43m)\u001b[49m\n",
      "File \u001b[0;32m~/Library/Python/3.9/lib/python/site-packages/huggingface_hub/utils/_validators.py:114\u001b[0m, in \u001b[0;36mvalidate_hf_hub_args.<locals>._inner_fn\u001b[0;34m(*args, **kwargs)\u001b[0m\n\u001b[1;32m    111\u001b[0m \u001b[38;5;28;01mif\u001b[39;00m check_use_auth_token:\n\u001b[1;32m    112\u001b[0m     kwargs \u001b[38;5;241m=\u001b[39m smoothly_deprecate_use_auth_token(fn_name\u001b[38;5;241m=\u001b[39mfn\u001b[38;5;241m.\u001b[39m\u001b[38;5;18m__name__\u001b[39m, has_token\u001b[38;5;241m=\u001b[39mhas_token, kwargs\u001b[38;5;241m=\u001b[39mkwargs)\n\u001b[0;32m--> 114\u001b[0m \u001b[38;5;28;01mreturn\u001b[39;00m \u001b[43mfn\u001b[49m\u001b[43m(\u001b[49m\u001b[38;5;241;43m*\u001b[39;49m\u001b[43margs\u001b[49m\u001b[43m,\u001b[49m\u001b[43m \u001b[49m\u001b[38;5;241;43m*\u001b[39;49m\u001b[38;5;241;43m*\u001b[39;49m\u001b[43mkwargs\u001b[49m\u001b[43m)\u001b[49m\n",
      "File \u001b[0;32m~/Library/Python/3.9/lib/python/site-packages/huggingface_hub/file_download.py:1240\u001b[0m, in \u001b[0;36mhf_hub_download\u001b[0;34m(repo_id, filename, subfolder, repo_type, revision, library_name, library_version, cache_dir, local_dir, user_agent, force_download, proxies, etag_timeout, token, local_files_only, headers, endpoint, legacy_cache_layout, resume_download, force_filename, local_dir_use_symlinks)\u001b[0m\n\u001b[1;32m   1220\u001b[0m     \u001b[38;5;28;01mreturn\u001b[39;00m _hf_hub_download_to_local_dir(\n\u001b[1;32m   1221\u001b[0m         \u001b[38;5;66;03m# Destination\u001b[39;00m\n\u001b[1;32m   1222\u001b[0m         local_dir\u001b[38;5;241m=\u001b[39mlocal_dir,\n\u001b[0;32m   (...)\u001b[0m\n\u001b[1;32m   1237\u001b[0m         local_files_only\u001b[38;5;241m=\u001b[39mlocal_files_only,\n\u001b[1;32m   1238\u001b[0m     )\n\u001b[1;32m   1239\u001b[0m \u001b[38;5;28;01melse\u001b[39;00m:\n\u001b[0;32m-> 1240\u001b[0m     \u001b[38;5;28;01mreturn\u001b[39;00m \u001b[43m_hf_hub_download_to_cache_dir\u001b[49m\u001b[43m(\u001b[49m\n\u001b[1;32m   1241\u001b[0m \u001b[43m        \u001b[49m\u001b[38;5;66;43;03m# Destination\u001b[39;49;00m\n\u001b[1;32m   1242\u001b[0m \u001b[43m        \u001b[49m\u001b[43mcache_dir\u001b[49m\u001b[38;5;241;43m=\u001b[39;49m\u001b[43mcache_dir\u001b[49m\u001b[43m,\u001b[49m\n\u001b[1;32m   1243\u001b[0m \u001b[43m        \u001b[49m\u001b[38;5;66;43;03m# File info\u001b[39;49;00m\n\u001b[1;32m   1244\u001b[0m \u001b[43m        \u001b[49m\u001b[43mrepo_id\u001b[49m\u001b[38;5;241;43m=\u001b[39;49m\u001b[43mrepo_id\u001b[49m\u001b[43m,\u001b[49m\n\u001b[1;32m   1245\u001b[0m \u001b[43m        \u001b[49m\u001b[43mfilename\u001b[49m\u001b[38;5;241;43m=\u001b[39;49m\u001b[43mfilename\u001b[49m\u001b[43m,\u001b[49m\n\u001b[1;32m   1246\u001b[0m \u001b[43m        \u001b[49m\u001b[43mrepo_type\u001b[49m\u001b[38;5;241;43m=\u001b[39;49m\u001b[43mrepo_type\u001b[49m\u001b[43m,\u001b[49m\n\u001b[1;32m   1247\u001b[0m \u001b[43m        \u001b[49m\u001b[43mrevision\u001b[49m\u001b[38;5;241;43m=\u001b[39;49m\u001b[43mrevision\u001b[49m\u001b[43m,\u001b[49m\n\u001b[1;32m   1248\u001b[0m \u001b[43m        \u001b[49m\u001b[38;5;66;43;03m# HTTP info\u001b[39;49;00m\n\u001b[1;32m   1249\u001b[0m \u001b[43m        \u001b[49m\u001b[43mendpoint\u001b[49m\u001b[38;5;241;43m=\u001b[39;49m\u001b[43mendpoint\u001b[49m\u001b[43m,\u001b[49m\n\u001b[1;32m   1250\u001b[0m \u001b[43m        \u001b[49m\u001b[43metag_timeout\u001b[49m\u001b[38;5;241;43m=\u001b[39;49m\u001b[43metag_timeout\u001b[49m\u001b[43m,\u001b[49m\n\u001b[1;32m   1251\u001b[0m \u001b[43m        \u001b[49m\u001b[43mheaders\u001b[49m\u001b[38;5;241;43m=\u001b[39;49m\u001b[43mheaders\u001b[49m\u001b[43m,\u001b[49m\n\u001b[1;32m   1252\u001b[0m \u001b[43m        \u001b[49m\u001b[43mproxies\u001b[49m\u001b[38;5;241;43m=\u001b[39;49m\u001b[43mproxies\u001b[49m\u001b[43m,\u001b[49m\n\u001b[1;32m   1253\u001b[0m \u001b[43m        \u001b[49m\u001b[43mtoken\u001b[49m\u001b[38;5;241;43m=\u001b[39;49m\u001b[43mtoken\u001b[49m\u001b[43m,\u001b[49m\n\u001b[1;32m   1254\u001b[0m \u001b[43m        \u001b[49m\u001b[38;5;66;43;03m# Additional options\u001b[39;49;00m\n\u001b[1;32m   1255\u001b[0m \u001b[43m        \u001b[49m\u001b[43mlocal_files_only\u001b[49m\u001b[38;5;241;43m=\u001b[39;49m\u001b[43mlocal_files_only\u001b[49m\u001b[43m,\u001b[49m\n\u001b[1;32m   1256\u001b[0m \u001b[43m        \u001b[49m\u001b[43mforce_download\u001b[49m\u001b[38;5;241;43m=\u001b[39;49m\u001b[43mforce_download\u001b[49m\u001b[43m,\u001b[49m\n\u001b[1;32m   1257\u001b[0m \u001b[43m    \u001b[49m\u001b[43m)\u001b[49m\n",
      "File \u001b[0;32m~/Library/Python/3.9/lib/python/site-packages/huggingface_hub/file_download.py:1303\u001b[0m, in \u001b[0;36m_hf_hub_download_to_cache_dir\u001b[0;34m(cache_dir, repo_id, filename, repo_type, revision, endpoint, etag_timeout, headers, proxies, token, local_files_only, force_download)\u001b[0m\n\u001b[1;32m   1299\u001b[0m         \u001b[38;5;28;01mreturn\u001b[39;00m pointer_path\n\u001b[1;32m   1301\u001b[0m \u001b[38;5;66;03m# Try to get metadata (etag, commit_hash, url, size) from the server.\u001b[39;00m\n\u001b[1;32m   1302\u001b[0m \u001b[38;5;66;03m# If we can't, a HEAD request error is returned.\u001b[39;00m\n\u001b[0;32m-> 1303\u001b[0m (url_to_download, etag, commit_hash, expected_size, head_call_error) \u001b[38;5;241m=\u001b[39m \u001b[43m_get_metadata_or_catch_error\u001b[49m\u001b[43m(\u001b[49m\n\u001b[1;32m   1304\u001b[0m \u001b[43m    \u001b[49m\u001b[43mrepo_id\u001b[49m\u001b[38;5;241;43m=\u001b[39;49m\u001b[43mrepo_id\u001b[49m\u001b[43m,\u001b[49m\n\u001b[1;32m   1305\u001b[0m \u001b[43m    \u001b[49m\u001b[43mfilename\u001b[49m\u001b[38;5;241;43m=\u001b[39;49m\u001b[43mfilename\u001b[49m\u001b[43m,\u001b[49m\n\u001b[1;32m   1306\u001b[0m \u001b[43m    \u001b[49m\u001b[43mrepo_type\u001b[49m\u001b[38;5;241;43m=\u001b[39;49m\u001b[43mrepo_type\u001b[49m\u001b[43m,\u001b[49m\n\u001b[1;32m   1307\u001b[0m \u001b[43m    \u001b[49m\u001b[43mrevision\u001b[49m\u001b[38;5;241;43m=\u001b[39;49m\u001b[43mrevision\u001b[49m\u001b[43m,\u001b[49m\n\u001b[1;32m   1308\u001b[0m \u001b[43m    \u001b[49m\u001b[43mendpoint\u001b[49m\u001b[38;5;241;43m=\u001b[39;49m\u001b[43mendpoint\u001b[49m\u001b[43m,\u001b[49m\n\u001b[1;32m   1309\u001b[0m \u001b[43m    \u001b[49m\u001b[43mproxies\u001b[49m\u001b[38;5;241;43m=\u001b[39;49m\u001b[43mproxies\u001b[49m\u001b[43m,\u001b[49m\n\u001b[1;32m   1310\u001b[0m \u001b[43m    \u001b[49m\u001b[43metag_timeout\u001b[49m\u001b[38;5;241;43m=\u001b[39;49m\u001b[43metag_timeout\u001b[49m\u001b[43m,\u001b[49m\n\u001b[1;32m   1311\u001b[0m \u001b[43m    \u001b[49m\u001b[43mheaders\u001b[49m\u001b[38;5;241;43m=\u001b[39;49m\u001b[43mheaders\u001b[49m\u001b[43m,\u001b[49m\n\u001b[1;32m   1312\u001b[0m \u001b[43m    \u001b[49m\u001b[43mtoken\u001b[49m\u001b[38;5;241;43m=\u001b[39;49m\u001b[43mtoken\u001b[49m\u001b[43m,\u001b[49m\n\u001b[1;32m   1313\u001b[0m \u001b[43m    \u001b[49m\u001b[43mlocal_files_only\u001b[49m\u001b[38;5;241;43m=\u001b[39;49m\u001b[43mlocal_files_only\u001b[49m\u001b[43m,\u001b[49m\n\u001b[1;32m   1314\u001b[0m \u001b[43m    \u001b[49m\u001b[43mstorage_folder\u001b[49m\u001b[38;5;241;43m=\u001b[39;49m\u001b[43mstorage_folder\u001b[49m\u001b[43m,\u001b[49m\n\u001b[1;32m   1315\u001b[0m \u001b[43m    \u001b[49m\u001b[43mrelative_filename\u001b[49m\u001b[38;5;241;43m=\u001b[39;49m\u001b[43mrelative_filename\u001b[49m\u001b[43m,\u001b[49m\n\u001b[1;32m   1316\u001b[0m \u001b[43m\u001b[49m\u001b[43m)\u001b[49m\n\u001b[1;32m   1318\u001b[0m \u001b[38;5;66;03m# etag can be None for several reasons:\u001b[39;00m\n\u001b[1;32m   1319\u001b[0m \u001b[38;5;66;03m# 1. we passed local_files_only.\u001b[39;00m\n\u001b[1;32m   1320\u001b[0m \u001b[38;5;66;03m# 2. we don't have a connection\u001b[39;00m\n\u001b[0;32m   (...)\u001b[0m\n\u001b[1;32m   1326\u001b[0m \u001b[38;5;66;03m# If the specified revision is a commit hash, look inside \"snapshots\".\u001b[39;00m\n\u001b[1;32m   1327\u001b[0m \u001b[38;5;66;03m# If the specified revision is a branch or tag, look inside \"refs\".\u001b[39;00m\n\u001b[1;32m   1328\u001b[0m \u001b[38;5;28;01mif\u001b[39;00m head_call_error \u001b[38;5;129;01mis\u001b[39;00m \u001b[38;5;129;01mnot\u001b[39;00m \u001b[38;5;28;01mNone\u001b[39;00m:\n\u001b[1;32m   1329\u001b[0m     \u001b[38;5;66;03m# Couldn't make a HEAD call => let's try to find a local file\u001b[39;00m\n",
      "File \u001b[0;32m~/Library/Python/3.9/lib/python/site-packages/huggingface_hub/file_download.py:1751\u001b[0m, in \u001b[0;36m_get_metadata_or_catch_error\u001b[0;34m(repo_id, filename, repo_type, revision, endpoint, proxies, etag_timeout, headers, token, local_files_only, relative_filename, storage_folder)\u001b[0m\n\u001b[1;32m   1749\u001b[0m \u001b[38;5;28;01mtry\u001b[39;00m:\n\u001b[1;32m   1750\u001b[0m     \u001b[38;5;28;01mtry\u001b[39;00m:\n\u001b[0;32m-> 1751\u001b[0m         metadata \u001b[38;5;241m=\u001b[39m \u001b[43mget_hf_file_metadata\u001b[49m\u001b[43m(\u001b[49m\n\u001b[1;32m   1752\u001b[0m \u001b[43m            \u001b[49m\u001b[43murl\u001b[49m\u001b[38;5;241;43m=\u001b[39;49m\u001b[43murl\u001b[49m\u001b[43m,\u001b[49m\u001b[43m \u001b[49m\u001b[43mproxies\u001b[49m\u001b[38;5;241;43m=\u001b[39;49m\u001b[43mproxies\u001b[49m\u001b[43m,\u001b[49m\u001b[43m \u001b[49m\u001b[43mtimeout\u001b[49m\u001b[38;5;241;43m=\u001b[39;49m\u001b[43metag_timeout\u001b[49m\u001b[43m,\u001b[49m\u001b[43m \u001b[49m\u001b[43mheaders\u001b[49m\u001b[38;5;241;43m=\u001b[39;49m\u001b[43mheaders\u001b[49m\u001b[43m,\u001b[49m\u001b[43m \u001b[49m\u001b[43mtoken\u001b[49m\u001b[38;5;241;43m=\u001b[39;49m\u001b[43mtoken\u001b[49m\n\u001b[1;32m   1753\u001b[0m \u001b[43m        \u001b[49m\u001b[43m)\u001b[49m\n\u001b[1;32m   1754\u001b[0m     \u001b[38;5;28;01mexcept\u001b[39;00m EntryNotFoundError \u001b[38;5;28;01mas\u001b[39;00m http_error:\n\u001b[1;32m   1755\u001b[0m         \u001b[38;5;28;01mif\u001b[39;00m storage_folder \u001b[38;5;129;01mis\u001b[39;00m \u001b[38;5;129;01mnot\u001b[39;00m \u001b[38;5;28;01mNone\u001b[39;00m \u001b[38;5;129;01mand\u001b[39;00m relative_filename \u001b[38;5;129;01mis\u001b[39;00m \u001b[38;5;129;01mnot\u001b[39;00m \u001b[38;5;28;01mNone\u001b[39;00m:\n\u001b[1;32m   1756\u001b[0m             \u001b[38;5;66;03m# Cache the non-existence of the file\u001b[39;00m\n",
      "File \u001b[0;32m~/Library/Python/3.9/lib/python/site-packages/huggingface_hub/utils/_validators.py:114\u001b[0m, in \u001b[0;36mvalidate_hf_hub_args.<locals>._inner_fn\u001b[0;34m(*args, **kwargs)\u001b[0m\n\u001b[1;32m    111\u001b[0m \u001b[38;5;28;01mif\u001b[39;00m check_use_auth_token:\n\u001b[1;32m    112\u001b[0m     kwargs \u001b[38;5;241m=\u001b[39m smoothly_deprecate_use_auth_token(fn_name\u001b[38;5;241m=\u001b[39mfn\u001b[38;5;241m.\u001b[39m\u001b[38;5;18m__name__\u001b[39m, has_token\u001b[38;5;241m=\u001b[39mhas_token, kwargs\u001b[38;5;241m=\u001b[39mkwargs)\n\u001b[0;32m--> 114\u001b[0m \u001b[38;5;28;01mreturn\u001b[39;00m \u001b[43mfn\u001b[49m\u001b[43m(\u001b[49m\u001b[38;5;241;43m*\u001b[39;49m\u001b[43margs\u001b[49m\u001b[43m,\u001b[49m\u001b[43m \u001b[49m\u001b[38;5;241;43m*\u001b[39;49m\u001b[38;5;241;43m*\u001b[39;49m\u001b[43mkwargs\u001b[49m\u001b[43m)\u001b[49m\n",
      "File \u001b[0;32m~/Library/Python/3.9/lib/python/site-packages/huggingface_hub/file_download.py:1673\u001b[0m, in \u001b[0;36mget_hf_file_metadata\u001b[0;34m(url, token, proxies, timeout, library_name, library_version, user_agent, headers)\u001b[0m\n\u001b[1;32m   1670\u001b[0m headers[\u001b[38;5;124m\"\u001b[39m\u001b[38;5;124mAccept-Encoding\u001b[39m\u001b[38;5;124m\"\u001b[39m] \u001b[38;5;241m=\u001b[39m \u001b[38;5;124m\"\u001b[39m\u001b[38;5;124midentity\u001b[39m\u001b[38;5;124m\"\u001b[39m  \u001b[38;5;66;03m# prevent any compression => we want to know the real size of the file\u001b[39;00m\n\u001b[1;32m   1672\u001b[0m \u001b[38;5;66;03m# Retrieve metadata\u001b[39;00m\n\u001b[0;32m-> 1673\u001b[0m r \u001b[38;5;241m=\u001b[39m \u001b[43m_request_wrapper\u001b[49m\u001b[43m(\u001b[49m\n\u001b[1;32m   1674\u001b[0m \u001b[43m    \u001b[49m\u001b[43mmethod\u001b[49m\u001b[38;5;241;43m=\u001b[39;49m\u001b[38;5;124;43m\"\u001b[39;49m\u001b[38;5;124;43mHEAD\u001b[39;49m\u001b[38;5;124;43m\"\u001b[39;49m\u001b[43m,\u001b[49m\n\u001b[1;32m   1675\u001b[0m \u001b[43m    \u001b[49m\u001b[43murl\u001b[49m\u001b[38;5;241;43m=\u001b[39;49m\u001b[43murl\u001b[49m\u001b[43m,\u001b[49m\n\u001b[1;32m   1676\u001b[0m \u001b[43m    \u001b[49m\u001b[43mheaders\u001b[49m\u001b[38;5;241;43m=\u001b[39;49m\u001b[43mheaders\u001b[49m\u001b[43m,\u001b[49m\n\u001b[1;32m   1677\u001b[0m \u001b[43m    \u001b[49m\u001b[43mallow_redirects\u001b[49m\u001b[38;5;241;43m=\u001b[39;49m\u001b[38;5;28;43;01mFalse\u001b[39;49;00m\u001b[43m,\u001b[49m\n\u001b[1;32m   1678\u001b[0m \u001b[43m    \u001b[49m\u001b[43mfollow_relative_redirects\u001b[49m\u001b[38;5;241;43m=\u001b[39;49m\u001b[38;5;28;43;01mTrue\u001b[39;49;00m\u001b[43m,\u001b[49m\n\u001b[1;32m   1679\u001b[0m \u001b[43m    \u001b[49m\u001b[43mproxies\u001b[49m\u001b[38;5;241;43m=\u001b[39;49m\u001b[43mproxies\u001b[49m\u001b[43m,\u001b[49m\n\u001b[1;32m   1680\u001b[0m \u001b[43m    \u001b[49m\u001b[43mtimeout\u001b[49m\u001b[38;5;241;43m=\u001b[39;49m\u001b[43mtimeout\u001b[49m\u001b[43m,\u001b[49m\n\u001b[1;32m   1681\u001b[0m \u001b[43m\u001b[49m\u001b[43m)\u001b[49m\n\u001b[1;32m   1682\u001b[0m hf_raise_for_status(r)\n\u001b[1;32m   1684\u001b[0m \u001b[38;5;66;03m# Return\u001b[39;00m\n",
      "File \u001b[0;32m~/Library/Python/3.9/lib/python/site-packages/huggingface_hub/file_download.py:376\u001b[0m, in \u001b[0;36m_request_wrapper\u001b[0;34m(method, url, follow_relative_redirects, **params)\u001b[0m\n\u001b[1;32m    374\u001b[0m \u001b[38;5;66;03m# Recursively follow relative redirects\u001b[39;00m\n\u001b[1;32m    375\u001b[0m \u001b[38;5;28;01mif\u001b[39;00m follow_relative_redirects:\n\u001b[0;32m--> 376\u001b[0m     response \u001b[38;5;241m=\u001b[39m \u001b[43m_request_wrapper\u001b[49m\u001b[43m(\u001b[49m\n\u001b[1;32m    377\u001b[0m \u001b[43m        \u001b[49m\u001b[43mmethod\u001b[49m\u001b[38;5;241;43m=\u001b[39;49m\u001b[43mmethod\u001b[49m\u001b[43m,\u001b[49m\n\u001b[1;32m    378\u001b[0m \u001b[43m        \u001b[49m\u001b[43murl\u001b[49m\u001b[38;5;241;43m=\u001b[39;49m\u001b[43murl\u001b[49m\u001b[43m,\u001b[49m\n\u001b[1;32m    379\u001b[0m \u001b[43m        \u001b[49m\u001b[43mfollow_relative_redirects\u001b[49m\u001b[38;5;241;43m=\u001b[39;49m\u001b[38;5;28;43;01mFalse\u001b[39;49;00m\u001b[43m,\u001b[49m\n\u001b[1;32m    380\u001b[0m \u001b[43m        \u001b[49m\u001b[38;5;241;43m*\u001b[39;49m\u001b[38;5;241;43m*\u001b[39;49m\u001b[43mparams\u001b[49m\u001b[43m,\u001b[49m\n\u001b[1;32m    381\u001b[0m \u001b[43m    \u001b[49m\u001b[43m)\u001b[49m\n\u001b[1;32m    383\u001b[0m     \u001b[38;5;66;03m# If redirection, we redirect only relative paths.\u001b[39;00m\n\u001b[1;32m    384\u001b[0m     \u001b[38;5;66;03m# This is useful in case of a renamed repository.\u001b[39;00m\n\u001b[1;32m    385\u001b[0m     \u001b[38;5;28;01mif\u001b[39;00m \u001b[38;5;241m300\u001b[39m \u001b[38;5;241m<\u001b[39m\u001b[38;5;241m=\u001b[39m response\u001b[38;5;241m.\u001b[39mstatus_code \u001b[38;5;241m<\u001b[39m\u001b[38;5;241m=\u001b[39m \u001b[38;5;241m399\u001b[39m:\n",
      "File \u001b[0;32m~/Library/Python/3.9/lib/python/site-packages/huggingface_hub/file_download.py:399\u001b[0m, in \u001b[0;36m_request_wrapper\u001b[0;34m(method, url, follow_relative_redirects, **params)\u001b[0m\n\u001b[1;32m    396\u001b[0m     \u001b[38;5;28;01mreturn\u001b[39;00m response\n\u001b[1;32m    398\u001b[0m \u001b[38;5;66;03m# Perform request and return if status_code is not in the retry list.\u001b[39;00m\n\u001b[0;32m--> 399\u001b[0m response \u001b[38;5;241m=\u001b[39m \u001b[43mget_session\u001b[49m\u001b[43m(\u001b[49m\u001b[43m)\u001b[49m\u001b[38;5;241;43m.\u001b[39;49m\u001b[43mrequest\u001b[49m\u001b[43m(\u001b[49m\u001b[43mmethod\u001b[49m\u001b[38;5;241;43m=\u001b[39;49m\u001b[43mmethod\u001b[49m\u001b[43m,\u001b[49m\u001b[43m \u001b[49m\u001b[43murl\u001b[49m\u001b[38;5;241;43m=\u001b[39;49m\u001b[43murl\u001b[49m\u001b[43m,\u001b[49m\u001b[43m \u001b[49m\u001b[38;5;241;43m*\u001b[39;49m\u001b[38;5;241;43m*\u001b[39;49m\u001b[43mparams\u001b[49m\u001b[43m)\u001b[49m\n\u001b[1;32m    400\u001b[0m hf_raise_for_status(response)\n\u001b[1;32m    401\u001b[0m \u001b[38;5;28;01mreturn\u001b[39;00m response\n",
      "File \u001b[0;32m~/Library/Python/3.9/lib/python/site-packages/requests/sessions.py:589\u001b[0m, in \u001b[0;36mSession.request\u001b[0;34m(self, method, url, params, data, headers, cookies, files, auth, timeout, allow_redirects, proxies, hooks, stream, verify, cert, json)\u001b[0m\n\u001b[1;32m    584\u001b[0m send_kwargs \u001b[38;5;241m=\u001b[39m {\n\u001b[1;32m    585\u001b[0m     \u001b[38;5;124m\"\u001b[39m\u001b[38;5;124mtimeout\u001b[39m\u001b[38;5;124m\"\u001b[39m: timeout,\n\u001b[1;32m    586\u001b[0m     \u001b[38;5;124m\"\u001b[39m\u001b[38;5;124mallow_redirects\u001b[39m\u001b[38;5;124m\"\u001b[39m: allow_redirects,\n\u001b[1;32m    587\u001b[0m }\n\u001b[1;32m    588\u001b[0m send_kwargs\u001b[38;5;241m.\u001b[39mupdate(settings)\n\u001b[0;32m--> 589\u001b[0m resp \u001b[38;5;241m=\u001b[39m \u001b[38;5;28;43mself\u001b[39;49m\u001b[38;5;241;43m.\u001b[39;49m\u001b[43msend\u001b[49m\u001b[43m(\u001b[49m\u001b[43mprep\u001b[49m\u001b[43m,\u001b[49m\u001b[43m \u001b[49m\u001b[38;5;241;43m*\u001b[39;49m\u001b[38;5;241;43m*\u001b[39;49m\u001b[43msend_kwargs\u001b[49m\u001b[43m)\u001b[49m\n\u001b[1;32m    591\u001b[0m \u001b[38;5;28;01mreturn\u001b[39;00m resp\n",
      "File \u001b[0;32m~/Library/Python/3.9/lib/python/site-packages/requests/sessions.py:703\u001b[0m, in \u001b[0;36mSession.send\u001b[0;34m(self, request, **kwargs)\u001b[0m\n\u001b[1;32m    700\u001b[0m start \u001b[38;5;241m=\u001b[39m preferred_clock()\n\u001b[1;32m    702\u001b[0m \u001b[38;5;66;03m# Send the request\u001b[39;00m\n\u001b[0;32m--> 703\u001b[0m r \u001b[38;5;241m=\u001b[39m \u001b[43madapter\u001b[49m\u001b[38;5;241;43m.\u001b[39;49m\u001b[43msend\u001b[49m\u001b[43m(\u001b[49m\u001b[43mrequest\u001b[49m\u001b[43m,\u001b[49m\u001b[43m \u001b[49m\u001b[38;5;241;43m*\u001b[39;49m\u001b[38;5;241;43m*\u001b[39;49m\u001b[43mkwargs\u001b[49m\u001b[43m)\u001b[49m\n\u001b[1;32m    705\u001b[0m \u001b[38;5;66;03m# Total elapsed time of the request (approximately)\u001b[39;00m\n\u001b[1;32m    706\u001b[0m elapsed \u001b[38;5;241m=\u001b[39m preferred_clock() \u001b[38;5;241m-\u001b[39m start\n",
      "File \u001b[0;32m~/Library/Python/3.9/lib/python/site-packages/huggingface_hub/utils/_http.py:66\u001b[0m, in \u001b[0;36mUniqueRequestIdAdapter.send\u001b[0;34m(self, request, *args, **kwargs)\u001b[0m\n\u001b[1;32m     64\u001b[0m \u001b[38;5;250m\u001b[39m\u001b[38;5;124;03m\"\"\"Catch any RequestException to append request id to the error message for debugging.\"\"\"\u001b[39;00m\n\u001b[1;32m     65\u001b[0m \u001b[38;5;28;01mtry\u001b[39;00m:\n\u001b[0;32m---> 66\u001b[0m     \u001b[38;5;28;01mreturn\u001b[39;00m \u001b[38;5;28;43msuper\u001b[39;49m\u001b[43m(\u001b[49m\u001b[43m)\u001b[49m\u001b[38;5;241;43m.\u001b[39;49m\u001b[43msend\u001b[49m\u001b[43m(\u001b[49m\u001b[43mrequest\u001b[49m\u001b[43m,\u001b[49m\u001b[43m \u001b[49m\u001b[38;5;241;43m*\u001b[39;49m\u001b[43margs\u001b[49m\u001b[43m,\u001b[49m\u001b[43m \u001b[49m\u001b[38;5;241;43m*\u001b[39;49m\u001b[38;5;241;43m*\u001b[39;49m\u001b[43mkwargs\u001b[49m\u001b[43m)\u001b[49m\n\u001b[1;32m     67\u001b[0m \u001b[38;5;28;01mexcept\u001b[39;00m requests\u001b[38;5;241m.\u001b[39mRequestException \u001b[38;5;28;01mas\u001b[39;00m e:\n\u001b[1;32m     68\u001b[0m     request_id \u001b[38;5;241m=\u001b[39m request\u001b[38;5;241m.\u001b[39mheaders\u001b[38;5;241m.\u001b[39mget(X_AMZN_TRACE_ID)\n",
      "File \u001b[0;32m~/Library/Python/3.9/lib/python/site-packages/requests/adapters.py:667\u001b[0m, in \u001b[0;36mHTTPAdapter.send\u001b[0;34m(self, request, stream, timeout, verify, cert, proxies)\u001b[0m\n\u001b[1;32m    664\u001b[0m     timeout \u001b[38;5;241m=\u001b[39m TimeoutSauce(connect\u001b[38;5;241m=\u001b[39mtimeout, read\u001b[38;5;241m=\u001b[39mtimeout)\n\u001b[1;32m    666\u001b[0m \u001b[38;5;28;01mtry\u001b[39;00m:\n\u001b[0;32m--> 667\u001b[0m     resp \u001b[38;5;241m=\u001b[39m \u001b[43mconn\u001b[49m\u001b[38;5;241;43m.\u001b[39;49m\u001b[43murlopen\u001b[49m\u001b[43m(\u001b[49m\n\u001b[1;32m    668\u001b[0m \u001b[43m        \u001b[49m\u001b[43mmethod\u001b[49m\u001b[38;5;241;43m=\u001b[39;49m\u001b[43mrequest\u001b[49m\u001b[38;5;241;43m.\u001b[39;49m\u001b[43mmethod\u001b[49m\u001b[43m,\u001b[49m\n\u001b[1;32m    669\u001b[0m \u001b[43m        \u001b[49m\u001b[43murl\u001b[49m\u001b[38;5;241;43m=\u001b[39;49m\u001b[43murl\u001b[49m\u001b[43m,\u001b[49m\n\u001b[1;32m    670\u001b[0m \u001b[43m        \u001b[49m\u001b[43mbody\u001b[49m\u001b[38;5;241;43m=\u001b[39;49m\u001b[43mrequest\u001b[49m\u001b[38;5;241;43m.\u001b[39;49m\u001b[43mbody\u001b[49m\u001b[43m,\u001b[49m\n\u001b[1;32m    671\u001b[0m \u001b[43m        \u001b[49m\u001b[43mheaders\u001b[49m\u001b[38;5;241;43m=\u001b[39;49m\u001b[43mrequest\u001b[49m\u001b[38;5;241;43m.\u001b[39;49m\u001b[43mheaders\u001b[49m\u001b[43m,\u001b[49m\n\u001b[1;32m    672\u001b[0m \u001b[43m        \u001b[49m\u001b[43mredirect\u001b[49m\u001b[38;5;241;43m=\u001b[39;49m\u001b[38;5;28;43;01mFalse\u001b[39;49;00m\u001b[43m,\u001b[49m\n\u001b[1;32m    673\u001b[0m \u001b[43m        \u001b[49m\u001b[43massert_same_host\u001b[49m\u001b[38;5;241;43m=\u001b[39;49m\u001b[38;5;28;43;01mFalse\u001b[39;49;00m\u001b[43m,\u001b[49m\n\u001b[1;32m    674\u001b[0m \u001b[43m        \u001b[49m\u001b[43mpreload_content\u001b[49m\u001b[38;5;241;43m=\u001b[39;49m\u001b[38;5;28;43;01mFalse\u001b[39;49;00m\u001b[43m,\u001b[49m\n\u001b[1;32m    675\u001b[0m \u001b[43m        \u001b[49m\u001b[43mdecode_content\u001b[49m\u001b[38;5;241;43m=\u001b[39;49m\u001b[38;5;28;43;01mFalse\u001b[39;49;00m\u001b[43m,\u001b[49m\n\u001b[1;32m    676\u001b[0m \u001b[43m        \u001b[49m\u001b[43mretries\u001b[49m\u001b[38;5;241;43m=\u001b[39;49m\u001b[38;5;28;43mself\u001b[39;49m\u001b[38;5;241;43m.\u001b[39;49m\u001b[43mmax_retries\u001b[49m\u001b[43m,\u001b[49m\n\u001b[1;32m    677\u001b[0m \u001b[43m        \u001b[49m\u001b[43mtimeout\u001b[49m\u001b[38;5;241;43m=\u001b[39;49m\u001b[43mtimeout\u001b[49m\u001b[43m,\u001b[49m\n\u001b[1;32m    678\u001b[0m \u001b[43m        \u001b[49m\u001b[43mchunked\u001b[49m\u001b[38;5;241;43m=\u001b[39;49m\u001b[43mchunked\u001b[49m\u001b[43m,\u001b[49m\n\u001b[1;32m    679\u001b[0m \u001b[43m    \u001b[49m\u001b[43m)\u001b[49m\n\u001b[1;32m    681\u001b[0m \u001b[38;5;28;01mexcept\u001b[39;00m (ProtocolError, \u001b[38;5;167;01mOSError\u001b[39;00m) \u001b[38;5;28;01mas\u001b[39;00m err:\n\u001b[1;32m    682\u001b[0m     \u001b[38;5;28;01mraise\u001b[39;00m \u001b[38;5;167;01mConnectionError\u001b[39;00m(err, request\u001b[38;5;241m=\u001b[39mrequest)\n",
      "File \u001b[0;32m~/Library/Python/3.9/lib/python/site-packages/urllib3/connectionpool.py:716\u001b[0m, in \u001b[0;36mHTTPConnectionPool.urlopen\u001b[0;34m(self, method, url, body, headers, retries, redirect, assert_same_host, timeout, pool_timeout, release_conn, chunked, body_pos, **response_kw)\u001b[0m\n\u001b[1;32m    713\u001b[0m     \u001b[38;5;28mself\u001b[39m\u001b[38;5;241m.\u001b[39m_prepare_proxy(conn)\n\u001b[1;32m    715\u001b[0m \u001b[38;5;66;03m# Make the request on the httplib connection object.\u001b[39;00m\n\u001b[0;32m--> 716\u001b[0m httplib_response \u001b[38;5;241m=\u001b[39m \u001b[38;5;28;43mself\u001b[39;49m\u001b[38;5;241;43m.\u001b[39;49m\u001b[43m_make_request\u001b[49m\u001b[43m(\u001b[49m\n\u001b[1;32m    717\u001b[0m \u001b[43m    \u001b[49m\u001b[43mconn\u001b[49m\u001b[43m,\u001b[49m\n\u001b[1;32m    718\u001b[0m \u001b[43m    \u001b[49m\u001b[43mmethod\u001b[49m\u001b[43m,\u001b[49m\n\u001b[1;32m    719\u001b[0m \u001b[43m    \u001b[49m\u001b[43murl\u001b[49m\u001b[43m,\u001b[49m\n\u001b[1;32m    720\u001b[0m \u001b[43m    \u001b[49m\u001b[43mtimeout\u001b[49m\u001b[38;5;241;43m=\u001b[39;49m\u001b[43mtimeout_obj\u001b[49m\u001b[43m,\u001b[49m\n\u001b[1;32m    721\u001b[0m \u001b[43m    \u001b[49m\u001b[43mbody\u001b[49m\u001b[38;5;241;43m=\u001b[39;49m\u001b[43mbody\u001b[49m\u001b[43m,\u001b[49m\n\u001b[1;32m    722\u001b[0m \u001b[43m    \u001b[49m\u001b[43mheaders\u001b[49m\u001b[38;5;241;43m=\u001b[39;49m\u001b[43mheaders\u001b[49m\u001b[43m,\u001b[49m\n\u001b[1;32m    723\u001b[0m \u001b[43m    \u001b[49m\u001b[43mchunked\u001b[49m\u001b[38;5;241;43m=\u001b[39;49m\u001b[43mchunked\u001b[49m\u001b[43m,\u001b[49m\n\u001b[1;32m    724\u001b[0m \u001b[43m\u001b[49m\u001b[43m)\u001b[49m\n\u001b[1;32m    726\u001b[0m \u001b[38;5;66;03m# If we're going to release the connection in ``finally:``, then\u001b[39;00m\n\u001b[1;32m    727\u001b[0m \u001b[38;5;66;03m# the response doesn't need to know about the connection. Otherwise\u001b[39;00m\n\u001b[1;32m    728\u001b[0m \u001b[38;5;66;03m# it will also try to release it and we'll have a double-release\u001b[39;00m\n\u001b[1;32m    729\u001b[0m \u001b[38;5;66;03m# mess.\u001b[39;00m\n\u001b[1;32m    730\u001b[0m response_conn \u001b[38;5;241m=\u001b[39m conn \u001b[38;5;28;01mif\u001b[39;00m \u001b[38;5;129;01mnot\u001b[39;00m release_conn \u001b[38;5;28;01melse\u001b[39;00m \u001b[38;5;28;01mNone\u001b[39;00m\n",
      "File \u001b[0;32m~/Library/Python/3.9/lib/python/site-packages/urllib3/connectionpool.py:468\u001b[0m, in \u001b[0;36mHTTPConnectionPool._make_request\u001b[0;34m(self, conn, method, url, timeout, chunked, **httplib_request_kw)\u001b[0m\n\u001b[1;32m    463\u001b[0m             httplib_response \u001b[38;5;241m=\u001b[39m conn\u001b[38;5;241m.\u001b[39mgetresponse()\n\u001b[1;32m    464\u001b[0m         \u001b[38;5;28;01mexcept\u001b[39;00m \u001b[38;5;167;01mBaseException\u001b[39;00m \u001b[38;5;28;01mas\u001b[39;00m e:\n\u001b[1;32m    465\u001b[0m             \u001b[38;5;66;03m# Remove the TypeError from the exception chain in\u001b[39;00m\n\u001b[1;32m    466\u001b[0m             \u001b[38;5;66;03m# Python 3 (including for exceptions like SystemExit).\u001b[39;00m\n\u001b[1;32m    467\u001b[0m             \u001b[38;5;66;03m# Otherwise it looks like a bug in the code.\u001b[39;00m\n\u001b[0;32m--> 468\u001b[0m             \u001b[43msix\u001b[49m\u001b[38;5;241;43m.\u001b[39;49m\u001b[43mraise_from\u001b[49m\u001b[43m(\u001b[49m\u001b[43me\u001b[49m\u001b[43m,\u001b[49m\u001b[43m \u001b[49m\u001b[38;5;28;43;01mNone\u001b[39;49;00m\u001b[43m)\u001b[49m\n\u001b[1;32m    469\u001b[0m \u001b[38;5;28;01mexcept\u001b[39;00m (SocketTimeout, BaseSSLError, SocketError) \u001b[38;5;28;01mas\u001b[39;00m e:\n\u001b[1;32m    470\u001b[0m     \u001b[38;5;28mself\u001b[39m\u001b[38;5;241m.\u001b[39m_raise_timeout(err\u001b[38;5;241m=\u001b[39me, url\u001b[38;5;241m=\u001b[39murl, timeout_value\u001b[38;5;241m=\u001b[39mread_timeout)\n",
      "File \u001b[0;32m<string>:3\u001b[0m, in \u001b[0;36mraise_from\u001b[0;34m(value, from_value)\u001b[0m\n",
      "File \u001b[0;32m~/Library/Python/3.9/lib/python/site-packages/urllib3/connectionpool.py:463\u001b[0m, in \u001b[0;36mHTTPConnectionPool._make_request\u001b[0;34m(self, conn, method, url, timeout, chunked, **httplib_request_kw)\u001b[0m\n\u001b[1;32m    460\u001b[0m \u001b[38;5;28;01mexcept\u001b[39;00m \u001b[38;5;167;01mTypeError\u001b[39;00m:\n\u001b[1;32m    461\u001b[0m     \u001b[38;5;66;03m# Python 3\u001b[39;00m\n\u001b[1;32m    462\u001b[0m     \u001b[38;5;28;01mtry\u001b[39;00m:\n\u001b[0;32m--> 463\u001b[0m         httplib_response \u001b[38;5;241m=\u001b[39m \u001b[43mconn\u001b[49m\u001b[38;5;241;43m.\u001b[39;49m\u001b[43mgetresponse\u001b[49m\u001b[43m(\u001b[49m\u001b[43m)\u001b[49m\n\u001b[1;32m    464\u001b[0m     \u001b[38;5;28;01mexcept\u001b[39;00m \u001b[38;5;167;01mBaseException\u001b[39;00m \u001b[38;5;28;01mas\u001b[39;00m e:\n\u001b[1;32m    465\u001b[0m         \u001b[38;5;66;03m# Remove the TypeError from the exception chain in\u001b[39;00m\n\u001b[1;32m    466\u001b[0m         \u001b[38;5;66;03m# Python 3 (including for exceptions like SystemExit).\u001b[39;00m\n\u001b[1;32m    467\u001b[0m         \u001b[38;5;66;03m# Otherwise it looks like a bug in the code.\u001b[39;00m\n\u001b[1;32m    468\u001b[0m         six\u001b[38;5;241m.\u001b[39mraise_from(e, \u001b[38;5;28;01mNone\u001b[39;00m)\n",
      "File \u001b[0;32m/Library/Developer/CommandLineTools/Library/Frameworks/Python3.framework/Versions/3.9/lib/python3.9/http/client.py:1349\u001b[0m, in \u001b[0;36mHTTPConnection.getresponse\u001b[0;34m(self)\u001b[0m\n\u001b[1;32m   1347\u001b[0m \u001b[38;5;28;01mtry\u001b[39;00m:\n\u001b[1;32m   1348\u001b[0m     \u001b[38;5;28;01mtry\u001b[39;00m:\n\u001b[0;32m-> 1349\u001b[0m         \u001b[43mresponse\u001b[49m\u001b[38;5;241;43m.\u001b[39;49m\u001b[43mbegin\u001b[49m\u001b[43m(\u001b[49m\u001b[43m)\u001b[49m\n\u001b[1;32m   1350\u001b[0m     \u001b[38;5;28;01mexcept\u001b[39;00m \u001b[38;5;167;01mConnectionError\u001b[39;00m:\n\u001b[1;32m   1351\u001b[0m         \u001b[38;5;28mself\u001b[39m\u001b[38;5;241m.\u001b[39mclose()\n",
      "File \u001b[0;32m/Library/Developer/CommandLineTools/Library/Frameworks/Python3.framework/Versions/3.9/lib/python3.9/http/client.py:316\u001b[0m, in \u001b[0;36mHTTPResponse.begin\u001b[0;34m(self)\u001b[0m\n\u001b[1;32m    314\u001b[0m \u001b[38;5;66;03m# read until we get a non-100 response\u001b[39;00m\n\u001b[1;32m    315\u001b[0m \u001b[38;5;28;01mwhile\u001b[39;00m \u001b[38;5;28;01mTrue\u001b[39;00m:\n\u001b[0;32m--> 316\u001b[0m     version, status, reason \u001b[38;5;241m=\u001b[39m \u001b[38;5;28;43mself\u001b[39;49m\u001b[38;5;241;43m.\u001b[39;49m\u001b[43m_read_status\u001b[49m\u001b[43m(\u001b[49m\u001b[43m)\u001b[49m\n\u001b[1;32m    317\u001b[0m     \u001b[38;5;28;01mif\u001b[39;00m status \u001b[38;5;241m!=\u001b[39m CONTINUE:\n\u001b[1;32m    318\u001b[0m         \u001b[38;5;28;01mbreak\u001b[39;00m\n",
      "File \u001b[0;32m/Library/Developer/CommandLineTools/Library/Frameworks/Python3.framework/Versions/3.9/lib/python3.9/http/client.py:277\u001b[0m, in \u001b[0;36mHTTPResponse._read_status\u001b[0;34m(self)\u001b[0m\n\u001b[1;32m    276\u001b[0m \u001b[38;5;28;01mdef\u001b[39;00m \u001b[38;5;21m_read_status\u001b[39m(\u001b[38;5;28mself\u001b[39m):\n\u001b[0;32m--> 277\u001b[0m     line \u001b[38;5;241m=\u001b[39m \u001b[38;5;28mstr\u001b[39m(\u001b[38;5;28;43mself\u001b[39;49m\u001b[38;5;241;43m.\u001b[39;49m\u001b[43mfp\u001b[49m\u001b[38;5;241;43m.\u001b[39;49m\u001b[43mreadline\u001b[49m\u001b[43m(\u001b[49m\u001b[43m_MAXLINE\u001b[49m\u001b[43m \u001b[49m\u001b[38;5;241;43m+\u001b[39;49m\u001b[43m \u001b[49m\u001b[38;5;241;43m1\u001b[39;49m\u001b[43m)\u001b[49m, \u001b[38;5;124m\"\u001b[39m\u001b[38;5;124miso-8859-1\u001b[39m\u001b[38;5;124m\"\u001b[39m)\n\u001b[1;32m    278\u001b[0m     \u001b[38;5;28;01mif\u001b[39;00m \u001b[38;5;28mlen\u001b[39m(line) \u001b[38;5;241m>\u001b[39m _MAXLINE:\n\u001b[1;32m    279\u001b[0m         \u001b[38;5;28;01mraise\u001b[39;00m LineTooLong(\u001b[38;5;124m\"\u001b[39m\u001b[38;5;124mstatus line\u001b[39m\u001b[38;5;124m\"\u001b[39m)\n",
      "File \u001b[0;32m/Library/Developer/CommandLineTools/Library/Frameworks/Python3.framework/Versions/3.9/lib/python3.9/socket.py:704\u001b[0m, in \u001b[0;36mSocketIO.readinto\u001b[0;34m(self, b)\u001b[0m\n\u001b[1;32m    702\u001b[0m \u001b[38;5;28;01mwhile\u001b[39;00m \u001b[38;5;28;01mTrue\u001b[39;00m:\n\u001b[1;32m    703\u001b[0m     \u001b[38;5;28;01mtry\u001b[39;00m:\n\u001b[0;32m--> 704\u001b[0m         \u001b[38;5;28;01mreturn\u001b[39;00m \u001b[38;5;28;43mself\u001b[39;49m\u001b[38;5;241;43m.\u001b[39;49m\u001b[43m_sock\u001b[49m\u001b[38;5;241;43m.\u001b[39;49m\u001b[43mrecv_into\u001b[49m\u001b[43m(\u001b[49m\u001b[43mb\u001b[49m\u001b[43m)\u001b[49m\n\u001b[1;32m    705\u001b[0m     \u001b[38;5;28;01mexcept\u001b[39;00m timeout:\n\u001b[1;32m    706\u001b[0m         \u001b[38;5;28mself\u001b[39m\u001b[38;5;241m.\u001b[39m_timeout_occurred \u001b[38;5;241m=\u001b[39m \u001b[38;5;28;01mTrue\u001b[39;00m\n",
      "File \u001b[0;32m/Library/Developer/CommandLineTools/Library/Frameworks/Python3.framework/Versions/3.9/lib/python3.9/ssl.py:1241\u001b[0m, in \u001b[0;36mSSLSocket.recv_into\u001b[0;34m(self, buffer, nbytes, flags)\u001b[0m\n\u001b[1;32m   1237\u001b[0m     \u001b[38;5;28;01mif\u001b[39;00m flags \u001b[38;5;241m!=\u001b[39m \u001b[38;5;241m0\u001b[39m:\n\u001b[1;32m   1238\u001b[0m         \u001b[38;5;28;01mraise\u001b[39;00m \u001b[38;5;167;01mValueError\u001b[39;00m(\n\u001b[1;32m   1239\u001b[0m           \u001b[38;5;124m\"\u001b[39m\u001b[38;5;124mnon-zero flags not allowed in calls to recv_into() on \u001b[39m\u001b[38;5;132;01m%s\u001b[39;00m\u001b[38;5;124m\"\u001b[39m \u001b[38;5;241m%\u001b[39m\n\u001b[1;32m   1240\u001b[0m           \u001b[38;5;28mself\u001b[39m\u001b[38;5;241m.\u001b[39m\u001b[38;5;18m__class__\u001b[39m)\n\u001b[0;32m-> 1241\u001b[0m     \u001b[38;5;28;01mreturn\u001b[39;00m \u001b[38;5;28;43mself\u001b[39;49m\u001b[38;5;241;43m.\u001b[39;49m\u001b[43mread\u001b[49m\u001b[43m(\u001b[49m\u001b[43mnbytes\u001b[49m\u001b[43m,\u001b[49m\u001b[43m \u001b[49m\u001b[43mbuffer\u001b[49m\u001b[43m)\u001b[49m\n\u001b[1;32m   1242\u001b[0m \u001b[38;5;28;01melse\u001b[39;00m:\n\u001b[1;32m   1243\u001b[0m     \u001b[38;5;28;01mreturn\u001b[39;00m \u001b[38;5;28msuper\u001b[39m()\u001b[38;5;241m.\u001b[39mrecv_into(buffer, nbytes, flags)\n",
      "File \u001b[0;32m/Library/Developer/CommandLineTools/Library/Frameworks/Python3.framework/Versions/3.9/lib/python3.9/ssl.py:1099\u001b[0m, in \u001b[0;36mSSLSocket.read\u001b[0;34m(self, len, buffer)\u001b[0m\n\u001b[1;32m   1097\u001b[0m \u001b[38;5;28;01mtry\u001b[39;00m:\n\u001b[1;32m   1098\u001b[0m     \u001b[38;5;28;01mif\u001b[39;00m buffer \u001b[38;5;129;01mis\u001b[39;00m \u001b[38;5;129;01mnot\u001b[39;00m \u001b[38;5;28;01mNone\u001b[39;00m:\n\u001b[0;32m-> 1099\u001b[0m         \u001b[38;5;28;01mreturn\u001b[39;00m \u001b[38;5;28;43mself\u001b[39;49m\u001b[38;5;241;43m.\u001b[39;49m\u001b[43m_sslobj\u001b[49m\u001b[38;5;241;43m.\u001b[39;49m\u001b[43mread\u001b[49m\u001b[43m(\u001b[49m\u001b[38;5;28;43mlen\u001b[39;49m\u001b[43m,\u001b[49m\u001b[43m \u001b[49m\u001b[43mbuffer\u001b[49m\u001b[43m)\u001b[49m\n\u001b[1;32m   1100\u001b[0m     \u001b[38;5;28;01melse\u001b[39;00m:\n\u001b[1;32m   1101\u001b[0m         \u001b[38;5;28;01mreturn\u001b[39;00m \u001b[38;5;28mself\u001b[39m\u001b[38;5;241m.\u001b[39m_sslobj\u001b[38;5;241m.\u001b[39mread(\u001b[38;5;28mlen\u001b[39m)\n",
      "\u001b[0;31mKeyboardInterrupt\u001b[0m: "
     ]
    }
   ],
   "source": [
    "# THIS SNIPPET TESTS THE FILCO MODEL AGAINST THE STRIKI MODEL\n",
    "# DELETE WHEN DONE WITH TEST\n",
    "\n",
    "for i in testcol_list:\n",
    "    for n in range(len(testcol_list)):\n",
    "        perpl_out = []\n",
    "        if i != testcol_list[n]:\n",
    "            test_line = re.sub(r'^[0-9]{0,3}\\s','',i) + re.sub(r'^[0-9]{0,3}','',testcol_list[n])\n",
    "            test_line = [test_line]\n",
    "            print(test_line, type(test_line), len(test_line))\n",
    "            #prints the two lines together without the numbers\n",
    "            perplexity = evaluate.load(\"perplexity\", module_type=\"metric\")\n",
    "            results = perplexity.compute(model_id='Iacopo/Shakespear-GPT2',\n",
    "            #results = perplexity.compute(model_id='openai-community/gpt2-medium',\n",
    "                             add_start_token=True,\n",
    "                             predictions=test_line)\n",
    "            result = round(results['mean_perplexity'], 2)\n",
    "            dog = re.search(r'^[0-9]{0,3}',i)\n",
    "            #gets the number of the first line\n",
    "            cat = re.search(r'^[0-9]{0,3}',testcol_list[n])\n",
    "            #gets the number of the second line\n",
    "            perpl_out.append('Iacopo')\n",
    "            perpl_out.append(dog.group(0))\n",
    "            perpl_out.append(cat.group(0))\n",
    "            perpl_out.append(test_line)\n",
    "            perpl_out.append(result)\n",
    "            print(perpl_out)\n",
    "            with open('sonnet_perplexity_modeltest_shakes2.csv','a') as file:\n",
    "                writer = csv.writer(file)\n",
    "                writer.writerow(perpl_out)\n",
    "            perpl_out = []\n",
    "            perplexity = evaluate.load(\"perplexity\", module_type=\"metric\")\n",
    "            results = perplexity.compute(model_id='sadia72/gpt2-shakespeare',\n",
    "                             add_start_token=True,\n",
    "                             predictions=test_line)\n",
    "            result = round(results['mean_perplexity'], 2)\n",
    "            dog = re.search(r'^[0-9]{0,3}',i)\n",
    "            #gets the number of the first line\n",
    "            cat = re.search(r'^[0-9]{0,3}',testcol_list[n])\n",
    "            #gets the number of the second line\n",
    "            perpl_out.append('sadia72')\n",
    "            perpl_out.append(dog.group(0))\n",
    "            perpl_out.append(cat.group(0))\n",
    "            perpl_out.append(test_line)\n",
    "            perpl_out.append(result)\n",
    "            print(perpl_out)\n",
    "            with open('sonnet_perplexity_modeltest_shakes2.csv','a') as file:\n",
    "                writer = csv.writer(file)\n",
    "                writer.writerow(perpl_out)\n",
    "                \n",
    "        else:\n",
    "            continue\n",
    "        '''\n",
    "        PUT BACK IF THE MOVE TO THE PREVIOUS PART OF THE LOOP DOESN'T WORK\n",
    "        perpl_out.append(dog.group(0))\n",
    "        perpl_out.append(cat.group(0))\n",
    "        perpl_out.append(test_line)\n",
    "        perpl_out.append(result)\n",
    "        print(perpl_out)\n",
    "        with open('sonnet_perplexity.csv','a') as file:\n",
    "            writer = csv.writer(file)\n",
    "            writer.writerow(perpl_out)\n",
    "        '''"
   ]
  },
  {
   "cell_type": "code",
   "execution_count": 6,
   "id": "51c4d74c-64af-4c31-bf8f-d3b03ae7184c",
   "metadata": {},
   "outputs": [],
   "source": [
    "# THIS SNIPPET SORTS THE CSV BY THE PERPLEXITY SCORE FROM LOW TO HIGH\n",
    "\n",
    "(pd.read_csv('sonnet_perplexity.csv', header=None)\n",
    "   .sort_values([3])\n",
    "   .to_csv('sonnet_perplexity_sorted.csv', index=False, header=None))"
   ]
  },
  {
   "cell_type": "code",
   "execution_count": 31,
   "id": "e2ee1369-40cd-4f12-8a82-34e994bae4e8",
   "metadata": {
    "scrolled": true
   },
   "outputs": [
    {
     "name": "stdout",
     "output_type": "stream",
     "text": [
      "This is the USED NUMBER LIST:  ['1', '3']\n",
      "This is the UPDATED used number list:  ['1', '3', '2', '6']\n",
      "[['1', '3', ' When forty winters shall besiege thy brow Unthrifty loveliness, why dost thou spend', '23.01955329'], ['2', '6', ' Look in thy glass and tell the face thou viewest Lo, in the orient when the gracious light', '126.2423654']]\n",
      "Vanishing Mediator:  ['3', '2']\n",
      "line that matches vanishing mediator:  ['3', '2', ' Unthrifty loveliness, why dost thou spend Look in thy glass and tell the face thou viewest', '96.79442308801872']\n",
      "final permut list:  [['1', '3', ' When forty winters shall besiege thy brow Unthrifty loveliness, why dost thou spend', '23.01955329'], ['2', '6', ' Look in thy glass and tell the face thou viewest Lo, in the orient when the gracious light', '126.2423654'], ['3', '2', 'vanishing mediator', '96.79442308801872']] \n",
      "\n",
      "This is the USED NUMBER LIST:  ['3', '1']\n",
      "This is the UPDATED used number list:  ['3', '1', '2', '6']\n",
      "[['3', '1', ' Unthrifty loveliness, why dost thou spend When forty winters shall besiege thy brow', '25.93180839'], ['2', '6', ' Look in thy glass and tell the face thou viewest Lo, in the orient when the gracious light', '126.2423654']]\n",
      "Vanishing Mediator:  ['1', '2']\n",
      "line that matches vanishing mediator:  ['1', '2', ' When forty winters shall besiege thy brow Look in thy glass and tell the face thou viewest', '87.21308454892737']\n",
      "final permut list:  [['3', '1', ' Unthrifty loveliness, why dost thou spend When forty winters shall besiege thy brow', '25.93180839'], ['2', '6', ' Look in thy glass and tell the face thou viewest Lo, in the orient when the gracious light', '126.2423654'], ['1', '2', 'vanishing mediator', '87.21308454892737']] \n",
      "\n",
      "This is the USED NUMBER LIST:  ['2', '3']\n",
      "This is the UPDATED used number list:  ['2', '3', '1', '6']\n",
      "[['2', '3', ' Look in thy glass and tell the face thou viewest Unthrifty loveliness, why dost thou spend', '41.34636576'], ['1', '6', ' When forty winters shall besiege thy brow Lo, in the orient when the gracious light', '99.55323963']]\n",
      "Vanishing Mediator:  ['3', '1']\n",
      "line that matches vanishing mediator:  ['3', '1', ' Unthrifty loveliness, why dost thou spend When forty winters shall besiege thy brow', '25.931808390180883']\n",
      "final permut list:  [['2', '3', ' Look in thy glass and tell the face thou viewest Unthrifty loveliness, why dost thou spend', '41.34636576'], ['1', '6', ' When forty winters shall besiege thy brow Lo, in the orient when the gracious light', '99.55323963'], ['3', '1', 'vanishing mediator', '25.931808390180883']] \n",
      "\n",
      "This is the USED NUMBER LIST:  ['2', '1']\n",
      "This is the UPDATED used number list:  ['2', '1', '3', '6']\n",
      "[['2', '1', 'Look in thy glass and tell the face thou viewest When forty winters shall besiege thy brow', '45.60217015'], ['3', '6', ' Unthrifty loveliness, why dost thou spend Lo, in the orient when the gracious light', '58.28801378']]\n",
      "Vanishing Mediator:  ['1', '3']\n",
      "line that matches vanishing mediator:  ['1', '3', ' When forty winters shall besiege thy brow Unthrifty loveliness, why dost thou spend', '23.01955329318721']\n",
      "final permut list:  [['2', '1', 'Look in thy glass and tell the face thou viewest When forty winters shall besiege thy brow', '45.60217015'], ['3', '6', ' Unthrifty loveliness, why dost thou spend Lo, in the orient when the gracious light', '58.28801378'], ['1', '3', 'vanishing mediator', '23.01955329318721']] \n",
      "\n",
      "This is the USED NUMBER LIST:  ['3', '6']\n",
      "This is the UPDATED used number list:  ['3', '6', '1', '2']\n",
      "[['3', '6', ' Unthrifty loveliness, why dost thou spend Lo, in the orient when the gracious light', '58.28801378'], ['1', '2', 'When forty winters shall besiege thy brow Look in thy glass and tell the face thou viewest', '87.21308455']]\n",
      "Vanishing Mediator:  ['6', '1']\n",
      "line that matches vanishing mediator:  ['6', '1', ' Lo, in the orient when the gracious light When forty winters shall besiege thy brow', '110.01474530869798']\n",
      "final permut list:  [['3', '6', ' Unthrifty loveliness, why dost thou spend Lo, in the orient when the gracious light', '58.28801378'], ['1', '2', 'When forty winters shall besiege thy brow Look in thy glass and tell the face thou viewest', '87.21308455'], ['6', '1', 'vanishing mediator', '110.01474530869798']] \n",
      "\n",
      "This is the USED NUMBER LIST:  ['0', '3']\n",
      "This is the UPDATED used number list:  ['0', '3', '1', '2']\n",
      "[['0', '3', ' From fairest creatures we desire increase Unthrifty loveliness, why dost thou spend', '61.48698965'], ['1', '2', 'When forty winters shall besiege thy brow Look in thy glass and tell the face thou viewest', '87.21308455']]\n",
      "Vanishing Mediator:  ['3', '1']\n",
      "line that matches vanishing mediator:  ['3', '1', ' Unthrifty loveliness, why dost thou spend When forty winters shall besiege thy brow', '25.931808390180883']\n",
      "final permut list:  [['0', '3', ' From fairest creatures we desire increase Unthrifty loveliness, why dost thou spend', '61.48698965'], ['1', '2', 'When forty winters shall besiege thy brow Look in thy glass and tell the face thou viewest', '87.21308455'], ['3', '1', 'vanishing mediator', '25.931808390180883']] \n",
      "\n",
      "This is the USED NUMBER LIST:  ['6', '3']\n",
      "This is the UPDATED used number list:  ['6', '3', '1', '2']\n",
      "[['6', '3', ' Lo, in the orient when the gracious light Unthrifty loveliness, why dost thou spend', '63.09140461'], ['1', '2', 'When forty winters shall besiege thy brow Look in thy glass and tell the face thou viewest', '87.21308455']]\n",
      "Vanishing Mediator:  ['3', '1']\n",
      "line that matches vanishing mediator:  ['3', '1', ' Unthrifty loveliness, why dost thou spend When forty winters shall besiege thy brow', '25.931808390180883']\n",
      "final permut list:  [['6', '3', ' Lo, in the orient when the gracious light Unthrifty loveliness, why dost thou spend', '63.09140461'], ['1', '2', 'When forty winters shall besiege thy brow Look in thy glass and tell the face thou viewest', '87.21308455'], ['3', '1', 'vanishing mediator', '25.931808390180883']] \n",
      "\n",
      "This is the USED NUMBER LIST:  ['3', '7']\n",
      "This is the UPDATED used number list:  ['3', '7', '1', '2']\n",
      "[['3', '7', ' Unthrifty loveliness, why dost thou spend Music to hear, why hear’st thou music sadly?', '71.13345969'], ['1', '2', 'When forty winters shall besiege thy brow Look in thy glass and tell the face thou viewest', '87.21308455']]\n",
      "Vanishing Mediator:  ['7', '1']\n",
      "line that matches vanishing mediator:  ['7', '1', ' Music to hear, why hear’st thou music sadly? When forty winters shall besiege thy brow', '187.93857932814905']\n",
      "final permut list:  [['3', '7', ' Unthrifty loveliness, why dost thou spend Music to hear, why hear’st thou music sadly?', '71.13345969'], ['1', '2', 'When forty winters shall besiege thy brow Look in thy glass and tell the face thou viewest', '87.21308455'], ['7', '1', 'vanishing mediator', '187.93857932814905']] \n",
      "\n",
      "This is the USED NUMBER LIST:  ['1', '2']\n",
      "This is the UPDATED used number list:  ['1', '2', '3', '4']\n",
      "[['1', '2', 'When forty winters shall besiege thy brow Look in thy glass and tell the face thou viewest', '87.21308455'], ['3', '4', ' Unthrifty loveliness, why dost thou spend Those hours that with gentle work did frame', '87.63920854']]\n",
      "Vanishing Mediator:  ['2', '3']\n",
      "line that matches vanishing mediator:  ['2', '3', ' Look in thy glass and tell the face thou viewest Unthrifty loveliness, why dost thou spend', '41.34636575791025']\n",
      "final permut list:  [['1', '2', 'When forty winters shall besiege thy brow Look in thy glass and tell the face thou viewest', '87.21308455'], ['3', '4', ' Unthrifty loveliness, why dost thou spend Those hours that with gentle work did frame', '87.63920854'], ['2', '3', 'vanishing mediator', '41.34636575791025']] \n",
      "\n",
      "This is the USED NUMBER LIST:  ['3', '4']\n",
      "This is the UPDATED used number list:  ['3', '4', '1', '6']\n",
      "[['3', '4', ' Unthrifty loveliness, why dost thou spend Those hours that with gentle work did frame', '87.63920854'], ['1', '6', ' When forty winters shall besiege thy brow Lo, in the orient when the gracious light', '99.55323963']]\n",
      "Vanishing Mediator:  ['4', '1']\n",
      "line that matches vanishing mediator:  ['4', '1', ' Those hours that with gentle work did frame When forty winters shall besiege thy brow', '399.07162227064964']\n",
      "final permut list:  [['3', '4', ' Unthrifty loveliness, why dost thou spend Those hours that with gentle work did frame', '87.63920854'], ['1', '6', ' When forty winters shall besiege thy brow Lo, in the orient when the gracious light', '99.55323963'], ['4', '1', 'vanishing mediator', '399.07162227064964']] \n",
      "\n",
      "This is the USED NUMBER LIST:  ['7', '3']\n",
      "This is the UPDATED used number list:  ['7', '3', '1', '6']\n",
      "[['7', '3', ' Music to hear, why hear’st thou music sadly? Unthrifty loveliness, why dost thou spend', '94.87360939'], ['1', '6', ' When forty winters shall besiege thy brow Lo, in the orient when the gracious light', '99.55323963']]\n",
      "Vanishing Mediator:  ['3', '1']\n",
      "line that matches vanishing mediator:  ['3', '1', ' Unthrifty loveliness, why dost thou spend When forty winters shall besiege thy brow', '25.931808390180883']\n",
      "final permut list:  [['7', '3', ' Music to hear, why hear’st thou music sadly? Unthrifty loveliness, why dost thou spend', '94.87360939'], ['1', '6', ' When forty winters shall besiege thy brow Lo, in the orient when the gracious light', '99.55323963'], ['3', '1', 'vanishing mediator', '25.931808390180883']] \n",
      "\n",
      "This is the USED NUMBER LIST:  ['3', '2']\n",
      "This is the UPDATED used number list:  ['3', '2', '1', '6']\n",
      "[['3', '2', ' Unthrifty loveliness, why dost thou spend Look in thy glass and tell the face thou viewest', '96.79442309'], ['1', '6', ' When forty winters shall besiege thy brow Lo, in the orient when the gracious light', '99.55323963']]\n",
      "Vanishing Mediator:  ['2', '1']\n",
      "line that matches vanishing mediator:  ['2', '1', ' Look in thy glass and tell the face thou viewest When forty winters shall besiege thy brow', '45.60217014962681']\n",
      "final permut list:  [['3', '2', ' Unthrifty loveliness, why dost thou spend Look in thy glass and tell the face thou viewest', '96.79442309'], ['1', '6', ' When forty winters shall besiege thy brow Lo, in the orient when the gracious light', '99.55323963'], ['2', '1', 'vanishing mediator', '45.60217014962681']] \n",
      "\n",
      "This is the USED NUMBER LIST:  ['1', '6']\n",
      "This is the UPDATED used number list:  ['1', '6', '3', '0']\n",
      "[['1', '6', ' When forty winters shall besiege thy brow Lo, in the orient when the gracious light', '99.55323963'], ['3', '0', ' Unthrifty loveliness, why dost thou spend From fairest creatures we desire increase', '104.0596644']]\n",
      "Vanishing Mediator:  ['6', '3']\n",
      "line that matches vanishing mediator:  ['6', '3', ' Lo, in the orient when the gracious light Unthrifty loveliness, why dost thou spend', '63.091404607629904']\n",
      "final permut list:  [['1', '6', ' When forty winters shall besiege thy brow Lo, in the orient when the gracious light', '99.55323963'], ['3', '0', ' Unthrifty loveliness, why dost thou spend From fairest creatures we desire increase', '104.0596644'], ['6', '3', 'vanishing mediator', '63.091404607629904']] \n",
      "\n",
      "This is the USED NUMBER LIST:  ['3', '0']\n",
      "This is the UPDATED used number list:  ['3', '0', '6', '1']\n",
      "[['3', '0', ' Unthrifty loveliness, why dost thou spend From fairest creatures we desire increase', '104.0596644'], ['6', '1', ' Lo, in the orient when the gracious light When forty winters shall besiege thy brow', '110.0147453']]\n",
      "Vanishing Mediator:  ['0', '6']\n",
      "line that matches vanishing mediator:  ['0', '6', ' From fairest creatures we desire increase Lo, in the orient when the gracious light', '570.5865987852687']\n",
      "final permut list:  [['3', '0', ' Unthrifty loveliness, why dost thou spend From fairest creatures we desire increase', '104.0596644'], ['6', '1', ' Lo, in the orient when the gracious light When forty winters shall besiege thy brow', '110.0147453'], ['0', '6', 'vanishing mediator', '570.5865987852687']] \n",
      "\n",
      "This is the USED NUMBER LIST:  ['6', '1']\n",
      "This is the UPDATED used number list:  ['6', '1', '4', '3']\n",
      "[['6', '1', ' Lo, in the orient when the gracious light When forty winters shall besiege thy brow', '110.0147453'], ['4', '3', ' Those hours that with gentle work did frame Unthrifty loveliness, why dost thou spend', '120.4830165']]\n",
      "Vanishing Mediator:  ['1', '4']\n",
      "line that matches vanishing mediator:  ['1', '4', ' When forty winters shall besiege thy brow Those hours that with gentle work did frame', '600.5658873879984']\n",
      "final permut list:  [['6', '1', ' Lo, in the orient when the gracious light When forty winters shall besiege thy brow', '110.0147453'], ['4', '3', ' Those hours that with gentle work did frame Unthrifty loveliness, why dost thou spend', '120.4830165'], ['1', '4', 'vanishing mediator', '600.5658873879984']] \n",
      "\n",
      "This is the USED NUMBER LIST:  ['4', '3']\n",
      "This is the UPDATED used number list:  ['4', '3', '2', '6']\n",
      "[['4', '3', ' Those hours that with gentle work did frame Unthrifty loveliness, why dost thou spend', '120.4830165'], ['2', '6', ' Look in thy glass and tell the face thou viewest Lo, in the orient when the gracious light', '126.2423654']]\n",
      "Vanishing Mediator:  ['3', '2']\n",
      "line that matches vanishing mediator:  ['3', '2', ' Unthrifty loveliness, why dost thou spend Look in thy glass and tell the face thou viewest', '96.79442308801872']\n",
      "final permut list:  [['4', '3', ' Those hours that with gentle work did frame Unthrifty loveliness, why dost thou spend', '120.4830165'], ['2', '6', ' Look in thy glass and tell the face thou viewest Lo, in the orient when the gracious light', '126.2423654'], ['3', '2', 'vanishing mediator', '96.79442308801872']] \n",
      "\n",
      "This is the USED NUMBER LIST:  ['2', '6']\n",
      "This is the UPDATED used number list:  ['2', '6', '1', '7']\n",
      "[['2', '6', ' Look in thy glass and tell the face thou viewest Lo, in the orient when the gracious light', '126.2423654'], ['1', '7', ' When forty winters shall besiege thy brow Music to hear, why hear’st thou music sadly?', '160.401665']]\n",
      "Vanishing Mediator:  ['6', '1']\n",
      "line that matches vanishing mediator:  ['6', '1', ' Lo, in the orient when the gracious light When forty winters shall besiege thy brow', '110.01474530869798']\n",
      "final permut list:  [['2', '6', ' Look in thy glass and tell the face thou viewest Lo, in the orient when the gracious light', '126.2423654'], ['1', '7', ' When forty winters shall besiege thy brow Music to hear, why hear’st thou music sadly?', '160.401665'], ['6', '1', 'vanishing mediator', '110.01474530869798']] \n",
      "\n",
      "This is the USED NUMBER LIST:  ['6', '2']\n",
      "This is the UPDATED used number list:  ['6', '2', '1', '7']\n",
      "[['6', '2', ' Lo, in the orient when the gracious light Look in thy glass and tell the face thou viewest', '153.869018'], ['1', '7', ' When forty winters shall besiege thy brow Music to hear, why hear’st thou music sadly?', '160.401665']]\n",
      "Vanishing Mediator:  ['2', '1']\n",
      "line that matches vanishing mediator:  ['2', '1', ' Look in thy glass and tell the face thou viewest When forty winters shall besiege thy brow', '45.60217014962681']\n",
      "final permut list:  [['6', '2', ' Lo, in the orient when the gracious light Look in thy glass and tell the face thou viewest', '153.869018'], ['1', '7', ' When forty winters shall besiege thy brow Music to hear, why hear’st thou music sadly?', '160.401665'], ['2', '1', 'vanishing mediator', '45.60217014962681']] \n",
      "\n",
      "This is the USED NUMBER LIST:  ['1', '7']\n",
      "This is the UPDATED used number list:  ['1', '7', '5', '3']\n",
      "[['1', '7', ' When forty winters shall besiege thy brow Music to hear, why hear’st thou music sadly?', '160.401665'], ['5', '3', ' Then let not winter’s ragged hand deface Unthrifty loveliness, why dost thou spend', '207.2498598']]\n",
      "Vanishing Mediator:  ['7', '5']\n",
      "line that matches vanishing mediator:  ['7', '5', ' Music to hear, why hear’st thou music sadly? Then let not winter’s ragged hand deface', '958.9748830326889']\n",
      "final permut list:  [['1', '7', ' When forty winters shall besiege thy brow Music to hear, why hear’st thou music sadly?', '160.401665'], ['5', '3', ' Then let not winter’s ragged hand deface Unthrifty loveliness, why dost thou spend', '207.2498598'], ['7', '5', 'vanishing mediator', '958.9748830326889']] \n",
      "\n",
      "This is the USED NUMBER LIST:  ['2', '7']\n",
      "This is the UPDATED used number list:  ['2', '7', '1', '0']\n",
      "[['2', '7', ' Look in thy glass and tell the face thou viewest Music to hear, why hear’st thou music sadly?', '163.9435149'], ['1', '0', 'When forty winters shall besiege thy brow From fairest creatures we desire increase', '172.6744113']]\n",
      "Vanishing Mediator:  ['7', '1']\n",
      "line that matches vanishing mediator:  ['7', '1', ' Music to hear, why hear’st thou music sadly? When forty winters shall besiege thy brow', '187.93857932814905']\n",
      "final permut list:  [['2', '7', ' Look in thy glass and tell the face thou viewest Music to hear, why hear’st thou music sadly?', '163.9435149'], ['1', '0', 'When forty winters shall besiege thy brow From fairest creatures we desire increase', '172.6744113'], ['7', '1', 'vanishing mediator', '187.93857932814905']] \n",
      "\n",
      "This is the USED NUMBER LIST:  ['1', '0']\n",
      "This is the UPDATED used number list:  ['1', '0', '5', '3']\n",
      "[['1', '0', 'When forty winters shall besiege thy brow From fairest creatures we desire increase', '172.6744113'], ['5', '3', ' Then let not winter’s ragged hand deface Unthrifty loveliness, why dost thou spend', '207.2498598']]\n",
      "Vanishing Mediator:  ['0', '5']\n",
      "line that matches vanishing mediator:  ['0', '5', ' From fairest creatures we desire increase Then let not winter’s ragged hand deface', '1822.20678509701']\n",
      "final permut list:  [['1', '0', 'When forty winters shall besiege thy brow From fairest creatures we desire increase', '172.6744113'], ['5', '3', ' Then let not winter’s ragged hand deface Unthrifty loveliness, why dost thou spend', '207.2498598'], ['0', '5', 'vanishing mediator', '1822.20678509701']] \n",
      "\n",
      "This is the USED NUMBER LIST:  ['7', '1']\n",
      "This is the UPDATED used number list:  ['7', '1', '5', '3']\n",
      "[['7', '1', ' Music to hear, why hear’st thou music sadly? When forty winters shall besiege thy brow', '187.9385793'], ['5', '3', ' Then let not winter’s ragged hand deface Unthrifty loveliness, why dost thou spend', '207.2498598']]\n",
      "Vanishing Mediator:  ['1', '5']\n",
      "line that matches vanishing mediator:  ['1', '5', ' When forty winters shall besiege thy brow Then let not winter’s ragged hand deface', '297.5615470168966']\n",
      "final permut list:  [['7', '1', ' Music to hear, why hear’st thou music sadly? When forty winters shall besiege thy brow', '187.9385793'], ['5', '3', ' Then let not winter’s ragged hand deface Unthrifty loveliness, why dost thou spend', '207.2498598'], ['1', '5', 'vanishing mediator', '297.5615470168966']] \n",
      "\n",
      "This is the USED NUMBER LIST:  ['5', '3']\n",
      "This is the UPDATED used number list:  ['5', '3', '2', '0']\n",
      "[['5', '3', ' Then let not winter’s ragged hand deface Unthrifty loveliness, why dost thou spend', '207.2498598'], ['2', '0', 'Look in thy glass and tell the face thou viewest From fairest creatures we desire increase', '208.5570813']]\n",
      "Vanishing Mediator:  ['3', '2']\n",
      "line that matches vanishing mediator:  ['3', '2', ' Unthrifty loveliness, why dost thou spend Look in thy glass and tell the face thou viewest', '96.79442308801872']\n",
      "final permut list:  [['5', '3', ' Then let not winter’s ragged hand deface Unthrifty loveliness, why dost thou spend', '207.2498598'], ['2', '0', 'Look in thy glass and tell the face thou viewest From fairest creatures we desire increase', '208.5570813'], ['3', '2', 'vanishing mediator', '96.79442308801872']] \n",
      "\n",
      "This is the USED NUMBER LIST:  ['2', '0']\n",
      "This is the UPDATED used number list:  ['2', '0', '3', '5']\n",
      "[['2', '0', 'Look in thy glass and tell the face thou viewest From fairest creatures we desire increase', '208.5570813'], ['3', '5', ' Unthrifty loveliness, why dost thou spend Then let not winter’s ragged hand deface', '225.1127967']]\n",
      "Vanishing Mediator:  ['0', '3']\n",
      "line that matches vanishing mediator:  ['0', '3', ' From fairest creatures we desire increase Unthrifty loveliness, why dost thou spend', '61.48698964546792']\n",
      "final permut list:  [['2', '0', 'Look in thy glass and tell the face thou viewest From fairest creatures we desire increase', '208.5570813'], ['3', '5', ' Unthrifty loveliness, why dost thou spend Then let not winter’s ragged hand deface', '225.1127967'], ['0', '3', 'vanishing mediator', '61.48698964546792']] \n",
      "\n",
      "This is the USED NUMBER LIST:  ['0', '1']\n",
      "This is the UPDATED used number list:  ['0', '1', '3', '5']\n",
      "[['0', '1', 'From fairest creatures we desire increase When forty winters shall besiege thy brow', '211.9462538'], ['3', '5', ' Unthrifty loveliness, why dost thou spend Then let not winter’s ragged hand deface', '225.1127967']]\n",
      "Vanishing Mediator:  ['1', '3']\n",
      "line that matches vanishing mediator:  ['1', '3', ' When forty winters shall besiege thy brow Unthrifty loveliness, why dost thou spend', '23.01955329318721']\n",
      "final permut list:  [['0', '1', 'From fairest creatures we desire increase When forty winters shall besiege thy brow', '211.9462538'], ['3', '5', ' Unthrifty loveliness, why dost thou spend Then let not winter’s ragged hand deface', '225.1127967'], ['1', '3', 'vanishing mediator', '23.01955329318721']] \n",
      "\n",
      "This is the USED NUMBER LIST:  ['3', '5']\n",
      "This is the UPDATED used number list:  ['3', '5', '7', '2']\n",
      "[['3', '5', ' Unthrifty loveliness, why dost thou spend Then let not winter’s ragged hand deface', '225.1127967'], ['7', '2', ' Music to hear, why hear’st thou music sadly? Look in thy glass and tell the face thou viewest', '279.6156896']]\n",
      "Vanishing Mediator:  ['5', '7']\n",
      "line that matches vanishing mediator:  ['5', '7', ' Then let not winter’s ragged hand deface Music to hear, why hear’st thou music sadly?', '936.6779286178486']\n",
      "final permut list:  [['3', '5', ' Unthrifty loveliness, why dost thou spend Then let not winter’s ragged hand deface', '225.1127967'], ['7', '2', ' Music to hear, why hear’st thou music sadly? Look in thy glass and tell the face thou viewest', '279.6156896'], ['5', '7', 'vanishing mediator', '936.6779286178486']] \n",
      "\n",
      "This is the USED NUMBER LIST:  ['7', '2']\n",
      "This is the UPDATED used number list:  ['7', '2', '1', '5']\n",
      "[['7', '2', ' Music to hear, why hear’st thou music sadly? Look in thy glass and tell the face thou viewest', '279.6156896'], ['1', '5', 'When forty winters shall besiege thy brow Then let not winter’s ragged hand deface', '297.561547']]\n",
      "Vanishing Mediator:  ['2', '1']\n",
      "line that matches vanishing mediator:  ['2', '1', ' Look in thy glass and tell the face thou viewest When forty winters shall besiege thy brow', '45.60217014962681']\n",
      "final permut list:  [['7', '2', ' Music to hear, why hear’st thou music sadly? Look in thy glass and tell the face thou viewest', '279.6156896'], ['1', '5', 'When forty winters shall besiege thy brow Then let not winter’s ragged hand deface', '297.561547'], ['2', '1', 'vanishing mediator', '45.60217014962681']] \n",
      "\n",
      "This is the USED NUMBER LIST:  ['1', '5']\n",
      "This is the UPDATED used number list:  ['1', '5', '7', '6']\n",
      "[['1', '5', 'When forty winters shall besiege thy brow Then let not winter’s ragged hand deface', '297.561547'], ['7', '6', ' Music to hear, why hear’st thou music sadly? Lo, in the orient when the gracious light', '321.5491662']]\n",
      "Vanishing Mediator:  ['5', '7']\n",
      "line that matches vanishing mediator:  ['5', '7', ' Then let not winter’s ragged hand deface Music to hear, why hear’st thou music sadly?', '936.6779286178486']\n",
      "final permut list:  [['1', '5', 'When forty winters shall besiege thy brow Then let not winter’s ragged hand deface', '297.561547'], ['7', '6', ' Music to hear, why hear’st thou music sadly? Lo, in the orient when the gracious light', '321.5491662'], ['5', '7', 'vanishing mediator', '936.6779286178486']] \n",
      "\n",
      "This is the USED NUMBER LIST:  ['5', '1']\n",
      "This is the UPDATED used number list:  ['5', '1', '7', '6']\n",
      "[['5', '1', 'Then let not winter’s ragged hand deface When forty winters shall besiege thy brow', '317.6208438'], ['7', '6', ' Music to hear, why hear’st thou music sadly? Lo, in the orient when the gracious light', '321.5491662']]\n",
      "Vanishing Mediator:  ['1', '7']\n",
      "line that matches vanishing mediator:  ['1', '7', ' When forty winters shall besiege thy brow Music to hear, why hear’st thou music sadly?', '160.4016649973774']\n",
      "final permut list:  [['5', '1', 'Then let not winter’s ragged hand deface When forty winters shall besiege thy brow', '317.6208438'], ['7', '6', ' Music to hear, why hear’st thou music sadly? Lo, in the orient when the gracious light', '321.5491662'], ['1', '7', 'vanishing mediator', '160.4016649973774']] \n",
      "\n",
      "This is the USED NUMBER LIST:  ['7', '6']\n",
      "This is the UPDATED used number list:  ['7', '6', '4', '1']\n",
      "[['7', '6', ' Music to hear, why hear’st thou music sadly? Lo, in the orient when the gracious light', '321.5491662'], ['4', '1', 'Those hours that with gentle work did frame When forty winters shall besiege thy brow', '399.0716223']]\n",
      "Vanishing Mediator:  ['6', '4']\n",
      "line that matches vanishing mediator:  ['6', '4', ' Lo, in the orient when the gracious light Those hours that with gentle work did frame', '1056.4256003082144']\n",
      "final permut list:  [['7', '6', ' Music to hear, why hear’st thou music sadly? Lo, in the orient when the gracious light', '321.5491662'], ['4', '1', 'Those hours that with gentle work did frame When forty winters shall besiege thy brow', '399.0716223'], ['6', '4', 'vanishing mediator', '1056.4256003082144']] \n",
      "\n",
      "This is the USED NUMBER LIST:  ['6', '0']\n",
      "This is the UPDATED used number list:  ['6', '0', '4', '1']\n",
      "[['6', '0', ' Lo, in the orient when the gracious light From fairest creatures we desire increase', '321.7817105'], ['4', '1', 'Those hours that with gentle work did frame When forty winters shall besiege thy brow', '399.0716223']]\n",
      "Vanishing Mediator:  ['0', '4']\n",
      "line that matches vanishing mediator:  ['0', '4', ' From fairest creatures we desire increase Those hours that with gentle work did frame', '3286.928941654847']\n",
      "final permut list:  [['6', '0', ' Lo, in the orient when the gracious light From fairest creatures we desire increase', '321.7817105'], ['4', '1', 'Those hours that with gentle work did frame When forty winters shall besiege thy brow', '399.0716223'], ['0', '4', 'vanishing mediator', '3286.928941654847']] \n",
      "\n",
      "This is the USED NUMBER LIST:  ['6', '7']\n",
      "This is the UPDATED used number list:  ['6', '7', '4', '1']\n",
      "[['6', '7', ' Lo, in the orient when the gracious light Music to hear, why hear’st thou music sadly?', '360.6823914'], ['4', '1', 'Those hours that with gentle work did frame When forty winters shall besiege thy brow', '399.0716223']]\n",
      "Vanishing Mediator:  ['7', '4']\n",
      "line that matches vanishing mediator:  ['7', '4', ' Music to hear, why hear’st thou music sadly? Those hours that with gentle work did frame', '1690.7801940820473']\n",
      "final permut list:  [['6', '7', ' Lo, in the orient when the gracious light Music to hear, why hear’st thou music sadly?', '360.6823914'], ['4', '1', 'Those hours that with gentle work did frame When forty winters shall besiege thy brow', '399.0716223'], ['7', '4', 'vanishing mediator', '1690.7801940820473']] \n",
      "\n",
      "This is the USED NUMBER LIST:  ['4', '1']\n",
      "This is the UPDATED used number list:  ['4', '1', '0', '7']\n",
      "[['4', '1', 'Those hours that with gentle work did frame When forty winters shall besiege thy brow', '399.0716223'], ['0', '7', ' From fairest creatures we desire increase Music to hear, why hear’st thou music sadly?', '415.9035152']]\n",
      "Vanishing Mediator:  ['1', '0']\n",
      "line that matches vanishing mediator:  ['1', '0', ' When forty winters shall besiege thy brow From fairest creatures we desire increase', '172.67441133983826']\n",
      "final permut list:  [['4', '1', 'Those hours that with gentle work did frame When forty winters shall besiege thy brow', '399.0716223'], ['0', '7', ' From fairest creatures we desire increase Music to hear, why hear’st thou music sadly?', '415.9035152'], ['1', '0', 'vanishing mediator', '172.67441133983826']] \n",
      "\n",
      "This is the USED NUMBER LIST:  ['0', '7']\n",
      "This is the UPDATED used number list:  ['0', '7', '4', '6']\n",
      "[['0', '7', ' From fairest creatures we desire increase Music to hear, why hear’st thou music sadly?', '415.9035152'], ['4', '6', ' Those hours that with gentle work did frame Lo, in the orient when the gracious light', '424.5983846']]\n",
      "Vanishing Mediator:  ['7', '4']\n",
      "line that matches vanishing mediator:  ['7', '4', ' Music to hear, why hear’st thou music sadly? Those hours that with gentle work did frame', '1690.7801940820473']\n",
      "final permut list:  [['0', '7', ' From fairest creatures we desire increase Music to hear, why hear’st thou music sadly?', '415.9035152'], ['4', '6', ' Those hours that with gentle work did frame Lo, in the orient when the gracious light', '424.5983846'], ['7', '4', 'vanishing mediator', '1690.7801940820473']] \n",
      "\n",
      "This is the USED NUMBER LIST:  ['4', '6']\n",
      "This is the UPDATED used number list:  ['4', '6', '2', '5']\n",
      "[['4', '6', ' Those hours that with gentle work did frame Lo, in the orient when the gracious light', '424.5983846'], ['2', '5', 'Look in thy glass and tell the face thou viewest Then let not winter’s ragged hand deface', '475.7860534']]\n",
      "Vanishing Mediator:  ['6', '2']\n",
      "line that matches vanishing mediator:  ['6', '2', ' Lo, in the orient when the gracious light Look in thy glass and tell the face thou viewest', '153.8690180139663']\n",
      "final permut list:  [['4', '6', ' Those hours that with gentle work did frame Lo, in the orient when the gracious light', '424.5983846'], ['2', '5', 'Look in thy glass and tell the face thou viewest Then let not winter’s ragged hand deface', '475.7860534'], ['6', '2', 'vanishing mediator', '153.8690180139663']] \n",
      "\n",
      "This is the USED NUMBER LIST:  ['2', '5']\n",
      "This is the UPDATED used number list:  ['2', '5', '0', '6']\n",
      "[['2', '5', 'Look in thy glass and tell the face thou viewest Then let not winter’s ragged hand deface', '475.7860534'], ['0', '6', ' From fairest creatures we desire increase Lo, in the orient when the gracious light', '570.5865988']]\n",
      "Vanishing Mediator:  ['5', '0']\n",
      "line that matches vanishing mediator:  ['5', '0', ' Then let not winter’s ragged hand deface From fairest creatures we desire increase', '2616.0588149456275']\n",
      "final permut list:  [['2', '5', 'Look in thy glass and tell the face thou viewest Then let not winter’s ragged hand deface', '475.7860534'], ['0', '6', ' From fairest creatures we desire increase Lo, in the orient when the gracious light', '570.5865988'], ['5', '0', 'vanishing mediator', '2616.0588149456275']] \n",
      "\n",
      "This is the USED NUMBER LIST:  ['2', '4']\n",
      "This is the UPDATED used number list:  ['2', '4', '0', '6']\n",
      "[['2', '4', 'Look in thy glass and tell the face thou viewest Those hours that with gentle work did frame', '489.9823142'], ['0', '6', ' From fairest creatures we desire increase Lo, in the orient when the gracious light', '570.5865988']]\n",
      "Vanishing Mediator:  ['4', '0']\n",
      "line that matches vanishing mediator:  ['4', '0', ' Those hours that with gentle work did frame From fairest creatures we desire increase', '4722.001036068816']\n",
      "final permut list:  [['2', '4', 'Look in thy glass and tell the face thou viewest Those hours that with gentle work did frame', '489.9823142'], ['0', '6', ' From fairest creatures we desire increase Lo, in the orient when the gracious light', '570.5865988'], ['4', '0', 'vanishing mediator', '4722.001036068816']] \n",
      "\n",
      "This is the USED NUMBER LIST:  ['0', '2']\n",
      "This is the UPDATED used number list:  ['0', '2', '1', '4']\n",
      "[['0', '2', 'From fairest creatures we desire increase Look in thy glass and tell the face thou viewest', '517.3950525'], ['1', '4', 'When forty winters shall besiege thy brow Those hours that with gentle work did frame', '600.5658874']]\n",
      "Vanishing Mediator:  ['2', '1']\n",
      "line that matches vanishing mediator:  ['2', '1', ' Look in thy glass and tell the face thou viewest When forty winters shall besiege thy brow', '45.60217014962681']\n",
      "final permut list:  [['0', '2', 'From fairest creatures we desire increase Look in thy glass and tell the face thou viewest', '517.3950525'], ['1', '4', 'When forty winters shall besiege thy brow Those hours that with gentle work did frame', '600.5658874'], ['2', '1', 'vanishing mediator', '45.60217014962681']] \n",
      "\n",
      "This is the USED NUMBER LIST:  ['0', '6']\n",
      "This is the UPDATED used number list:  ['0', '6', '1', '4']\n",
      "[['0', '6', ' From fairest creatures we desire increase Lo, in the orient when the gracious light', '570.5865988'], ['1', '4', 'When forty winters shall besiege thy brow Those hours that with gentle work did frame', '600.5658874']]\n",
      "Vanishing Mediator:  ['6', '1']\n",
      "line that matches vanishing mediator:  ['6', '1', ' Lo, in the orient when the gracious light When forty winters shall besiege thy brow', '110.01474530869798']\n",
      "final permut list:  [['0', '6', ' From fairest creatures we desire increase Lo, in the orient when the gracious light', '570.5865988'], ['1', '4', 'When forty winters shall besiege thy brow Those hours that with gentle work did frame', '600.5658874'], ['6', '1', 'vanishing mediator', '110.01474530869798']] \n",
      "\n",
      "This is the USED NUMBER LIST:  ['1', '4']\n",
      "This is the UPDATED used number list:  ['1', '4', '5', '6']\n",
      "[['1', '4', 'When forty winters shall besiege thy brow Those hours that with gentle work did frame', '600.5658874'], ['5', '6', ' Then let not winter’s ragged hand deface Lo, in the orient when the gracious light', '780.5633884']]\n",
      "Vanishing Mediator:  ['4', '5']\n",
      "line that matches vanishing mediator:  ['4', '5', ' Those hours that with gentle work did frame Then let not winter’s ragged hand deface', '2381.3436087849327']\n",
      "final permut list:  [['1', '4', 'When forty winters shall besiege thy brow Those hours that with gentle work did frame', '600.5658874'], ['5', '6', ' Then let not winter’s ragged hand deface Lo, in the orient when the gracious light', '780.5633884'], ['4', '5', 'vanishing mediator', '2381.3436087849327']] \n",
      "\n",
      "This is the USED NUMBER LIST:  ['4', '7']\n",
      "This is the UPDATED used number list:  ['4', '7', '5', '6']\n",
      "[['4', '7', ' Those hours that with gentle work did frame Music to hear, why hear’st thou music sadly?', '778.4978732'], ['5', '6', ' Then let not winter’s ragged hand deface Lo, in the orient when the gracious light', '780.5633884']]\n",
      "Vanishing Mediator:  ['7', '5']\n",
      "line that matches vanishing mediator:  ['7', '5', ' Music to hear, why hear’st thou music sadly? Then let not winter’s ragged hand deface', '958.9748830326889']\n",
      "final permut list:  [['4', '7', ' Those hours that with gentle work did frame Music to hear, why hear’st thou music sadly?', '778.4978732'], ['5', '6', ' Then let not winter’s ragged hand deface Lo, in the orient when the gracious light', '780.5633884'], ['7', '5', 'vanishing mediator', '958.9748830326889']] \n",
      "\n",
      "This is the USED NUMBER LIST:  ['5', '6']\n",
      "This is the UPDATED used number list:  ['5', '6', '7', '0']\n",
      "[['5', '6', ' Then let not winter’s ragged hand deface Lo, in the orient when the gracious light', '780.5633884'], ['7', '0', ' Music to hear, why hear’st thou music sadly? From fairest creatures we desire increase', '850.2589801']]\n",
      "Vanishing Mediator:  ['6', '7']\n",
      "line that matches vanishing mediator:  ['6', '7', ' Lo, in the orient when the gracious light Music to hear, why hear’st thou music sadly?', '360.6823913669218']\n",
      "final permut list:  [['5', '6', ' Then let not winter’s ragged hand deface Lo, in the orient when the gracious light', '780.5633884'], ['7', '0', ' Music to hear, why hear’st thou music sadly? From fairest creatures we desire increase', '850.2589801'], ['6', '7', 'vanishing mediator', '360.6823913669218']] \n",
      "\n",
      "This is the USED NUMBER LIST:  ['5', '2']\n",
      "This is the UPDATED used number list:  ['5', '2', '7', '0']\n",
      "[['5', '2', 'Then let not winter’s ragged hand deface Look in thy glass and tell the face thou viewest', '804.2406553'], ['7', '0', ' Music to hear, why hear’st thou music sadly? From fairest creatures we desire increase', '850.2589801']]\n",
      "Vanishing Mediator:  ['2', '7']\n",
      "line that matches vanishing mediator:  ['2', '7', ' Look in thy glass and tell the face thou viewest Music to hear, why hear’st thou music sadly?', '163.94351492041739']\n",
      "final permut list:  [['5', '2', 'Then let not winter’s ragged hand deface Look in thy glass and tell the face thou viewest', '804.2406553'], ['7', '0', ' Music to hear, why hear’st thou music sadly? From fairest creatures we desire increase', '850.2589801'], ['2', '7', 'vanishing mediator', '163.94351492041739']] \n",
      "\n",
      "This is the USED NUMBER LIST:  ['7', '0']\n",
      "This is the UPDATED used number list:  ['7', '0', '6', '5']\n",
      "[['7', '0', ' Music to hear, why hear’st thou music sadly? From fairest creatures we desire increase', '850.2589801'], ['6', '5', ' Lo, in the orient when the gracious light Then let not winter’s ragged hand deface', '961.8781203']]\n",
      "Vanishing Mediator:  ['0', '6']\n",
      "line that matches vanishing mediator:  ['0', '6', ' From fairest creatures we desire increase Lo, in the orient when the gracious light', '570.5865987852687']\n",
      "final permut list:  [['7', '0', ' Music to hear, why hear’st thou music sadly? From fairest creatures we desire increase', '850.2589801'], ['6', '5', ' Lo, in the orient when the gracious light Then let not winter’s ragged hand deface', '961.8781203'], ['0', '6', 'vanishing mediator', '570.5865987852687']] \n",
      "\n",
      "This is the USED NUMBER LIST:  ['5', '7']\n",
      "This is the UPDATED used number list:  ['5', '7', '4', '2']\n",
      "[['5', '7', ' Then let not winter’s ragged hand deface Music to hear, why hear’st thou music sadly?', '936.6779286'], ['4', '2', 'Those hours that with gentle work did frame Look in thy glass and tell the face thou viewest', '982.1427234']]\n",
      "Vanishing Mediator:  ['7', '4']\n",
      "line that matches vanishing mediator:  ['7', '4', ' Music to hear, why hear’st thou music sadly? Those hours that with gentle work did frame', '1690.7801940820473']\n",
      "final permut list:  [['5', '7', ' Then let not winter’s ragged hand deface Music to hear, why hear’st thou music sadly?', '936.6779286'], ['4', '2', 'Those hours that with gentle work did frame Look in thy glass and tell the face thou viewest', '982.1427234'], ['7', '4', 'vanishing mediator', '1690.7801940820473']] \n",
      "\n",
      "This is the USED NUMBER LIST:  ['7', '5']\n",
      "This is the UPDATED used number list:  ['7', '5', '4', '2']\n",
      "[['7', '5', ' Music to hear, why hear’st thou music sadly? Then let not winter’s ragged hand deface', '958.974883'], ['4', '2', 'Those hours that with gentle work did frame Look in thy glass and tell the face thou viewest', '982.1427234']]\n",
      "Vanishing Mediator:  ['5', '4']\n",
      "line that matches vanishing mediator:  ['5', '4', ' Then let not winter’s ragged hand deface Those hours that with gentle work did frame', '2854.8234035642863']\n",
      "final permut list:  [['7', '5', ' Music to hear, why hear’st thou music sadly? Then let not winter’s ragged hand deface', '958.974883'], ['4', '2', 'Those hours that with gentle work did frame Look in thy glass and tell the face thou viewest', '982.1427234'], ['5', '4', 'vanishing mediator', '2854.8234035642863']] \n",
      "\n",
      "This is the USED NUMBER LIST:  ['6', '5']\n",
      "This is the UPDATED used number list:  ['6', '5', '4', '2']\n",
      "[['6', '5', ' Lo, in the orient when the gracious light Then let not winter’s ragged hand deface', '961.8781203'], ['4', '2', 'Those hours that with gentle work did frame Look in thy glass and tell the face thou viewest', '982.1427234']]\n",
      "Vanishing Mediator:  ['5', '4']\n",
      "line that matches vanishing mediator:  ['5', '4', ' Then let not winter’s ragged hand deface Those hours that with gentle work did frame', '2854.8234035642863']\n",
      "final permut list:  [['6', '5', ' Lo, in the orient when the gracious light Then let not winter’s ragged hand deface', '961.8781203'], ['4', '2', 'Those hours that with gentle work did frame Look in thy glass and tell the face thou viewest', '982.1427234'], ['5', '4', 'vanishing mediator', '2854.8234035642863']] \n",
      "\n",
      "This is the USED NUMBER LIST:  ['4', '2']\n",
      "This is the UPDATED used number list:  ['4', '2', '0', '5']\n",
      "[['4', '2', 'Those hours that with gentle work did frame Look in thy glass and tell the face thou viewest', '982.1427234'], ['0', '5', 'From fairest creatures we desire increase Then let not winter’s ragged hand deface', '1822.206785']]\n",
      "Vanishing Mediator:  ['2', '0']\n",
      "line that matches vanishing mediator:  ['2', '0', ' Look in thy glass and tell the face thou viewest From fairest creatures we desire increase', '208.5570813370299']\n",
      "final permut list:  [['4', '2', 'Those hours that with gentle work did frame Look in thy glass and tell the face thou viewest', '982.1427234'], ['0', '5', 'From fairest creatures we desire increase Then let not winter’s ragged hand deface', '1822.206785'], ['2', '0', 'vanishing mediator', '208.5570813370299']] \n",
      "\n",
      "This is the USED NUMBER LIST:  ['6', '4']\n",
      "This is the UPDATED used number list:  ['6', '4', '0', '5']\n",
      "[['6', '4', ' Lo, in the orient when the gracious light Those hours that with gentle work did frame', '1056.4256'], ['0', '5', 'From fairest creatures we desire increase Then let not winter’s ragged hand deface', '1822.206785']]\n",
      "Vanishing Mediator:  ['4', '0']\n",
      "line that matches vanishing mediator:  ['4', '0', ' Those hours that with gentle work did frame From fairest creatures we desire increase', '4722.001036068816']\n",
      "final permut list:  [['6', '4', ' Lo, in the orient when the gracious light Those hours that with gentle work did frame', '1056.4256'], ['0', '5', 'From fairest creatures we desire increase Then let not winter’s ragged hand deface', '1822.206785'], ['4', '0', 'vanishing mediator', '4722.001036068816']] \n",
      "\n",
      "This is the USED NUMBER LIST:  ['7', '4']\n",
      "This is the UPDATED used number list:  ['7', '4', '0', '5']\n",
      "[['7', '4', ' Music to hear, why hear’st thou music sadly? Those hours that with gentle work did frame', '1690.780194'], ['0', '5', 'From fairest creatures we desire increase Then let not winter’s ragged hand deface', '1822.206785']]\n",
      "Vanishing Mediator:  ['4', '0']\n",
      "line that matches vanishing mediator:  ['4', '0', ' Those hours that with gentle work did frame From fairest creatures we desire increase', '4722.001036068816']\n",
      "final permut list:  [['7', '4', ' Music to hear, why hear’st thou music sadly? Those hours that with gentle work did frame', '1690.780194'], ['0', '5', 'From fairest creatures we desire increase Then let not winter’s ragged hand deface', '1822.206785'], ['4', '0', 'vanishing mediator', '4722.001036068816']] \n",
      "\n",
      "This is the USED NUMBER LIST:  ['0', '5']\n",
      "This is the UPDATED used number list:  ['0', '5', '1', '3']\n",
      "[['0', '5', 'From fairest creatures we desire increase Then let not winter’s ragged hand deface', '1822.206785'], ['1', '3', ' When forty winters shall besiege thy brow Unthrifty loveliness, why dost thou spend', '23.01955329']]\n",
      "Vanishing Mediator:  ['5', '1']\n",
      "line that matches vanishing mediator:  ['5', '1', ' Then let not winter’s ragged hand deface When forty winters shall besiege thy brow', '317.6208437744747']\n",
      "final permut list:  [['0', '5', 'From fairest creatures we desire increase Then let not winter’s ragged hand deface', '1822.206785'], ['1', '3', ' When forty winters shall besiege thy brow Unthrifty loveliness, why dost thou spend', '23.01955329'], ['5', '1', 'vanishing mediator', '317.6208437744747']] \n",
      "\n",
      "This is the USED NUMBER LIST:  ['4', '5']\n",
      "This is the UPDATED used number list:  ['4', '5', '1', '3']\n",
      "[['4', '5', 'Those hours that with gentle work did frame Then let not winter’s ragged hand deface', '2381.343609'], ['1', '3', ' When forty winters shall besiege thy brow Unthrifty loveliness, why dost thou spend', '23.01955329']]\n",
      "Vanishing Mediator:  ['5', '1']\n",
      "line that matches vanishing mediator:  ['5', '1', ' Then let not winter’s ragged hand deface When forty winters shall besiege thy brow', '317.6208437744747']\n",
      "final permut list:  [['4', '5', 'Those hours that with gentle work did frame Then let not winter’s ragged hand deface', '2381.343609'], ['1', '3', ' When forty winters shall besiege thy brow Unthrifty loveliness, why dost thou spend', '23.01955329'], ['5', '1', 'vanishing mediator', '317.6208437744747']] \n",
      "\n",
      "This is the USED NUMBER LIST:  ['5', '0']\n",
      "This is the UPDATED used number list:  ['5', '0', '1', '3']\n",
      "[['5', '0', 'Then let not winter’s ragged hand deface From fairest creatures we desire increase', '2616.058815'], ['1', '3', ' When forty winters shall besiege thy brow Unthrifty loveliness, why dost thou spend', '23.01955329']]\n",
      "Vanishing Mediator:  ['0', '1']\n",
      "line that matches vanishing mediator:  ['0', '1', ' From fairest creatures we desire increase When forty winters shall besiege thy brow', '211.9462538262591']\n",
      "final permut list:  [['5', '0', 'Then let not winter’s ragged hand deface From fairest creatures we desire increase', '2616.058815'], ['1', '3', ' When forty winters shall besiege thy brow Unthrifty loveliness, why dost thou spend', '23.01955329'], ['0', '1', 'vanishing mediator', '211.9462538262591']] \n",
      "\n",
      "This is the USED NUMBER LIST:  ['5', '4']\n",
      "This is the UPDATED used number list:  ['5', '4', '1', '3']\n",
      "[['5', '4', 'Then let not winter’s ragged hand deface Those hours that with gentle work did frame', '2854.823404'], ['1', '3', ' When forty winters shall besiege thy brow Unthrifty loveliness, why dost thou spend', '23.01955329']]\n",
      "Vanishing Mediator:  ['4', '1']\n",
      "line that matches vanishing mediator:  ['4', '1', ' Those hours that with gentle work did frame When forty winters shall besiege thy brow', '399.07162227064964']\n",
      "final permut list:  [['5', '4', 'Then let not winter’s ragged hand deface Those hours that with gentle work did frame', '2854.823404'], ['1', '3', ' When forty winters shall besiege thy brow Unthrifty loveliness, why dost thou spend', '23.01955329'], ['4', '1', 'vanishing mediator', '399.07162227064964']] \n",
      "\n",
      "This is the USED NUMBER LIST:  ['0', '4']\n",
      "This is the UPDATED used number list:  ['0', '4', '1', '3']\n",
      "[['0', '4', 'From fairest creatures we desire increase Those hours that with gentle work did frame', '3286.928942'], ['1', '3', ' When forty winters shall besiege thy brow Unthrifty loveliness, why dost thou spend', '23.01955329']]\n",
      "Vanishing Mediator:  ['4', '1']\n",
      "line that matches vanishing mediator:  ['4', '1', ' Those hours that with gentle work did frame When forty winters shall besiege thy brow', '399.07162227064964']\n",
      "final permut list:  [['0', '4', 'From fairest creatures we desire increase Those hours that with gentle work did frame', '3286.928942'], ['1', '3', ' When forty winters shall besiege thy brow Unthrifty loveliness, why dost thou spend', '23.01955329'], ['4', '1', 'vanishing mediator', '399.07162227064964']] \n",
      "\n",
      "This is the USED NUMBER LIST:  ['4', '0']\n",
      "This is the UPDATED used number list:  ['4', '0', '1', '3']\n",
      "[['4', '0', 'Those hours that with gentle work did frame From fairest creatures we desire increase', '4722.001036'], ['1', '3', ' When forty winters shall besiege thy brow Unthrifty loveliness, why dost thou spend', '23.01955329']]\n",
      "Vanishing Mediator:  ['0', '1']\n",
      "line that matches vanishing mediator:  ['0', '1', ' From fairest creatures we desire increase When forty winters shall besiege thy brow', '211.9462538262591']\n",
      "final permut list:  [['4', '0', 'Those hours that with gentle work did frame From fairest creatures we desire increase', '4722.001036'], ['1', '3', ' When forty winters shall besiege thy brow Unthrifty loveliness, why dost thou spend', '23.01955329'], ['0', '1', 'vanishing mediator', '211.9462538262591']] \n",
      "\n",
      "This is the USED NUMBER LIST:  ['1', '3']\n",
      "This is the UPDATED used number list:  ['1', '3', '2', '6']\n",
      "[['1', '3', ' When forty winters shall besiege thy brow Unthrifty loveliness, why dost thou spend', '23.01955329'], ['2', '6', ' Look in thy glass and tell the face thou viewest Lo, in the orient when the gracious light', '126.2423654']]\n",
      "Vanishing Mediator:  ['3', '2']\n",
      "line that matches vanishing mediator:  ['3', '2', ' Unthrifty loveliness, why dost thou spend Look in thy glass and tell the face thou viewest', '96.79442308801872']\n",
      "final permut list:  [['1', '3', ' When forty winters shall besiege thy brow Unthrifty loveliness, why dost thou spend', '23.01955329'], ['2', '6', ' Look in thy glass and tell the face thou viewest Lo, in the orient when the gracious light', '126.2423654'], ['3', '2', 'vanishing mediator', '96.79442308801872']] \n",
      "\n"
     ]
    }
   ],
   "source": [
    "# THE PROBLEM WITH THIS SCRIPT RIGHT NOW IS THAT IT REPROCESS THE FIRST LINE AT THE END AS WELL, MAYBE\n",
    "# BECAUSE THE FIRST LINE IS DONE IN A SEPARATE LOOP, BEFORE THE OTHER LOOP EXECUTES\n",
    "\n",
    "permut_list = []\n",
    "used_list = []\n",
    "n = 0\n",
    "\n",
    "if os.path.exists('temp'):\n",
    "    now = datetime.datetime.now()\n",
    "    os.rename('temp',f'temp{now.strftime(\"%Y%m%d%H%M%S\")}')\n",
    "else:\n",
    "    os.mkdir('temp')\n",
    "\n",
    "# ARE WE MAKING THIS CSV BY HAND??\n",
    "with open('sonnet_perplexity_sorted.csv','r') as file:\n",
    "    reader = csv.reader(file)\n",
    "    first_list = list(reader)\n",
    "    while n <= len(first_list):\n",
    "        permut_list.append(first_list[0])\n",
    "        used_list.append(first_list[0][0])\n",
    "        used_list.append(first_list[0][1])\n",
    "        print('This is the USED NUMBER LIST: ',used_list)\n",
    "        for i in range(len(first_list)):\n",
    "# I THINK THIS NEX NUMBER SHOULD BE 4 INSTEAD OF 8\n",
    "            while len(used_list) < 4: #changed to 4 from 8\n",
    "                i+=1\n",
    "                if first_list[i][0] in used_list:\n",
    "                    continue\n",
    "                elif first_list[i][1] not in used_list:\n",
    "                    permut_list.append(first_list[i])\n",
    "                    used_list.append(first_list[i][0])\n",
    "                    used_list.append(first_list[i][1])\n",
    "                    print('This is the UPDATED used number list: ',used_list)\n",
    "                    print(permut_list)\n",
    "                    vanishing_mediator = []\n",
    "                    vanishing_mediator.append(permut_list[0][1])\n",
    "                    vanishing_mediator.append(permut_list[1][0])\n",
    "                    # could also do vanishing_mediator.append(used_list[1:2]) or something like that\n",
    "                    print(\"Vanishing Mediator: \", vanishing_mediator) # for testing\n",
    "                    with open('sonnet_perplexity.csv','r') as file:\n",
    "                        vanmed_reader = csv.reader(file)\n",
    "                        first_list_w_score = list(vanmed_reader)\n",
    "                    for i in first_list_w_score:\n",
    "                        if (i[0] == vanishing_mediator[0]) and (i[1] == vanishing_mediator[1]):\n",
    "                            print(\"line that matches vanishing mediator: \", i)\n",
    "                            permut_list.extend([[i[0],i[1],'vanishing mediator',i[3]]]) # this isn't quite working, see the individual output files--how to get these in a single line??\n",
    "                            print(\"final permut list: \", permut_list, '\\n')\n",
    "                    continue\n",
    "                else:\n",
    "                    continue\n",
    "        with open(f'temp/0_sonnet_order_{n}.csv','w') as f:\n",
    "            writer = csv.writer(f)\n",
    "            writer.writerows(permut_list)\n",
    "        backofline = first_list.pop(0)\n",
    "        first_list.append(backofline)\n",
    "        used_list=[]\n",
    "        permut_list = []\n",
    "        n+=1"
   ]
  },
  {
   "cell_type": "code",
   "execution_count": 34,
   "id": "92a98375-74e0-443f-88fa-9c570179438f",
   "metadata": {
    "scrolled": true
   },
   "outputs": [
    {
     "name": "stdout",
     "output_type": "stream",
     "text": [
      "\" 1,3,2,6 \" , 246.0563417780187\n",
      "\" 3,1,2,6 \" , 239.38725833892738\n",
      "\" 2,3,1,6 \" , 166.83141378018087\n",
      "\" 2,1,3,6 \" , 126.90973722318722\n",
      "\" 3,6,1,2 \" , 255.51584363869796\n",
      "\" 0,3,1,2 \" , 174.6318825901809\n",
      "\" 6,3,1,2 \" , 176.2362975501809\n",
      "\" 3,7,1,2 \" , 346.28512356814906\n",
      "\" 1,2,3,4 \" , 216.19865884791022\n",
      "\" 3,4,1,6 \" , 586.2640704406497\n",
      "\" 7,3,1,6 \" , 220.35865741018088\n",
      "\" 3,2,1,6 \" , 241.9498328696268\n",
      "\" 1,6,3,0 \" , 266.7043086376299\n",
      "\" 3,0,6,1 \" , 784.6610084852687\n",
      "\" 6,1,4,3 \" , 831.0636491879984\n",
      "\" 4,3,2,6 \" , 343.51980498801873\n",
      "\" 2,6,1,7 \" , 396.658775708698\n",
      "\" 6,2,1,7 \" , 359.87285314962685\n",
      "\" 1,7,5,3 \" , 1326.626407832689\n",
      "\" 2,7,1,0 \" , 524.556505528149\n",
      "\" 1,0,5,3 \" , 2202.13105619701\n",
      "\" 7,1,5,3 \" , 692.7499861168966\n",
      "\" 5,3,2,0 \" , 512.6013641880187\n",
      "\" 2,0,3,5 \" , 495.1568676454679\n",
      "\" 0,1,3,5 \" , 460.0786037931872\n",
      "\" 3,5,7,2 \" , 1441.4064149178485\n",
      "\" 7,2,1,5 \" , 622.7794067496268\n",
      "\" 1,5,7,6 \" , 1555.7886418178487\n",
      "\" 5,1,7,6 \" , 799.5716749973774\n",
      "\" 7,6,4,1 \" , 1777.0463888082145\n",
      "\" 6,0,4,1 \" , 4007.782274454847\n",
      "\" 6,7,4,1 \" , 2450.5342077820474\n",
      "\" 4,1,0,7 \" , 987.6495488398383\n",
      "\" 0,7,4,6 \" , 2531.2820938820473\n",
      "\" 4,6,2,5 \" , 1054.2534560139663\n",
      "\" 2,5,0,6 \" , 3662.4314671456277\n",
      "\" 2,4,0,6 \" , 5782.569949068816\n",
      "\" 0,2,1,4 \" , 1163.5631100496269\n",
      "\" 0,6,1,4 \" , 1281.167231508698\n",
      "\" 1,4,5,6 \" , 3762.4728845849327\n",
      "\" 4,7,5,6 \" , 2518.036144632689\n",
      "\" 5,6,7,0 \" , 1991.5047598669219\n",
      "\" 5,2,7,0 \" , 1818.4431503204173\n",
      "\" 7,0,6,5 \" , 2382.7236991852687\n",
      "\" 5,7,4,2 \" , 3609.600846082047\n",
      "\" 7,5,4,2 \" , 4795.941009964286\n",
      "\" 6,5,4,2 \" , 4798.844247264286\n",
      "\" 4,2,0,5 \" , 3012.90658973703\n",
      "\" 6,4,0,5 \" , 7600.633421068816\n",
      "\" 7,4,0,5 \" , 8234.988015068815\n",
      "\" 0,5,1,3 \" , 2162.8471820644745\n",
      "\" 4,5,1,3 \" , 2721.9840060644747\n",
      "\" 5,0,1,3 \" , 2851.0246221162593\n",
      "\" 5,4,1,3 \" , 3276.91457956065\n",
      "\" 0,4,1,3 \" , 3709.02011756065\n",
      "\" 4,0,1,3 \" , 4956.966843116258\n"
     ]
    }
   ],
   "source": [
    "for i in range(56): #this range will have to change at some point\n",
    "    q_lines = []\n",
    "    q_score = []\n",
    "    q_total = 0\n",
    "    with open(f'0_sonnet_order_{i}.csv','r') as f:\n",
    "        reader = csv.reader(f)\n",
    "        quatrain = list(reader)\n",
    "    for i in range(len(quatrain)-1): # does this minus 1 work?\n",
    "        q_lines.append(quatrain[i][0])\n",
    "        q_lines.append(quatrain[i][1])\n",
    "        q_lnumbers = ','.join(q_lines)\n",
    "    for n in range(len(quatrain)):\n",
    "        q_score = float(quatrain[n][3])\n",
    "        q_total += q_score\n",
    "    print('\"',q_lnumbers,'\"',',', q_total)        "
   ]
  },
  {
   "cell_type": "raw",
   "id": "1a72f2a6-82f8-492f-b8cf-876c916b4cd0",
   "metadata": {},
   "source": [
    "Next:\n",
    "\n",
    "Take the list of quatrains\n",
    "Loop through it line by line, starting with least perplexing\n",
    "\n",
    "Sort list of quatrains by score, low to high\n",
    "list =[]\n",
    "n=0\n",
    "while len(list)<=154:\n",
    "    for line_numbers in quatrain[n]:H\n",
    "        for i in line_numbers:\n",
    "            if i not in list:\n",
    "                list.append(i)\n",
    "            else:\n",
    "                continue\n",
    "            n+=1\n",
    "\n",
    "\n",
    "Then take all permutations of the first and last lines of each quatrain\n",
    "\n"
   ]
  },
  {
   "cell_type": "markdown",
   "id": "ce0fa1d5-ca63-4945-bb71-a5282dee1ddd",
   "metadata": {},
   "source": [
    "<h1>END OF FILE</h1>"
   ]
  },
  {
   "cell_type": "code",
   "execution_count": 117,
   "id": "544a7cab-96d8-4da5-856c-fdf71bb814da",
   "metadata": {},
   "outputs": [
    {
     "name": "stderr",
     "output_type": "stream",
     "text": [
      "If you want to use `BertLMHeadModel` as a standalone, add `is_decoder=True.`\n",
      "100%|█████████████████████████████████████████████| 1/1 [00:00<00:00,  3.75it/s]"
     ]
    },
    {
     "name": "stdout",
     "output_type": "stream",
     "text": [
      "19593.66\n"
     ]
    },
    {
     "name": "stderr",
     "output_type": "stream",
     "text": [
      "\n"
     ]
    }
   ],
   "source": [
    "import evaluate\n",
    "\n",
    "perplexity = evaluate.load(\"perplexity\", module_type=\"metric\")\n",
    "input_texts = ['From fairest creatures we desire increase', 'Look in thy glass and tell the face thou viewest']\n",
    "\n",
    "results = perplexity.compute(model_id='google-bert/bert-base-uncased',\n",
    "                             add_start_token=False,\n",
    "                             predictions=input_texts)\n",
    "print(round(results['mean_perplexity'], 2))"
   ]
  },
  {
   "cell_type": "code",
   "execution_count": 68,
   "id": "0122910d-7ed4-46eb-9975-0b9bf46d4f6a",
   "metadata": {
    "scrolled": true
   },
   "outputs": [
    {
     "name": "stdout",
     "output_type": "stream",
     "text": [
      "8577402.0\n"
     ]
    }
   ],
   "source": [
    "print(round(results[\"mean_perplexity\"], 2))"
   ]
  },
  {
   "cell_type": "code",
   "execution_count": 69,
   "id": "0cf85317-7101-4826-bc68-b6611dc61091",
   "metadata": {},
   "outputs": [
    {
     "name": "stdout",
     "output_type": "stream",
     "text": [
      "8577402.0\n"
     ]
    }
   ],
   "source": [
    "print(round(results[\"perplexities\"][0], 2))"
   ]
  },
  {
   "cell_type": "code",
   "execution_count": 71,
   "id": "85b63bde-708e-450d-8858-c5dcc370b8d6",
   "metadata": {},
   "outputs": [
    {
     "name": "stdout",
     "output_type": "stream",
     "text": [
      "378827.5\n"
     ]
    }
   ],
   "source": [
    "print(round(results[\"mean_perplexity\"], 2))"
   ]
  },
  {
   "cell_type": "code",
   "execution_count": 73,
   "id": "ca24dea1-23f2-4b65-a994-f5a21f84014c",
   "metadata": {},
   "outputs": [
    {
     "name": "stdout",
     "output_type": "stream",
     "text": [
      "2285910.25\n"
     ]
    }
   ],
   "source": [
    "print(round(results[\"mean_perplexity\"], 2))"
   ]
  },
  {
   "cell_type": "code",
   "execution_count": 75,
   "id": "65e09eb1-b97e-40b0-ba36-29e02ebad76f",
   "metadata": {},
   "outputs": [
    {
     "name": "stdout",
     "output_type": "stream",
     "text": [
      "1951.61\n"
     ]
    }
   ],
   "source": [
    "print(round(results[\"mean_perplexity\"], 2))"
   ]
  },
  {
   "cell_type": "code",
   "execution_count": 77,
   "id": "1583f45c-f409-401a-9ee7-80ac34960a07",
   "metadata": {},
   "outputs": [
    {
     "name": "stdout",
     "output_type": "stream",
     "text": [
      "118335.17\n"
     ]
    }
   ],
   "source": [
    "print(round(results[\"mean_perplexity\"], 2))"
   ]
  },
  {
   "cell_type": "code",
   "execution_count": 81,
   "id": "76501386-cf0b-4b4b-aa7c-6b528953c74b",
   "metadata": {},
   "outputs": [
    {
     "name": "stdout",
     "output_type": "stream",
     "text": [
      "118335.17\n"
     ]
    }
   ],
   "source": [
    "print(round(results['mean_perplexity'], 2))"
   ]
  },
  {
   "cell_type": "code",
   "execution_count": 1,
   "id": "b944bb66-83f6-4c4f-ac5b-f2810b8adc79",
   "metadata": {},
   "outputs": [
    {
     "name": "stderr",
     "output_type": "stream",
     "text": [
      "/Users/laroldgiggins/Library/Python/3.9/lib/python/site-packages/tqdm/auto.py:21: TqdmWarning: IProgress not found. Please update jupyter and ipywidgets. See https://ipywidgets.readthedocs.io/en/stable/user_install.html\n",
      "  from .autonotebook import tqdm as notebook_tqdm\n",
      "BertForMaskedLM has generative capabilities, as `prepare_inputs_for_generation` is explicitly overwritten. However, it doesn't directly inherit from `GenerationMixin`. From 👉v4.50👈 onwards, `PreTrainedModel` will NOT inherit from `GenerationMixin`, and this model will lose the ability to call `generate` and other related functions.\n",
      "  - If you're using `trust_remote_code=True`, you can get rid of this warning by loading the model with an auto class. See https://huggingface.co/docs/transformers/en/model_doc/auto#auto-classes\n",
      "  - If you are the owner of the model architecture code, please modify your model class such that it inherits from `GenerationMixin` (after `PreTrainedModel`, otherwise you'll get an exception).\n",
      "  - If you are not the owner of the model architecture class, please contact the model code owner to update it.\n",
      "Some weights of the model checkpoint at google-bert/bert-large-uncased were not used when initializing BertForMaskedLM: ['bert.pooler.dense.bias', 'bert.pooler.dense.weight', 'cls.seq_relationship.bias', 'cls.seq_relationship.weight']\n",
      "- This IS expected if you are initializing BertForMaskedLM from the checkpoint of a model trained on another task or with another architecture (e.g. initializing a BertForSequenceClassification model from a BertForPreTraining model).\n",
      "- This IS NOT expected if you are initializing BertForMaskedLM from the checkpoint of a model that you expect to be exactly identical (initializing a BertForSequenceClassification model from a BertForSequenceClassification model).\n"
     ]
    },
    {
     "name": "stdout",
     "output_type": "stream",
     "text": [
      "414.86934457270655\n",
      "414.86934457270655\n"
     ]
    }
   ],
   "source": [
    "# Trying another snippet for perplexity...who knows?\n",
    "\n",
    "from transformers import AutoModelForMaskedLM, AutoTokenizer\n",
    "import torch\n",
    "import numpy as np\n",
    "\n",
    "model_name = 'google-bert/bert-large-uncased'\n",
    "model = AutoModelForMaskedLM.from_pretrained(model_name)\n",
    "tokenizer = AutoTokenizer.from_pretrained(model_name)\n",
    "\n",
    "def score(model, tokenizer, sentence):\n",
    "    tensor_input = tokenizer.encode(sentence, return_tensors='pt')\n",
    "    repeat_input = tensor_input.repeat(tensor_input.size(-1)-2, 1)\n",
    "    mask = torch.ones(tensor_input.size(-1) - 1).diag(1)[:-2]\n",
    "    masked_input = repeat_input.masked_fill(mask == 1, tokenizer.mask_token_id)\n",
    "    labels = repeat_input.masked_fill( masked_input != tokenizer.mask_token_id, -100)\n",
    "    with torch.inference_mode():\n",
    "        loss = model(masked_input, labels=labels).loss\n",
    "    return np.exp(loss.item())\n",
    "\n",
    "#print(score(sentence='From fairest creatures we desire increase When forty winters shall besiege thy brow', model=model, tokenizer=tokenizer))"
   ]
  },
  {
   "cell_type": "code",
   "execution_count": 11,
   "id": "4546fb34-5a50-4c28-a594-6ec9d395cab6",
   "metadata": {},
   "outputs": [
    {
     "name": "stdout",
     "output_type": "stream",
     "text": [
      "From fairest creatures we desire increase When forty winters shall besiege thy brow <class 'str'> 83\n",
      "['bert', '0', '1', 'From fairest creatures we desire increase When forty winters shall besiege thy brow', 414.87]\n",
      "From fairest creatures we desire increase Look in thy glass and tell the face thou viewest <class 'str'> 90\n",
      "['bert', '0', '2', 'From fairest creatures we desire increase Look in thy glass and tell the face thou viewest', 362.48]\n",
      "From fairest creatures we desire increase Unthrifty loveliness, why dost thou spend <class 'str'> 83\n",
      "['bert', '0', '3', 'From fairest creatures we desire increase Unthrifty loveliness, why dost thou spend', 67.97]\n",
      "From fairest creatures we desire increase Those hours that with gentle work did frame <class 'str'> 85\n",
      "['bert', '0', '4', 'From fairest creatures we desire increase Those hours that with gentle work did frame', 2182.28]\n",
      "From fairest creatures we desire increase Then let not winter’s ragged hand deface <class 'str'> 82\n",
      "['bert', '0', '5', 'From fairest creatures we desire increase Then let not winter’s ragged hand deface', 6070.52]\n",
      "From fairest creatures we desire increase Lo, in the orient when the gracious light <class 'str'> 83\n",
      "['bert', '0', '6', 'From fairest creatures we desire increase Lo, in the orient when the gracious light', 438.64]\n",
      "From fairest creatures we desire increase Music to hear, why hear’st thou music sadly? <class 'str'> 86\n",
      "['bert', '0', '7', 'From fairest creatures we desire increase Music to hear, why hear’st thou music sadly?', 608.39]\n",
      "From fairest creatures we desire increase Is it for fear to wet a widow’s eye <class 'str'> 77\n",
      "['bert', '0', '8', 'From fairest creatures we desire increase Is it for fear to wet a widow’s eye', 3390.97]\n",
      "From fairest creatures we desire increase For shame deny that thou bear’st love to any, <class 'str'> 87\n",
      "['bert', '0', '9', 'From fairest creatures we desire increase For shame deny that thou bear’st love to any,', 2568.35]\n",
      "From fairest creatures we desire increase As fast as thou shalt wane, so fast thou grow’st <class 'str'> 90\n",
      "['bert', '0', '10', 'From fairest creatures we desire increase As fast as thou shalt wane, so fast thou grow’st', 123.44]\n",
      "From fairest creatures we desire increase When I do count the clock that tells the time <class 'str'> 87\n",
      "['bert', '0', '11', 'From fairest creatures we desire increase When I do count the clock that tells the time', 147.24]\n",
      "From fairest creatures we desire increase O, that you were your self! But, love, you are <class 'str'> 88\n",
      "['bert', '0', '12', 'From fairest creatures we desire increase O, that you were your self! But, love, you are', 192.47]\n",
      "From fairest creatures we desire increase Not from the stars do I my judgment pluck, <class 'str'> 84\n",
      "['bert', '0', '13', 'From fairest creatures we desire increase Not from the stars do I my judgment pluck,', 203.4]\n",
      "From fairest creatures we desire increase When I consider everything that grows <class 'str'> 79\n",
      "['bert', '0', '14', 'From fairest creatures we desire increase When I consider everything that grows', 1275.34]\n",
      "From fairest creatures we desire increase But wherefore do not you a mightier way <class 'str'> 81\n",
      "['bert', '0', '15', 'From fairest creatures we desire increase But wherefore do not you a mightier way', 145.56]\n",
      "From fairest creatures we desire increase Who will believe my verse in time to come <class 'str'> 83\n",
      "['bert', '0', '16', 'From fairest creatures we desire increase Who will believe my verse in time to come', 209.77]\n",
      "From fairest creatures we desire increase Shall I compare thee to a summer’s day? <class 'str'> 81\n",
      "['bert', '0', '17', 'From fairest creatures we desire increase Shall I compare thee to a summer’s day?', 685.65]\n",
      "From fairest creatures we desire increase Devouring Time, blunt thou the lion’s paws <class 'str'> 84\n",
      "['bert', '0', '18', 'From fairest creatures we desire increase Devouring Time, blunt thou the lion’s paws', 999.98]\n",
      "From fairest creatures we desire increase A woman’s face with Nature’s own hand painted <class 'str'> 87\n",
      "['bert', '0', '19', 'From fairest creatures we desire increase A woman’s face with Nature’s own hand painted', 36930.01]\n",
      "From fairest creatures we desire increase So is it not with me as with that muse <class 'str'> 80\n",
      "['bert', '0', '20', 'From fairest creatures we desire increase So is it not with me as with that muse', 556.13]\n",
      "From fairest creatures we desire increase My glass shall not persuade me I am old <class 'str'> 81\n",
      "['bert', '0', '21', 'From fairest creatures we desire increase My glass shall not persuade me I am old', 329.24]\n",
      "From fairest creatures we desire increase As an unperfect actor on the stage <class 'str'> 76\n",
      "['bert', '0', '22', 'From fairest creatures we desire increase As an unperfect actor on the stage', 63.99]\n",
      "From fairest creatures we desire increase Mine eye hath played the painter and hath stelled <class 'str'> 91\n",
      "['bert', '0', '23', 'From fairest creatures we desire increase Mine eye hath played the painter and hath stelled', 371.42]\n",
      "From fairest creatures we desire increase Let those who are in favor with their stars <class 'str'> 85\n",
      "['bert', '0', '24', 'From fairest creatures we desire increase Let those who are in favor with their stars', 351.63]\n",
      "From fairest creatures we desire increase Lord of my love, to whom in vassalage <class 'str'> 79\n",
      "['bert', '0', '25', 'From fairest creatures we desire increase Lord of my love, to whom in vassalage', 437.24]\n",
      "From fairest creatures we desire increase Weary with toil, I haste me to my bed, <class 'str'> 80\n",
      "['bert', '0', '26', 'From fairest creatures we desire increase Weary with toil, I haste me to my bed,', 291.63]\n",
      "From fairest creatures we desire increase How can I then return in happy plight <class 'str'> 79\n",
      "['bert', '0', '27', 'From fairest creatures we desire increase How can I then return in happy plight', 1365.22]\n",
      "From fairest creatures we desire increase When in disgrace with fortune and men’s eyes, <class 'str'> 87\n",
      "['bert', '0', '28', 'From fairest creatures we desire increase When in disgrace with fortune and men’s eyes,', 3847.92]\n",
      "From fairest creatures we desire increase When to the sessions of sweet silent thought <class 'str'> 86\n",
      "['bert', '0', '29', 'From fairest creatures we desire increase When to the sessions of sweet silent thought', 1348.09]\n",
      "From fairest creatures we desire increase Thy bosom is endearèd with all hearts <class 'str'> 79\n",
      "['bert', '0', '30', 'From fairest creatures we desire increase Thy bosom is endearèd with all hearts', 160.75]\n",
      "From fairest creatures we desire increase If thou survive my well-contented day <class 'str'> 79\n",
      "['bert', '0', '31', 'From fairest creatures we desire increase If thou survive my well-contented day', 336.78]\n",
      "From fairest creatures we desire increase Full many a glorious morning have I seen <class 'str'> 82\n",
      "['bert', '0', '32', 'From fairest creatures we desire increase Full many a glorious morning have I seen', 721.59]\n",
      "From fairest creatures we desire increase Why didst thou promise such a beauteous day <class 'str'> 85\n",
      "['bert', '0', '33', 'From fairest creatures we desire increase Why didst thou promise such a beauteous day', 105.41]\n",
      "From fairest creatures we desire increase No more be grieved at that which thou hast done. <class 'str'> 90\n",
      "['bert', '0', '34', 'From fairest creatures we desire increase No more be grieved at that which thou hast done.', 18.56]\n",
      "From fairest creatures we desire increase Let me confess that we two must be twain <class 'str'> 82\n",
      "['bert', '0', '35', 'From fairest creatures we desire increase Let me confess that we two must be twain', 312.3]\n",
      "From fairest creatures we desire increase As a decrepit father takes delight <class 'str'> 76\n",
      "['bert', '0', '36', 'From fairest creatures we desire increase As a decrepit father takes delight', 267.48]\n",
      "From fairest creatures we desire increase How can my muse want subject to invent <class 'str'> 80\n",
      "['bert', '0', '37', 'From fairest creatures we desire increase How can my muse want subject to invent', 1676.41]\n",
      "From fairest creatures we desire increase O, how thy worth with manners may I sing <class 'str'> 82\n",
      "['bert', '0', '38', 'From fairest creatures we desire increase O, how thy worth with manners may I sing', 646.24]\n",
      "From fairest creatures we desire increase Take all my loves, my love, yea, take them all. <class 'str'> 89\n",
      "['bert', '0', '39', 'From fairest creatures we desire increase Take all my loves, my love, yea, take them all.', 26.21]\n",
      "From fairest creatures we desire increase Those pretty wrongs that liberty commits <class 'str'> 82\n",
      "['bert', '0', '40', 'From fairest creatures we desire increase Those pretty wrongs that liberty commits', 590.67]\n",
      "From fairest creatures we desire increase That thou hast her, it is not all my grief, <class 'str'> 85\n",
      "['bert', '0', '41', 'From fairest creatures we desire increase That thou hast her, it is not all my grief,', 132.63]\n",
      "From fairest creatures we desire increase When most I wink, then do mine eyes best see, <class 'str'> 87\n",
      "['bert', '0', '42', 'From fairest creatures we desire increase When most I wink, then do mine eyes best see,', 840.93]\n",
      "From fairest creatures we desire increase If the dull substance of my flesh were thought, <class 'str'> 89\n",
      "['bert', '0', '43', 'From fairest creatures we desire increase If the dull substance of my flesh were thought,', 521.52]\n",
      "From fairest creatures we desire increase The other two, slight air and purging fire, <class 'str'> 85\n",
      "['bert', '0', '44', 'From fairest creatures we desire increase The other two, slight air and purging fire,', 214.45]\n",
      "From fairest creatures we desire increase Mine eye and heart are at a mortal war <class 'str'> 80\n",
      "['bert', '0', '45', 'From fairest creatures we desire increase Mine eye and heart are at a mortal war', 594.66]\n",
      "From fairest creatures we desire increase Betwixt mine eye and heart a league is took, <class 'str'> 86\n",
      "['bert', '0', '46', 'From fairest creatures we desire increase Betwixt mine eye and heart a league is took,', 218.81]\n",
      "From fairest creatures we desire increase How careful was I, when I took my way, <class 'str'> 80\n",
      "['bert', '0', '47', 'From fairest creatures we desire increase How careful was I, when I took my way,', 179.78]\n",
      "From fairest creatures we desire increase Against that time, if ever that time come, <class 'str'> 84\n",
      "['bert', '0', '48', 'From fairest creatures we desire increase Against that time, if ever that time come,', 228.67]\n",
      "From fairest creatures we desire increase How heavy do I journey on the way, <class 'str'> 76\n",
      "['bert', '0', '49', 'From fairest creatures we desire increase How heavy do I journey on the way,', 860.49]\n",
      "From fairest creatures we desire increase Thus can my love excuse the slow offense <class 'str'> 82\n",
      "['bert', '0', '50', 'From fairest creatures we desire increase Thus can my love excuse the slow offense', 4548.69]\n",
      "From fairest creatures we desire increase So am I as the rich whose blessèd key <class 'str'> 79\n",
      "['bert', '0', '51', 'From fairest creatures we desire increase So am I as the rich whose blessèd key', 883.7]\n",
      "From fairest creatures we desire increase What is your substance, whereof are you made, <class 'str'> 87\n",
      "['bert', '0', '52', 'From fairest creatures we desire increase What is your substance, whereof are you made,', 67.27]\n",
      "From fairest creatures we desire increase O, how much more doth beauty beauteous seem <class 'str'> 85\n",
      "['bert', '0', '53', 'From fairest creatures we desire increase O, how much more doth beauty beauteous seem', 143.36]\n",
      "From fairest creatures we desire increase Not marble nor the gilded monuments <class 'str'> 77\n",
      "['bert', '0', '54', 'From fairest creatures we desire increase Not marble nor the gilded monuments', 1838.93]\n",
      "From fairest creatures we desire increase Sweet love, renew thy force. Be it not said <class 'str'> 85\n",
      "['bert', '0', '55', 'From fairest creatures we desire increase Sweet love, renew thy force. Be it not said', 298.84]\n",
      "From fairest creatures we desire increase Being your slave, what should I do but tend <class 'str'> 85\n",
      "['bert', '0', '56', 'From fairest creatures we desire increase Being your slave, what should I do but tend', 304.2]\n",
      "From fairest creatures we desire increase That god forbid, that made me first your slave, <class 'str'> 89\n",
      "['bert', '0', '57', 'From fairest creatures we desire increase That god forbid, that made me first your slave,', 333.0]\n",
      "From fairest creatures we desire increase If there be nothing new, but that which is <class 'str'> 84\n",
      "['bert', '0', '58', 'From fairest creatures we desire increase If there be nothing new, but that which is', 78.31]\n",
      "From fairest creatures we desire increase Like as the waves make towards the pebbled shore, <class 'str'> 91\n",
      "['bert', '0', '59', 'From fairest creatures we desire increase Like as the waves make towards the pebbled shore,', 165.4]\n",
      "From fairest creatures we desire increase Is it thy will thy image should keep open <class 'str'> 83\n",
      "['bert', '0', '60', 'From fairest creatures we desire increase Is it thy will thy image should keep open', 693.83]\n",
      "From fairest creatures we desire increase Sin of self-love possesseth all mine eye <class 'str'> 82\n",
      "['bert', '0', '61', 'From fairest creatures we desire increase Sin of self-love possesseth all mine eye', 663.83]\n",
      "From fairest creatures we desire increase Against my love shall be, as I am now, <class 'str'> 80\n",
      "['bert', '0', '62', 'From fairest creatures we desire increase Against my love shall be, as I am now,', 281.84]\n",
      "From fairest creatures we desire increase When I have seen by Time’s fell hand defaced <class 'str'> 86\n",
      "['bert', '0', '63', 'From fairest creatures we desire increase When I have seen by Time’s fell hand defaced', 987.45]\n",
      "From fairest creatures we desire increase Since brass, nor stone, nor earth, nor boundless sea <class 'str'> 94\n",
      "['bert', '0', '64', 'From fairest creatures we desire increase Since brass, nor stone, nor earth, nor boundless sea', 90.14]\n",
      "From fairest creatures we desire increase Tired with all these, for restful death I cry: <class 'str'> 88\n",
      "['bert', '0', '65', 'From fairest creatures we desire increase Tired with all these, for restful death I cry:', 563.82]\n",
      "From fairest creatures we desire increase Ah, wherefore with infection should he live, <class 'str'> 86\n",
      "['bert', '0', '66', 'From fairest creatures we desire increase Ah, wherefore with infection should he live,', 334.19]\n",
      "From fairest creatures we desire increase Thus is his cheek the map of days outworn, <class 'str'> 84\n",
      "['bert', '0', '67', 'From fairest creatures we desire increase Thus is his cheek the map of days outworn,', 358.33]\n",
      "From fairest creatures we desire increase Those parts of thee that the world’s eye doth view <class 'str'> 92\n",
      "['bert', '0', '68', 'From fairest creatures we desire increase Those parts of thee that the world’s eye doth view', 672.58]\n",
      "From fairest creatures we desire increase That thou art blamed shall not be thy defect, <class 'str'> 87\n",
      "['bert', '0', '69', 'From fairest creatures we desire increase That thou art blamed shall not be thy defect,', 180.71]\n",
      "From fairest creatures we desire increase No longer mourn for me when I am dead <class 'str'> 79\n",
      "['bert', '0', '70', 'From fairest creatures we desire increase No longer mourn for me when I am dead', 34.88]\n",
      "From fairest creatures we desire increase O, lest the world should task you to recite <class 'str'> 85\n",
      "['bert', '0', '71', 'From fairest creatures we desire increase O, lest the world should task you to recite', 216.95]\n",
      "From fairest creatures we desire increase That time of year thou mayst in me behold <class 'str'> 83\n",
      "['bert', '0', '72', 'From fairest creatures we desire increase That time of year thou mayst in me behold', 397.75]\n",
      "From fairest creatures we desire increase But be contented when that fell arrest <class 'str'> 80\n",
      "['bert', '0', '73', 'From fairest creatures we desire increase But be contented when that fell arrest', 1720.04]\n",
      "From fairest creatures we desire increase So are you to my thoughts as food to life, <class 'str'> 84\n",
      "['bert', '0', '74', 'From fairest creatures we desire increase So are you to my thoughts as food to life,', 351.2]\n",
      "From fairest creatures we desire increase Why is my verse so barren of new pride, <class 'str'> 81\n",
      "['bert', '0', '75', 'From fairest creatures we desire increase Why is my verse so barren of new pride,', 832.89]\n",
      "From fairest creatures we desire increase Thy glass will show thee how thy beauties wear, <class 'str'> 89\n",
      "['bert', '0', '76', 'From fairest creatures we desire increase Thy glass will show thee how thy beauties wear,', 247.01]\n",
      "From fairest creatures we desire increase So oft have I invoked thee for my muse <class 'str'> 80\n",
      "['bert', '0', '77', 'From fairest creatures we desire increase So oft have I invoked thee for my muse', 162.92]\n",
      "From fairest creatures we desire increase Whilst I alone did call upon thy aid, <class 'str'> 79\n",
      "['bert', '0', '78', 'From fairest creatures we desire increase Whilst I alone did call upon thy aid,', 395.83]\n",
      "From fairest creatures we desire increase O, how I faint when I of you do write, <class 'str'> 80\n",
      "['bert', '0', '79', 'From fairest creatures we desire increase O, how I faint when I of you do write,', 533.54]\n",
      "From fairest creatures we desire increase Or I shall live your epitaph to make <class 'str'> 78\n",
      "['bert', '0', '80', 'From fairest creatures we desire increase Or I shall live your epitaph to make', 211.85]\n",
      "From fairest creatures we desire increase I grant thou wert not married to my muse, <class 'str'> 83\n",
      "['bert', '0', '81', 'From fairest creatures we desire increase I grant thou wert not married to my muse,', 287.28]\n",
      "From fairest creatures we desire increase I never saw that you did painting need <class 'str'> 80\n",
      "['bert', '0', '82', 'From fairest creatures we desire increase I never saw that you did painting need', 2238.21]\n",
      "From fairest creatures we desire increase Who is it that says most, which can say more <class 'str'> 86\n",
      "['bert', '0', '83', 'From fairest creatures we desire increase Who is it that says most, which can say more', 184.58]\n",
      "From fairest creatures we desire increase My tongue-tied muse in manners holds her still <class 'str'> 88\n",
      "['bert', '0', '84', 'From fairest creatures we desire increase My tongue-tied muse in manners holds her still', 732.62]\n",
      "From fairest creatures we desire increase Was it the proud full sail of his great verse, <class 'str'> 88\n",
      "['bert', '0', '85', 'From fairest creatures we desire increase Was it the proud full sail of his great verse,', 1053.68]\n",
      "From fairest creatures we desire increase Farewell, thou art too dear for my possessing, <class 'str'> 88\n",
      "['bert', '0', '86', 'From fairest creatures we desire increase Farewell, thou art too dear for my possessing,', 209.69]\n",
      "From fairest creatures we desire increase When thou shalt be disposed to set me light <class 'str'> 85\n",
      "['bert', '0', '87', 'From fairest creatures we desire increase When thou shalt be disposed to set me light', 212.05]\n",
      "From fairest creatures we desire increase Say that thou didst forsake me for some fault, <class 'str'> 88\n",
      "['bert', '0', '88', 'From fairest creatures we desire increase Say that thou didst forsake me for some fault,', 77.45]\n",
      "From fairest creatures we desire increase Then hate me when thou wilt, if ever, now, <class 'str'> 84\n",
      "['bert', '0', '89', 'From fairest creatures we desire increase Then hate me when thou wilt, if ever, now,', 233.01]\n",
      "From fairest creatures we desire increase Some glory in their birth, some in their skill, <class 'str'> 89\n",
      "['bert', '0', '90', 'From fairest creatures we desire increase Some glory in their birth, some in their skill,', 116.35]\n",
      "From fairest creatures we desire increase But do thy worst to steal thyself away, <class 'str'> 81\n",
      "['bert', '0', '91', 'From fairest creatures we desire increase But do thy worst to steal thyself away,', 92.08]\n",
      "From fairest creatures we desire increase So shall I live, supposing thou art true, <class 'str'> 83\n",
      "['bert', '0', '92', 'From fairest creatures we desire increase So shall I live, supposing thou art true,', 88.57]\n",
      "From fairest creatures we desire increase They that have power to hurt and will do none, <class 'str'> 88\n",
      "['bert', '0', '93', 'From fairest creatures we desire increase They that have power to hurt and will do none,', 546.67]\n",
      "From fairest creatures we desire increase How sweet and lovely dost thou make the shame <class 'str'> 87\n",
      "['bert', '0', '94', 'From fairest creatures we desire increase How sweet and lovely dost thou make the shame', 182.68]\n",
      "From fairest creatures we desire increase Some say thy fault is youth, some wantonness; <class 'str'> 87\n",
      "['bert', '0', '95', 'From fairest creatures we desire increase Some say thy fault is youth, some wantonness;', 172.75]\n",
      "From fairest creatures we desire increase How like a winter hath my absence been <class 'str'> 80\n",
      "['bert', '0', '96', 'From fairest creatures we desire increase How like a winter hath my absence been', 2041.49]\n",
      "From fairest creatures we desire increase From you have I been absent in the spring, <class 'str'> 84\n",
      "['bert', '0', '97', 'From fairest creatures we desire increase From you have I been absent in the spring,', 191.86]\n",
      "From fairest creatures we desire increase The forward violet thus did I chide: <class 'str'> 78\n",
      "['bert', '0', '98', 'From fairest creatures we desire increase The forward violet thus did I chide:', 841.65]\n",
      "From fairest creatures we desire increase Where art thou, muse, that thou forget’st so long <class 'str'> 91\n",
      "['bert', '0', '99', 'From fairest creatures we desire increase Where art thou, muse, that thou forget’st so long', 858.75]\n",
      "From fairest creatures we desire increase O truant muse, what shall be thy amends <class 'str'> 81\n",
      "['bert', '0', '100', 'From fairest creatures we desire increase O truant muse, what shall be thy amends', 78.58]\n",
      "From fairest creatures we desire increase My love is strengthened, though more weak in seeming; <class 'str'> 95\n",
      "['bert', '0', '101', 'From fairest creatures we desire increase My love is strengthened, though more weak in seeming;', 276.55]\n",
      "From fairest creatures we desire increase Alack, what poverty my muse brings forth, <class 'str'> 83\n",
      "['bert', '0', '102', 'From fairest creatures we desire increase Alack, what poverty my muse brings forth,', 688.83]\n",
      "From fairest creatures we desire increase To me, fair friend, you never can be old, <class 'str'> 83\n",
      "['bert', '0', '103', 'From fairest creatures we desire increase To me, fair friend, you never can be old,', 210.56]\n",
      "From fairest creatures we desire increase Let not my love be called idolatry, <class 'str'> 77\n",
      "['bert', '0', '104', 'From fairest creatures we desire increase Let not my love be called idolatry,', 112.64]\n",
      "From fairest creatures we desire increase When in the chronicle of wasted time <class 'str'> 78\n",
      "['bert', '0', '105', 'From fairest creatures we desire increase When in the chronicle of wasted time', 1371.72]\n",
      "From fairest creatures we desire increase Not mine own fears nor the prophetic soul <class 'str'> 83\n",
      "['bert', '0', '106', 'From fairest creatures we desire increase Not mine own fears nor the prophetic soul', 395.83]\n",
      "From fairest creatures we desire increase What’s in the brain that ink may character <class 'str'> 84\n",
      "['bert', '0', '107', 'From fairest creatures we desire increase What’s in the brain that ink may character', 3752.93]\n",
      "From fairest creatures we desire increase O, never say that I was false of heart, <class 'str'> 81\n",
      "['bert', '0', '108', 'From fairest creatures we desire increase O, never say that I was false of heart,', 313.77]\n",
      "From fairest creatures we desire increase Alas, ’tis true, I have gone here and there <class 'str'> 85\n",
      "['bert', '0', '109', 'From fairest creatures we desire increase Alas, ’tis true, I have gone here and there', 219.47]\n",
      "From fairest creatures we desire increase O, for my sake do you with Fortune chide, <class 'str'> 83\n",
      "['bert', '0', '110', 'From fairest creatures we desire increase O, for my sake do you with Fortune chide,', 156.17]\n",
      "From fairest creatures we desire increase Your love and pity doth th’ impression fill <class 'str'> 85\n",
      "['bert', '0', '111', 'From fairest creatures we desire increase Your love and pity doth th’ impression fill', 1507.27]\n",
      "From fairest creatures we desire increase Since I left you, mine eye is in my mind, <class 'str'> 83\n",
      "['bert', '0', '112', 'From fairest creatures we desire increase Since I left you, mine eye is in my mind,', 373.6]\n",
      "From fairest creatures we desire increase Or whether doth my mind, being crowned with you, <class 'str'> 90\n",
      "['bert', '0', '113', 'From fairest creatures we desire increase Or whether doth my mind, being crowned with you,', 475.27]\n",
      "From fairest creatures we desire increase Those lines that I before have writ do lie, <class 'str'> 85\n",
      "['bert', '0', '114', 'From fairest creatures we desire increase Those lines that I before have writ do lie,', 381.39]\n",
      "From fairest creatures we desire increase Let me not to the marriage of true minds <class 'str'> 82\n",
      "['bert', '0', '115', 'From fairest creatures we desire increase Let me not to the marriage of true minds', 1027.84]\n",
      "From fairest creatures we desire increase Accuse me thus: that I have scanted all <class 'str'> 81\n",
      "['bert', '0', '116', 'From fairest creatures we desire increase Accuse me thus: that I have scanted all', 347.45]\n",
      "From fairest creatures we desire increase Like as to make our appetites more keen <class 'str'> 81\n",
      "['bert', '0', '117', 'From fairest creatures we desire increase Like as to make our appetites more keen', 551.28]\n",
      "From fairest creatures we desire increase What potions have I drunk of siren tears <class 'str'> 82\n",
      "['bert', '0', '118', 'From fairest creatures we desire increase What potions have I drunk of siren tears', 671.57]\n",
      "From fairest creatures we desire increase That you were once unkind befriends me now, <class 'str'> 85\n",
      "['bert', '0', '119', 'From fairest creatures we desire increase That you were once unkind befriends me now,', 86.26]\n",
      "From fairest creatures we desire increase ’Tis better to be vile than vile esteemed, <class 'str'> 84\n",
      "['bert', '0', '120', 'From fairest creatures we desire increase ’Tis better to be vile than vile esteemed,', 596.71]\n",
      "From fairest creatures we desire increase Thy gift, thy tables, are within my brain <class 'str'> 83\n",
      "['bert', '0', '121', 'From fairest creatures we desire increase Thy gift, thy tables, are within my brain', 271.07]\n",
      "From fairest creatures we desire increase No, Time, thou shalt not boast that I do change. <class 'str'> 90\n",
      "['bert', '0', '122', 'From fairest creatures we desire increase No, Time, thou shalt not boast that I do change.', 67.05]\n",
      "From fairest creatures we desire increase If my dear love were but the child of state, <class 'str'> 86\n",
      "['bert', '0', '123', 'From fairest creatures we desire increase If my dear love were but the child of state,', 363.35]\n",
      "From fairest creatures we desire increase Were ’t aught to me I bore the canopy, <class 'str'> 80\n",
      "['bert', '0', '124', 'From fairest creatures we desire increase Were ’t aught to me I bore the canopy,', 926.89]\n",
      "From fairest creatures we desire increase O thou, my lovely boy, who in thy power <class 'str'> 81\n",
      "['bert', '0', '125', 'From fairest creatures we desire increase O thou, my lovely boy, who in thy power', 107.18]\n",
      "From fairest creatures we desire increase In the old age, black was not counted fair, <class 'str'> 85\n",
      "['bert', '0', '126', 'From fairest creatures we desire increase In the old age, black was not counted fair,', 440.23]\n",
      "From fairest creatures we desire increase How oft, when thou, my music, music play’st <class 'str'> 85\n",
      "['bert', '0', '127', 'From fairest creatures we desire increase How oft, when thou, my music, music play’st', 852.7]\n",
      "From fairest creatures we desire increase Th’ expense of spirit in a waste of shame <class 'str'> 83\n",
      "['bert', '0', '128', 'From fairest creatures we desire increase Th’ expense of spirit in a waste of shame', 1397.94]\n",
      "From fairest creatures we desire increase My mistress’ eyes are nothing like the sun; <class 'str'> 85\n",
      "['bert', '0', '129', 'From fairest creatures we desire increase My mistress’ eyes are nothing like the sun;', 550.37]\n",
      "From fairest creatures we desire increase Thou art as tyrannous, so as thou art, <class 'str'> 80\n",
      "['bert', '0', '130', 'From fairest creatures we desire increase Thou art as tyrannous, so as thou art,', 70.64]\n",
      "From fairest creatures we desire increase Thine eyes I love, and they, as pitying me, <class 'str'> 85\n",
      "['bert', '0', '131', 'From fairest creatures we desire increase Thine eyes I love, and they, as pitying me,', 158.58]\n",
      "From fairest creatures we desire increase Beshrew that heart that makes my heart to groan <class 'str'> 89\n",
      "['bert', '0', '132', 'From fairest creatures we desire increase Beshrew that heart that makes my heart to groan', 265.3]\n",
      "From fairest creatures we desire increase So, now I have confessed that he is thine <class 'str'> 83\n",
      "['bert', '0', '133', 'From fairest creatures we desire increase So, now I have confessed that he is thine', 167.03]\n",
      "From fairest creatures we desire increase Whoever hath her wish, thou hast thy will, <class 'str'> 84\n",
      "['bert', '0', '134', 'From fairest creatures we desire increase Whoever hath her wish, thou hast thy will,', 96.29]\n",
      "From fairest creatures we desire increase If thy soul check thee that I come so near, <class 'str'> 85\n",
      "['bert', '0', '135', 'From fairest creatures we desire increase If thy soul check thee that I come so near,', 278.12]\n",
      "From fairest creatures we desire increase Thou blind fool, Love, what dost thou to mine eyes <class 'str'> 92\n",
      "['bert', '0', '136', 'From fairest creatures we desire increase Thou blind fool, Love, what dost thou to mine eyes', 288.78]\n",
      "From fairest creatures we desire increase When my love swears that she is made of truth <class 'str'> 87\n",
      "['bert', '0', '137', 'From fairest creatures we desire increase When my love swears that she is made of truth', 130.47]\n",
      "From fairest creatures we desire increase O, call not me to justify the wrong <class 'str'> 77\n",
      "['bert', '0', '138', 'From fairest creatures we desire increase O, call not me to justify the wrong', 359.52]\n",
      "From fairest creatures we desire increase Be wise as thou art cruel; do not press <class 'str'> 81\n",
      "['bert', '0', '139', 'From fairest creatures we desire increase Be wise as thou art cruel; do not press', 190.64]\n",
      "From fairest creatures we desire increase In faith, I do not love thee with mine eyes, <class 'str'> 86\n",
      "['bert', '0', '140', 'From fairest creatures we desire increase In faith, I do not love thee with mine eyes,', 88.0]\n",
      "From fairest creatures we desire increase Love is my sin, and thy dear virtue hate, <class 'str'> 83\n",
      "['bert', '0', '141', 'From fairest creatures we desire increase Love is my sin, and thy dear virtue hate,', 356.33]\n",
      "From fairest creatures we desire increase Lo, as a careful huswife runs to catch <class 'str'> 80\n",
      "['bert', '0', '142', 'From fairest creatures we desire increase Lo, as a careful huswife runs to catch', 492.98]\n",
      "From fairest creatures we desire increase Two loves I have, of comfort and despair, <class 'str'> 83\n",
      "['bert', '0', '143', 'From fairest creatures we desire increase Two loves I have, of comfort and despair,', 574.47]\n",
      "From fairest creatures we desire increase Those lips that Love’s own hand did make <class 'str'> 82\n",
      "['bert', '0', '144', 'From fairest creatures we desire increase Those lips that Love’s own hand did make', 3162.58]\n",
      "From fairest creatures we desire increase Poor soul, the center of my sinful earth, <class 'str'> 83\n",
      "['bert', '0', '145', 'From fairest creatures we desire increase Poor soul, the center of my sinful earth,', 612.81]\n",
      "From fairest creatures we desire increase My love is as a fever, longing still <class 'str'> 78\n",
      "['bert', '0', '146', 'From fairest creatures we desire increase My love is as a fever, longing still', 995.39]\n",
      "From fairest creatures we desire increase O me, what eyes hath love put in my head, <class 'str'> 83\n",
      "['bert', '0', '147', 'From fairest creatures we desire increase O me, what eyes hath love put in my head,', 135.26]\n",
      "From fairest creatures we desire increase Canst thou, O cruel, say I love thee not <class 'str'> 82\n",
      "['bert', '0', '148', 'From fairest creatures we desire increase Canst thou, O cruel, say I love thee not', 79.14]\n",
      "From fairest creatures we desire increase O, from what power hast thou this powerful might <class 'str'> 90\n",
      "['bert', '0', '149', 'From fairest creatures we desire increase O, from what power hast thou this powerful might', 298.22]\n",
      "From fairest creatures we desire increase Love is too young to know what conscience is; <class 'str'> 87\n",
      "['bert', '0', '150', 'From fairest creatures we desire increase Love is too young to know what conscience is;', 76.51]\n",
      "From fairest creatures we desire increase In loving thee thou know’st I am forsworn, <class 'str'> 84\n",
      "['bert', '0', '151', 'From fairest creatures we desire increase In loving thee thou know’st I am forsworn,', 462.11]\n",
      "From fairest creatures we desire increase Cupid laid by his brand and fell asleep. <class 'str'> 82\n",
      "['bert', '0', '152', 'From fairest creatures we desire increase Cupid laid by his brand and fell asleep.', 82.9]\n",
      "From fairest creatures we desire increase The little love-god, lying once asleep, <class 'str'> 81\n"
     ]
    },
    {
     "ename": "KeyboardInterrupt",
     "evalue": "",
     "output_type": "error",
     "traceback": [
      "\u001b[0;31m---------------------------------------------------------------------------\u001b[0m",
      "\u001b[0;31mKeyboardInterrupt\u001b[0m                         Traceback (most recent call last)",
      "Cell \u001b[0;32mIn[11], line 10\u001b[0m\n\u001b[1;32m      8\u001b[0m \u001b[38;5;66;03m#prints the two lines together without the numbers\u001b[39;00m\n\u001b[1;32m      9\u001b[0m perplexity \u001b[38;5;241m=\u001b[39m evaluate\u001b[38;5;241m.\u001b[39mload(\u001b[38;5;124m\"\u001b[39m\u001b[38;5;124mperplexity\u001b[39m\u001b[38;5;124m\"\u001b[39m, module_type\u001b[38;5;241m=\u001b[39m\u001b[38;5;124m\"\u001b[39m\u001b[38;5;124mmetric\u001b[39m\u001b[38;5;124m\"\u001b[39m)\n\u001b[0;32m---> 10\u001b[0m results \u001b[38;5;241m=\u001b[39m \u001b[43mscore\u001b[49m\u001b[43m(\u001b[49m\u001b[43msentence\u001b[49m\u001b[38;5;241;43m=\u001b[39;49m\u001b[43mtest_line\u001b[49m\u001b[43m,\u001b[49m\u001b[43m \u001b[49m\u001b[43mmodel\u001b[49m\u001b[38;5;241;43m=\u001b[39;49m\u001b[43mmodel\u001b[49m\u001b[43m,\u001b[49m\u001b[43m \u001b[49m\u001b[43mtokenizer\u001b[49m\u001b[38;5;241;43m=\u001b[39;49m\u001b[43mtokenizer\u001b[49m\u001b[43m)\u001b[49m \n\u001b[1;32m     11\u001b[0m result \u001b[38;5;241m=\u001b[39m \u001b[38;5;28mround\u001b[39m(results, \u001b[38;5;241m2\u001b[39m)\n\u001b[1;32m     12\u001b[0m dog \u001b[38;5;241m=\u001b[39m re\u001b[38;5;241m.\u001b[39msearch(\u001b[38;5;124mr\u001b[39m\u001b[38;5;124m'\u001b[39m\u001b[38;5;124m^[0-9]\u001b[39m\u001b[38;5;124m{\u001b[39m\u001b[38;5;124m0,3}\u001b[39m\u001b[38;5;124m'\u001b[39m,i)\n",
      "Cell \u001b[0;32mIn[1], line 18\u001b[0m, in \u001b[0;36mscore\u001b[0;34m(model, tokenizer, sentence)\u001b[0m\n\u001b[1;32m     16\u001b[0m labels \u001b[38;5;241m=\u001b[39m repeat_input\u001b[38;5;241m.\u001b[39mmasked_fill( masked_input \u001b[38;5;241m!=\u001b[39m tokenizer\u001b[38;5;241m.\u001b[39mmask_token_id, \u001b[38;5;241m-\u001b[39m\u001b[38;5;241m100\u001b[39m)\n\u001b[1;32m     17\u001b[0m \u001b[38;5;28;01mwith\u001b[39;00m torch\u001b[38;5;241m.\u001b[39minference_mode():\n\u001b[0;32m---> 18\u001b[0m     loss \u001b[38;5;241m=\u001b[39m \u001b[43mmodel\u001b[49m\u001b[43m(\u001b[49m\u001b[43mmasked_input\u001b[49m\u001b[43m,\u001b[49m\u001b[43m \u001b[49m\u001b[43mlabels\u001b[49m\u001b[38;5;241;43m=\u001b[39;49m\u001b[43mlabels\u001b[49m\u001b[43m)\u001b[49m\u001b[38;5;241m.\u001b[39mloss\n\u001b[1;32m     19\u001b[0m \u001b[38;5;28;01mreturn\u001b[39;00m np\u001b[38;5;241m.\u001b[39mexp(loss\u001b[38;5;241m.\u001b[39mitem())\n",
      "File \u001b[0;32m~/Library/Python/3.9/lib/python/site-packages/torch/nn/modules/module.py:1553\u001b[0m, in \u001b[0;36mModule._wrapped_call_impl\u001b[0;34m(self, *args, **kwargs)\u001b[0m\n\u001b[1;32m   1551\u001b[0m     \u001b[38;5;28;01mreturn\u001b[39;00m \u001b[38;5;28mself\u001b[39m\u001b[38;5;241m.\u001b[39m_compiled_call_impl(\u001b[38;5;241m*\u001b[39margs, \u001b[38;5;241m*\u001b[39m\u001b[38;5;241m*\u001b[39mkwargs)  \u001b[38;5;66;03m# type: ignore[misc]\u001b[39;00m\n\u001b[1;32m   1552\u001b[0m \u001b[38;5;28;01melse\u001b[39;00m:\n\u001b[0;32m-> 1553\u001b[0m     \u001b[38;5;28;01mreturn\u001b[39;00m \u001b[38;5;28;43mself\u001b[39;49m\u001b[38;5;241;43m.\u001b[39;49m\u001b[43m_call_impl\u001b[49m\u001b[43m(\u001b[49m\u001b[38;5;241;43m*\u001b[39;49m\u001b[43margs\u001b[49m\u001b[43m,\u001b[49m\u001b[43m \u001b[49m\u001b[38;5;241;43m*\u001b[39;49m\u001b[38;5;241;43m*\u001b[39;49m\u001b[43mkwargs\u001b[49m\u001b[43m)\u001b[49m\n",
      "File \u001b[0;32m~/Library/Python/3.9/lib/python/site-packages/torch/nn/modules/module.py:1562\u001b[0m, in \u001b[0;36mModule._call_impl\u001b[0;34m(self, *args, **kwargs)\u001b[0m\n\u001b[1;32m   1557\u001b[0m \u001b[38;5;66;03m# If we don't have any hooks, we want to skip the rest of the logic in\u001b[39;00m\n\u001b[1;32m   1558\u001b[0m \u001b[38;5;66;03m# this function, and just call forward.\u001b[39;00m\n\u001b[1;32m   1559\u001b[0m \u001b[38;5;28;01mif\u001b[39;00m \u001b[38;5;129;01mnot\u001b[39;00m (\u001b[38;5;28mself\u001b[39m\u001b[38;5;241m.\u001b[39m_backward_hooks \u001b[38;5;129;01mor\u001b[39;00m \u001b[38;5;28mself\u001b[39m\u001b[38;5;241m.\u001b[39m_backward_pre_hooks \u001b[38;5;129;01mor\u001b[39;00m \u001b[38;5;28mself\u001b[39m\u001b[38;5;241m.\u001b[39m_forward_hooks \u001b[38;5;129;01mor\u001b[39;00m \u001b[38;5;28mself\u001b[39m\u001b[38;5;241m.\u001b[39m_forward_pre_hooks\n\u001b[1;32m   1560\u001b[0m         \u001b[38;5;129;01mor\u001b[39;00m _global_backward_pre_hooks \u001b[38;5;129;01mor\u001b[39;00m _global_backward_hooks\n\u001b[1;32m   1561\u001b[0m         \u001b[38;5;129;01mor\u001b[39;00m _global_forward_hooks \u001b[38;5;129;01mor\u001b[39;00m _global_forward_pre_hooks):\n\u001b[0;32m-> 1562\u001b[0m     \u001b[38;5;28;01mreturn\u001b[39;00m \u001b[43mforward_call\u001b[49m\u001b[43m(\u001b[49m\u001b[38;5;241;43m*\u001b[39;49m\u001b[43margs\u001b[49m\u001b[43m,\u001b[49m\u001b[43m \u001b[49m\u001b[38;5;241;43m*\u001b[39;49m\u001b[38;5;241;43m*\u001b[39;49m\u001b[43mkwargs\u001b[49m\u001b[43m)\u001b[49m\n\u001b[1;32m   1564\u001b[0m \u001b[38;5;28;01mtry\u001b[39;00m:\n\u001b[1;32m   1565\u001b[0m     result \u001b[38;5;241m=\u001b[39m \u001b[38;5;28;01mNone\u001b[39;00m\n",
      "File \u001b[0;32m~/Library/Python/3.9/lib/python/site-packages/transformers/models/bert/modeling_bert.py:1464\u001b[0m, in \u001b[0;36mBertForMaskedLM.forward\u001b[0;34m(self, input_ids, attention_mask, token_type_ids, position_ids, head_mask, inputs_embeds, encoder_hidden_states, encoder_attention_mask, labels, output_attentions, output_hidden_states, return_dict)\u001b[0m\n\u001b[1;32m   1455\u001b[0m \u001b[38;5;250m\u001b[39m\u001b[38;5;124mr\u001b[39m\u001b[38;5;124;03m\"\"\"\u001b[39;00m\n\u001b[1;32m   1456\u001b[0m \u001b[38;5;124;03mlabels (`torch.LongTensor` of shape `(batch_size, sequence_length)`, *optional*):\u001b[39;00m\n\u001b[1;32m   1457\u001b[0m \u001b[38;5;124;03m    Labels for computing the masked language modeling loss. Indices should be in `[-100, 0, ...,\u001b[39;00m\n\u001b[1;32m   1458\u001b[0m \u001b[38;5;124;03m    config.vocab_size]` (see `input_ids` docstring) Tokens with indices set to `-100` are ignored (masked), the\u001b[39;00m\n\u001b[1;32m   1459\u001b[0m \u001b[38;5;124;03m    loss is only computed for the tokens with labels in `[0, ..., config.vocab_size]`\u001b[39;00m\n\u001b[1;32m   1460\u001b[0m \u001b[38;5;124;03m\"\"\"\u001b[39;00m\n\u001b[1;32m   1462\u001b[0m return_dict \u001b[38;5;241m=\u001b[39m return_dict \u001b[38;5;28;01mif\u001b[39;00m return_dict \u001b[38;5;129;01mis\u001b[39;00m \u001b[38;5;129;01mnot\u001b[39;00m \u001b[38;5;28;01mNone\u001b[39;00m \u001b[38;5;28;01melse\u001b[39;00m \u001b[38;5;28mself\u001b[39m\u001b[38;5;241m.\u001b[39mconfig\u001b[38;5;241m.\u001b[39muse_return_dict\n\u001b[0;32m-> 1464\u001b[0m outputs \u001b[38;5;241m=\u001b[39m \u001b[38;5;28;43mself\u001b[39;49m\u001b[38;5;241;43m.\u001b[39;49m\u001b[43mbert\u001b[49m\u001b[43m(\u001b[49m\n\u001b[1;32m   1465\u001b[0m \u001b[43m    \u001b[49m\u001b[43minput_ids\u001b[49m\u001b[43m,\u001b[49m\n\u001b[1;32m   1466\u001b[0m \u001b[43m    \u001b[49m\u001b[43mattention_mask\u001b[49m\u001b[38;5;241;43m=\u001b[39;49m\u001b[43mattention_mask\u001b[49m\u001b[43m,\u001b[49m\n\u001b[1;32m   1467\u001b[0m \u001b[43m    \u001b[49m\u001b[43mtoken_type_ids\u001b[49m\u001b[38;5;241;43m=\u001b[39;49m\u001b[43mtoken_type_ids\u001b[49m\u001b[43m,\u001b[49m\n\u001b[1;32m   1468\u001b[0m \u001b[43m    \u001b[49m\u001b[43mposition_ids\u001b[49m\u001b[38;5;241;43m=\u001b[39;49m\u001b[43mposition_ids\u001b[49m\u001b[43m,\u001b[49m\n\u001b[1;32m   1469\u001b[0m \u001b[43m    \u001b[49m\u001b[43mhead_mask\u001b[49m\u001b[38;5;241;43m=\u001b[39;49m\u001b[43mhead_mask\u001b[49m\u001b[43m,\u001b[49m\n\u001b[1;32m   1470\u001b[0m \u001b[43m    \u001b[49m\u001b[43minputs_embeds\u001b[49m\u001b[38;5;241;43m=\u001b[39;49m\u001b[43minputs_embeds\u001b[49m\u001b[43m,\u001b[49m\n\u001b[1;32m   1471\u001b[0m \u001b[43m    \u001b[49m\u001b[43mencoder_hidden_states\u001b[49m\u001b[38;5;241;43m=\u001b[39;49m\u001b[43mencoder_hidden_states\u001b[49m\u001b[43m,\u001b[49m\n\u001b[1;32m   1472\u001b[0m \u001b[43m    \u001b[49m\u001b[43mencoder_attention_mask\u001b[49m\u001b[38;5;241;43m=\u001b[39;49m\u001b[43mencoder_attention_mask\u001b[49m\u001b[43m,\u001b[49m\n\u001b[1;32m   1473\u001b[0m \u001b[43m    \u001b[49m\u001b[43moutput_attentions\u001b[49m\u001b[38;5;241;43m=\u001b[39;49m\u001b[43moutput_attentions\u001b[49m\u001b[43m,\u001b[49m\n\u001b[1;32m   1474\u001b[0m \u001b[43m    \u001b[49m\u001b[43moutput_hidden_states\u001b[49m\u001b[38;5;241;43m=\u001b[39;49m\u001b[43moutput_hidden_states\u001b[49m\u001b[43m,\u001b[49m\n\u001b[1;32m   1475\u001b[0m \u001b[43m    \u001b[49m\u001b[43mreturn_dict\u001b[49m\u001b[38;5;241;43m=\u001b[39;49m\u001b[43mreturn_dict\u001b[49m\u001b[43m,\u001b[49m\n\u001b[1;32m   1476\u001b[0m \u001b[43m\u001b[49m\u001b[43m)\u001b[49m\n\u001b[1;32m   1478\u001b[0m sequence_output \u001b[38;5;241m=\u001b[39m outputs[\u001b[38;5;241m0\u001b[39m]\n\u001b[1;32m   1479\u001b[0m prediction_scores \u001b[38;5;241m=\u001b[39m \u001b[38;5;28mself\u001b[39m\u001b[38;5;241m.\u001b[39mcls(sequence_output)\n",
      "File \u001b[0;32m~/Library/Python/3.9/lib/python/site-packages/torch/nn/modules/module.py:1553\u001b[0m, in \u001b[0;36mModule._wrapped_call_impl\u001b[0;34m(self, *args, **kwargs)\u001b[0m\n\u001b[1;32m   1551\u001b[0m     \u001b[38;5;28;01mreturn\u001b[39;00m \u001b[38;5;28mself\u001b[39m\u001b[38;5;241m.\u001b[39m_compiled_call_impl(\u001b[38;5;241m*\u001b[39margs, \u001b[38;5;241m*\u001b[39m\u001b[38;5;241m*\u001b[39mkwargs)  \u001b[38;5;66;03m# type: ignore[misc]\u001b[39;00m\n\u001b[1;32m   1552\u001b[0m \u001b[38;5;28;01melse\u001b[39;00m:\n\u001b[0;32m-> 1553\u001b[0m     \u001b[38;5;28;01mreturn\u001b[39;00m \u001b[38;5;28;43mself\u001b[39;49m\u001b[38;5;241;43m.\u001b[39;49m\u001b[43m_call_impl\u001b[49m\u001b[43m(\u001b[49m\u001b[38;5;241;43m*\u001b[39;49m\u001b[43margs\u001b[49m\u001b[43m,\u001b[49m\u001b[43m \u001b[49m\u001b[38;5;241;43m*\u001b[39;49m\u001b[38;5;241;43m*\u001b[39;49m\u001b[43mkwargs\u001b[49m\u001b[43m)\u001b[49m\n",
      "File \u001b[0;32m~/Library/Python/3.9/lib/python/site-packages/torch/nn/modules/module.py:1562\u001b[0m, in \u001b[0;36mModule._call_impl\u001b[0;34m(self, *args, **kwargs)\u001b[0m\n\u001b[1;32m   1557\u001b[0m \u001b[38;5;66;03m# If we don't have any hooks, we want to skip the rest of the logic in\u001b[39;00m\n\u001b[1;32m   1558\u001b[0m \u001b[38;5;66;03m# this function, and just call forward.\u001b[39;00m\n\u001b[1;32m   1559\u001b[0m \u001b[38;5;28;01mif\u001b[39;00m \u001b[38;5;129;01mnot\u001b[39;00m (\u001b[38;5;28mself\u001b[39m\u001b[38;5;241m.\u001b[39m_backward_hooks \u001b[38;5;129;01mor\u001b[39;00m \u001b[38;5;28mself\u001b[39m\u001b[38;5;241m.\u001b[39m_backward_pre_hooks \u001b[38;5;129;01mor\u001b[39;00m \u001b[38;5;28mself\u001b[39m\u001b[38;5;241m.\u001b[39m_forward_hooks \u001b[38;5;129;01mor\u001b[39;00m \u001b[38;5;28mself\u001b[39m\u001b[38;5;241m.\u001b[39m_forward_pre_hooks\n\u001b[1;32m   1560\u001b[0m         \u001b[38;5;129;01mor\u001b[39;00m _global_backward_pre_hooks \u001b[38;5;129;01mor\u001b[39;00m _global_backward_hooks\n\u001b[1;32m   1561\u001b[0m         \u001b[38;5;129;01mor\u001b[39;00m _global_forward_hooks \u001b[38;5;129;01mor\u001b[39;00m _global_forward_pre_hooks):\n\u001b[0;32m-> 1562\u001b[0m     \u001b[38;5;28;01mreturn\u001b[39;00m \u001b[43mforward_call\u001b[49m\u001b[43m(\u001b[49m\u001b[38;5;241;43m*\u001b[39;49m\u001b[43margs\u001b[49m\u001b[43m,\u001b[49m\u001b[43m \u001b[49m\u001b[38;5;241;43m*\u001b[39;49m\u001b[38;5;241;43m*\u001b[39;49m\u001b[43mkwargs\u001b[49m\u001b[43m)\u001b[49m\n\u001b[1;32m   1564\u001b[0m \u001b[38;5;28;01mtry\u001b[39;00m:\n\u001b[1;32m   1565\u001b[0m     result \u001b[38;5;241m=\u001b[39m \u001b[38;5;28;01mNone\u001b[39;00m\n",
      "File \u001b[0;32m~/Library/Python/3.9/lib/python/site-packages/transformers/models/bert/modeling_bert.py:1142\u001b[0m, in \u001b[0;36mBertModel.forward\u001b[0;34m(self, input_ids, attention_mask, token_type_ids, position_ids, head_mask, inputs_embeds, encoder_hidden_states, encoder_attention_mask, past_key_values, use_cache, output_attentions, output_hidden_states, return_dict)\u001b[0m\n\u001b[1;32m   1135\u001b[0m \u001b[38;5;66;03m# Prepare head mask if needed\u001b[39;00m\n\u001b[1;32m   1136\u001b[0m \u001b[38;5;66;03m# 1.0 in head_mask indicate we keep the head\u001b[39;00m\n\u001b[1;32m   1137\u001b[0m \u001b[38;5;66;03m# attention_probs has shape bsz x n_heads x N x N\u001b[39;00m\n\u001b[1;32m   1138\u001b[0m \u001b[38;5;66;03m# input head_mask has shape [num_heads] or [num_hidden_layers x num_heads]\u001b[39;00m\n\u001b[1;32m   1139\u001b[0m \u001b[38;5;66;03m# and head_mask is converted to shape [num_hidden_layers x batch x num_heads x seq_length x seq_length]\u001b[39;00m\n\u001b[1;32m   1140\u001b[0m head_mask \u001b[38;5;241m=\u001b[39m \u001b[38;5;28mself\u001b[39m\u001b[38;5;241m.\u001b[39mget_head_mask(head_mask, \u001b[38;5;28mself\u001b[39m\u001b[38;5;241m.\u001b[39mconfig\u001b[38;5;241m.\u001b[39mnum_hidden_layers)\n\u001b[0;32m-> 1142\u001b[0m encoder_outputs \u001b[38;5;241m=\u001b[39m \u001b[38;5;28;43mself\u001b[39;49m\u001b[38;5;241;43m.\u001b[39;49m\u001b[43mencoder\u001b[49m\u001b[43m(\u001b[49m\n\u001b[1;32m   1143\u001b[0m \u001b[43m    \u001b[49m\u001b[43membedding_output\u001b[49m\u001b[43m,\u001b[49m\n\u001b[1;32m   1144\u001b[0m \u001b[43m    \u001b[49m\u001b[43mattention_mask\u001b[49m\u001b[38;5;241;43m=\u001b[39;49m\u001b[43mextended_attention_mask\u001b[49m\u001b[43m,\u001b[49m\n\u001b[1;32m   1145\u001b[0m \u001b[43m    \u001b[49m\u001b[43mhead_mask\u001b[49m\u001b[38;5;241;43m=\u001b[39;49m\u001b[43mhead_mask\u001b[49m\u001b[43m,\u001b[49m\n\u001b[1;32m   1146\u001b[0m \u001b[43m    \u001b[49m\u001b[43mencoder_hidden_states\u001b[49m\u001b[38;5;241;43m=\u001b[39;49m\u001b[43mencoder_hidden_states\u001b[49m\u001b[43m,\u001b[49m\n\u001b[1;32m   1147\u001b[0m \u001b[43m    \u001b[49m\u001b[43mencoder_attention_mask\u001b[49m\u001b[38;5;241;43m=\u001b[39;49m\u001b[43mencoder_extended_attention_mask\u001b[49m\u001b[43m,\u001b[49m\n\u001b[1;32m   1148\u001b[0m \u001b[43m    \u001b[49m\u001b[43mpast_key_values\u001b[49m\u001b[38;5;241;43m=\u001b[39;49m\u001b[43mpast_key_values\u001b[49m\u001b[43m,\u001b[49m\n\u001b[1;32m   1149\u001b[0m \u001b[43m    \u001b[49m\u001b[43muse_cache\u001b[49m\u001b[38;5;241;43m=\u001b[39;49m\u001b[43muse_cache\u001b[49m\u001b[43m,\u001b[49m\n\u001b[1;32m   1150\u001b[0m \u001b[43m    \u001b[49m\u001b[43moutput_attentions\u001b[49m\u001b[38;5;241;43m=\u001b[39;49m\u001b[43moutput_attentions\u001b[49m\u001b[43m,\u001b[49m\n\u001b[1;32m   1151\u001b[0m \u001b[43m    \u001b[49m\u001b[43moutput_hidden_states\u001b[49m\u001b[38;5;241;43m=\u001b[39;49m\u001b[43moutput_hidden_states\u001b[49m\u001b[43m,\u001b[49m\n\u001b[1;32m   1152\u001b[0m \u001b[43m    \u001b[49m\u001b[43mreturn_dict\u001b[49m\u001b[38;5;241;43m=\u001b[39;49m\u001b[43mreturn_dict\u001b[49m\u001b[43m,\u001b[49m\n\u001b[1;32m   1153\u001b[0m \u001b[43m\u001b[49m\u001b[43m)\u001b[49m\n\u001b[1;32m   1154\u001b[0m sequence_output \u001b[38;5;241m=\u001b[39m encoder_outputs[\u001b[38;5;241m0\u001b[39m]\n\u001b[1;32m   1155\u001b[0m pooled_output \u001b[38;5;241m=\u001b[39m \u001b[38;5;28mself\u001b[39m\u001b[38;5;241m.\u001b[39mpooler(sequence_output) \u001b[38;5;28;01mif\u001b[39;00m \u001b[38;5;28mself\u001b[39m\u001b[38;5;241m.\u001b[39mpooler \u001b[38;5;129;01mis\u001b[39;00m \u001b[38;5;129;01mnot\u001b[39;00m \u001b[38;5;28;01mNone\u001b[39;00m \u001b[38;5;28;01melse\u001b[39;00m \u001b[38;5;28;01mNone\u001b[39;00m\n",
      "File \u001b[0;32m~/Library/Python/3.9/lib/python/site-packages/torch/nn/modules/module.py:1553\u001b[0m, in \u001b[0;36mModule._wrapped_call_impl\u001b[0;34m(self, *args, **kwargs)\u001b[0m\n\u001b[1;32m   1551\u001b[0m     \u001b[38;5;28;01mreturn\u001b[39;00m \u001b[38;5;28mself\u001b[39m\u001b[38;5;241m.\u001b[39m_compiled_call_impl(\u001b[38;5;241m*\u001b[39margs, \u001b[38;5;241m*\u001b[39m\u001b[38;5;241m*\u001b[39mkwargs)  \u001b[38;5;66;03m# type: ignore[misc]\u001b[39;00m\n\u001b[1;32m   1552\u001b[0m \u001b[38;5;28;01melse\u001b[39;00m:\n\u001b[0;32m-> 1553\u001b[0m     \u001b[38;5;28;01mreturn\u001b[39;00m \u001b[38;5;28;43mself\u001b[39;49m\u001b[38;5;241;43m.\u001b[39;49m\u001b[43m_call_impl\u001b[49m\u001b[43m(\u001b[49m\u001b[38;5;241;43m*\u001b[39;49m\u001b[43margs\u001b[49m\u001b[43m,\u001b[49m\u001b[43m \u001b[49m\u001b[38;5;241;43m*\u001b[39;49m\u001b[38;5;241;43m*\u001b[39;49m\u001b[43mkwargs\u001b[49m\u001b[43m)\u001b[49m\n",
      "File \u001b[0;32m~/Library/Python/3.9/lib/python/site-packages/torch/nn/modules/module.py:1562\u001b[0m, in \u001b[0;36mModule._call_impl\u001b[0;34m(self, *args, **kwargs)\u001b[0m\n\u001b[1;32m   1557\u001b[0m \u001b[38;5;66;03m# If we don't have any hooks, we want to skip the rest of the logic in\u001b[39;00m\n\u001b[1;32m   1558\u001b[0m \u001b[38;5;66;03m# this function, and just call forward.\u001b[39;00m\n\u001b[1;32m   1559\u001b[0m \u001b[38;5;28;01mif\u001b[39;00m \u001b[38;5;129;01mnot\u001b[39;00m (\u001b[38;5;28mself\u001b[39m\u001b[38;5;241m.\u001b[39m_backward_hooks \u001b[38;5;129;01mor\u001b[39;00m \u001b[38;5;28mself\u001b[39m\u001b[38;5;241m.\u001b[39m_backward_pre_hooks \u001b[38;5;129;01mor\u001b[39;00m \u001b[38;5;28mself\u001b[39m\u001b[38;5;241m.\u001b[39m_forward_hooks \u001b[38;5;129;01mor\u001b[39;00m \u001b[38;5;28mself\u001b[39m\u001b[38;5;241m.\u001b[39m_forward_pre_hooks\n\u001b[1;32m   1560\u001b[0m         \u001b[38;5;129;01mor\u001b[39;00m _global_backward_pre_hooks \u001b[38;5;129;01mor\u001b[39;00m _global_backward_hooks\n\u001b[1;32m   1561\u001b[0m         \u001b[38;5;129;01mor\u001b[39;00m _global_forward_hooks \u001b[38;5;129;01mor\u001b[39;00m _global_forward_pre_hooks):\n\u001b[0;32m-> 1562\u001b[0m     \u001b[38;5;28;01mreturn\u001b[39;00m \u001b[43mforward_call\u001b[49m\u001b[43m(\u001b[49m\u001b[38;5;241;43m*\u001b[39;49m\u001b[43margs\u001b[49m\u001b[43m,\u001b[49m\u001b[43m \u001b[49m\u001b[38;5;241;43m*\u001b[39;49m\u001b[38;5;241;43m*\u001b[39;49m\u001b[43mkwargs\u001b[49m\u001b[43m)\u001b[49m\n\u001b[1;32m   1564\u001b[0m \u001b[38;5;28;01mtry\u001b[39;00m:\n\u001b[1;32m   1565\u001b[0m     result \u001b[38;5;241m=\u001b[39m \u001b[38;5;28;01mNone\u001b[39;00m\n",
      "File \u001b[0;32m~/Library/Python/3.9/lib/python/site-packages/transformers/models/bert/modeling_bert.py:695\u001b[0m, in \u001b[0;36mBertEncoder.forward\u001b[0;34m(self, hidden_states, attention_mask, head_mask, encoder_hidden_states, encoder_attention_mask, past_key_values, use_cache, output_attentions, output_hidden_states, return_dict)\u001b[0m\n\u001b[1;32m    684\u001b[0m     layer_outputs \u001b[38;5;241m=\u001b[39m \u001b[38;5;28mself\u001b[39m\u001b[38;5;241m.\u001b[39m_gradient_checkpointing_func(\n\u001b[1;32m    685\u001b[0m         layer_module\u001b[38;5;241m.\u001b[39m\u001b[38;5;21m__call__\u001b[39m,\n\u001b[1;32m    686\u001b[0m         hidden_states,\n\u001b[0;32m   (...)\u001b[0m\n\u001b[1;32m    692\u001b[0m         output_attentions,\n\u001b[1;32m    693\u001b[0m     )\n\u001b[1;32m    694\u001b[0m \u001b[38;5;28;01melse\u001b[39;00m:\n\u001b[0;32m--> 695\u001b[0m     layer_outputs \u001b[38;5;241m=\u001b[39m \u001b[43mlayer_module\u001b[49m\u001b[43m(\u001b[49m\n\u001b[1;32m    696\u001b[0m \u001b[43m        \u001b[49m\u001b[43mhidden_states\u001b[49m\u001b[43m,\u001b[49m\n\u001b[1;32m    697\u001b[0m \u001b[43m        \u001b[49m\u001b[43mattention_mask\u001b[49m\u001b[43m,\u001b[49m\n\u001b[1;32m    698\u001b[0m \u001b[43m        \u001b[49m\u001b[43mlayer_head_mask\u001b[49m\u001b[43m,\u001b[49m\n\u001b[1;32m    699\u001b[0m \u001b[43m        \u001b[49m\u001b[43mencoder_hidden_states\u001b[49m\u001b[43m,\u001b[49m\n\u001b[1;32m    700\u001b[0m \u001b[43m        \u001b[49m\u001b[43mencoder_attention_mask\u001b[49m\u001b[43m,\u001b[49m\n\u001b[1;32m    701\u001b[0m \u001b[43m        \u001b[49m\u001b[43mpast_key_value\u001b[49m\u001b[43m,\u001b[49m\n\u001b[1;32m    702\u001b[0m \u001b[43m        \u001b[49m\u001b[43moutput_attentions\u001b[49m\u001b[43m,\u001b[49m\n\u001b[1;32m    703\u001b[0m \u001b[43m    \u001b[49m\u001b[43m)\u001b[49m\n\u001b[1;32m    705\u001b[0m hidden_states \u001b[38;5;241m=\u001b[39m layer_outputs[\u001b[38;5;241m0\u001b[39m]\n\u001b[1;32m    706\u001b[0m \u001b[38;5;28;01mif\u001b[39;00m use_cache:\n",
      "File \u001b[0;32m~/Library/Python/3.9/lib/python/site-packages/torch/nn/modules/module.py:1553\u001b[0m, in \u001b[0;36mModule._wrapped_call_impl\u001b[0;34m(self, *args, **kwargs)\u001b[0m\n\u001b[1;32m   1551\u001b[0m     \u001b[38;5;28;01mreturn\u001b[39;00m \u001b[38;5;28mself\u001b[39m\u001b[38;5;241m.\u001b[39m_compiled_call_impl(\u001b[38;5;241m*\u001b[39margs, \u001b[38;5;241m*\u001b[39m\u001b[38;5;241m*\u001b[39mkwargs)  \u001b[38;5;66;03m# type: ignore[misc]\u001b[39;00m\n\u001b[1;32m   1552\u001b[0m \u001b[38;5;28;01melse\u001b[39;00m:\n\u001b[0;32m-> 1553\u001b[0m     \u001b[38;5;28;01mreturn\u001b[39;00m \u001b[38;5;28;43mself\u001b[39;49m\u001b[38;5;241;43m.\u001b[39;49m\u001b[43m_call_impl\u001b[49m\u001b[43m(\u001b[49m\u001b[38;5;241;43m*\u001b[39;49m\u001b[43margs\u001b[49m\u001b[43m,\u001b[49m\u001b[43m \u001b[49m\u001b[38;5;241;43m*\u001b[39;49m\u001b[38;5;241;43m*\u001b[39;49m\u001b[43mkwargs\u001b[49m\u001b[43m)\u001b[49m\n",
      "File \u001b[0;32m~/Library/Python/3.9/lib/python/site-packages/torch/nn/modules/module.py:1562\u001b[0m, in \u001b[0;36mModule._call_impl\u001b[0;34m(self, *args, **kwargs)\u001b[0m\n\u001b[1;32m   1557\u001b[0m \u001b[38;5;66;03m# If we don't have any hooks, we want to skip the rest of the logic in\u001b[39;00m\n\u001b[1;32m   1558\u001b[0m \u001b[38;5;66;03m# this function, and just call forward.\u001b[39;00m\n\u001b[1;32m   1559\u001b[0m \u001b[38;5;28;01mif\u001b[39;00m \u001b[38;5;129;01mnot\u001b[39;00m (\u001b[38;5;28mself\u001b[39m\u001b[38;5;241m.\u001b[39m_backward_hooks \u001b[38;5;129;01mor\u001b[39;00m \u001b[38;5;28mself\u001b[39m\u001b[38;5;241m.\u001b[39m_backward_pre_hooks \u001b[38;5;129;01mor\u001b[39;00m \u001b[38;5;28mself\u001b[39m\u001b[38;5;241m.\u001b[39m_forward_hooks \u001b[38;5;129;01mor\u001b[39;00m \u001b[38;5;28mself\u001b[39m\u001b[38;5;241m.\u001b[39m_forward_pre_hooks\n\u001b[1;32m   1560\u001b[0m         \u001b[38;5;129;01mor\u001b[39;00m _global_backward_pre_hooks \u001b[38;5;129;01mor\u001b[39;00m _global_backward_hooks\n\u001b[1;32m   1561\u001b[0m         \u001b[38;5;129;01mor\u001b[39;00m _global_forward_hooks \u001b[38;5;129;01mor\u001b[39;00m _global_forward_pre_hooks):\n\u001b[0;32m-> 1562\u001b[0m     \u001b[38;5;28;01mreturn\u001b[39;00m \u001b[43mforward_call\u001b[49m\u001b[43m(\u001b[49m\u001b[38;5;241;43m*\u001b[39;49m\u001b[43margs\u001b[49m\u001b[43m,\u001b[49m\u001b[43m \u001b[49m\u001b[38;5;241;43m*\u001b[39;49m\u001b[38;5;241;43m*\u001b[39;49m\u001b[43mkwargs\u001b[49m\u001b[43m)\u001b[49m\n\u001b[1;32m   1564\u001b[0m \u001b[38;5;28;01mtry\u001b[39;00m:\n\u001b[1;32m   1565\u001b[0m     result \u001b[38;5;241m=\u001b[39m \u001b[38;5;28;01mNone\u001b[39;00m\n",
      "File \u001b[0;32m~/Library/Python/3.9/lib/python/site-packages/transformers/models/bert/modeling_bert.py:627\u001b[0m, in \u001b[0;36mBertLayer.forward\u001b[0;34m(self, hidden_states, attention_mask, head_mask, encoder_hidden_states, encoder_attention_mask, past_key_value, output_attentions)\u001b[0m\n\u001b[1;32m    624\u001b[0m     cross_attn_present_key_value \u001b[38;5;241m=\u001b[39m cross_attention_outputs[\u001b[38;5;241m-\u001b[39m\u001b[38;5;241m1\u001b[39m]\n\u001b[1;32m    625\u001b[0m     present_key_value \u001b[38;5;241m=\u001b[39m present_key_value \u001b[38;5;241m+\u001b[39m cross_attn_present_key_value\n\u001b[0;32m--> 627\u001b[0m layer_output \u001b[38;5;241m=\u001b[39m \u001b[43mapply_chunking_to_forward\u001b[49m\u001b[43m(\u001b[49m\n\u001b[1;32m    628\u001b[0m \u001b[43m    \u001b[49m\u001b[38;5;28;43mself\u001b[39;49m\u001b[38;5;241;43m.\u001b[39;49m\u001b[43mfeed_forward_chunk\u001b[49m\u001b[43m,\u001b[49m\u001b[43m \u001b[49m\u001b[38;5;28;43mself\u001b[39;49m\u001b[38;5;241;43m.\u001b[39;49m\u001b[43mchunk_size_feed_forward\u001b[49m\u001b[43m,\u001b[49m\u001b[43m \u001b[49m\u001b[38;5;28;43mself\u001b[39;49m\u001b[38;5;241;43m.\u001b[39;49m\u001b[43mseq_len_dim\u001b[49m\u001b[43m,\u001b[49m\u001b[43m \u001b[49m\u001b[43mattention_output\u001b[49m\n\u001b[1;32m    629\u001b[0m \u001b[43m\u001b[49m\u001b[43m)\u001b[49m\n\u001b[1;32m    630\u001b[0m outputs \u001b[38;5;241m=\u001b[39m (layer_output,) \u001b[38;5;241m+\u001b[39m outputs\n\u001b[1;32m    632\u001b[0m \u001b[38;5;66;03m# if decoder, return the attn key/values as the last output\u001b[39;00m\n",
      "File \u001b[0;32m~/Library/Python/3.9/lib/python/site-packages/transformers/pytorch_utils.py:248\u001b[0m, in \u001b[0;36mapply_chunking_to_forward\u001b[0;34m(forward_fn, chunk_size, chunk_dim, *input_tensors)\u001b[0m\n\u001b[1;32m    245\u001b[0m     \u001b[38;5;66;03m# concatenate output at same dimension\u001b[39;00m\n\u001b[1;32m    246\u001b[0m     \u001b[38;5;28;01mreturn\u001b[39;00m torch\u001b[38;5;241m.\u001b[39mcat(output_chunks, dim\u001b[38;5;241m=\u001b[39mchunk_dim)\n\u001b[0;32m--> 248\u001b[0m \u001b[38;5;28;01mreturn\u001b[39;00m \u001b[43mforward_fn\u001b[49m\u001b[43m(\u001b[49m\u001b[38;5;241;43m*\u001b[39;49m\u001b[43minput_tensors\u001b[49m\u001b[43m)\u001b[49m\n",
      "File \u001b[0;32m~/Library/Python/3.9/lib/python/site-packages/transformers/models/bert/modeling_bert.py:639\u001b[0m, in \u001b[0;36mBertLayer.feed_forward_chunk\u001b[0;34m(self, attention_output)\u001b[0m\n\u001b[1;32m    638\u001b[0m \u001b[38;5;28;01mdef\u001b[39;00m \u001b[38;5;21mfeed_forward_chunk\u001b[39m(\u001b[38;5;28mself\u001b[39m, attention_output):\n\u001b[0;32m--> 639\u001b[0m     intermediate_output \u001b[38;5;241m=\u001b[39m \u001b[38;5;28;43mself\u001b[39;49m\u001b[38;5;241;43m.\u001b[39;49m\u001b[43mintermediate\u001b[49m\u001b[43m(\u001b[49m\u001b[43mattention_output\u001b[49m\u001b[43m)\u001b[49m\n\u001b[1;32m    640\u001b[0m     layer_output \u001b[38;5;241m=\u001b[39m \u001b[38;5;28mself\u001b[39m\u001b[38;5;241m.\u001b[39moutput(intermediate_output, attention_output)\n\u001b[1;32m    641\u001b[0m     \u001b[38;5;28;01mreturn\u001b[39;00m layer_output\n",
      "File \u001b[0;32m~/Library/Python/3.9/lib/python/site-packages/torch/nn/modules/module.py:1553\u001b[0m, in \u001b[0;36mModule._wrapped_call_impl\u001b[0;34m(self, *args, **kwargs)\u001b[0m\n\u001b[1;32m   1551\u001b[0m     \u001b[38;5;28;01mreturn\u001b[39;00m \u001b[38;5;28mself\u001b[39m\u001b[38;5;241m.\u001b[39m_compiled_call_impl(\u001b[38;5;241m*\u001b[39margs, \u001b[38;5;241m*\u001b[39m\u001b[38;5;241m*\u001b[39mkwargs)  \u001b[38;5;66;03m# type: ignore[misc]\u001b[39;00m\n\u001b[1;32m   1552\u001b[0m \u001b[38;5;28;01melse\u001b[39;00m:\n\u001b[0;32m-> 1553\u001b[0m     \u001b[38;5;28;01mreturn\u001b[39;00m \u001b[38;5;28;43mself\u001b[39;49m\u001b[38;5;241;43m.\u001b[39;49m\u001b[43m_call_impl\u001b[49m\u001b[43m(\u001b[49m\u001b[38;5;241;43m*\u001b[39;49m\u001b[43margs\u001b[49m\u001b[43m,\u001b[49m\u001b[43m \u001b[49m\u001b[38;5;241;43m*\u001b[39;49m\u001b[38;5;241;43m*\u001b[39;49m\u001b[43mkwargs\u001b[49m\u001b[43m)\u001b[49m\n",
      "File \u001b[0;32m~/Library/Python/3.9/lib/python/site-packages/torch/nn/modules/module.py:1562\u001b[0m, in \u001b[0;36mModule._call_impl\u001b[0;34m(self, *args, **kwargs)\u001b[0m\n\u001b[1;32m   1557\u001b[0m \u001b[38;5;66;03m# If we don't have any hooks, we want to skip the rest of the logic in\u001b[39;00m\n\u001b[1;32m   1558\u001b[0m \u001b[38;5;66;03m# this function, and just call forward.\u001b[39;00m\n\u001b[1;32m   1559\u001b[0m \u001b[38;5;28;01mif\u001b[39;00m \u001b[38;5;129;01mnot\u001b[39;00m (\u001b[38;5;28mself\u001b[39m\u001b[38;5;241m.\u001b[39m_backward_hooks \u001b[38;5;129;01mor\u001b[39;00m \u001b[38;5;28mself\u001b[39m\u001b[38;5;241m.\u001b[39m_backward_pre_hooks \u001b[38;5;129;01mor\u001b[39;00m \u001b[38;5;28mself\u001b[39m\u001b[38;5;241m.\u001b[39m_forward_hooks \u001b[38;5;129;01mor\u001b[39;00m \u001b[38;5;28mself\u001b[39m\u001b[38;5;241m.\u001b[39m_forward_pre_hooks\n\u001b[1;32m   1560\u001b[0m         \u001b[38;5;129;01mor\u001b[39;00m _global_backward_pre_hooks \u001b[38;5;129;01mor\u001b[39;00m _global_backward_hooks\n\u001b[1;32m   1561\u001b[0m         \u001b[38;5;129;01mor\u001b[39;00m _global_forward_hooks \u001b[38;5;129;01mor\u001b[39;00m _global_forward_pre_hooks):\n\u001b[0;32m-> 1562\u001b[0m     \u001b[38;5;28;01mreturn\u001b[39;00m \u001b[43mforward_call\u001b[49m\u001b[43m(\u001b[49m\u001b[38;5;241;43m*\u001b[39;49m\u001b[43margs\u001b[49m\u001b[43m,\u001b[49m\u001b[43m \u001b[49m\u001b[38;5;241;43m*\u001b[39;49m\u001b[38;5;241;43m*\u001b[39;49m\u001b[43mkwargs\u001b[49m\u001b[43m)\u001b[49m\n\u001b[1;32m   1564\u001b[0m \u001b[38;5;28;01mtry\u001b[39;00m:\n\u001b[1;32m   1565\u001b[0m     result \u001b[38;5;241m=\u001b[39m \u001b[38;5;28;01mNone\u001b[39;00m\n",
      "File \u001b[0;32m~/Library/Python/3.9/lib/python/site-packages/transformers/models/bert/modeling_bert.py:539\u001b[0m, in \u001b[0;36mBertIntermediate.forward\u001b[0;34m(self, hidden_states)\u001b[0m\n\u001b[1;32m    538\u001b[0m \u001b[38;5;28;01mdef\u001b[39;00m \u001b[38;5;21mforward\u001b[39m(\u001b[38;5;28mself\u001b[39m, hidden_states: torch\u001b[38;5;241m.\u001b[39mTensor) \u001b[38;5;241m-\u001b[39m\u001b[38;5;241m>\u001b[39m torch\u001b[38;5;241m.\u001b[39mTensor:\n\u001b[0;32m--> 539\u001b[0m     hidden_states \u001b[38;5;241m=\u001b[39m \u001b[38;5;28;43mself\u001b[39;49m\u001b[38;5;241;43m.\u001b[39;49m\u001b[43mdense\u001b[49m\u001b[43m(\u001b[49m\u001b[43mhidden_states\u001b[49m\u001b[43m)\u001b[49m\n\u001b[1;32m    540\u001b[0m     hidden_states \u001b[38;5;241m=\u001b[39m \u001b[38;5;28mself\u001b[39m\u001b[38;5;241m.\u001b[39mintermediate_act_fn(hidden_states)\n\u001b[1;32m    541\u001b[0m     \u001b[38;5;28;01mreturn\u001b[39;00m hidden_states\n",
      "File \u001b[0;32m~/Library/Python/3.9/lib/python/site-packages/torch/nn/modules/module.py:1553\u001b[0m, in \u001b[0;36mModule._wrapped_call_impl\u001b[0;34m(self, *args, **kwargs)\u001b[0m\n\u001b[1;32m   1551\u001b[0m     \u001b[38;5;28;01mreturn\u001b[39;00m \u001b[38;5;28mself\u001b[39m\u001b[38;5;241m.\u001b[39m_compiled_call_impl(\u001b[38;5;241m*\u001b[39margs, \u001b[38;5;241m*\u001b[39m\u001b[38;5;241m*\u001b[39mkwargs)  \u001b[38;5;66;03m# type: ignore[misc]\u001b[39;00m\n\u001b[1;32m   1552\u001b[0m \u001b[38;5;28;01melse\u001b[39;00m:\n\u001b[0;32m-> 1553\u001b[0m     \u001b[38;5;28;01mreturn\u001b[39;00m \u001b[38;5;28;43mself\u001b[39;49m\u001b[38;5;241;43m.\u001b[39;49m\u001b[43m_call_impl\u001b[49m\u001b[43m(\u001b[49m\u001b[38;5;241;43m*\u001b[39;49m\u001b[43margs\u001b[49m\u001b[43m,\u001b[49m\u001b[43m \u001b[49m\u001b[38;5;241;43m*\u001b[39;49m\u001b[38;5;241;43m*\u001b[39;49m\u001b[43mkwargs\u001b[49m\u001b[43m)\u001b[49m\n",
      "File \u001b[0;32m~/Library/Python/3.9/lib/python/site-packages/torch/nn/modules/module.py:1562\u001b[0m, in \u001b[0;36mModule._call_impl\u001b[0;34m(self, *args, **kwargs)\u001b[0m\n\u001b[1;32m   1557\u001b[0m \u001b[38;5;66;03m# If we don't have any hooks, we want to skip the rest of the logic in\u001b[39;00m\n\u001b[1;32m   1558\u001b[0m \u001b[38;5;66;03m# this function, and just call forward.\u001b[39;00m\n\u001b[1;32m   1559\u001b[0m \u001b[38;5;28;01mif\u001b[39;00m \u001b[38;5;129;01mnot\u001b[39;00m (\u001b[38;5;28mself\u001b[39m\u001b[38;5;241m.\u001b[39m_backward_hooks \u001b[38;5;129;01mor\u001b[39;00m \u001b[38;5;28mself\u001b[39m\u001b[38;5;241m.\u001b[39m_backward_pre_hooks \u001b[38;5;129;01mor\u001b[39;00m \u001b[38;5;28mself\u001b[39m\u001b[38;5;241m.\u001b[39m_forward_hooks \u001b[38;5;129;01mor\u001b[39;00m \u001b[38;5;28mself\u001b[39m\u001b[38;5;241m.\u001b[39m_forward_pre_hooks\n\u001b[1;32m   1560\u001b[0m         \u001b[38;5;129;01mor\u001b[39;00m _global_backward_pre_hooks \u001b[38;5;129;01mor\u001b[39;00m _global_backward_hooks\n\u001b[1;32m   1561\u001b[0m         \u001b[38;5;129;01mor\u001b[39;00m _global_forward_hooks \u001b[38;5;129;01mor\u001b[39;00m _global_forward_pre_hooks):\n\u001b[0;32m-> 1562\u001b[0m     \u001b[38;5;28;01mreturn\u001b[39;00m \u001b[43mforward_call\u001b[49m\u001b[43m(\u001b[49m\u001b[38;5;241;43m*\u001b[39;49m\u001b[43margs\u001b[49m\u001b[43m,\u001b[49m\u001b[43m \u001b[49m\u001b[38;5;241;43m*\u001b[39;49m\u001b[38;5;241;43m*\u001b[39;49m\u001b[43mkwargs\u001b[49m\u001b[43m)\u001b[49m\n\u001b[1;32m   1564\u001b[0m \u001b[38;5;28;01mtry\u001b[39;00m:\n\u001b[1;32m   1565\u001b[0m     result \u001b[38;5;241m=\u001b[39m \u001b[38;5;28;01mNone\u001b[39;00m\n",
      "File \u001b[0;32m~/Library/Python/3.9/lib/python/site-packages/torch/nn/modules/linear.py:117\u001b[0m, in \u001b[0;36mLinear.forward\u001b[0;34m(self, input)\u001b[0m\n\u001b[1;32m    116\u001b[0m \u001b[38;5;28;01mdef\u001b[39;00m \u001b[38;5;21mforward\u001b[39m(\u001b[38;5;28mself\u001b[39m, \u001b[38;5;28minput\u001b[39m: Tensor) \u001b[38;5;241m-\u001b[39m\u001b[38;5;241m>\u001b[39m Tensor:\n\u001b[0;32m--> 117\u001b[0m     \u001b[38;5;28;01mreturn\u001b[39;00m \u001b[43mF\u001b[49m\u001b[38;5;241;43m.\u001b[39;49m\u001b[43mlinear\u001b[49m\u001b[43m(\u001b[49m\u001b[38;5;28;43minput\u001b[39;49m\u001b[43m,\u001b[49m\u001b[43m \u001b[49m\u001b[38;5;28;43mself\u001b[39;49m\u001b[38;5;241;43m.\u001b[39;49m\u001b[43mweight\u001b[49m\u001b[43m,\u001b[49m\u001b[43m \u001b[49m\u001b[38;5;28;43mself\u001b[39;49m\u001b[38;5;241;43m.\u001b[39;49m\u001b[43mbias\u001b[49m\u001b[43m)\u001b[49m\n",
      "\u001b[0;31mKeyboardInterrupt\u001b[0m: "
     ]
    }
   ],
   "source": [
    "for i in testcol_list:\n",
    "    for n in range(len(testcol_list)):\n",
    "        perpl_out = []\n",
    "        if i != testcol_list[n]:\n",
    "            i_nocomma = re.sub(r',$','',i) # remove if having comma is better\n",
    "            test_line = re.sub(r'^[0-9]{0,3}\\s','',i_nocomma) + re.sub(r'^[0-9]{0,3}','',testcol_list[n])\n",
    "            print(test_line, type(test_line), len(test_line))\n",
    "            #prints the two lines together without the numbers\n",
    "            results = score(sentence=test_line, model=model, tokenizer=tokenizer) \n",
    "            result = round(results, 2)\n",
    "            dog = re.search(r'^[0-9]{0,3}',i)\n",
    "            #gets the number of the first line\n",
    "            cat = re.search(r'^[0-9]{0,3}',testcol_list[n])\n",
    "            #gets the number of the second line\n",
    "            perpl_out.append('bert')\n",
    "            perpl_out.append(dog.group(0))\n",
    "            perpl_out.append(cat.group(0))\n",
    "            perpl_out.append(test_line)\n",
    "            perpl_out.append(result)\n",
    "            print(perpl_out)\n",
    "            with open('sonnet_perplexity_modeltest_bert_nocomma.csv','a') as file:\n",
    "                writer = csv.writer(file)\n",
    "                writer.writerow(perpl_out)\n",
    "        else:\n",
    "            continue"
   ]
  },
  {
   "cell_type": "code",
   "execution_count": null,
   "id": "8e03e661-6634-4a9d-9d07-c6679ae9baa1",
   "metadata": {},
   "outputs": [],
   "source": []
  }
 ],
 "metadata": {
  "kernelspec": {
   "display_name": "Python 3 (ipykernel)",
   "language": "python",
   "name": "python3"
  },
  "language_info": {
   "codemirror_mode": {
    "name": "ipython",
    "version": 3
   },
   "file_extension": ".py",
   "mimetype": "text/x-python",
   "name": "python",
   "nbconvert_exporter": "python",
   "pygments_lexer": "ipython3",
   "version": "3.9.6"
  }
 },
 "nbformat": 4,
 "nbformat_minor": 5
}
