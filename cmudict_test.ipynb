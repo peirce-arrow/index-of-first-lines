{
 "cells": [
  {
   "cell_type": "code",
   "execution_count": 7,
   "id": "2fed9bbe-0892-45aa-957f-dbe857bb6211",
   "metadata": {},
   "outputs": [
    {
     "name": "stdout",
     "output_type": "stream",
     "text": [
      "PHONES('hello') yields [['HH', 'AH0', 'L', 'OW1'], ['HH', 'EH0', 'L', 'OW1']]\n",
      "COUNT is 2\n",
      "PHONES2 is [['HH', 'AH0', 'L', 'OW1'], ['HH', 'EH0', 'L', 'OW1']]\n",
      "PHONES are same: True\n"
     ]
    }
   ],
   "source": [
    "import cmudict\n",
    "\n",
    "def lookup_word(word_s):\n",
    "    return cmudict.dict().get(word_s)\n",
    "\n",
    "def lookup2_word(word_s):\n",
    "    entries = [e[1] for e in cmudict.entries() if e[0] == word_s]\n",
    "    return entries\n",
    "\n",
    "def count_syllables(word_s):\n",
    "    count = 0\n",
    "    phones = lookup_word(word_s)\n",
    "    if phones:\n",
    "        phones0 = phones[0]\n",
    "        count = len([p for p in phones0 if p[-1].isdigit()])\n",
    "    return count\n",
    "\n",
    "word_s = 'hello'\n",
    "phones = lookup_word(word_s)\n",
    "phones2 = lookup2_word(word_s)\n",
    "count = count_syllables(word_s)\n",
    "print(f\"PHONES({word_s!r}) yields {phones}\\nCOUNT is {count}\")\n",
    "print(f\"PHONES2 is {phones2}\")\n",
    "print(f\"PHONES are same: {phones == phones2}\")"
   ]
  },
  {
   "cell_type": "code",
   "execution_count": 9,
   "id": "17d1f481-566c-4cb0-838d-ff78b14ae8f8",
   "metadata": {},
   "outputs": [
    {
     "name": "stdout",
     "output_type": "stream",
     "text": [
      "[['IH2', 'N', 'K', 'R', 'IY1', 'S'], ['IH1', 'N', 'K', 'R', 'IY2', 'S']]\n"
     ]
    }
   ],
   "source": [
    "something = cmudict.dict().get('increase')\n",
    "print(something)"
   ]
  },
  {
   "cell_type": "code",
   "execution_count": null,
   "id": "acca9422-dd5f-47f8-a206-8891a11de91f",
   "metadata": {},
   "outputs": [],
   "source": []
  }
 ],
 "metadata": {
  "kernelspec": {
   "display_name": "Python 3 (ipykernel)",
   "language": "python",
   "name": "python3"
  },
  "language_info": {
   "codemirror_mode": {
    "name": "ipython",
    "version": 3
   },
   "file_extension": ".py",
   "mimetype": "text/x-python",
   "name": "python",
   "nbconvert_exporter": "python",
   "pygments_lexer": "ipython3",
   "version": "3.9.6"
  }
 },
 "nbformat": 4,
 "nbformat_minor": 5
}
